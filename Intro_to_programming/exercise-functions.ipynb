{
 "cells": [
  {
   "cell_type": "markdown",
   "id": "ad4db6c5",
   "metadata": {
    "papermill": {
     "duration": 0.010684,
     "end_time": "2022-06-18T10:48:51.245589",
     "exception": false,
     "start_time": "2022-06-18T10:48:51.234905",
     "status": "completed"
    },
    "tags": []
   },
   "source": [
    "**This notebook is an exercise in the [Intro to Programming](https://www.kaggle.com/learn/intro-to-programming) course.  You can reference the tutorial at [this link](https://www.kaggle.com/alexisbcook/functions).**\n",
    "\n",
    "---\n"
   ]
  },
  {
   "cell_type": "markdown",
   "id": "54871b7b",
   "metadata": {
    "papermill": {
     "duration": 0.006398,
     "end_time": "2022-06-18T10:48:51.259051",
     "exception": false,
     "start_time": "2022-06-18T10:48:51.252653",
     "status": "completed"
    },
    "tags": []
   },
   "source": [
    "In the tutorial, you learned about functions. In this exercise, you'll write some of your own!\n",
    "\n",
    "# Set up the notebook\n",
    "\n",
    "Run the next code cell without changes to set up the notebook."
   ]
  },
  {
   "cell_type": "code",
   "execution_count": 1,
   "id": "28afcd08",
   "metadata": {
    "execution": {
     "iopub.execute_input": "2022-06-18T10:48:51.275051Z",
     "iopub.status.busy": "2022-06-18T10:48:51.274089Z",
     "iopub.status.idle": "2022-06-18T10:48:51.323807Z",
     "shell.execute_reply": "2022-06-18T10:48:51.322610Z"
    },
    "papermill": {
     "duration": 0.060865,
     "end_time": "2022-06-18T10:48:51.326675",
     "exception": false,
     "start_time": "2022-06-18T10:48:51.265810",
     "status": "completed"
    },
    "tags": []
   },
   "outputs": [
    {
     "name": "stdout",
     "output_type": "stream",
     "text": [
      "Setup complete.\n"
     ]
    }
   ],
   "source": [
    "# Set up the exercise\n",
    "import math\n",
    "from learntools.core import binder\n",
    "binder.bind(globals())\n",
    "from learntools.intro_to_programming.ex2 import *\n",
    "print('Setup complete.')"
   ]
  },
  {
   "cell_type": "markdown",
   "id": "081af627",
   "metadata": {
    "papermill": {
     "duration": 0.006509,
     "end_time": "2022-06-18T10:48:51.340300",
     "exception": false,
     "start_time": "2022-06-18T10:48:51.333791",
     "status": "completed"
    },
    "tags": []
   },
   "source": [
    "# Question 1\n",
    "\n",
    "In the [House Prices - Advanced Regression Techniques competition](https://www.kaggle.com/c/house-prices-advanced-regression-techniques/overview), you need to use information like the number of bedrooms and bathrooms to predict the price of a house.  Inspired by this competition, you'll write your own function to do this.\n",
    "\n",
    "In the next code cell, create a function `get_expected_cost()` that has two arguments:\n",
    "- `beds` - number of bedrooms \n",
    "- `baths` - number of bathrooms\n",
    "\n",
    "It should return the expected cost of a house with that number of bedrooms and bathrooms.  Assume that:\n",
    "- the expected cost for a house with 0 bedrooms and 0 bathrooms is `80000`.  \n",
    "- each bedroom adds `30000` to the expected cost\n",
    "- each bathroom adds `10000` to the expected cost.\n",
    "\n",
    "For instance, \n",
    "- a house with 1 bedroom and 1 bathroom has an expected cost of `120000`, and \n",
    "- a house with 2 bedrooms and 1 bathroom has an expected cost of `150000`."
   ]
  },
  {
   "cell_type": "code",
   "execution_count": 2,
   "id": "cf553e68",
   "metadata": {
    "execution": {
     "iopub.execute_input": "2022-06-18T10:48:51.355949Z",
     "iopub.status.busy": "2022-06-18T10:48:51.355527Z",
     "iopub.status.idle": "2022-06-18T10:48:51.365757Z",
     "shell.execute_reply": "2022-06-18T10:48:51.365058Z"
    },
    "papermill": {
     "duration": 0.020345,
     "end_time": "2022-06-18T10:48:51.367539",
     "exception": false,
     "start_time": "2022-06-18T10:48:51.347194",
     "status": "completed"
    },
    "tags": []
   },
   "outputs": [
    {
     "data": {
      "application/javascript": [
       "parent.postMessage({\"jupyterEvent\": \"custom.exercise_interaction\", \"data\": {\"outcomeType\": 1, \"valueTowardsCompletion\": 0.2, \"interactionType\": 1, \"questionType\": 2, \"questionId\": \"1_GetExpectedCost\", \"learnToolsVersion\": \"0.3.4\", \"failureMessage\": \"\", \"exceptionClass\": \"\", \"trace\": \"\"}}, \"*\")"
      ],
      "text/plain": [
       "<IPython.core.display.Javascript object>"
      ]
     },
     "metadata": {},
     "output_type": "display_data"
    },
    {
     "data": {
      "text/markdown": [
       "<span style=\"color:#33cc33\">Correct</span>"
      ],
      "text/plain": [
       "Correct"
      ]
     },
     "metadata": {},
     "output_type": "display_data"
    }
   ],
   "source": [
    "# TODO: Complete the function\n",
    "def get_expected_cost(beds, baths):\n",
    "    value = 80000 + beds * 30000 + baths * 10000\n",
    "    return value\n",
    "\n",
    "# Check your answer \n",
    "q1.check()"
   ]
  },
  {
   "cell_type": "code",
   "execution_count": 3,
   "id": "068a183e",
   "metadata": {
    "execution": {
     "iopub.execute_input": "2022-06-18T10:48:51.384307Z",
     "iopub.status.busy": "2022-06-18T10:48:51.383296Z",
     "iopub.status.idle": "2022-06-18T10:48:51.387334Z",
     "shell.execute_reply": "2022-06-18T10:48:51.386659Z"
    },
    "papermill": {
     "duration": 0.01468,
     "end_time": "2022-06-18T10:48:51.389442",
     "exception": false,
     "start_time": "2022-06-18T10:48:51.374762",
     "status": "completed"
    },
    "tags": []
   },
   "outputs": [],
   "source": [
    "# Uncomment to see a hint\n",
    "#q1.hint()\n",
    "\n",
    "# Uncomment to view the solution\n",
    "#q1.solution()"
   ]
  },
  {
   "cell_type": "markdown",
   "id": "644030a5",
   "metadata": {
    "papermill": {
     "duration": 0.007122,
     "end_time": "2022-06-18T10:48:51.403928",
     "exception": false,
     "start_time": "2022-06-18T10:48:51.396806",
     "status": "completed"
    },
    "tags": []
   },
   "source": [
    "# Question 2\n",
    "\n",
    "You are thinking about buying a home and want to get an idea of how much you will spend, based on the number of bedrooms and bathrooms.  You are trying to decide between four different options:\n",
    "- Option 1: house with two bedrooms and three bathrooms\n",
    "- Option 2: house with three bedrooms and two bathrooms\n",
    "- Option 3: house with three bedrooms and three bathrooms\n",
    "- Option 4: house with three bedrooms and four bathrooms\n",
    "\n",
    "Use the `get_expected_cost()` function you defined in question 1 to set `option_1`, `option_2`, `option_3`, and `option_4` to the expected cost of each option."
   ]
  },
  {
   "cell_type": "code",
   "execution_count": 4,
   "id": "cc089a91",
   "metadata": {
    "execution": {
     "iopub.execute_input": "2022-06-18T10:48:51.421335Z",
     "iopub.status.busy": "2022-06-18T10:48:51.420694Z",
     "iopub.status.idle": "2022-06-18T10:48:51.434160Z",
     "shell.execute_reply": "2022-06-18T10:48:51.432733Z"
    },
    "papermill": {
     "duration": 0.024949,
     "end_time": "2022-06-18T10:48:51.436461",
     "exception": false,
     "start_time": "2022-06-18T10:48:51.411512",
     "status": "completed"
    },
    "tags": []
   },
   "outputs": [
    {
     "name": "stdout",
     "output_type": "stream",
     "text": [
      "170000\n",
      "190000\n",
      "200000\n",
      "210000\n"
     ]
    },
    {
     "data": {
      "application/javascript": [
       "parent.postMessage({\"jupyterEvent\": \"custom.exercise_interaction\", \"data\": {\"outcomeType\": 1, \"valueTowardsCompletion\": 0.2, \"interactionType\": 1, \"questionType\": 1, \"questionId\": \"2_RunGetExpectedCost\", \"learnToolsVersion\": \"0.3.4\", \"failureMessage\": \"\", \"exceptionClass\": \"\", \"trace\": \"\"}}, \"*\")"
      ],
      "text/plain": [
       "<IPython.core.display.Javascript object>"
      ]
     },
     "metadata": {},
     "output_type": "display_data"
    },
    {
     "data": {
      "text/markdown": [
       "<span style=\"color:#33cc33\">Correct</span>"
      ],
      "text/plain": [
       "Correct"
      ]
     },
     "metadata": {},
     "output_type": "display_data"
    }
   ],
   "source": [
    "# TODO: Use the get_expected_cost function to fill in each value\n",
    "option_one = get_expected_cost(2, 3)\n",
    "option_two = get_expected_cost(3, 2)\n",
    "option_three = get_expected_cost(3, 3)\n",
    "option_four = get_expected_cost(3, 4)\n",
    "\n",
    "print(option_one)\n",
    "print(option_two)\n",
    "print(option_three)\n",
    "print(option_four)\n",
    "\n",
    "# Check your answer\n",
    "q2.check()"
   ]
  },
  {
   "cell_type": "code",
   "execution_count": 5,
   "id": "0a6b5f33",
   "metadata": {
    "execution": {
     "iopub.execute_input": "2022-06-18T10:48:51.454412Z",
     "iopub.status.busy": "2022-06-18T10:48:51.453722Z",
     "iopub.status.idle": "2022-06-18T10:48:51.457980Z",
     "shell.execute_reply": "2022-06-18T10:48:51.457260Z"
    },
    "papermill": {
     "duration": 0.015225,
     "end_time": "2022-06-18T10:48:51.459864",
     "exception": false,
     "start_time": "2022-06-18T10:48:51.444639",
     "status": "completed"
    },
    "tags": []
   },
   "outputs": [],
   "source": [
    "# Uncomment to see a hint\n",
    "#q2.hint()\n",
    "\n",
    "# Uncomment to view the solution\n",
    "#q2.solution()"
   ]
  },
  {
   "cell_type": "markdown",
   "id": "57079db6",
   "metadata": {
    "papermill": {
     "duration": 0.007441,
     "end_time": "2022-06-18T10:48:51.474849",
     "exception": false,
     "start_time": "2022-06-18T10:48:51.467408",
     "status": "completed"
    },
    "tags": []
   },
   "source": [
    "# Question 3\n",
    "\n",
    "You're a home decorator, and you'd like to use Python to streamline some of your work.  Specifically, you're creating a tool that you intend to use to calculate the cost of painting a room.\n",
    "\n",
    "As a first step, define a function `get_cost()` that takes as input:\n",
    "- `sqft_walls` = total square feet of walls to be painted\n",
    "- `sqft_ceiling` = square feet of ceiling to be painted\n",
    "- `sqft_per_gallon` = number of square feet that you can cover with one gallon of paint\n",
    "- `cost_per_gallon` = cost (in dollars) of one gallon of paint\n",
    "\n",
    "It should return the cost (in dollars) of putting one coat of paint on all walls and the ceiling.  Assume you can buy the exact amount of paint that you need, so you can buy partial gallons (e.g., if you need 7.523 gallons, you can buy that exact amount, instead of needing to buy 8 gallons and waste some paint).  Do not round your answer."
   ]
  },
  {
   "cell_type": "code",
   "execution_count": 6,
   "id": "6321b8c4",
   "metadata": {
    "execution": {
     "iopub.execute_input": "2022-06-18T10:48:51.492252Z",
     "iopub.status.busy": "2022-06-18T10:48:51.491657Z",
     "iopub.status.idle": "2022-06-18T10:48:51.501013Z",
     "shell.execute_reply": "2022-06-18T10:48:51.500054Z"
    },
    "papermill": {
     "duration": 0.020299,
     "end_time": "2022-06-18T10:48:51.503037",
     "exception": false,
     "start_time": "2022-06-18T10:48:51.482738",
     "status": "completed"
    },
    "tags": []
   },
   "outputs": [
    {
     "data": {
      "application/javascript": [
       "parent.postMessage({\"jupyterEvent\": \"custom.exercise_interaction\", \"data\": {\"outcomeType\": 1, \"valueTowardsCompletion\": 0.2, \"interactionType\": 1, \"questionType\": 2, \"questionId\": \"3_GetCostPaint\", \"learnToolsVersion\": \"0.3.4\", \"failureMessage\": \"\", \"exceptionClass\": \"\", \"trace\": \"\"}}, \"*\")"
      ],
      "text/plain": [
       "<IPython.core.display.Javascript object>"
      ]
     },
     "metadata": {},
     "output_type": "display_data"
    },
    {
     "data": {
      "text/markdown": [
       "<span style=\"color:#33cc33\">Correct</span>"
      ],
      "text/plain": [
       "Correct"
      ]
     },
     "metadata": {},
     "output_type": "display_data"
    }
   ],
   "source": [
    "# TODO: Finish defining the function\n",
    "def get_cost(sqft_walls, sqft_ceiling, sqft_per_gallon, cost_per_gallon):\n",
    "    total_sqft = sqft_walls + sqft_ceiling\n",
    "    gallons_needed = total_sqft / sqft_per_gallon\n",
    "    cost = cost_per_gallon * gallons_needed\n",
    "    return cost\n",
    "\n",
    "# Check your answer\n",
    "q3.check()"
   ]
  },
  {
   "cell_type": "code",
   "execution_count": 7,
   "id": "98b25830",
   "metadata": {
    "execution": {
     "iopub.execute_input": "2022-06-18T10:48:51.520488Z",
     "iopub.status.busy": "2022-06-18T10:48:51.519727Z",
     "iopub.status.idle": "2022-06-18T10:48:51.524017Z",
     "shell.execute_reply": "2022-06-18T10:48:51.523321Z"
    },
    "papermill": {
     "duration": 0.015233,
     "end_time": "2022-06-18T10:48:51.525942",
     "exception": false,
     "start_time": "2022-06-18T10:48:51.510709",
     "status": "completed"
    },
    "tags": []
   },
   "outputs": [],
   "source": [
    "# Uncomment to see a hint\n",
    "#q3.hint()\n",
    "\n",
    "# Uncomment to view the solution\n",
    "#q3.solution()"
   ]
  },
  {
   "cell_type": "markdown",
   "id": "a2ea0488",
   "metadata": {
    "papermill": {
     "duration": 0.007867,
     "end_time": "2022-06-18T10:48:51.541471",
     "exception": false,
     "start_time": "2022-06-18T10:48:51.533604",
     "status": "completed"
    },
    "tags": []
   },
   "source": [
    "# Question 4\n",
    "\n",
    "Use the `get_cost()` function you defined in Question 3 to calculate the cost of applying one coat of paint to a room with:\n",
    "- 432 square feet of walls, and\n",
    "- 144 square feet of ceiling.\n",
    "\n",
    "Assume that one gallon of paint covers 400 square feet and costs $15.  As in Question 3, assume you can buy partial gallons of paint.  Do not round your answer."
   ]
  },
  {
   "cell_type": "code",
   "execution_count": 8,
   "id": "9600910d",
   "metadata": {
    "execution": {
     "iopub.execute_input": "2022-06-18T10:48:51.560094Z",
     "iopub.status.busy": "2022-06-18T10:48:51.559311Z",
     "iopub.status.idle": "2022-06-18T10:48:51.569761Z",
     "shell.execute_reply": "2022-06-18T10:48:51.568757Z"
    },
    "papermill": {
     "duration": 0.021933,
     "end_time": "2022-06-18T10:48:51.571784",
     "exception": false,
     "start_time": "2022-06-18T10:48:51.549851",
     "status": "completed"
    },
    "tags": []
   },
   "outputs": [
    {
     "data": {
      "application/javascript": [
       "parent.postMessage({\"jupyterEvent\": \"custom.exercise_interaction\", \"data\": {\"outcomeType\": 1, \"valueTowardsCompletion\": 0.2, \"interactionType\": 1, \"questionType\": 1, \"questionId\": \"4_GetCostPaintExample\", \"learnToolsVersion\": \"0.3.4\", \"failureMessage\": \"\", \"exceptionClass\": \"\", \"trace\": \"\"}}, \"*\")"
      ],
      "text/plain": [
       "<IPython.core.display.Javascript object>"
      ]
     },
     "metadata": {},
     "output_type": "display_data"
    },
    {
     "data": {
      "text/markdown": [
       "<span style=\"color:#33cc33\">Correct</span>"
      ],
      "text/plain": [
       "Correct"
      ]
     },
     "metadata": {},
     "output_type": "display_data"
    }
   ],
   "source": [
    "# TODO: Set the project_cost variable to the cost of the project\n",
    "project_cost = get_cost(432, 144, 400, 15)\n",
    "\n",
    "# Check your answer\n",
    "q4.check()"
   ]
  },
  {
   "cell_type": "code",
   "execution_count": 9,
   "id": "d5a09ec3",
   "metadata": {
    "execution": {
     "iopub.execute_input": "2022-06-18T10:48:51.589495Z",
     "iopub.status.busy": "2022-06-18T10:48:51.589049Z",
     "iopub.status.idle": "2022-06-18T10:48:51.593352Z",
     "shell.execute_reply": "2022-06-18T10:48:51.592382Z"
    },
    "papermill": {
     "duration": 0.015883,
     "end_time": "2022-06-18T10:48:51.595650",
     "exception": false,
     "start_time": "2022-06-18T10:48:51.579767",
     "status": "completed"
    },
    "tags": []
   },
   "outputs": [],
   "source": [
    "# Uncomment to see a hint\n",
    "#q4.hint()\n",
    "\n",
    "# Uncomment to view the solution\n",
    "#q4.solution()"
   ]
  },
  {
   "cell_type": "markdown",
   "id": "021d9bbb",
   "metadata": {
    "papermill": {
     "duration": 0.007695,
     "end_time": "2022-06-18T10:48:51.611354",
     "exception": false,
     "start_time": "2022-06-18T10:48:51.603659",
     "status": "completed"
    },
    "tags": []
   },
   "source": [
    "# 🌶️ Question 5\n",
    "\n",
    "Now say you can no longer buy fractions of a gallon.  (For instance, if you need 4.3 gallons to do a project, then you have to buy 5 gallons of paint.)\n",
    "\n",
    "With this new scenario, you will create a new function `get_actual_cost` that uses the same inputs and calculates the cost of your project.\n",
    "\n",
    "One function that you'll need to use to do this is `math.ceil()`.  We demonstrate usage of this function in the code cell below.  It takes as a number as input and rounds the number up to the nearest integer.  \n",
    "\n",
    "Run the next code cell to test this function for yourself.  Feel free to change the value of `test_value` and make sure `math.ceil()` returns the number you expect."
   ]
  },
  {
   "cell_type": "code",
   "execution_count": 10,
   "id": "0de14761",
   "metadata": {
    "execution": {
     "iopub.execute_input": "2022-06-18T10:48:51.629078Z",
     "iopub.status.busy": "2022-06-18T10:48:51.628701Z",
     "iopub.status.idle": "2022-06-18T10:48:51.633531Z",
     "shell.execute_reply": "2022-06-18T10:48:51.632551Z"
    },
    "papermill": {
     "duration": 0.017338,
     "end_time": "2022-06-18T10:48:51.636659",
     "exception": false,
     "start_time": "2022-06-18T10:48:51.619321",
     "status": "completed"
    },
    "tags": []
   },
   "outputs": [
    {
     "name": "stdout",
     "output_type": "stream",
     "text": [
      "3\n"
     ]
    }
   ],
   "source": [
    "test_value = 2.17\n",
    "\n",
    "rounded_value = math.ceil(test_value)\n",
    "print(rounded_value)"
   ]
  },
  {
   "cell_type": "markdown",
   "id": "c6891d9d",
   "metadata": {
    "papermill": {
     "duration": 0.007859,
     "end_time": "2022-06-18T10:48:51.652627",
     "exception": false,
     "start_time": "2022-06-18T10:48:51.644768",
     "status": "completed"
    },
    "tags": []
   },
   "source": [
    "Use the next code cell to define the function `get_actual_cost()`.  You'll need to use the `math.ceil()` function to do this.\n",
    "\n",
    "When answering this question, note that it's completely valid to define a function that makes use of another function.  For instance, we can define a function `round_up_and_divide_by_three` that makes use of the `math.ceil` function:\n",
    "```\n",
    "def round_up_and_divide_by_three(num):\n",
    "    new_value = math.ceil(num)\n",
    "    final_value = new_value / 3\n",
    "    return final_value\n",
    "```"
   ]
  },
  {
   "cell_type": "code",
   "execution_count": 11,
   "id": "a396ba68",
   "metadata": {
    "execution": {
     "iopub.execute_input": "2022-06-18T10:48:51.671090Z",
     "iopub.status.busy": "2022-06-18T10:48:51.670334Z",
     "iopub.status.idle": "2022-06-18T10:48:51.680498Z",
     "shell.execute_reply": "2022-06-18T10:48:51.679652Z"
    },
    "papermill": {
     "duration": 0.021763,
     "end_time": "2022-06-18T10:48:51.682562",
     "exception": false,
     "start_time": "2022-06-18T10:48:51.660799",
     "status": "completed"
    },
    "tags": []
   },
   "outputs": [
    {
     "data": {
      "application/javascript": [
       "parent.postMessage({\"jupyterEvent\": \"custom.exercise_interaction\", \"data\": {\"outcomeType\": 1, \"valueTowardsCompletion\": 0.2, \"interactionType\": 1, \"questionType\": 2, \"questionId\": \"5_NoMoreFractions\", \"learnToolsVersion\": \"0.3.4\", \"failureMessage\": \"\", \"exceptionClass\": \"\", \"trace\": \"\"}}, \"*\")"
      ],
      "text/plain": [
       "<IPython.core.display.Javascript object>"
      ]
     },
     "metadata": {},
     "output_type": "display_data"
    },
    {
     "data": {
      "text/markdown": [
       "<span style=\"color:#33cc33\">Correct</span>"
      ],
      "text/plain": [
       "Correct"
      ]
     },
     "metadata": {},
     "output_type": "display_data"
    }
   ],
   "source": [
    "def get_actual_cost(sqft_walls, sqft_ceiling, sqft_per_gallon, cost_per_gallon):\n",
    "    total_sqft = sqft_walls + sqft_ceiling\n",
    "    gallons_needed = total_sqft / sqft_per_gallon\n",
    "    gallons_to_buy = math.ceil(gallons_needed)\n",
    "    cost = cost_per_gallon * gallons_to_buy\n",
    "    return cost\n",
    "\n",
    "#  Check your answer\n",
    "q5.check()"
   ]
  },
  {
   "cell_type": "code",
   "execution_count": 12,
   "id": "609434f6",
   "metadata": {
    "execution": {
     "iopub.execute_input": "2022-06-18T10:48:51.701787Z",
     "iopub.status.busy": "2022-06-18T10:48:51.700979Z",
     "iopub.status.idle": "2022-06-18T10:48:51.705605Z",
     "shell.execute_reply": "2022-06-18T10:48:51.704838Z"
    },
    "papermill": {
     "duration": 0.016546,
     "end_time": "2022-06-18T10:48:51.707636",
     "exception": false,
     "start_time": "2022-06-18T10:48:51.691090",
     "status": "completed"
    },
    "tags": []
   },
   "outputs": [],
   "source": [
    "# Uncomment to see a hint\n",
    "#q5.hint()\n",
    "\n",
    "# Uncomment to view the solution\n",
    "#q5.solution()"
   ]
  },
  {
   "cell_type": "markdown",
   "id": "113fd5aa",
   "metadata": {
    "papermill": {
     "duration": 0.008015,
     "end_time": "2022-06-18T10:48:51.723940",
     "exception": false,
     "start_time": "2022-06-18T10:48:51.715925",
     "status": "completed"
    },
    "tags": []
   },
   "source": [
    "Once your function is verified as correct, run the next code cell to calculate the updated cost of your project."
   ]
  },
  {
   "cell_type": "code",
   "execution_count": 13,
   "id": "ddc093d3",
   "metadata": {
    "execution": {
     "iopub.execute_input": "2022-06-18T10:48:51.742797Z",
     "iopub.status.busy": "2022-06-18T10:48:51.742078Z",
     "iopub.status.idle": "2022-06-18T10:48:51.749230Z",
     "shell.execute_reply": "2022-06-18T10:48:51.748315Z"
    },
    "papermill": {
     "duration": 0.018816,
     "end_time": "2022-06-18T10:48:51.751275",
     "exception": false,
     "start_time": "2022-06-18T10:48:51.732459",
     "status": "completed"
    },
    "tags": []
   },
   "outputs": [
    {
     "data": {
      "text/plain": [
       "30"
      ]
     },
     "execution_count": 13,
     "metadata": {},
     "output_type": "execute_result"
    }
   ],
   "source": [
    "get_actual_cost(432, 144, 400, 15) "
   ]
  },
  {
   "cell_type": "markdown",
   "id": "44b586f6",
   "metadata": {
    "papermill": {
     "duration": 0.008104,
     "end_time": "2022-06-18T10:48:51.767768",
     "exception": false,
     "start_time": "2022-06-18T10:48:51.759664",
     "status": "completed"
    },
    "tags": []
   },
   "source": [
    "Say you're working with a slightly larger room.  Run the next code cell to calculate the cost of the project."
   ]
  },
  {
   "cell_type": "code",
   "execution_count": 14,
   "id": "03c9a463",
   "metadata": {
    "execution": {
     "iopub.execute_input": "2022-06-18T10:48:51.786553Z",
     "iopub.status.busy": "2022-06-18T10:48:51.786140Z",
     "iopub.status.idle": "2022-06-18T10:48:51.792501Z",
     "shell.execute_reply": "2022-06-18T10:48:51.791512Z"
    },
    "papermill": {
     "duration": 0.018372,
     "end_time": "2022-06-18T10:48:51.794643",
     "exception": false,
     "start_time": "2022-06-18T10:48:51.776271",
     "status": "completed"
    },
    "tags": []
   },
   "outputs": [
    {
     "data": {
      "text/plain": [
       "45"
      ]
     },
     "execution_count": 14,
     "metadata": {},
     "output_type": "execute_result"
    }
   ],
   "source": [
    "get_actual_cost(594, 288, 400, 15) "
   ]
  },
  {
   "cell_type": "markdown",
   "id": "c347ef3b",
   "metadata": {
    "papermill": {
     "duration": 0.008157,
     "end_time": "2022-06-18T10:48:51.811268",
     "exception": false,
     "start_time": "2022-06-18T10:48:51.803111",
     "status": "completed"
    },
    "tags": []
   },
   "source": [
    "# Keep going\n",
    "\n",
    "Continue to learn about **[data types](https://www.kaggle.com/alexisbcook/data-types)**."
   ]
  },
  {
   "cell_type": "markdown",
   "id": "48d64a4b",
   "metadata": {
    "papermill": {
     "duration": 0.008886,
     "end_time": "2022-06-18T10:48:51.828694",
     "exception": false,
     "start_time": "2022-06-18T10:48:51.819808",
     "status": "completed"
    },
    "tags": []
   },
   "source": [
    "---\n",
    "\n",
    "\n",
    "\n",
    "\n",
    "*Have questions or comments? Visit the [course discussion forum](https://www.kaggle.com/learn/intro-to-programming/discussion) to chat with other learners.*"
   ]
  }
 ],
 "metadata": {
  "kernelspec": {
   "display_name": "Python 3",
   "language": "python",
   "name": "python3"
  },
  "language_info": {
   "codemirror_mode": {
    "name": "ipython",
    "version": 3
   },
   "file_extension": ".py",
   "mimetype": "text/x-python",
   "name": "python",
   "nbconvert_exporter": "python",
   "pygments_lexer": "ipython3",
   "version": "3.7.12"
  },
  "papermill": {
   "default_parameters": {},
   "duration": 12.535529,
   "end_time": "2022-06-18T10:48:52.558558",
   "environment_variables": {},
   "exception": null,
   "input_path": "__notebook__.ipynb",
   "output_path": "__notebook__.ipynb",
   "parameters": {},
   "start_time": "2022-06-18T10:48:40.023029",
   "version": "2.3.4"
  }
 },
 "nbformat": 4,
 "nbformat_minor": 5
}
