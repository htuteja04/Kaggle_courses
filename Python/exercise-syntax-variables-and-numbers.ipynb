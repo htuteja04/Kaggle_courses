{
 "cells": [
  {
   "cell_type": "markdown",
   "id": "3e246b64",
   "metadata": {
    "papermill": {
     "duration": 0.008656,
     "end_time": "2022-06-20T08:46:58.604662",
     "exception": false,
     "start_time": "2022-06-20T08:46:58.596006",
     "status": "completed"
    },
    "tags": []
   },
   "source": [
    "**This notebook is an exercise in the [Python](https://www.kaggle.com/learn/python) course.  You can reference the tutorial at [this link](https://www.kaggle.com/colinmorris/hello-python).**\n",
    "\n",
    "---\n"
   ]
  },
  {
   "cell_type": "markdown",
   "id": "0e1efb96",
   "metadata": {
    "papermill": {
     "duration": 0.005058,
     "end_time": "2022-06-20T08:46:58.615185",
     "exception": false,
     "start_time": "2022-06-20T08:46:58.610127",
     "status": "completed"
    },
    "tags": []
   },
   "source": [
    "Welcome to your first set of Python coding problems.  If this is your first time using Kaggle Notebooks, welcome! \n",
    "\n",
    "Notebooks are composed of blocks (called \"cells\") of text and code. Each of these is editable, though you'll mainly be editing the code cells to answer some questions.\n",
    "\n",
    "To get started, try running the code cell below (by pressing the ► button, or clicking on the cell and pressing ctrl+enter on your keyboard)."
   ]
  },
  {
   "cell_type": "code",
   "execution_count": 1,
   "id": "22faa924",
   "metadata": {
    "execution": {
     "iopub.execute_input": "2022-06-20T08:46:58.628027Z",
     "iopub.status.busy": "2022-06-20T08:46:58.627228Z",
     "iopub.status.idle": "2022-06-20T08:46:58.637315Z",
     "shell.execute_reply": "2022-06-20T08:46:58.636287Z"
    },
    "papermill": {
     "duration": 0.01892,
     "end_time": "2022-06-20T08:46:58.639491",
     "exception": false,
     "start_time": "2022-06-20T08:46:58.620571",
     "status": "completed"
    },
    "tags": []
   },
   "outputs": [
    {
     "name": "stdout",
     "output_type": "stream",
     "text": [
      "You've successfully run some Python code\n",
      "Congratulations!\n"
     ]
    }
   ],
   "source": [
    "print(\"You've successfully run some Python code\")\n",
    "print(\"Congratulations!\")"
   ]
  },
  {
   "cell_type": "markdown",
   "id": "9e0020d0",
   "metadata": {
    "papermill": {
     "duration": 0.005003,
     "end_time": "2022-06-20T08:46:58.649984",
     "exception": false,
     "start_time": "2022-06-20T08:46:58.644981",
     "status": "completed"
    },
    "tags": []
   },
   "source": [
    "Try adding another line of code in the cell above and re-running it. \n",
    "\n",
    "Now let's get a little fancier:  Add a new code cell by clicking on an existing code cell, hitting the escape key, and then hitting the `a` or `b` key.  The `a` key will add a cell above the current cell, and `b` adds a cell below.\n",
    "\n",
    "Great! Now you know how to use Notebooks.\n",
    "\n",
    "Each hands-on exercise starts by setting up our feedback and code checking mechanism. Run the code cell below to do that. Then you'll be ready to move on to question 0."
   ]
  },
  {
   "cell_type": "code",
   "execution_count": 2,
   "id": "d4fd8c9a",
   "metadata": {
    "_kg_hide-input": true,
    "_kg_hide-output": true,
    "execution": {
     "iopub.execute_input": "2022-06-20T08:46:58.662265Z",
     "iopub.status.busy": "2022-06-20T08:46:58.661868Z",
     "iopub.status.idle": "2022-06-20T08:46:58.706451Z",
     "shell.execute_reply": "2022-06-20T08:46:58.705656Z"
    },
    "papermill": {
     "duration": 0.053181,
     "end_time": "2022-06-20T08:46:58.708419",
     "exception": false,
     "start_time": "2022-06-20T08:46:58.655238",
     "status": "completed"
    },
    "tags": []
   },
   "outputs": [
    {
     "name": "stdout",
     "output_type": "stream",
     "text": [
      "Setup complete! You're ready to start question 0.\n"
     ]
    }
   ],
   "source": [
    "from learntools.core import binder; binder.bind(globals())\n",
    "from learntools.python.ex1 import *\n",
    "print(\"Setup complete! You're ready to start question 0.\")"
   ]
  },
  {
   "cell_type": "markdown",
   "id": "a4acbb8d",
   "metadata": {
    "papermill": {
     "duration": 0.005172,
     "end_time": "2022-06-20T08:46:58.719184",
     "exception": false,
     "start_time": "2022-06-20T08:46:58.714012",
     "status": "completed"
    },
    "tags": []
   },
   "source": [
    "# 0.\n",
    "\n",
    "*This is a silly question intended as an introduction to the format we use for hands-on exercises throughout all Kaggle courses.*\n",
    "\n",
    "**What is your favorite color? **\n",
    "\n",
    "To complete this question, create a variable called `color` in the cell below with an appropriate value. The function call `q0.check()` (which we've already provided in the cell below) will check your answer."
   ]
  },
  {
   "cell_type": "code",
   "execution_count": 3,
   "id": "754c8ab8",
   "metadata": {
    "execution": {
     "iopub.execute_input": "2022-06-20T08:46:58.731858Z",
     "iopub.status.busy": "2022-06-20T08:46:58.731213Z",
     "iopub.status.idle": "2022-06-20T08:46:58.739563Z",
     "shell.execute_reply": "2022-06-20T08:46:58.738649Z"
    },
    "papermill": {
     "duration": 0.016633,
     "end_time": "2022-06-20T08:46:58.741269",
     "exception": false,
     "start_time": "2022-06-20T08:46:58.724636",
     "status": "completed"
    },
    "tags": []
   },
   "outputs": [
    {
     "data": {
      "application/javascript": [
       "parent.postMessage({\"jupyterEvent\": \"custom.exercise_interaction\", \"data\": {\"outcomeType\": 1, \"valueTowardsCompletion\": 0.25, \"interactionType\": 1, \"questionType\": 2, \"questionId\": \"0_ExerciseFormatTutorial\", \"learnToolsVersion\": \"0.3.4\", \"failureMessage\": \"\", \"exceptionClass\": \"\", \"trace\": \"\"}}, \"*\")"
      ],
      "text/plain": [
       "<IPython.core.display.Javascript object>"
      ]
     },
     "metadata": {},
     "output_type": "display_data"
    },
    {
     "data": {
      "text/markdown": [
       "<span style=\"color:#33cc33\">Correct:</span> What?! You got it right without needing a hint or anything? Drats. Well hey, you should still continue to the next step to get some practice asking for a hint and checking solutions. (Even though you obviously don't need any help here.)"
      ],
      "text/plain": [
       "Correct: What?! You got it right without needing a hint or anything? Drats. Well hey, you should still continue to the next step to get some practice asking for a hint and checking solutions. (Even though you obviously don't need any help here.)"
      ]
     },
     "metadata": {},
     "output_type": "display_data"
    }
   ],
   "source": [
    "# create a variable called color with an appropriate value on the line below\n",
    "# (Remember, strings in Python must be enclosed in 'single' or \"double\" quotes)\n",
    "color = \"blue\"\n",
    "\n",
    "# Check your answer\n",
    "q0.check()"
   ]
  },
  {
   "cell_type": "markdown",
   "id": "5ebe745e",
   "metadata": {
    "papermill": {
     "duration": 0.005184,
     "end_time": "2022-06-20T08:46:58.752138",
     "exception": false,
     "start_time": "2022-06-20T08:46:58.746954",
     "status": "completed"
    },
    "tags": []
   },
   "source": [
    "Didn't get the right answer? How do you not even know your own favorite color?!\n",
    "\n",
    "Delete the `#` in the line below to make one of the lines run. You can choose between getting a hint or the full answer by choosing which line to remove the `#` from. \n",
    "\n",
    "Removing the `#` is called uncommenting, because it changes that line from a \"comment\" which Python doesn't run to code, which Python does run."
   ]
  },
  {
   "cell_type": "code",
   "execution_count": 4,
   "id": "f3440b1a",
   "metadata": {
    "execution": {
     "iopub.execute_input": "2022-06-20T08:46:58.764849Z",
     "iopub.status.busy": "2022-06-20T08:46:58.764221Z",
     "iopub.status.idle": "2022-06-20T08:46:58.772419Z",
     "shell.execute_reply": "2022-06-20T08:46:58.771747Z"
    },
    "papermill": {
     "duration": 0.016457,
     "end_time": "2022-06-20T08:46:58.774012",
     "exception": false,
     "start_time": "2022-06-20T08:46:58.757555",
     "status": "completed"
    },
    "tags": []
   },
   "outputs": [
    {
     "data": {
      "application/javascript": [
       "parent.postMessage({\"jupyterEvent\": \"custom.exercise_interaction\", \"data\": {\"interactionType\": 2, \"questionType\": 2, \"questionId\": \"0_ExerciseFormatTutorial\", \"learnToolsVersion\": \"0.3.4\", \"valueTowardsCompletion\": 0.0, \"failureMessage\": \"\", \"exceptionClass\": \"\", \"trace\": \"\", \"outcomeType\": 4}}, \"*\")"
      ],
      "text/plain": [
       "<IPython.core.display.Javascript object>"
      ]
     },
     "metadata": {},
     "output_type": "display_data"
    },
    {
     "data": {
      "text/markdown": [
       "<span style=\"color:#3366cc\">Hint:</span> Your favorite color rhymes with *glue*."
      ],
      "text/plain": [
       "Hint: Your favorite color rhymes with *glue*."
      ]
     },
     "metadata": {},
     "output_type": "display_data"
    },
    {
     "data": {
      "application/javascript": [
       "parent.postMessage({\"jupyterEvent\": \"custom.exercise_interaction\", \"data\": {\"interactionType\": 3, \"questionType\": 2, \"questionId\": \"0_ExerciseFormatTutorial\", \"learnToolsVersion\": \"0.3.4\", \"valueTowardsCompletion\": 0.0, \"failureMessage\": \"\", \"exceptionClass\": \"\", \"trace\": \"\", \"outcomeType\": 4}}, \"*\")"
      ],
      "text/plain": [
       "<IPython.core.display.Javascript object>"
      ]
     },
     "metadata": {},
     "output_type": "display_data"
    },
    {
     "data": {
      "text/markdown": [
       "<span style=\"color:#33cc99\">Solution:</span> \n",
       "```python\n",
       "color = \"blue\"\n",
       "```"
      ],
      "text/plain": [
       "Solution: \n",
       "```python\n",
       "color = \"blue\"\n",
       "```"
      ]
     },
     "metadata": {},
     "output_type": "display_data"
    }
   ],
   "source": [
    "q0.hint()\n",
    "q0.solution()"
   ]
  },
  {
   "cell_type": "markdown",
   "id": "a4af5298",
   "metadata": {
    "papermill": {
     "duration": 0.005637,
     "end_time": "2022-06-20T08:46:58.785579",
     "exception": false,
     "start_time": "2022-06-20T08:46:58.779942",
     "status": "completed"
    },
    "tags": []
   },
   "source": [
    "The upcoming questions work the same way. The only thing that will change are the question numbers. For the next question, you'll call `q1.check()`, `q1.hint()`, `q1.solution()`, for question 2, you'll call `q2.check()`, and so on."
   ]
  },
  {
   "cell_type": "markdown",
   "id": "79237bd6",
   "metadata": {
    "papermill": {
     "duration": 0.00553,
     "end_time": "2022-06-20T08:46:58.796901",
     "exception": false,
     "start_time": "2022-06-20T08:46:58.791371",
     "status": "completed"
    },
    "tags": []
   },
   "source": [
    "<hr/>\n",
    "\n",
    "# 1.\n",
    "\n",
    "Complete the code below. In case it's helpful, here is the table of available arithmetic operations:\n",
    "\n",
    "\n",
    "\n",
    "| Operator     | Name           | Description                                            |\n",
    "|--------------|----------------|--------------------------------------------------------|\n",
    "| ``a + b``    | Addition       | Sum of ``a`` and ``b``                                 |\n",
    "| ``a - b``    | Subtraction    | Difference of ``a`` and ``b``                          |\n",
    "| ``a * b``    | Multiplication | Product of ``a`` and ``b``                             |\n",
    "| ``a / b``    | True division  | Quotient of ``a`` and ``b``                            |\n",
    "| ``a // b``   | Floor division | Quotient of ``a`` and ``b``, removing fractional parts |\n",
    "| ``a % b``    | Modulus        | Integer remainder after division of ``a`` by ``b``     |\n",
    "| ``a ** b``   | Exponentiation | ``a`` raised to the power of ``b``                     |\n",
    "| ``-a``       | Negation       | The negative of ``a``                                  |\n",
    "\n",
    "<span style=\"display:none\"></span>\n"
   ]
  },
  {
   "cell_type": "code",
   "execution_count": 5,
   "id": "8d81aac6",
   "metadata": {
    "execution": {
     "iopub.execute_input": "2022-06-20T08:46:58.810276Z",
     "iopub.status.busy": "2022-06-20T08:46:58.809687Z",
     "iopub.status.idle": "2022-06-20T08:46:58.819000Z",
     "shell.execute_reply": "2022-06-20T08:46:58.818229Z"
    },
    "papermill": {
     "duration": 0.018039,
     "end_time": "2022-06-20T08:46:58.820784",
     "exception": false,
     "start_time": "2022-06-20T08:46:58.802745",
     "status": "completed"
    },
    "tags": []
   },
   "outputs": [
    {
     "data": {
      "application/javascript": [
       "parent.postMessage({\"jupyterEvent\": \"custom.exercise_interaction\", \"data\": {\"outcomeType\": 1, \"valueTowardsCompletion\": 0.25, \"interactionType\": 1, \"questionType\": 1, \"questionId\": \"1_CircleArea\", \"learnToolsVersion\": \"0.3.4\", \"failureMessage\": \"\", \"exceptionClass\": \"\", \"trace\": \"\"}}, \"*\")"
      ],
      "text/plain": [
       "<IPython.core.display.Javascript object>"
      ]
     },
     "metadata": {},
     "output_type": "display_data"
    },
    {
     "data": {
      "text/markdown": [
       "<span style=\"color:#33cc33\">Correct</span>"
      ],
      "text/plain": [
       "Correct"
      ]
     },
     "metadata": {},
     "output_type": "display_data"
    }
   ],
   "source": [
    "pi = 3.14159 # approximate\n",
    "diameter = 3\n",
    "\n",
    "# Create a variable called 'radius' equal to half the diameter\n",
    "radius = diameter/2\n",
    "\n",
    "# Create a variable called 'area', using the formula for the area of a circle: pi times the radius squared\n",
    "area = pi * radius ** 2\n",
    "\n",
    "# Check your answer\n",
    "q1.check()"
   ]
  },
  {
   "cell_type": "code",
   "execution_count": 6,
   "id": "8f1adc9c",
   "metadata": {
    "execution": {
     "iopub.execute_input": "2022-06-20T08:46:58.834828Z",
     "iopub.status.busy": "2022-06-20T08:46:58.834246Z",
     "iopub.status.idle": "2022-06-20T08:46:58.838022Z",
     "shell.execute_reply": "2022-06-20T08:46:58.837370Z"
    },
    "papermill": {
     "duration": 0.012819,
     "end_time": "2022-06-20T08:46:58.839691",
     "exception": false,
     "start_time": "2022-06-20T08:46:58.826872",
     "status": "completed"
    },
    "tags": []
   },
   "outputs": [],
   "source": [
    "# Uncomment and run the lines below if you need help.\n",
    "#q1.hint()\n",
    "#q1.solution()"
   ]
  },
  {
   "cell_type": "markdown",
   "id": "0f8842ef",
   "metadata": {
    "papermill": {
     "duration": 0.005603,
     "end_time": "2022-06-20T08:46:58.851221",
     "exception": false,
     "start_time": "2022-06-20T08:46:58.845618",
     "status": "completed"
    },
    "tags": []
   },
   "source": [
    "<hr/>\n",
    "\n",
    "# 2.\n",
    "\n",
    "Add code to the following cell to swap variables `a` and `b` (so that `a` refers to the object previously referred to by `b` and vice versa)."
   ]
  },
  {
   "cell_type": "code",
   "execution_count": 7,
   "id": "9d6e4b64",
   "metadata": {
    "execution": {
     "iopub.execute_input": "2022-06-20T08:46:58.865079Z",
     "iopub.status.busy": "2022-06-20T08:46:58.864517Z",
     "iopub.status.idle": "2022-06-20T08:46:58.872977Z",
     "shell.execute_reply": "2022-06-20T08:46:58.872081Z"
    },
    "papermill": {
     "duration": 0.017648,
     "end_time": "2022-06-20T08:46:58.874747",
     "exception": false,
     "start_time": "2022-06-20T08:46:58.857099",
     "status": "completed"
    },
    "tags": []
   },
   "outputs": [
    {
     "data": {
      "application/javascript": [
       "parent.postMessage({\"jupyterEvent\": \"custom.exercise_interaction\", \"data\": {\"outcomeType\": 1, \"valueTowardsCompletion\": 0.25, \"interactionType\": 1, \"questionType\": 2, \"questionId\": \"2_VariableSwap\", \"learnToolsVersion\": \"0.3.4\", \"failureMessage\": \"\", \"exceptionClass\": \"\", \"trace\": \"\"}}, \"*\")"
      ],
      "text/plain": [
       "<IPython.core.display.Javascript object>"
      ]
     },
     "metadata": {},
     "output_type": "display_data"
    },
    {
     "data": {
      "text/markdown": [
       "<span style=\"color:#33cc33\">Correct:</span> \n",
       "\n",
       "The most straightforward solution is to use a third variable to temporarily store one of the old values. e.g.:\n",
       "\n",
       "    tmp = a\n",
       "    a = b\n",
       "    b = tmp\n",
       "\n",
       "If you've read lots of Python code, you might have seen the following trick to swap two variables in one line:\n",
       "\n",
       "    a, b = b, a\n",
       "\n",
       "We'll demystify this bit of Python magic later when we talk about *tuples*."
      ],
      "text/plain": [
       "Correct: \n",
       "\n",
       "The most straightforward solution is to use a third variable to temporarily store one of the old values. e.g.:\n",
       "\n",
       "    tmp = a\n",
       "    a = b\n",
       "    b = tmp\n",
       "\n",
       "If you've read lots of Python code, you might have seen the following trick to swap two variables in one line:\n",
       "\n",
       "    a, b = b, a\n",
       "\n",
       "We'll demystify this bit of Python magic later when we talk about *tuples*."
      ]
     },
     "metadata": {},
     "output_type": "display_data"
    }
   ],
   "source": [
    "########### Setup code - don't touch this part ######################\n",
    "# If you're curious, these are examples of lists. We'll talk about \n",
    "# them in depth a few lessons from now. For now, just know that they're\n",
    "# yet another type of Python object, like int or float.\n",
    "a = [1, 2, 3]\n",
    "b = [3, 2, 1]\n",
    "q2.store_original_ids()\n",
    "######################################################################\n",
    "\n",
    "c = a \n",
    "a = b\n",
    "b = c\n",
    "\n",
    "######################################################################\n",
    "\n",
    "# Check your answer\n",
    "q2.check()"
   ]
  },
  {
   "cell_type": "code",
   "execution_count": 8,
   "id": "12d4879c",
   "metadata": {
    "execution": {
     "iopub.execute_input": "2022-06-20T08:46:58.888806Z",
     "iopub.status.busy": "2022-06-20T08:46:58.888226Z",
     "iopub.status.idle": "2022-06-20T08:46:58.892509Z",
     "shell.execute_reply": "2022-06-20T08:46:58.891622Z"
    },
    "papermill": {
     "duration": 0.013455,
     "end_time": "2022-06-20T08:46:58.894472",
     "exception": false,
     "start_time": "2022-06-20T08:46:58.881017",
     "status": "completed"
    },
    "tags": []
   },
   "outputs": [],
   "source": [
    "#q2.hint()"
   ]
  },
  {
   "cell_type": "code",
   "execution_count": 9,
   "id": "316f24a2",
   "metadata": {
    "execution": {
     "iopub.execute_input": "2022-06-20T08:46:58.909140Z",
     "iopub.status.busy": "2022-06-20T08:46:58.908593Z",
     "iopub.status.idle": "2022-06-20T08:46:58.912484Z",
     "shell.execute_reply": "2022-06-20T08:46:58.911816Z"
    },
    "papermill": {
     "duration": 0.013277,
     "end_time": "2022-06-20T08:46:58.914273",
     "exception": false,
     "start_time": "2022-06-20T08:46:58.900996",
     "status": "completed"
    },
    "tags": []
   },
   "outputs": [],
   "source": [
    "#q2.solution()"
   ]
  },
  {
   "cell_type": "markdown",
   "id": "7e2119c6",
   "metadata": {
    "papermill": {
     "duration": 0.00654,
     "end_time": "2022-06-20T08:46:58.927195",
     "exception": false,
     "start_time": "2022-06-20T08:46:58.920655",
     "status": "completed"
    },
    "tags": []
   },
   "source": [
    "<hr/>\n",
    "\n",
    "# 3a.\n",
    "\n",
    "Add parentheses to the following expression so that it evaluates to 1."
   ]
  },
  {
   "cell_type": "code",
   "execution_count": 10,
   "id": "e23e339f",
   "metadata": {
    "execution": {
     "iopub.execute_input": "2022-06-20T08:46:58.942549Z",
     "iopub.status.busy": "2022-06-20T08:46:58.941995Z",
     "iopub.status.idle": "2022-06-20T08:46:58.947936Z",
     "shell.execute_reply": "2022-06-20T08:46:58.946944Z"
    },
    "papermill": {
     "duration": 0.016069,
     "end_time": "2022-06-20T08:46:58.949674",
     "exception": false,
     "start_time": "2022-06-20T08:46:58.933605",
     "status": "completed"
    },
    "tags": []
   },
   "outputs": [
    {
     "data": {
      "text/plain": [
       "1"
      ]
     },
     "execution_count": 10,
     "metadata": {},
     "output_type": "execute_result"
    }
   ],
   "source": [
    "(5 - 3)// 2"
   ]
  },
  {
   "cell_type": "code",
   "execution_count": 11,
   "id": "31c83693",
   "metadata": {
    "execution": {
     "iopub.execute_input": "2022-06-20T08:46:58.964643Z",
     "iopub.status.busy": "2022-06-20T08:46:58.964063Z",
     "iopub.status.idle": "2022-06-20T08:46:58.967817Z",
     "shell.execute_reply": "2022-06-20T08:46:58.966998Z"
    },
    "papermill": {
     "duration": 0.013221,
     "end_time": "2022-06-20T08:46:58.969618",
     "exception": false,
     "start_time": "2022-06-20T08:46:58.956397",
     "status": "completed"
    },
    "tags": []
   },
   "outputs": [],
   "source": [
    "#q3.a.hint()"
   ]
  },
  {
   "cell_type": "code",
   "execution_count": 12,
   "id": "a4f151af",
   "metadata": {
    "execution": {
     "iopub.execute_input": "2022-06-20T08:46:58.984045Z",
     "iopub.status.busy": "2022-06-20T08:46:58.983661Z",
     "iopub.status.idle": "2022-06-20T08:46:58.990429Z",
     "shell.execute_reply": "2022-06-20T08:46:58.989649Z"
    },
    "papermill": {
     "duration": 0.016142,
     "end_time": "2022-06-20T08:46:58.992185",
     "exception": false,
     "start_time": "2022-06-20T08:46:58.976043",
     "status": "completed"
    },
    "tags": []
   },
   "outputs": [
    {
     "data": {
      "application/javascript": [
       "parent.postMessage({\"jupyterEvent\": \"custom.exercise_interaction\", \"data\": {\"interactionType\": 3, \"questionType\": 4, \"questionId\": \"3.1_ArithmeticParensEasy\", \"learnToolsVersion\": \"0.3.4\", \"valueTowardsCompletion\": 0.0, \"failureMessage\": \"\", \"exceptionClass\": \"\", \"trace\": \"\", \"outcomeType\": 4}}, \"*\")"
      ],
      "text/plain": [
       "<IPython.core.display.Javascript object>"
      ]
     },
     "metadata": {},
     "output_type": "display_data"
    },
    {
     "data": {
      "text/markdown": [
       "<span style=\"color:#33cc99\">Solution:</span> \n",
       "```python\n",
       "(5 - 3) // 2\n",
       "```"
      ],
      "text/plain": [
       "Solution: \n",
       "```python\n",
       "(5 - 3) // 2\n",
       "```"
      ]
     },
     "metadata": {},
     "output_type": "display_data"
    }
   ],
   "source": [
    "# Check your answer (Run this code cell to receive credit!)\n",
    "q3.a.solution()"
   ]
  },
  {
   "cell_type": "markdown",
   "id": "9db7d5fe",
   "metadata": {
    "papermill": {
     "duration": 0.006306,
     "end_time": "2022-06-20T08:46:59.005171",
     "exception": false,
     "start_time": "2022-06-20T08:46:58.998865",
     "status": "completed"
    },
    "tags": []
   },
   "source": [
    "# 3b.  <span title=\"A bit spicy\" style=\"color: darkgreen \">🌶️</span>\n",
    "\n",
    "<small>Questions, like this one, marked a spicy pepper are a bit harder.</small>\n",
    "\n",
    "Add parentheses to the following expression so that it evaluates to 0."
   ]
  },
  {
   "cell_type": "code",
   "execution_count": 13,
   "id": "54991c2f",
   "metadata": {
    "execution": {
     "iopub.execute_input": "2022-06-20T08:46:59.019850Z",
     "iopub.status.busy": "2022-06-20T08:46:59.019442Z",
     "iopub.status.idle": "2022-06-20T08:46:59.024880Z",
     "shell.execute_reply": "2022-06-20T08:46:59.024303Z"
    },
    "papermill": {
     "duration": 0.014529,
     "end_time": "2022-06-20T08:46:59.026387",
     "exception": false,
     "start_time": "2022-06-20T08:46:59.011858",
     "status": "completed"
    },
    "tags": []
   },
   "outputs": [
    {
     "data": {
      "text/plain": [
       "0"
      ]
     },
     "execution_count": 13,
     "metadata": {},
     "output_type": "execute_result"
    }
   ],
   "source": [
    "8 - (3 * 2) - (1 + 1)"
   ]
  },
  {
   "cell_type": "code",
   "execution_count": 14,
   "id": "54ca2a42",
   "metadata": {
    "execution": {
     "iopub.execute_input": "2022-06-20T08:46:59.041418Z",
     "iopub.status.busy": "2022-06-20T08:46:59.040881Z",
     "iopub.status.idle": "2022-06-20T08:46:59.043980Z",
     "shell.execute_reply": "2022-06-20T08:46:59.043409Z"
    },
    "papermill": {
     "duration": 0.012563,
     "end_time": "2022-06-20T08:46:59.045600",
     "exception": false,
     "start_time": "2022-06-20T08:46:59.033037",
     "status": "completed"
    },
    "tags": []
   },
   "outputs": [],
   "source": [
    "#q3.b.hint()"
   ]
  },
  {
   "cell_type": "code",
   "execution_count": 15,
   "id": "16398380",
   "metadata": {
    "execution": {
     "iopub.execute_input": "2022-06-20T08:46:59.061253Z",
     "iopub.status.busy": "2022-06-20T08:46:59.060623Z",
     "iopub.status.idle": "2022-06-20T08:46:59.067170Z",
     "shell.execute_reply": "2022-06-20T08:46:59.066243Z"
    },
    "papermill": {
     "duration": 0.016397,
     "end_time": "2022-06-20T08:46:59.069038",
     "exception": false,
     "start_time": "2022-06-20T08:46:59.052641",
     "status": "completed"
    },
    "tags": []
   },
   "outputs": [
    {
     "data": {
      "application/javascript": [
       "parent.postMessage({\"jupyterEvent\": \"custom.exercise_interaction\", \"data\": {\"interactionType\": 3, \"questionType\": 4, \"questionId\": \"3.2_ArithmeticParensHard\", \"learnToolsVersion\": \"0.3.4\", \"valueTowardsCompletion\": 0.0, \"failureMessage\": \"\", \"exceptionClass\": \"\", \"trace\": \"\", \"outcomeType\": 4}}, \"*\")"
      ],
      "text/plain": [
       "<IPython.core.display.Javascript object>"
      ]
     },
     "metadata": {},
     "output_type": "display_data"
    },
    {
     "data": {
      "text/markdown": [
       "<span style=\"color:#33cc99\">Solution:</span> `(8 - 3) * (2 - (1 + 1))` is one solution. There may be others."
      ],
      "text/plain": [
       "Solution: `(8 - 3) * (2 - (1 + 1))` is one solution. There may be others."
      ]
     },
     "metadata": {},
     "output_type": "display_data"
    }
   ],
   "source": [
    "# Check your answer (Run this code cell to receive credit!)\n",
    "q3.b.solution()"
   ]
  },
  {
   "cell_type": "markdown",
   "id": "0c7d702f",
   "metadata": {
    "papermill": {
     "duration": 0.006787,
     "end_time": "2022-06-20T08:46:59.082910",
     "exception": false,
     "start_time": "2022-06-20T08:46:59.076123",
     "status": "completed"
    },
    "tags": []
   },
   "source": [
    "<hr/>\n",
    "\n",
    "# 4. \n",
    "Alice, Bob and Carol have agreed to pool their Halloween candy and split it evenly among themselves.\n",
    "For the sake of their friendship, any candies left over will be smashed. For example, if they collectively\n",
    "bring home 91 candies, they'll take 30 each and smash 1.\n",
    "\n",
    "Write an arithmetic expression below to calculate how many candies they must smash for a given haul."
   ]
  },
  {
   "cell_type": "code",
   "execution_count": 16,
   "id": "aa591644",
   "metadata": {
    "execution": {
     "iopub.execute_input": "2022-06-20T08:46:59.098811Z",
     "iopub.status.busy": "2022-06-20T08:46:59.098397Z",
     "iopub.status.idle": "2022-06-20T08:46:59.106407Z",
     "shell.execute_reply": "2022-06-20T08:46:59.105548Z"
    },
    "papermill": {
     "duration": 0.018089,
     "end_time": "2022-06-20T08:46:59.108200",
     "exception": false,
     "start_time": "2022-06-20T08:46:59.090111",
     "status": "completed"
    },
    "tags": []
   },
   "outputs": [
    {
     "data": {
      "application/javascript": [
       "parent.postMessage({\"jupyterEvent\": \"custom.exercise_interaction\", \"data\": {\"outcomeType\": 1, \"valueTowardsCompletion\": 0.25, \"interactionType\": 1, \"questionType\": 1, \"questionId\": \"4_CandySplitting\", \"learnToolsVersion\": \"0.3.4\", \"failureMessage\": \"\", \"exceptionClass\": \"\", \"trace\": \"\"}}, \"*\")"
      ],
      "text/plain": [
       "<IPython.core.display.Javascript object>"
      ]
     },
     "metadata": {},
     "output_type": "display_data"
    },
    {
     "data": {
      "text/markdown": [
       "<span style=\"color:#33cc33\">Correct</span>"
      ],
      "text/plain": [
       "Correct"
      ]
     },
     "metadata": {},
     "output_type": "display_data"
    }
   ],
   "source": [
    "# Variables representing the number of candies collected by alice, bob, and carol\n",
    "alice_candies = 121\n",
    "bob_candies = 77\n",
    "carol_candies = 109\n",
    "\n",
    "# Your code goes here! Replace the right-hand side of this assignment with an expression\n",
    "# involving alice_candies, bob_candies, and carol_candies\n",
    "to_smash = (alice_candies + bob_candies + carol_candies) % 3\n",
    "\n",
    "# Check your answer\n",
    "q4.check()"
   ]
  },
  {
   "cell_type": "code",
   "execution_count": 17,
   "id": "e18f3c61",
   "metadata": {
    "execution": {
     "iopub.execute_input": "2022-06-20T08:46:59.124020Z",
     "iopub.status.busy": "2022-06-20T08:46:59.123607Z",
     "iopub.status.idle": "2022-06-20T08:46:59.127117Z",
     "shell.execute_reply": "2022-06-20T08:46:59.126464Z"
    },
    "papermill": {
     "duration": 0.013558,
     "end_time": "2022-06-20T08:46:59.128925",
     "exception": false,
     "start_time": "2022-06-20T08:46:59.115367",
     "status": "completed"
    },
    "tags": []
   },
   "outputs": [],
   "source": [
    "#q4.hint()\n",
    "#q4.solution()"
   ]
  },
  {
   "cell_type": "markdown",
   "id": "8a0ea918",
   "metadata": {
    "papermill": {
     "duration": 0.00762,
     "end_time": "2022-06-20T08:46:59.144296",
     "exception": false,
     "start_time": "2022-06-20T08:46:59.136676",
     "status": "completed"
    },
    "tags": []
   },
   "source": [
    "# Keep Going\n",
    "\n",
    "Next up, you'll **[learn to write new functions and understand functions others write](https://www.kaggle.com/colinmorris/functions-and-getting-help)**. This will make you at least 10 times more productive as a Python programmer. "
   ]
  },
  {
   "cell_type": "markdown",
   "id": "62ea63db",
   "metadata": {
    "papermill": {
     "duration": 0.006945,
     "end_time": "2022-06-20T08:46:59.158548",
     "exception": false,
     "start_time": "2022-06-20T08:46:59.151603",
     "status": "completed"
    },
    "tags": []
   },
   "source": [
    "---\n",
    "\n",
    "\n",
    "\n",
    "\n",
    "*Have questions or comments? Visit the [course discussion forum](https://www.kaggle.com/learn/python/discussion) to chat with other learners.*"
   ]
  }
 ],
 "metadata": {
  "kernelspec": {
   "display_name": "Python 3",
   "language": "python",
   "name": "python3"
  },
  "language_info": {
   "codemirror_mode": {
    "name": "ipython",
    "version": 3
   },
   "file_extension": ".py",
   "mimetype": "text/x-python",
   "name": "python",
   "nbconvert_exporter": "python",
   "pygments_lexer": "ipython3",
   "version": "3.7.12"
  },
  "papermill": {
   "default_parameters": {},
   "duration": 9.959446,
   "end_time": "2022-06-20T08:46:59.786339",
   "environment_variables": {},
   "exception": null,
   "input_path": "__notebook__.ipynb",
   "output_path": "__notebook__.ipynb",
   "parameters": {},
   "start_time": "2022-06-20T08:46:49.826893",
   "version": "2.3.4"
  }
 },
 "nbformat": 4,
 "nbformat_minor": 5
}
