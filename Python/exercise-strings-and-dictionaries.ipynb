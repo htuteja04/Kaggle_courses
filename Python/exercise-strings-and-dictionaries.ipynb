{
 "cells": [
  {
   "cell_type": "markdown",
   "id": "9f169bdb",
   "metadata": {
    "papermill": {
     "duration": 0.008087,
     "end_time": "2022-06-22T04:45:13.972531",
     "exception": false,
     "start_time": "2022-06-22T04:45:13.964444",
     "status": "completed"
    },
    "tags": []
   },
   "source": [
    "**This notebook is an exercise in the [Python](https://www.kaggle.com/learn/python) course.  You can reference the tutorial at [this link](https://www.kaggle.com/colinmorris/strings-and-dictionaries).**\n",
    "\n",
    "---\n"
   ]
  },
  {
   "cell_type": "markdown",
   "id": "5051bc29",
   "metadata": {
    "papermill": {
     "duration": 0.007011,
     "end_time": "2022-06-22T04:45:13.986823",
     "exception": false,
     "start_time": "2022-06-22T04:45:13.979812",
     "status": "completed"
    },
    "tags": []
   },
   "source": [
    "You are almost done with the course. Nice job!\n",
    "\n",
    "We have a couple more interesting problems for you before you go. \n",
    "\n",
    "As always, run the setup code below before working on the questions."
   ]
  },
  {
   "cell_type": "code",
   "execution_count": 1,
   "id": "bc8dbd93",
   "metadata": {
    "execution": {
     "iopub.execute_input": "2022-06-22T04:45:14.004271Z",
     "iopub.status.busy": "2022-06-22T04:45:14.003733Z",
     "iopub.status.idle": "2022-06-22T04:45:14.078859Z",
     "shell.execute_reply": "2022-06-22T04:45:14.077665Z"
    },
    "papermill": {
     "duration": 0.087554,
     "end_time": "2022-06-22T04:45:14.081570",
     "exception": false,
     "start_time": "2022-06-22T04:45:13.994016",
     "status": "completed"
    },
    "tags": []
   },
   "outputs": [
    {
     "name": "stdout",
     "output_type": "stream",
     "text": [
      "Setup complete.\n"
     ]
    }
   ],
   "source": [
    "from learntools.core import binder; binder.bind(globals())\n",
    "from learntools.python.ex6 import *\n",
    "print('Setup complete.')"
   ]
  },
  {
   "cell_type": "markdown",
   "id": "d98f330f",
   "metadata": {
    "papermill": {
     "duration": 0.00663,
     "end_time": "2022-06-22T04:45:14.095393",
     "exception": false,
     "start_time": "2022-06-22T04:45:14.088763",
     "status": "completed"
    },
    "tags": []
   },
   "source": [
    "Let's start with a string lightning round to warm up. What are the lengths of the strings below?\n",
    "\n",
    "For each of the five strings below, predict what `len()` would return when passed that string. Use the variable `length` to record your answer, then run the cell to check whether you were right.  \n",
    "\n",
    "# 0a."
   ]
  },
  {
   "cell_type": "code",
   "execution_count": 2,
   "id": "774ca7c3",
   "metadata": {
    "execution": {
     "iopub.execute_input": "2022-06-22T04:45:14.111500Z",
     "iopub.status.busy": "2022-06-22T04:45:14.111058Z",
     "iopub.status.idle": "2022-06-22T04:45:14.124548Z",
     "shell.execute_reply": "2022-06-22T04:45:14.123362Z"
    },
    "papermill": {
     "duration": 0.024749,
     "end_time": "2022-06-22T04:45:14.127000",
     "exception": false,
     "start_time": "2022-06-22T04:45:14.102251",
     "status": "completed"
    },
    "tags": []
   },
   "outputs": [
    {
     "data": {
      "application/javascript": [
       "parent.postMessage({\"jupyterEvent\": \"custom.exercise_interaction\", \"data\": {\"outcomeType\": 1, \"valueTowardsCompletion\": 0.3333333333333333, \"interactionType\": 1, \"questionType\": 1, \"questionId\": \"0.1_ZA\", \"learnToolsVersion\": \"0.3.4\", \"failureMessage\": \"\", \"exceptionClass\": \"\", \"trace\": \"\"}}, \"*\")"
      ],
      "text/plain": [
       "<IPython.core.display.Javascript object>"
      ]
     },
     "metadata": {},
     "output_type": "display_data"
    },
    {
     "data": {
      "text/markdown": [
       "<span style=\"color:#33cc33\">Correct:</span> \n",
       "\n",
       "The empty string has length zero. Note that the empty string is also the only string that Python considers as False when converting to boolean."
      ],
      "text/plain": [
       "Correct: \n",
       "\n",
       "The empty string has length zero. Note that the empty string is also the only string that Python considers as False when converting to boolean."
      ]
     },
     "metadata": {},
     "output_type": "display_data"
    }
   ],
   "source": [
    "a = \"\"\n",
    "length = len(a)\n",
    "q0.a.check()"
   ]
  },
  {
   "cell_type": "markdown",
   "id": "c58afd91",
   "metadata": {
    "papermill": {
     "duration": 0.007094,
     "end_time": "2022-06-22T04:45:14.141396",
     "exception": false,
     "start_time": "2022-06-22T04:45:14.134302",
     "status": "completed"
    },
    "tags": []
   },
   "source": [
    "# 0b."
   ]
  },
  {
   "cell_type": "code",
   "execution_count": 3,
   "id": "37089d6f",
   "metadata": {
    "execution": {
     "iopub.execute_input": "2022-06-22T04:45:14.157719Z",
     "iopub.status.busy": "2022-06-22T04:45:14.157341Z",
     "iopub.status.idle": "2022-06-22T04:45:14.169058Z",
     "shell.execute_reply": "2022-06-22T04:45:14.167462Z"
    },
    "papermill": {
     "duration": 0.022568,
     "end_time": "2022-06-22T04:45:14.171170",
     "exception": false,
     "start_time": "2022-06-22T04:45:14.148602",
     "status": "completed"
    },
    "tags": []
   },
   "outputs": [
    {
     "data": {
      "application/javascript": [
       "parent.postMessage({\"jupyterEvent\": \"custom.exercise_interaction\", \"data\": {\"outcomeType\": 1, \"valueTowardsCompletion\": 0.3333333333333333, \"interactionType\": 1, \"questionType\": 1, \"questionId\": \"0.2_ZB\", \"learnToolsVersion\": \"0.3.4\", \"failureMessage\": \"\", \"exceptionClass\": \"\", \"trace\": \"\"}}, \"*\")"
      ],
      "text/plain": [
       "<IPython.core.display.Javascript object>"
      ]
     },
     "metadata": {},
     "output_type": "display_data"
    },
    {
     "data": {
      "text/markdown": [
       "<span style=\"color:#33cc33\">Correct:</span> \n",
       "\n",
       "Keep in mind Python includes spaces (and punctuation) when counting string length."
      ],
      "text/plain": [
       "Correct: \n",
       "\n",
       "Keep in mind Python includes spaces (and punctuation) when counting string length."
      ]
     },
     "metadata": {},
     "output_type": "display_data"
    }
   ],
   "source": [
    "b = \"it's ok\"\n",
    "length = len(b)\n",
    "q0.b.check()"
   ]
  },
  {
   "cell_type": "markdown",
   "id": "c219f1aa",
   "metadata": {
    "papermill": {
     "duration": 0.007596,
     "end_time": "2022-06-22T04:45:14.187536",
     "exception": false,
     "start_time": "2022-06-22T04:45:14.179940",
     "status": "completed"
    },
    "tags": []
   },
   "source": [
    "# 0c."
   ]
  },
  {
   "cell_type": "code",
   "execution_count": 4,
   "id": "360a2009",
   "metadata": {
    "execution": {
     "iopub.execute_input": "2022-06-22T04:45:14.204894Z",
     "iopub.status.busy": "2022-06-22T04:45:14.204441Z",
     "iopub.status.idle": "2022-06-22T04:45:14.214968Z",
     "shell.execute_reply": "2022-06-22T04:45:14.213916Z"
    },
    "papermill": {
     "duration": 0.022471,
     "end_time": "2022-06-22T04:45:14.217589",
     "exception": false,
     "start_time": "2022-06-22T04:45:14.195118",
     "status": "completed"
    },
    "tags": []
   },
   "outputs": [
    {
     "data": {
      "application/javascript": [
       "parent.postMessage({\"jupyterEvent\": \"custom.exercise_interaction\", \"data\": {\"outcomeType\": 1, \"valueTowardsCompletion\": 0.3333333333333333, \"interactionType\": 1, \"questionType\": 1, \"questionId\": \"0.3_ZC\", \"learnToolsVersion\": \"0.3.4\", \"failureMessage\": \"\", \"exceptionClass\": \"\", \"trace\": \"\"}}, \"*\")"
      ],
      "text/plain": [
       "<IPython.core.display.Javascript object>"
      ]
     },
     "metadata": {},
     "output_type": "display_data"
    },
    {
     "data": {
      "text/markdown": [
       "<span style=\"color:#33cc33\">Correct:</span> \n",
       "\n",
       "Even though we use different syntax to create it, the string `c` is identical to `b`. In particular, note that the backslash is not part of the string, so it doesn't contribute to its length."
      ],
      "text/plain": [
       "Correct: \n",
       "\n",
       "Even though we use different syntax to create it, the string `c` is identical to `b`. In particular, note that the backslash is not part of the string, so it doesn't contribute to its length."
      ]
     },
     "metadata": {},
     "output_type": "display_data"
    }
   ],
   "source": [
    "c = 'it\\'s ok'\n",
    "length = len(c)\n",
    "q0.c.check()"
   ]
  },
  {
   "cell_type": "markdown",
   "id": "3d229620",
   "metadata": {
    "papermill": {
     "duration": 0.007814,
     "end_time": "2022-06-22T04:45:14.233665",
     "exception": false,
     "start_time": "2022-06-22T04:45:14.225851",
     "status": "completed"
    },
    "tags": []
   },
   "source": [
    "# 0d."
   ]
  },
  {
   "cell_type": "code",
   "execution_count": 5,
   "id": "c2c7ceb7",
   "metadata": {
    "execution": {
     "iopub.execute_input": "2022-06-22T04:45:14.252128Z",
     "iopub.status.busy": "2022-06-22T04:45:14.251679Z",
     "iopub.status.idle": "2022-06-22T04:45:14.263385Z",
     "shell.execute_reply": "2022-06-22T04:45:14.262101Z"
    },
    "papermill": {
     "duration": 0.02397,
     "end_time": "2022-06-22T04:45:14.265832",
     "exception": false,
     "start_time": "2022-06-22T04:45:14.241862",
     "status": "completed"
    },
    "tags": []
   },
   "outputs": [
    {
     "data": {
      "application/javascript": [
       "parent.postMessage({\"jupyterEvent\": \"custom.exercise_interaction\", \"data\": {\"outcomeType\": 1, \"valueTowardsCompletion\": 0.3333333333333333, \"interactionType\": 1, \"questionType\": 1, \"questionId\": \"0.4_ZD\", \"learnToolsVersion\": \"0.3.4\", \"failureMessage\": \"\", \"exceptionClass\": \"\", \"trace\": \"\"}}, \"*\")"
      ],
      "text/plain": [
       "<IPython.core.display.Javascript object>"
      ]
     },
     "metadata": {},
     "output_type": "display_data"
    },
    {
     "data": {
      "text/markdown": [
       "<span style=\"color:#33cc33\">Correct:</span> \n",
       "\n",
       "The fact that this string was created using triple-quote syntax doesn't make any difference in terms of its content or length. This string is exactly the same as `'hey'`."
      ],
      "text/plain": [
       "Correct: \n",
       "\n",
       "The fact that this string was created using triple-quote syntax doesn't make any difference in terms of its content or length. This string is exactly the same as `'hey'`."
      ]
     },
     "metadata": {},
     "output_type": "display_data"
    }
   ],
   "source": [
    "d = \"\"\"hey\"\"\"\n",
    "length = len(d)\n",
    "q0.d.check()"
   ]
  },
  {
   "cell_type": "markdown",
   "id": "350dcb71",
   "metadata": {
    "papermill": {
     "duration": 0.009903,
     "end_time": "2022-06-22T04:45:14.284401",
     "exception": false,
     "start_time": "2022-06-22T04:45:14.274498",
     "status": "completed"
    },
    "tags": []
   },
   "source": [
    "# 0e."
   ]
  },
  {
   "cell_type": "code",
   "execution_count": 6,
   "id": "a17072be",
   "metadata": {
    "execution": {
     "iopub.execute_input": "2022-06-22T04:45:14.303452Z",
     "iopub.status.busy": "2022-06-22T04:45:14.302970Z",
     "iopub.status.idle": "2022-06-22T04:45:14.314230Z",
     "shell.execute_reply": "2022-06-22T04:45:14.313067Z"
    },
    "papermill": {
     "duration": 0.02429,
     "end_time": "2022-06-22T04:45:14.317192",
     "exception": false,
     "start_time": "2022-06-22T04:45:14.292902",
     "status": "completed"
    },
    "tags": []
   },
   "outputs": [
    {
     "data": {
      "application/javascript": [
       "parent.postMessage({\"jupyterEvent\": \"custom.exercise_interaction\", \"data\": {\"outcomeType\": 1, \"valueTowardsCompletion\": 0.3333333333333333, \"interactionType\": 1, \"questionType\": 1, \"questionId\": \"0.5_ZE\", \"learnToolsVersion\": \"0.3.4\", \"failureMessage\": \"\", \"exceptionClass\": \"\", \"trace\": \"\"}}, \"*\")"
      ],
      "text/plain": [
       "<IPython.core.display.Javascript object>"
      ]
     },
     "metadata": {},
     "output_type": "display_data"
    },
    {
     "data": {
      "text/markdown": [
       "<span style=\"color:#33cc33\">Correct:</span> \n",
       "\n",
       "The newline character is just a single character! (Even though we represent it to Python using a combination of two characters.)"
      ],
      "text/plain": [
       "Correct: \n",
       "\n",
       "The newline character is just a single character! (Even though we represent it to Python using a combination of two characters.)"
      ]
     },
     "metadata": {},
     "output_type": "display_data"
    }
   ],
   "source": [
    "e = '\\n'\n",
    "length = len(e)\n",
    "q0.e.check()"
   ]
  },
  {
   "cell_type": "markdown",
   "id": "14af5af6",
   "metadata": {
    "papermill": {
     "duration": 0.00799,
     "end_time": "2022-06-22T04:45:14.333772",
     "exception": false,
     "start_time": "2022-06-22T04:45:14.325782",
     "status": "completed"
    },
    "tags": []
   },
   "source": [
    "# 1.\n",
    "\n",
    "There is a saying that \"Data scientists spend 80% of their time cleaning data, and 20% of their time complaining about cleaning data.\" Let's see if you can write a function to help clean US zip code data. Given a string, it should return whether or not that string represents a valid zip code. For our purposes, a valid zip code is any string consisting of exactly 5 digits.\n",
    "\n",
    "HINT: `str` has a method that will be useful here. Use `help(str)` to review a list of string methods."
   ]
  },
  {
   "cell_type": "code",
   "execution_count": 7,
   "id": "575d629e",
   "metadata": {
    "execution": {
     "iopub.execute_input": "2022-06-22T04:45:14.352766Z",
     "iopub.status.busy": "2022-06-22T04:45:14.351734Z",
     "iopub.status.idle": "2022-06-22T04:45:14.360538Z",
     "shell.execute_reply": "2022-06-22T04:45:14.358885Z"
    },
    "papermill": {
     "duration": 0.021078,
     "end_time": "2022-06-22T04:45:14.363114",
     "exception": false,
     "start_time": "2022-06-22T04:45:14.342036",
     "status": "completed"
    },
    "tags": []
   },
   "outputs": [
    {
     "name": "stdout",
     "output_type": "stream",
     "text": [
      "Help on method_descriptor:\n",
      "\n",
      "isdigit(self, /)\n",
      "    Return True if the string is a digit string, False otherwise.\n",
      "    \n",
      "    A string is a digit string if all characters in the string are digits and there\n",
      "    is at least one character in the string.\n",
      "\n"
     ]
    }
   ],
   "source": [
    "help(str.isdigit)"
   ]
  },
  {
   "cell_type": "code",
   "execution_count": 8,
   "id": "a427b988",
   "metadata": {
    "execution": {
     "iopub.execute_input": "2022-06-22T04:45:14.383475Z",
     "iopub.status.busy": "2022-06-22T04:45:14.382101Z",
     "iopub.status.idle": "2022-06-22T04:45:14.392812Z",
     "shell.execute_reply": "2022-06-22T04:45:14.391913Z"
    },
    "papermill": {
     "duration": 0.022849,
     "end_time": "2022-06-22T04:45:14.395001",
     "exception": false,
     "start_time": "2022-06-22T04:45:14.372152",
     "status": "completed"
    },
    "tags": []
   },
   "outputs": [
    {
     "data": {
      "application/javascript": [
       "parent.postMessage({\"jupyterEvent\": \"custom.exercise_interaction\", \"data\": {\"outcomeType\": 1, \"valueTowardsCompletion\": 0.3333333333333333, \"interactionType\": 1, \"questionType\": 2, \"questionId\": \"1_ZipValidator\", \"learnToolsVersion\": \"0.3.4\", \"failureMessage\": \"\", \"exceptionClass\": \"\", \"trace\": \"\"}}, \"*\")"
      ],
      "text/plain": [
       "<IPython.core.display.Javascript object>"
      ]
     },
     "metadata": {},
     "output_type": "display_data"
    },
    {
     "data": {
      "text/markdown": [
       "<span style=\"color:#33cc33\">Correct</span>"
      ],
      "text/plain": [
       "Correct"
      ]
     },
     "metadata": {},
     "output_type": "display_data"
    }
   ],
   "source": [
    "def is_valid_zip(zip_code):\n",
    "    \"\"\"Returns whether the input string is a valid (5 digit) zip code\n",
    "    \"\"\"\n",
    "    return  len(zip_code) == 5 and zip_code.isdigit()\n",
    "\n",
    "# Check your answer\n",
    "q1.check()"
   ]
  },
  {
   "cell_type": "code",
   "execution_count": 9,
   "id": "b1dc5893",
   "metadata": {
    "execution": {
     "iopub.execute_input": "2022-06-22T04:45:14.416407Z",
     "iopub.status.busy": "2022-06-22T04:45:14.415418Z",
     "iopub.status.idle": "2022-06-22T04:45:14.423801Z",
     "shell.execute_reply": "2022-06-22T04:45:14.422894Z"
    },
    "papermill": {
     "duration": 0.022135,
     "end_time": "2022-06-22T04:45:14.426027",
     "exception": false,
     "start_time": "2022-06-22T04:45:14.403892",
     "status": "completed"
    },
    "tags": []
   },
   "outputs": [
    {
     "data": {
      "application/javascript": [
       "parent.postMessage({\"jupyterEvent\": \"custom.exercise_interaction\", \"data\": {\"interactionType\": 2, \"questionType\": 2, \"questionId\": \"1_ZipValidator\", \"learnToolsVersion\": \"0.3.4\", \"valueTowardsCompletion\": 0.0, \"failureMessage\": \"\", \"exceptionClass\": \"\", \"trace\": \"\", \"outcomeType\": 4}}, \"*\")"
      ],
      "text/plain": [
       "<IPython.core.display.Javascript object>"
      ]
     },
     "metadata": {},
     "output_type": "display_data"
    },
    {
     "data": {
      "text/markdown": [
       "<span style=\"color:#3366cc\">Hint:</span> Try looking up `help(str.isdigit)`"
      ],
      "text/plain": [
       "Hint: Try looking up `help(str.isdigit)`"
      ]
     },
     "metadata": {},
     "output_type": "display_data"
    }
   ],
   "source": [
    "q1.hint()\n",
    "#q1.solution()"
   ]
  },
  {
   "cell_type": "markdown",
   "id": "60e077e4",
   "metadata": {
    "papermill": {
     "duration": 0.008778,
     "end_time": "2022-06-22T04:45:14.443951",
     "exception": false,
     "start_time": "2022-06-22T04:45:14.435173",
     "status": "completed"
    },
    "tags": []
   },
   "source": [
    "# 2.\n",
    "\n",
    "A researcher has gathered thousands of news articles. But she wants to focus her attention on articles including a specific word. Complete the function below to help her filter her list of articles.\n",
    "\n",
    "Your function should meet the following criteria:\n",
    "\n",
    "- Do not include documents where the keyword string shows up only as a part of a larger word. For example, if she were looking for the keyword “closed”, you would not include the string “enclosed.” \n",
    "- She does not want you to distinguish upper case from lower case letters. So the phrase “Closed the case.” would be included when the keyword is “closed”\n",
    "- Do not let periods or commas affect what is matched. “It is closed.” would be included when the keyword is “closed”. But you can assume there are no other types of punctuation."
   ]
  },
  {
   "cell_type": "code",
   "execution_count": 10,
   "id": "a57d4779",
   "metadata": {
    "execution": {
     "iopub.execute_input": "2022-06-22T04:45:14.465238Z",
     "iopub.status.busy": "2022-06-22T04:45:14.464462Z",
     "iopub.status.idle": "2022-06-22T04:45:14.475700Z",
     "shell.execute_reply": "2022-06-22T04:45:14.474521Z"
    },
    "papermill": {
     "duration": 0.025107,
     "end_time": "2022-06-22T04:45:14.478140",
     "exception": false,
     "start_time": "2022-06-22T04:45:14.453033",
     "status": "completed"
    },
    "tags": []
   },
   "outputs": [
    {
     "data": {
      "application/javascript": [
       "parent.postMessage({\"jupyterEvent\": \"custom.exercise_interaction\", \"data\": {\"outcomeType\": 1, \"valueTowardsCompletion\": 0.3333333333333333, \"interactionType\": 1, \"questionType\": 2, \"questionId\": \"2_WordSearch\", \"learnToolsVersion\": \"0.3.4\", \"failureMessage\": \"\", \"exceptionClass\": \"\", \"trace\": \"\"}}, \"*\")"
      ],
      "text/plain": [
       "<IPython.core.display.Javascript object>"
      ]
     },
     "metadata": {},
     "output_type": "display_data"
    },
    {
     "data": {
      "text/markdown": [
       "<span style=\"color:#33cc33\">Correct</span>"
      ],
      "text/plain": [
       "Correct"
      ]
     },
     "metadata": {},
     "output_type": "display_data"
    }
   ],
   "source": [
    "def word_search(doc_list, keyword):\n",
    "    matches = []\n",
    "    for i, phrase in enumerate(doc_list):\n",
    "        words = phrase.split()\n",
    "        words_normal = [word.rstrip('.,').lower() for word in words]\n",
    "        if keyword.lower() in words_normal:\n",
    "            matches.append(i)\n",
    "    return matches\n",
    "    \n",
    "\n",
    "# Check your answer\n",
    "q2.check()"
   ]
  },
  {
   "cell_type": "code",
   "execution_count": 11,
   "id": "459dfbac",
   "metadata": {
    "execution": {
     "iopub.execute_input": "2022-06-22T04:45:14.499424Z",
     "iopub.status.busy": "2022-06-22T04:45:14.498920Z",
     "iopub.status.idle": "2022-06-22T04:45:14.505205Z",
     "shell.execute_reply": "2022-06-22T04:45:14.503427Z"
    },
    "papermill": {
     "duration": 0.020209,
     "end_time": "2022-06-22T04:45:14.507782",
     "exception": false,
     "start_time": "2022-06-22T04:45:14.487573",
     "status": "completed"
    },
    "tags": []
   },
   "outputs": [],
   "source": [
    "ice_list = [\"ice tea\", \"chocolate ice cream\", \"iced coffe\", \"cubes of ice.\"]"
   ]
  },
  {
   "cell_type": "code",
   "execution_count": 12,
   "id": "473d7b92",
   "metadata": {
    "execution": {
     "iopub.execute_input": "2022-06-22T04:45:14.528525Z",
     "iopub.status.busy": "2022-06-22T04:45:14.528102Z",
     "iopub.status.idle": "2022-06-22T04:45:14.537239Z",
     "shell.execute_reply": "2022-06-22T04:45:14.535742Z"
    },
    "papermill": {
     "duration": 0.022485,
     "end_time": "2022-06-22T04:45:14.539701",
     "exception": false,
     "start_time": "2022-06-22T04:45:14.517216",
     "status": "completed"
    },
    "tags": []
   },
   "outputs": [
    {
     "data": {
      "text/plain": [
       "[0, 1, 3]"
      ]
     },
     "execution_count": 12,
     "metadata": {},
     "output_type": "execute_result"
    }
   ],
   "source": [
    "word_search(ice_list, 'ice')"
   ]
  },
  {
   "cell_type": "code",
   "execution_count": 13,
   "id": "5e479e2e",
   "metadata": {
    "execution": {
     "iopub.execute_input": "2022-06-22T04:45:14.561279Z",
     "iopub.status.busy": "2022-06-22T04:45:14.560494Z",
     "iopub.status.idle": "2022-06-22T04:45:14.566090Z",
     "shell.execute_reply": "2022-06-22T04:45:14.564904Z"
    },
    "papermill": {
     "duration": 0.019442,
     "end_time": "2022-06-22T04:45:14.568589",
     "exception": false,
     "start_time": "2022-06-22T04:45:14.549147",
     "status": "completed"
    },
    "tags": []
   },
   "outputs": [],
   "source": [
    "#q2.hint()\n",
    "#q2.solution()"
   ]
  },
  {
   "cell_type": "markdown",
   "id": "6fd37e35",
   "metadata": {
    "papermill": {
     "duration": 0.009611,
     "end_time": "2022-06-22T04:45:14.588416",
     "exception": false,
     "start_time": "2022-06-22T04:45:14.578805",
     "status": "completed"
    },
    "tags": []
   },
   "source": [
    "# 3.\n",
    "\n",
    "Now the researcher wants to supply multiple keywords to search for. Complete the function below to help her.\n",
    "\n",
    "(You're encouraged to use the `word_search` function you just wrote when implementing this function. Reusing code in this way makes your programs more robust and readable - and it saves typing!)"
   ]
  },
  {
   "cell_type": "code",
   "execution_count": 14,
   "id": "dae8c388",
   "metadata": {
    "execution": {
     "iopub.execute_input": "2022-06-22T04:45:14.610512Z",
     "iopub.status.busy": "2022-06-22T04:45:14.609776Z",
     "iopub.status.idle": "2022-06-22T04:45:14.620031Z",
     "shell.execute_reply": "2022-06-22T04:45:14.618846Z"
    },
    "papermill": {
     "duration": 0.024436,
     "end_time": "2022-06-22T04:45:14.622857",
     "exception": false,
     "start_time": "2022-06-22T04:45:14.598421",
     "status": "completed"
    },
    "tags": []
   },
   "outputs": [
    {
     "data": {
      "application/javascript": [
       "parent.postMessage({\"jupyterEvent\": \"custom.exercise_interaction\", \"data\": {\"outcomeType\": 1, \"valueTowardsCompletion\": 0.3333333333333333, \"interactionType\": 1, \"questionType\": 2, \"questionId\": \"3_MultiWordSearch\", \"learnToolsVersion\": \"0.3.4\", \"failureMessage\": \"\", \"exceptionClass\": \"\", \"trace\": \"\"}}, \"*\")"
      ],
      "text/plain": [
       "<IPython.core.display.Javascript object>"
      ]
     },
     "metadata": {},
     "output_type": "display_data"
    },
    {
     "data": {
      "text/markdown": [
       "<span style=\"color:#33cc33\">Correct</span>"
      ],
      "text/plain": [
       "Correct"
      ]
     },
     "metadata": {},
     "output_type": "display_data"
    }
   ],
   "source": [
    "def multi_word_search(doc_list, keywords):\n",
    "    \"\"\"\n",
    "    Takes list of documents (each document is a string) and a list of keywords.  \n",
    "    Returns a dictionary where each key is a keyword, and the value is a list of indices\n",
    "    (from doc_list) of the documents containing that keyword\n",
    "\n",
    "    >>> doc_list = [\"The Learn Python Challenge Casino.\", \"They bought a car and a casino\", \"Casinoville\"]\n",
    "    >>> keywords = ['casino', 'they']\n",
    "    >>> multi_word_search(doc_list, keywords)\n",
    "    {'casino': [0, 1], 'they': [1]}\n",
    "    \"\"\"\n",
    "    keyword_to_indices = {}\n",
    "    for keyword in keywords:\n",
    "        keyword_to_indices[keyword] = word_search(doc_list, keyword)\n",
    "    return keyword_to_indices\n",
    "\n",
    "# Check your answer\n",
    "q3.check()"
   ]
  },
  {
   "cell_type": "code",
   "execution_count": 15,
   "id": "50bd2c45",
   "metadata": {
    "execution": {
     "iopub.execute_input": "2022-06-22T04:45:14.645485Z",
     "iopub.status.busy": "2022-06-22T04:45:14.644625Z",
     "iopub.status.idle": "2022-06-22T04:45:14.649111Z",
     "shell.execute_reply": "2022-06-22T04:45:14.648368Z"
    },
    "papermill": {
     "duration": 0.01844,
     "end_time": "2022-06-22T04:45:14.651608",
     "exception": false,
     "start_time": "2022-06-22T04:45:14.633168",
     "status": "completed"
    },
    "tags": []
   },
   "outputs": [],
   "source": [
    "#q3.solution()"
   ]
  },
  {
   "cell_type": "markdown",
   "id": "0f583ae1",
   "metadata": {
    "papermill": {
     "duration": 0.00971,
     "end_time": "2022-06-22T04:45:14.672056",
     "exception": false,
     "start_time": "2022-06-22T04:45:14.662346",
     "status": "completed"
    },
    "tags": []
   },
   "source": [
    "# Keep Going\n",
    "\n",
    "You've learned a lot. But even the best programmers rely heavily on \"libraries\" of code from other programmers. You'll learn about that in **[the last lesson](https://www.kaggle.com/colinmorris/working-with-external-libraries)**.\n"
   ]
  },
  {
   "cell_type": "markdown",
   "id": "f72efc42",
   "metadata": {
    "papermill": {
     "duration": 0.010358,
     "end_time": "2022-06-22T04:45:14.693006",
     "exception": false,
     "start_time": "2022-06-22T04:45:14.682648",
     "status": "completed"
    },
    "tags": []
   },
   "source": [
    "---\n",
    "\n",
    "\n",
    "\n",
    "\n",
    "*Have questions or comments? Visit the [course discussion forum](https://www.kaggle.com/learn/python/discussion) to chat with other learners.*"
   ]
  }
 ],
 "metadata": {
  "kernelspec": {
   "display_name": "Python 3",
   "language": "python",
   "name": "python3"
  },
  "language_info": {
   "codemirror_mode": {
    "name": "ipython",
    "version": 3
   },
   "file_extension": ".py",
   "mimetype": "text/x-python",
   "name": "python",
   "nbconvert_exporter": "python",
   "pygments_lexer": "ipython3",
   "version": "3.7.12"
  },
  "papermill": {
   "default_parameters": {},
   "duration": 13.020923,
   "end_time": "2022-06-22T04:45:15.528974",
   "environment_variables": {},
   "exception": null,
   "input_path": "__notebook__.ipynb",
   "output_path": "__notebook__.ipynb",
   "parameters": {},
   "start_time": "2022-06-22T04:45:02.508051",
   "version": "2.3.4"
  }
 },
 "nbformat": 4,
 "nbformat_minor": 5
}
