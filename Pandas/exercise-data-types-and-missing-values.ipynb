{
 "cells": [
  {
   "cell_type": "markdown",
   "id": "f4fe56ce",
   "metadata": {
    "papermill": {
     "duration": 0.005631,
     "end_time": "2022-06-27T17:19:29.276689",
     "exception": false,
     "start_time": "2022-06-27T17:19:29.271058",
     "status": "completed"
    },
    "tags": []
   },
   "source": [
    "**This notebook is an exercise in the [Pandas](https://www.kaggle.com/learn/pandas) course.  You can reference the tutorial at [this link](https://www.kaggle.com/residentmario/data-types-and-missing-values).**\n",
    "\n",
    "---\n"
   ]
  },
  {
   "cell_type": "markdown",
   "id": "2de1a2aa",
   "metadata": {
    "papermill": {
     "duration": 0.004374,
     "end_time": "2022-06-27T17:19:29.285902",
     "exception": false,
     "start_time": "2022-06-27T17:19:29.281528",
     "status": "completed"
    },
    "tags": []
   },
   "source": [
    "# Introduction\n",
    "\n",
    "Run the following cell to load your data and some utility functions."
   ]
  },
  {
   "cell_type": "code",
   "execution_count": 1,
   "id": "473cd626",
   "metadata": {
    "execution": {
     "iopub.execute_input": "2022-06-27T17:19:29.298326Z",
     "iopub.status.busy": "2022-06-27T17:19:29.297185Z",
     "iopub.status.idle": "2022-06-27T17:19:32.192369Z",
     "shell.execute_reply": "2022-06-27T17:19:32.191052Z"
    },
    "papermill": {
     "duration": 2.905022,
     "end_time": "2022-06-27T17:19:32.195584",
     "exception": false,
     "start_time": "2022-06-27T17:19:29.290562",
     "status": "completed"
    },
    "tags": []
   },
   "outputs": [
    {
     "name": "stdout",
     "output_type": "stream",
     "text": [
      "Setup complete.\n"
     ]
    }
   ],
   "source": [
    "import pandas as pd\n",
    "\n",
    "reviews = pd.read_csv(\"../input/wine-reviews/winemag-data-130k-v2.csv\", index_col=0)\n",
    "\n",
    "from learntools.core import binder; binder.bind(globals())\n",
    "from learntools.pandas.data_types_and_missing_data import *\n",
    "print(\"Setup complete.\")"
   ]
  },
  {
   "cell_type": "markdown",
   "id": "167db6ac",
   "metadata": {
    "papermill": {
     "duration": 0.004456,
     "end_time": "2022-06-27T17:19:32.205444",
     "exception": false,
     "start_time": "2022-06-27T17:19:32.200988",
     "status": "completed"
    },
    "tags": []
   },
   "source": [
    "# Exercises"
   ]
  },
  {
   "cell_type": "markdown",
   "id": "0f28d9f7",
   "metadata": {
    "papermill": {
     "duration": 0.004296,
     "end_time": "2022-06-27T17:19:32.214376",
     "exception": false,
     "start_time": "2022-06-27T17:19:32.210080",
     "status": "completed"
    },
    "tags": []
   },
   "source": [
    "## 1. \n",
    "What is the data type of the `points` column in the dataset?"
   ]
  },
  {
   "cell_type": "code",
   "execution_count": 2,
   "id": "2a4212af",
   "metadata": {
    "execution": {
     "iopub.execute_input": "2022-06-27T17:19:32.225488Z",
     "iopub.status.busy": "2022-06-27T17:19:32.225117Z",
     "iopub.status.idle": "2022-06-27T17:19:32.236735Z",
     "shell.execute_reply": "2022-06-27T17:19:32.235586Z"
    },
    "papermill": {
     "duration": 0.019595,
     "end_time": "2022-06-27T17:19:32.238666",
     "exception": false,
     "start_time": "2022-06-27T17:19:32.219071",
     "status": "completed"
    },
    "tags": []
   },
   "outputs": [
    {
     "data": {
      "application/javascript": [
       "parent.postMessage({\"jupyterEvent\": \"custom.exercise_interaction\", \"data\": {\"outcomeType\": 1, \"valueTowardsCompletion\": 0.25, \"interactionType\": 1, \"questionType\": 1, \"questionId\": \"1_PointsDtype\", \"learnToolsVersion\": \"0.3.4\", \"failureMessage\": \"\", \"exceptionClass\": \"\", \"trace\": \"\"}}, \"*\")"
      ],
      "text/plain": [
       "<IPython.core.display.Javascript object>"
      ]
     },
     "metadata": {},
     "output_type": "display_data"
    },
    {
     "data": {
      "text/markdown": [
       "<span style=\"color:#33cc33\">Correct</span>"
      ],
      "text/plain": [
       "Correct"
      ]
     },
     "metadata": {},
     "output_type": "display_data"
    }
   ],
   "source": [
    "# Your code here\n",
    "dtype = reviews.points.dtype\n",
    "\n",
    "# Check your answer\n",
    "q1.check()"
   ]
  },
  {
   "cell_type": "code",
   "execution_count": 3,
   "id": "454ac5e2",
   "metadata": {
    "execution": {
     "iopub.execute_input": "2022-06-27T17:19:32.250013Z",
     "iopub.status.busy": "2022-06-27T17:19:32.249677Z",
     "iopub.status.idle": "2022-06-27T17:19:32.253658Z",
     "shell.execute_reply": "2022-06-27T17:19:32.252665Z"
    },
    "papermill": {
     "duration": 0.012073,
     "end_time": "2022-06-27T17:19:32.255722",
     "exception": false,
     "start_time": "2022-06-27T17:19:32.243649",
     "status": "completed"
    },
    "tags": []
   },
   "outputs": [],
   "source": [
    "#q1.hint()\n",
    "#q1.solution()"
   ]
  },
  {
   "cell_type": "markdown",
   "id": "afd278c7",
   "metadata": {
    "papermill": {
     "duration": 0.004609,
     "end_time": "2022-06-27T17:19:32.265205",
     "exception": false,
     "start_time": "2022-06-27T17:19:32.260596",
     "status": "completed"
    },
    "tags": []
   },
   "source": [
    "## 2. \n",
    "Create a Series from entries in the `points` column, but convert the entries to strings. Hint: strings are `str` in native Python."
   ]
  },
  {
   "cell_type": "code",
   "execution_count": 4,
   "id": "3ad1ebba",
   "metadata": {
    "execution": {
     "iopub.execute_input": "2022-06-27T17:19:32.276449Z",
     "iopub.status.busy": "2022-06-27T17:19:32.276066Z",
     "iopub.status.idle": "2022-06-27T17:19:32.412217Z",
     "shell.execute_reply": "2022-06-27T17:19:32.411182Z"
    },
    "papermill": {
     "duration": 0.144131,
     "end_time": "2022-06-27T17:19:32.414213",
     "exception": false,
     "start_time": "2022-06-27T17:19:32.270082",
     "status": "completed"
    },
    "tags": []
   },
   "outputs": [
    {
     "data": {
      "application/javascript": [
       "parent.postMessage({\"jupyterEvent\": \"custom.exercise_interaction\", \"data\": {\"outcomeType\": 1, \"valueTowardsCompletion\": 0.25, \"interactionType\": 1, \"questionType\": 1, \"questionId\": \"2_StrPoints\", \"learnToolsVersion\": \"0.3.4\", \"failureMessage\": \"\", \"exceptionClass\": \"\", \"trace\": \"\"}}, \"*\")"
      ],
      "text/plain": [
       "<IPython.core.display.Javascript object>"
      ]
     },
     "metadata": {},
     "output_type": "display_data"
    },
    {
     "data": {
      "text/markdown": [
       "<span style=\"color:#33cc33\">Correct</span>"
      ],
      "text/plain": [
       "Correct"
      ]
     },
     "metadata": {},
     "output_type": "display_data"
    }
   ],
   "source": [
    "point_strings = reviews.points.astype(str)\n",
    "\n",
    "# Check your answer\n",
    "q2.check()"
   ]
  },
  {
   "cell_type": "code",
   "execution_count": 5,
   "id": "9385381e",
   "metadata": {
    "execution": {
     "iopub.execute_input": "2022-06-27T17:19:32.426542Z",
     "iopub.status.busy": "2022-06-27T17:19:32.426120Z",
     "iopub.status.idle": "2022-06-27T17:19:32.434559Z",
     "shell.execute_reply": "2022-06-27T17:19:32.433564Z"
    },
    "papermill": {
     "duration": 0.016922,
     "end_time": "2022-06-27T17:19:32.436529",
     "exception": false,
     "start_time": "2022-06-27T17:19:32.419607",
     "status": "completed"
    },
    "tags": []
   },
   "outputs": [
    {
     "data": {
      "application/javascript": [
       "parent.postMessage({\"jupyterEvent\": \"custom.exercise_interaction\", \"data\": {\"interactionType\": 2, \"questionType\": 1, \"questionId\": \"2_StrPoints\", \"learnToolsVersion\": \"0.3.4\", \"valueTowardsCompletion\": 0.0, \"failureMessage\": \"\", \"exceptionClass\": \"\", \"trace\": \"\", \"outcomeType\": 4}}, \"*\")"
      ],
      "text/plain": [
       "<IPython.core.display.Javascript object>"
      ]
     },
     "metadata": {},
     "output_type": "display_data"
    },
    {
     "data": {
      "text/markdown": [
       "<span style=\"color:#3366cc\">Hint:</span> Convert a column of one type to another by using the `astype` function."
      ],
      "text/plain": [
       "Hint: Convert a column of one type to another by using the `astype` function."
      ]
     },
     "metadata": {},
     "output_type": "display_data"
    }
   ],
   "source": [
    "q2.hint()\n",
    "#q2.solution()"
   ]
  },
  {
   "cell_type": "markdown",
   "id": "4e0c40e4",
   "metadata": {
    "papermill": {
     "duration": 0.005472,
     "end_time": "2022-06-27T17:19:32.447556",
     "exception": false,
     "start_time": "2022-06-27T17:19:32.442084",
     "status": "completed"
    },
    "tags": []
   },
   "source": [
    "## 3.\n",
    "Sometimes the price column is null. How many reviews in the dataset are missing a price?"
   ]
  },
  {
   "cell_type": "code",
   "execution_count": 6,
   "id": "2ad051d9",
   "metadata": {
    "execution": {
     "iopub.execute_input": "2022-06-27T17:19:32.460134Z",
     "iopub.status.busy": "2022-06-27T17:19:32.459766Z",
     "iopub.status.idle": "2022-06-27T17:19:32.469643Z",
     "shell.execute_reply": "2022-06-27T17:19:32.468673Z"
    },
    "papermill": {
     "duration": 0.018605,
     "end_time": "2022-06-27T17:19:32.471662",
     "exception": false,
     "start_time": "2022-06-27T17:19:32.453057",
     "status": "completed"
    },
    "tags": []
   },
   "outputs": [
    {
     "data": {
      "application/javascript": [
       "parent.postMessage({\"jupyterEvent\": \"custom.exercise_interaction\", \"data\": {\"outcomeType\": 1, \"valueTowardsCompletion\": 0.25, \"interactionType\": 1, \"questionType\": 1, \"questionId\": \"3_CountMissingPrices\", \"learnToolsVersion\": \"0.3.4\", \"failureMessage\": \"\", \"exceptionClass\": \"\", \"trace\": \"\"}}, \"*\")"
      ],
      "text/plain": [
       "<IPython.core.display.Javascript object>"
      ]
     },
     "metadata": {},
     "output_type": "display_data"
    },
    {
     "data": {
      "text/markdown": [
       "<span style=\"color:#33cc33\">Correct</span>"
      ],
      "text/plain": [
       "Correct"
      ]
     },
     "metadata": {},
     "output_type": "display_data"
    }
   ],
   "source": [
    "n_missing_prices = reviews.price.isnull().sum()\n",
    "\n",
    "# Check your answer\n",
    "q3.check()"
   ]
  },
  {
   "cell_type": "code",
   "execution_count": 7,
   "id": "3b709142",
   "metadata": {
    "execution": {
     "iopub.execute_input": "2022-06-27T17:19:32.484611Z",
     "iopub.status.busy": "2022-06-27T17:19:32.484277Z",
     "iopub.status.idle": "2022-06-27T17:19:32.488441Z",
     "shell.execute_reply": "2022-06-27T17:19:32.487504Z"
    },
    "papermill": {
     "duration": 0.012967,
     "end_time": "2022-06-27T17:19:32.490424",
     "exception": false,
     "start_time": "2022-06-27T17:19:32.477457",
     "status": "completed"
    },
    "tags": []
   },
   "outputs": [],
   "source": [
    "#q3.hint()\n",
    "#q3.solution()"
   ]
  },
  {
   "cell_type": "markdown",
   "id": "a63d45b9",
   "metadata": {
    "papermill": {
     "duration": 0.005609,
     "end_time": "2022-06-27T17:19:32.501688",
     "exception": false,
     "start_time": "2022-06-27T17:19:32.496079",
     "status": "completed"
    },
    "tags": []
   },
   "source": [
    "## 4.\n",
    "What are the most common wine-producing regions? Create a Series counting the number of times each value occurs in the `region_1` field. This field is often missing data, so replace missing values with `Unknown`. Sort in descending order.  Your output should look something like this:\n",
    "\n",
    "```\n",
    "Unknown                    21247\n",
    "Napa Valley                 4480\n",
    "                           ...  \n",
    "Bardolino Superiore            1\n",
    "Primitivo del Tarantino        1\n",
    "Name: region_1, Length: 1230, dtype: int64\n",
    "```"
   ]
  },
  {
   "cell_type": "code",
   "execution_count": 8,
   "id": "5ffb70d8",
   "metadata": {
    "execution": {
     "iopub.execute_input": "2022-06-27T17:19:32.515430Z",
     "iopub.status.busy": "2022-06-27T17:19:32.514989Z",
     "iopub.status.idle": "2022-06-27T17:19:32.590742Z",
     "shell.execute_reply": "2022-06-27T17:19:32.589620Z"
    },
    "papermill": {
     "duration": 0.085602,
     "end_time": "2022-06-27T17:19:32.593157",
     "exception": false,
     "start_time": "2022-06-27T17:19:32.507555",
     "status": "completed"
    },
    "tags": []
   },
   "outputs": [
    {
     "data": {
      "application/javascript": [
       "parent.postMessage({\"jupyterEvent\": \"custom.exercise_interaction\", \"data\": {\"outcomeType\": 1, \"valueTowardsCompletion\": 0.25, \"interactionType\": 1, \"questionType\": 2, \"questionId\": \"4_ReviewsPerRegion\", \"learnToolsVersion\": \"0.3.4\", \"failureMessage\": \"\", \"exceptionClass\": \"\", \"trace\": \"\"}}, \"*\")"
      ],
      "text/plain": [
       "<IPython.core.display.Javascript object>"
      ]
     },
     "metadata": {},
     "output_type": "display_data"
    },
    {
     "data": {
      "text/markdown": [
       "<span style=\"color:#33cc33\">Correct</span>"
      ],
      "text/plain": [
       "Correct"
      ]
     },
     "metadata": {},
     "output_type": "display_data"
    }
   ],
   "source": [
    "reviews.region_1.fillna('Unknown',inplace=True)\n",
    "reviews_per_region = reviews.region_1.value_counts().sort_values(ascending=False)\n",
    "\n",
    "# Check your answer\n",
    "q4.check()"
   ]
  },
  {
   "cell_type": "code",
   "execution_count": 9,
   "id": "93abf656",
   "metadata": {
    "execution": {
     "iopub.execute_input": "2022-06-27T17:19:32.606631Z",
     "iopub.status.busy": "2022-06-27T17:19:32.606289Z",
     "iopub.status.idle": "2022-06-27T17:19:32.614403Z",
     "shell.execute_reply": "2022-06-27T17:19:32.613290Z"
    },
    "papermill": {
     "duration": 0.017522,
     "end_time": "2022-06-27T17:19:32.616674",
     "exception": false,
     "start_time": "2022-06-27T17:19:32.599152",
     "status": "completed"
    },
    "tags": []
   },
   "outputs": [
    {
     "data": {
      "application/javascript": [
       "parent.postMessage({\"jupyterEvent\": \"custom.exercise_interaction\", \"data\": {\"interactionType\": 3, \"questionType\": 2, \"questionId\": \"4_ReviewsPerRegion\", \"learnToolsVersion\": \"0.3.4\", \"valueTowardsCompletion\": 0.0, \"failureMessage\": \"\", \"exceptionClass\": \"\", \"trace\": \"\", \"outcomeType\": 4}}, \"*\")"
      ],
      "text/plain": [
       "<IPython.core.display.Javascript object>"
      ]
     },
     "metadata": {},
     "output_type": "display_data"
    },
    {
     "data": {
      "text/markdown": [
       "<span style=\"color:#33cc99\">Solution:</span> \n",
       "```python\n",
       "reviews_per_region = reviews.region_1.fillna('Unknown').value_counts().sort_values(ascending=False)\n",
       "```"
      ],
      "text/plain": [
       "Solution: \n",
       "```python\n",
       "reviews_per_region = reviews.region_1.fillna('Unknown').value_counts().sort_values(ascending=False)\n",
       "```"
      ]
     },
     "metadata": {},
     "output_type": "display_data"
    }
   ],
   "source": [
    "#q4.hint()\n",
    "q4.solution()"
   ]
  },
  {
   "cell_type": "markdown",
   "id": "81ed635b",
   "metadata": {
    "papermill": {
     "duration": 0.006313,
     "end_time": "2022-06-27T17:19:32.629169",
     "exception": false,
     "start_time": "2022-06-27T17:19:32.622856",
     "status": "completed"
    },
    "tags": []
   },
   "source": [
    "# Keep going\n",
    "\n",
    "Move on to **[renaming and combining](https://www.kaggle.com/residentmario/renaming-and-combining)**."
   ]
  },
  {
   "cell_type": "markdown",
   "id": "a36015f0",
   "metadata": {
    "papermill": {
     "duration": 0.006268,
     "end_time": "2022-06-27T17:19:32.641919",
     "exception": false,
     "start_time": "2022-06-27T17:19:32.635651",
     "status": "completed"
    },
    "tags": []
   },
   "source": [
    "---\n",
    "\n",
    "\n",
    "\n",
    "\n",
    "*Have questions or comments? Visit the [course discussion forum](https://www.kaggle.com/learn/pandas/discussion) to chat with other learners.*"
   ]
  }
 ],
 "metadata": {
  "kernelspec": {
   "display_name": "Python 3",
   "language": "python",
   "name": "python3"
  },
  "language_info": {
   "codemirror_mode": {
    "name": "ipython",
    "version": 3
   },
   "file_extension": ".py",
   "mimetype": "text/x-python",
   "name": "python",
   "nbconvert_exporter": "python",
   "pygments_lexer": "ipython3",
   "version": "3.7.12"
  },
  "papermill": {
   "default_parameters": {},
   "duration": 16.603218,
   "end_time": "2022-06-27T17:19:36.059941",
   "environment_variables": {},
   "exception": null,
   "input_path": "__notebook__.ipynb",
   "output_path": "__notebook__.ipynb",
   "parameters": {},
   "start_time": "2022-06-27T17:19:19.456723",
   "version": "2.3.4"
  }
 },
 "nbformat": 4,
 "nbformat_minor": 5
}
