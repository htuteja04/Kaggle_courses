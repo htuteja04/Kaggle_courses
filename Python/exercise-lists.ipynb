{
 "cells": [
  {
   "cell_type": "markdown",
   "id": "57a9c1ec",
   "metadata": {
    "papermill": {
     "duration": 0.009351,
     "end_time": "2022-06-20T10:04:08.066705",
     "exception": false,
     "start_time": "2022-06-20T10:04:08.057354",
     "status": "completed"
    },
    "tags": []
   },
   "source": [
    "**This notebook is an exercise in the [Python](https://www.kaggle.com/learn/python) course.  You can reference the tutorial at [this link](https://www.kaggle.com/colinmorris/lists).**\n",
    "\n",
    "---\n"
   ]
  },
  {
   "cell_type": "markdown",
   "id": "66c98b28",
   "metadata": {
    "papermill": {
     "duration": 0.005259,
     "end_time": "2022-06-20T10:04:08.078108",
     "exception": false,
     "start_time": "2022-06-20T10:04:08.072849",
     "status": "completed"
    },
    "tags": []
   },
   "source": [
    "Things get more interesting with lists. You'll apply your new knowledge to solve the questions below. Remember to run the following cell first."
   ]
  },
  {
   "cell_type": "code",
   "execution_count": 1,
   "id": "a7df81d5",
   "metadata": {
    "execution": {
     "iopub.execute_input": "2022-06-20T10:04:08.091729Z",
     "iopub.status.busy": "2022-06-20T10:04:08.091043Z",
     "iopub.status.idle": "2022-06-20T10:04:08.144628Z",
     "shell.execute_reply": "2022-06-20T10:04:08.142564Z"
    },
    "papermill": {
     "duration": 0.064492,
     "end_time": "2022-06-20T10:04:08.148179",
     "exception": false,
     "start_time": "2022-06-20T10:04:08.083687",
     "status": "completed"
    },
    "tags": []
   },
   "outputs": [
    {
     "name": "stdout",
     "output_type": "stream",
     "text": [
      "Setup complete.\n"
     ]
    }
   ],
   "source": [
    "from learntools.core import binder; binder.bind(globals())\n",
    "from learntools.python.ex4 import *\n",
    "print('Setup complete.')"
   ]
  },
  {
   "cell_type": "markdown",
   "id": "642076c8",
   "metadata": {
    "papermill": {
     "duration": 0.005269,
     "end_time": "2022-06-20T10:04:08.159253",
     "exception": false,
     "start_time": "2022-06-20T10:04:08.153984",
     "status": "completed"
    },
    "tags": []
   },
   "source": [
    "# 1.\n",
    "\n",
    "Complete the function below according to its docstring."
   ]
  },
  {
   "cell_type": "code",
   "execution_count": 2,
   "id": "977fa15f",
   "metadata": {
    "execution": {
     "iopub.execute_input": "2022-06-20T10:04:08.172280Z",
     "iopub.status.busy": "2022-06-20T10:04:08.171899Z",
     "iopub.status.idle": "2022-06-20T10:04:08.184679Z",
     "shell.execute_reply": "2022-06-20T10:04:08.183724Z"
    },
    "papermill": {
     "duration": 0.021868,
     "end_time": "2022-06-20T10:04:08.187031",
     "exception": false,
     "start_time": "2022-06-20T10:04:08.165163",
     "status": "completed"
    },
    "tags": []
   },
   "outputs": [
    {
     "data": {
      "application/javascript": [
       "parent.postMessage({\"jupyterEvent\": \"custom.exercise_interaction\", \"data\": {\"outcomeType\": 1, \"valueTowardsCompletion\": 0.2, \"interactionType\": 1, \"questionType\": 2, \"questionId\": \"1_SelectSecondItem\", \"learnToolsVersion\": \"0.3.4\", \"failureMessage\": \"\", \"exceptionClass\": \"\", \"trace\": \"\"}}, \"*\")"
      ],
      "text/plain": [
       "<IPython.core.display.Javascript object>"
      ]
     },
     "metadata": {},
     "output_type": "display_data"
    },
    {
     "data": {
      "text/markdown": [
       "<span style=\"color:#33cc33\">Correct</span>"
      ],
      "text/plain": [
       "Correct"
      ]
     },
     "metadata": {},
     "output_type": "display_data"
    }
   ],
   "source": [
    "def select_second(L):\n",
    "    if len(L)<2:\n",
    "        return None\n",
    "    else:\n",
    "        return L[1]\n",
    "\n",
    "# Check your answer\n",
    "q1.check()"
   ]
  },
  {
   "cell_type": "code",
   "execution_count": 3,
   "id": "c62f213a",
   "metadata": {
    "execution": {
     "iopub.execute_input": "2022-06-20T10:04:08.200443Z",
     "iopub.status.busy": "2022-06-20T10:04:08.200041Z",
     "iopub.status.idle": "2022-06-20T10:04:08.204842Z",
     "shell.execute_reply": "2022-06-20T10:04:08.203758Z"
    },
    "papermill": {
     "duration": 0.014291,
     "end_time": "2022-06-20T10:04:08.207028",
     "exception": false,
     "start_time": "2022-06-20T10:04:08.192737",
     "status": "completed"
    },
    "tags": []
   },
   "outputs": [],
   "source": [
    "#q1.hint()\n",
    "#q1.solution()"
   ]
  },
  {
   "cell_type": "markdown",
   "id": "819d43b5",
   "metadata": {
    "papermill": {
     "duration": 0.005643,
     "end_time": "2022-06-20T10:04:08.218680",
     "exception": false,
     "start_time": "2022-06-20T10:04:08.213037",
     "status": "completed"
    },
    "tags": []
   },
   "source": [
    "# 2.\n",
    "\n",
    "You are analyzing sports teams.  Members of each team are stored in a list. The Coach is the first name in the list, the captain is the second name in the list, and other players are listed after that. \n",
    "These lists are stored in another list, which starts with the best team and proceeds through the list to the worst team last.  Complete the function below to select the **captain** of the worst team."
   ]
  },
  {
   "cell_type": "code",
   "execution_count": 4,
   "id": "e322a68f",
   "metadata": {
    "execution": {
     "iopub.execute_input": "2022-06-20T10:04:08.232676Z",
     "iopub.status.busy": "2022-06-20T10:04:08.232270Z",
     "iopub.status.idle": "2022-06-20T10:04:08.240761Z",
     "shell.execute_reply": "2022-06-20T10:04:08.239811Z"
    },
    "papermill": {
     "duration": 0.018406,
     "end_time": "2022-06-20T10:04:08.242824",
     "exception": false,
     "start_time": "2022-06-20T10:04:08.224418",
     "status": "completed"
    },
    "tags": []
   },
   "outputs": [
    {
     "data": {
      "application/javascript": [
       "parent.postMessage({\"jupyterEvent\": \"custom.exercise_interaction\", \"data\": {\"outcomeType\": 1, \"valueTowardsCompletion\": 0.2, \"interactionType\": 1, \"questionType\": 2, \"questionId\": \"2_LosingTeamCaptain\", \"learnToolsVersion\": \"0.3.4\", \"failureMessage\": \"\", \"exceptionClass\": \"\", \"trace\": \"\"}}, \"*\")"
      ],
      "text/plain": [
       "<IPython.core.display.Javascript object>"
      ]
     },
     "metadata": {},
     "output_type": "display_data"
    },
    {
     "data": {
      "text/markdown": [
       "<span style=\"color:#33cc33\">Correct</span>"
      ],
      "text/plain": [
       "Correct"
      ]
     },
     "metadata": {},
     "output_type": "display_data"
    }
   ],
   "source": [
    "def losing_team_captain(teams):\n",
    "\n",
    "    return teams[-1][1]\n",
    "\n",
    "# Check your answer\n",
    "q2.check()"
   ]
  },
  {
   "cell_type": "code",
   "execution_count": 5,
   "id": "4963f30a",
   "metadata": {
    "execution": {
     "iopub.execute_input": "2022-06-20T10:04:08.258173Z",
     "iopub.status.busy": "2022-06-20T10:04:08.257441Z",
     "iopub.status.idle": "2022-06-20T10:04:08.261435Z",
     "shell.execute_reply": "2022-06-20T10:04:08.260754Z"
    },
    "papermill": {
     "duration": 0.014244,
     "end_time": "2022-06-20T10:04:08.263601",
     "exception": false,
     "start_time": "2022-06-20T10:04:08.249357",
     "status": "completed"
    },
    "tags": []
   },
   "outputs": [],
   "source": [
    "#q2.hint()\n",
    "#q2.solution()"
   ]
  },
  {
   "cell_type": "markdown",
   "id": "0a3c600e",
   "metadata": {
    "papermill": {
     "duration": 0.005804,
     "end_time": "2022-06-20T10:04:08.275770",
     "exception": false,
     "start_time": "2022-06-20T10:04:08.269966",
     "status": "completed"
    },
    "tags": []
   },
   "source": [
    "# 3.\n",
    "\n",
    "The next iteration of Mario Kart will feature an extra-infuriating new item, the *Purple Shell*. When used, it warps the last place racer into first place and the first place racer into last place. Complete the function below to implement the Purple Shell's effect."
   ]
  },
  {
   "cell_type": "code",
   "execution_count": 6,
   "id": "6732d477",
   "metadata": {
    "execution": {
     "iopub.execute_input": "2022-06-20T10:04:08.290016Z",
     "iopub.status.busy": "2022-06-20T10:04:08.289466Z",
     "iopub.status.idle": "2022-06-20T10:04:08.299925Z",
     "shell.execute_reply": "2022-06-20T10:04:08.299013Z"
    },
    "papermill": {
     "duration": 0.020041,
     "end_time": "2022-06-20T10:04:08.301921",
     "exception": false,
     "start_time": "2022-06-20T10:04:08.281880",
     "status": "completed"
    },
    "tags": []
   },
   "outputs": [
    {
     "data": {
      "application/javascript": [
       "parent.postMessage({\"jupyterEvent\": \"custom.exercise_interaction\", \"data\": {\"outcomeType\": 1, \"valueTowardsCompletion\": 0.2, \"interactionType\": 1, \"questionType\": 2, \"questionId\": \"3_PurpleShell\", \"learnToolsVersion\": \"0.3.4\", \"failureMessage\": \"\", \"exceptionClass\": \"\", \"trace\": \"\"}}, \"*\")"
      ],
      "text/plain": [
       "<IPython.core.display.Javascript object>"
      ]
     },
     "metadata": {},
     "output_type": "display_data"
    },
    {
     "data": {
      "text/markdown": [
       "<span style=\"color:#33cc33\">Correct</span>"
      ],
      "text/plain": [
       "Correct"
      ]
     },
     "metadata": {},
     "output_type": "display_data"
    }
   ],
   "source": [
    "def purple_shell(racers):\n",
    "    \"\"\"Given a list of racers, set the first place racer (at the front of the list) to last\n",
    "    place and vice versa.\n",
    "    \n",
    "    >>> r = [\"Mario\", \"Bowser\", \"Luigi\"]\n",
    "    >>> purple_shell(r)\n",
    "    >>> r\n",
    "    [\"Luigi\", \"Bowser\", \"Mario\"]\n",
    "    \"\"\"\n",
    "    racers[0], racers[-1] = racers[-1], racers[0]\n",
    "\n",
    "# Check your answer\n",
    "q3.check()"
   ]
  },
  {
   "cell_type": "code",
   "execution_count": 7,
   "id": "78b2dfa7",
   "metadata": {
    "execution": {
     "iopub.execute_input": "2022-06-20T10:04:08.317564Z",
     "iopub.status.busy": "2022-06-20T10:04:08.316829Z",
     "iopub.status.idle": "2022-06-20T10:04:08.320206Z",
     "shell.execute_reply": "2022-06-20T10:04:08.319520Z"
    },
    "papermill": {
     "duration": 0.013348,
     "end_time": "2022-06-20T10:04:08.322082",
     "exception": false,
     "start_time": "2022-06-20T10:04:08.308734",
     "status": "completed"
    },
    "tags": []
   },
   "outputs": [],
   "source": [
    "#q3.hint()\n",
    "#q3.solution()"
   ]
  },
  {
   "cell_type": "markdown",
   "id": "89e48cac",
   "metadata": {
    "papermill": {
     "duration": 0.006136,
     "end_time": "2022-06-20T10:04:08.335106",
     "exception": false,
     "start_time": "2022-06-20T10:04:08.328970",
     "status": "completed"
    },
    "tags": []
   },
   "source": [
    "# 4.\n",
    "\n",
    "What are the lengths of the following lists? Fill in the variable `lengths` with your predictions. (Try to make a prediction for each list *without* just calling `len()` on it.)"
   ]
  },
  {
   "cell_type": "code",
   "execution_count": 8,
   "id": "96899012",
   "metadata": {
    "execution": {
     "iopub.execute_input": "2022-06-20T10:04:08.350172Z",
     "iopub.status.busy": "2022-06-20T10:04:08.349678Z",
     "iopub.status.idle": "2022-06-20T10:04:08.358032Z",
     "shell.execute_reply": "2022-06-20T10:04:08.357144Z"
    },
    "papermill": {
     "duration": 0.019216,
     "end_time": "2022-06-20T10:04:08.360670",
     "exception": false,
     "start_time": "2022-06-20T10:04:08.341454",
     "status": "completed"
    },
    "tags": []
   },
   "outputs": [
    {
     "data": {
      "application/javascript": [
       "parent.postMessage({\"jupyterEvent\": \"custom.exercise_interaction\", \"data\": {\"outcomeType\": 1, \"valueTowardsCompletion\": 0.2, \"interactionType\": 1, \"questionType\": 1, \"questionId\": \"4_UnderstandLen\", \"learnToolsVersion\": \"0.3.4\", \"failureMessage\": \"\", \"exceptionClass\": \"\", \"trace\": \"\"}}, \"*\")"
      ],
      "text/plain": [
       "<IPython.core.display.Javascript object>"
      ]
     },
     "metadata": {},
     "output_type": "display_data"
    },
    {
     "data": {
      "text/markdown": [
       "<span style=\"color:#33cc33\">Correct:</span> \n",
       "\n",
       "\n",
       "- a: There are three items in this list. Nothing tricky yet.\n",
       "- b: The list `[2, 3]` counts as a single item. It has one item before it. So we have 2 items in the list\n",
       "- c: The empty list has 0 items\n",
       "- d: The expression is the same as the list `[2, 3]`, which has length 2."
      ],
      "text/plain": [
       "Correct: \n",
       "\n",
       "\n",
       "- a: There are three items in this list. Nothing tricky yet.\n",
       "- b: The list `[2, 3]` counts as a single item. It has one item before it. So we have 2 items in the list\n",
       "- c: The empty list has 0 items\n",
       "- d: The expression is the same as the list `[2, 3]`, which has length 2."
      ]
     },
     "metadata": {},
     "output_type": "display_data"
    }
   ],
   "source": [
    "a = [1, 2, 3]\n",
    "b = [1, [2, 3]]\n",
    "c = []\n",
    "d = [1, 2, 3][1:]\n",
    "\n",
    "# Put your predictions in the list below. Lengths should contain 4 numbers, the\n",
    "# first being the length of a, the second being the length of b and so on.\n",
    "lengths = [3,2,0,2]\n",
    "\n",
    "# Check your answer\n",
    "q4.check()"
   ]
  },
  {
   "cell_type": "code",
   "execution_count": 9,
   "id": "4972c257",
   "metadata": {
    "execution": {
     "iopub.execute_input": "2022-06-20T10:04:08.375969Z",
     "iopub.status.busy": "2022-06-20T10:04:08.375091Z",
     "iopub.status.idle": "2022-06-20T10:04:08.379491Z",
     "shell.execute_reply": "2022-06-20T10:04:08.378495Z"
    },
    "papermill": {
     "duration": 0.014435,
     "end_time": "2022-06-20T10:04:08.381617",
     "exception": false,
     "start_time": "2022-06-20T10:04:08.367182",
     "status": "completed"
    },
    "tags": []
   },
   "outputs": [],
   "source": [
    "# line below provides some explanation\n",
    "#q4.solution()"
   ]
  },
  {
   "cell_type": "markdown",
   "id": "347a8851",
   "metadata": {
    "papermill": {
     "duration": 0.00666,
     "end_time": "2022-06-20T10:04:08.394816",
     "exception": false,
     "start_time": "2022-06-20T10:04:08.388156",
     "status": "completed"
    },
    "tags": []
   },
   "source": [
    "# 5. <span title=\"A bit spicy\" style=\"color: darkgreen \">🌶️</span>\n",
    "\n",
    "We're using lists to record people who attended our party and what order they arrived in. For example, the following list represents a party with 7 guests, in which Adela showed up first and Ford was the last to arrive:\n",
    "\n",
    "    party_attendees = ['Adela', 'Fleda', 'Owen', 'May', 'Mona', 'Gilbert', 'Ford']\n",
    "\n",
    "A guest is considered 'fashionably late' if they arrived after at least half of the party's guests. However, they must not be the very last guest (that's taking it too far). In the above example, Mona and Gilbert are the only guests who were fashionably late.\n",
    "\n",
    "Complete the function below which takes a list of party attendees as well as a person, and tells us whether that person is fashionably late."
   ]
  },
  {
   "cell_type": "code",
   "execution_count": 10,
   "id": "02dda96d",
   "metadata": {
    "execution": {
     "iopub.execute_input": "2022-06-20T10:04:08.410011Z",
     "iopub.status.busy": "2022-06-20T10:04:08.409578Z",
     "iopub.status.idle": "2022-06-20T10:04:08.422178Z",
     "shell.execute_reply": "2022-06-20T10:04:08.420712Z"
    },
    "papermill": {
     "duration": 0.02282,
     "end_time": "2022-06-20T10:04:08.424606",
     "exception": false,
     "start_time": "2022-06-20T10:04:08.401786",
     "status": "completed"
    },
    "tags": []
   },
   "outputs": [
    {
     "data": {
      "application/javascript": [
       "parent.postMessage({\"jupyterEvent\": \"custom.exercise_interaction\", \"data\": {\"outcomeType\": 1, \"valueTowardsCompletion\": 0.2, \"interactionType\": 1, \"questionType\": 2, \"questionId\": \"5_FashionablyLate\", \"learnToolsVersion\": \"0.3.4\", \"failureMessage\": \"\", \"exceptionClass\": \"\", \"trace\": \"\"}}, \"*\")"
      ],
      "text/plain": [
       "<IPython.core.display.Javascript object>"
      ]
     },
     "metadata": {},
     "output_type": "display_data"
    },
    {
     "data": {
      "text/markdown": [
       "<span style=\"color:#33cc33\">Correct</span>"
      ],
      "text/plain": [
       "Correct"
      ]
     },
     "metadata": {},
     "output_type": "display_data"
    }
   ],
   "source": [
    "def fashionably_late(arrivals, name):\n",
    "    if name == arrivals[-1]:\n",
    "        return False\n",
    "    else:\n",
    "        return arrivals.index(name) >= len(arrivals)/2\n",
    "\n",
    "# Check your answer\n",
    "q5.check()"
   ]
  },
  {
   "cell_type": "code",
   "execution_count": 11,
   "id": "cd380e3f",
   "metadata": {
    "execution": {
     "iopub.execute_input": "2022-06-20T10:04:08.440152Z",
     "iopub.status.busy": "2022-06-20T10:04:08.439745Z",
     "iopub.status.idle": "2022-06-20T10:04:08.443581Z",
     "shell.execute_reply": "2022-06-20T10:04:08.442719Z"
    },
    "papermill": {
     "duration": 0.01431,
     "end_time": "2022-06-20T10:04:08.445989",
     "exception": false,
     "start_time": "2022-06-20T10:04:08.431679",
     "status": "completed"
    },
    "tags": []
   },
   "outputs": [],
   "source": [
    "#q5.hint()\n",
    "#q5.solution()"
   ]
  },
  {
   "cell_type": "markdown",
   "id": "0082069e",
   "metadata": {
    "papermill": {
     "duration": 0.006756,
     "end_time": "2022-06-20T10:04:08.460295",
     "exception": false,
     "start_time": "2022-06-20T10:04:08.453539",
     "status": "completed"
    },
    "tags": []
   },
   "source": [
    "# Keep Going\n",
    "\n",
    "That's it for lists and tuples! Now you have the baseline knowledge to **[learn about loops](https://www.kaggle.com/colinmorris/loops-and-list-comprehensions)**, which is where lists and tuples get really interesting. "
   ]
  },
  {
   "cell_type": "markdown",
   "id": "30aac002",
   "metadata": {
    "papermill": {
     "duration": 0.00666,
     "end_time": "2022-06-20T10:04:08.474697",
     "exception": false,
     "start_time": "2022-06-20T10:04:08.468037",
     "status": "completed"
    },
    "tags": []
   },
   "source": [
    "---\n",
    "\n",
    "\n",
    "\n",
    "\n",
    "*Have questions or comments? Visit the [course discussion forum](https://www.kaggle.com/learn/python/discussion) to chat with other learners.*"
   ]
  }
 ],
 "metadata": {
  "kernelspec": {
   "display_name": "Python 3",
   "language": "python",
   "name": "python3"
  },
  "language_info": {
   "codemirror_mode": {
    "name": "ipython",
    "version": 3
   },
   "file_extension": ".py",
   "mimetype": "text/x-python",
   "name": "python",
   "nbconvert_exporter": "python",
   "pygments_lexer": "ipython3",
   "version": "3.7.12"
  },
  "papermill": {
   "default_parameters": {},
   "duration": 11.263493,
   "end_time": "2022-06-20T10:04:09.202621",
   "environment_variables": {},
   "exception": null,
   "input_path": "__notebook__.ipynb",
   "output_path": "__notebook__.ipynb",
   "parameters": {},
   "start_time": "2022-06-20T10:03:57.939128",
   "version": "2.3.4"
  }
 },
 "nbformat": 4,
 "nbformat_minor": 5
}
