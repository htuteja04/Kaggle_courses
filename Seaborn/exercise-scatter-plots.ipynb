{
 "cells": [
  {
   "cell_type": "markdown",
   "id": "1e92f80c",
   "metadata": {
    "papermill": {
     "duration": 0.012308,
     "end_time": "2022-07-03T17:08:47.918317",
     "exception": false,
     "start_time": "2022-07-03T17:08:47.906009",
     "status": "completed"
    },
    "tags": []
   },
   "source": [
    "**This notebook is an exercise in the [Data Visualization](https://www.kaggle.com/learn/data-visualization) course.  You can reference the tutorial at [this link](https://www.kaggle.com/alexisbcook/scatter-plots).**\n",
    "\n",
    "---\n"
   ]
  },
  {
   "cell_type": "markdown",
   "id": "a43951b6",
   "metadata": {
    "papermill": {
     "duration": 0.0108,
     "end_time": "2022-07-03T17:08:47.940469",
     "exception": false,
     "start_time": "2022-07-03T17:08:47.929669",
     "status": "completed"
    },
    "tags": []
   },
   "source": [
    "In this exercise, you will use your new knowledge to propose a solution to a real-world scenario.  To succeed, you will need to import data into Python, answer questions using the data, and generate **scatter plots** to understand patterns in the data.\n",
    "\n",
    "## Scenario\n",
    "\n",
    "You work for a major candy producer, and your goal is to write a report that your company can use to guide the design of its next product.  Soon after starting your research, you stumble across this [very interesting dataset](https://fivethirtyeight.com/features/the-ultimate-halloween-candy-power-ranking/) containing results from a fun survey to crowdsource favorite candies.\n",
    "\n",
    "## Setup\n",
    "\n",
    "Run the next cell to import and configure the Python libraries that you need to complete the exercise."
   ]
  },
  {
   "cell_type": "code",
   "execution_count": 1,
   "id": "18b37084",
   "metadata": {
    "execution": {
     "iopub.execute_input": "2022-07-03T17:08:47.964750Z",
     "iopub.status.busy": "2022-07-03T17:08:47.963876Z",
     "iopub.status.idle": "2022-07-03T17:08:48.799717Z",
     "shell.execute_reply": "2022-07-03T17:08:48.798818Z"
    },
    "papermill": {
     "duration": 0.85073,
     "end_time": "2022-07-03T17:08:48.802382",
     "exception": false,
     "start_time": "2022-07-03T17:08:47.951652",
     "status": "completed"
    },
    "tags": []
   },
   "outputs": [
    {
     "name": "stdout",
     "output_type": "stream",
     "text": [
      "Setup Complete\n"
     ]
    }
   ],
   "source": [
    "import pandas as pd\n",
    "pd.plotting.register_matplotlib_converters()\n",
    "import matplotlib.pyplot as plt\n",
    "%matplotlib inline\n",
    "import seaborn as sns\n",
    "print(\"Setup Complete\")"
   ]
  },
  {
   "cell_type": "markdown",
   "id": "da749d54",
   "metadata": {
    "papermill": {
     "duration": 0.011326,
     "end_time": "2022-07-03T17:08:48.826490",
     "exception": false,
     "start_time": "2022-07-03T17:08:48.815164",
     "status": "completed"
    },
    "tags": []
   },
   "source": [
    "The questions below will give you feedback on your work. Run the following cell to set up our feedback system."
   ]
  },
  {
   "cell_type": "code",
   "execution_count": 2,
   "id": "387ac526",
   "metadata": {
    "execution": {
     "iopub.execute_input": "2022-07-03T17:08:48.851523Z",
     "iopub.status.busy": "2022-07-03T17:08:48.851194Z",
     "iopub.status.idle": "2022-07-03T17:08:48.907920Z",
     "shell.execute_reply": "2022-07-03T17:08:48.906952Z"
    },
    "papermill": {
     "duration": 0.071914,
     "end_time": "2022-07-03T17:08:48.910132",
     "exception": false,
     "start_time": "2022-07-03T17:08:48.838218",
     "status": "completed"
    },
    "tags": []
   },
   "outputs": [
    {
     "name": "stdout",
     "output_type": "stream",
     "text": [
      "Setup Complete\n"
     ]
    }
   ],
   "source": [
    "# Set up code checking\n",
    "import os\n",
    "if not os.path.exists(\"../input/candy.csv\"):\n",
    "    os.symlink(\"../input/data-for-datavis/candy.csv\", \"../input/candy.csv\") \n",
    "from learntools.core import binder\n",
    "binder.bind(globals())\n",
    "from learntools.data_viz_to_coder.ex4 import *\n",
    "print(\"Setup Complete\")"
   ]
  },
  {
   "cell_type": "markdown",
   "id": "5bd21b0d",
   "metadata": {
    "papermill": {
     "duration": 0.011041,
     "end_time": "2022-07-03T17:08:48.933026",
     "exception": false,
     "start_time": "2022-07-03T17:08:48.921985",
     "status": "completed"
    },
    "tags": []
   },
   "source": [
    "## Step 1: Load the Data\n",
    "\n",
    "Read the candy data file into `candy_data`.  Use the `\"id\"` column to label the rows."
   ]
  },
  {
   "cell_type": "code",
   "execution_count": 3,
   "id": "72425337",
   "metadata": {
    "execution": {
     "iopub.execute_input": "2022-07-03T17:08:48.957319Z",
     "iopub.status.busy": "2022-07-03T17:08:48.956604Z",
     "iopub.status.idle": "2022-07-03T17:08:48.968548Z",
     "shell.execute_reply": "2022-07-03T17:08:48.967949Z"
    },
    "papermill": {
     "duration": 0.026053,
     "end_time": "2022-07-03T17:08:48.970455",
     "exception": false,
     "start_time": "2022-07-03T17:08:48.944402",
     "status": "completed"
    },
    "tags": []
   },
   "outputs": [
    {
     "data": {
      "application/javascript": [
       "parent.postMessage({\"jupyterEvent\": \"custom.exercise_interaction\", \"data\": {\"outcomeType\": 1, \"valueTowardsCompletion\": 0.3333333333333333, \"interactionType\": 1, \"questionType\": 1, \"questionId\": \"1_LoadData\", \"learnToolsVersion\": \"0.3.4\", \"failureMessage\": \"\", \"exceptionClass\": \"\", \"trace\": \"\"}}, \"*\")"
      ],
      "text/plain": [
       "<IPython.core.display.Javascript object>"
      ]
     },
     "metadata": {},
     "output_type": "display_data"
    },
    {
     "data": {
      "text/markdown": [
       "<span style=\"color:#33cc33\">Correct</span>"
      ],
      "text/plain": [
       "Correct"
      ]
     },
     "metadata": {},
     "output_type": "display_data"
    }
   ],
   "source": [
    "# Path of the file to read\n",
    "candy_filepath = \"../input/candy.csv\"\n",
    "\n",
    "# Fill in the line below to read the file into a variable candy_data\n",
    "candy_data = pd.read_csv(candy_filepath, index_col='id')\n",
    "\n",
    "# Run the line below with no changes to check that you've loaded the data correctly\n",
    "step_1.check()"
   ]
  },
  {
   "cell_type": "code",
   "execution_count": 4,
   "id": "c62fe772",
   "metadata": {
    "execution": {
     "iopub.execute_input": "2022-07-03T17:08:48.995562Z",
     "iopub.status.busy": "2022-07-03T17:08:48.994920Z",
     "iopub.status.idle": "2022-07-03T17:08:48.998661Z",
     "shell.execute_reply": "2022-07-03T17:08:48.998032Z"
    },
    "papermill": {
     "duration": 0.017903,
     "end_time": "2022-07-03T17:08:49.000241",
     "exception": false,
     "start_time": "2022-07-03T17:08:48.982338",
     "status": "completed"
    },
    "tags": []
   },
   "outputs": [],
   "source": [
    "# Lines below will give you a hint or solution code\n",
    "#step_1.hint()\n",
    "#step_1.solution()"
   ]
  },
  {
   "cell_type": "markdown",
   "id": "6dc9be08",
   "metadata": {
    "papermill": {
     "duration": 0.007093,
     "end_time": "2022-07-03T17:08:49.015065",
     "exception": false,
     "start_time": "2022-07-03T17:08:49.007972",
     "status": "completed"
    },
    "tags": []
   },
   "source": [
    "## Step 2: Review the data\n",
    "\n",
    "Use a Python command to print the first five rows of the data."
   ]
  },
  {
   "cell_type": "code",
   "execution_count": 5,
   "id": "48d3a6a9",
   "metadata": {
    "execution": {
     "iopub.execute_input": "2022-07-03T17:08:49.031100Z",
     "iopub.status.busy": "2022-07-03T17:08:49.030707Z",
     "iopub.status.idle": "2022-07-03T17:08:49.049379Z",
     "shell.execute_reply": "2022-07-03T17:08:49.048582Z"
    },
    "papermill": {
     "duration": 0.028575,
     "end_time": "2022-07-03T17:08:49.050972",
     "exception": false,
     "start_time": "2022-07-03T17:08:49.022397",
     "status": "completed"
    },
    "tags": []
   },
   "outputs": [
    {
     "data": {
      "text/html": [
       "<div>\n",
       "<style scoped>\n",
       "    .dataframe tbody tr th:only-of-type {\n",
       "        vertical-align: middle;\n",
       "    }\n",
       "\n",
       "    .dataframe tbody tr th {\n",
       "        vertical-align: top;\n",
       "    }\n",
       "\n",
       "    .dataframe thead th {\n",
       "        text-align: right;\n",
       "    }\n",
       "</style>\n",
       "<table border=\"1\" class=\"dataframe\">\n",
       "  <thead>\n",
       "    <tr style=\"text-align: right;\">\n",
       "      <th></th>\n",
       "      <th>competitorname</th>\n",
       "      <th>chocolate</th>\n",
       "      <th>fruity</th>\n",
       "      <th>caramel</th>\n",
       "      <th>peanutyalmondy</th>\n",
       "      <th>nougat</th>\n",
       "      <th>crispedricewafer</th>\n",
       "      <th>hard</th>\n",
       "      <th>bar</th>\n",
       "      <th>pluribus</th>\n",
       "      <th>sugarpercent</th>\n",
       "      <th>pricepercent</th>\n",
       "      <th>winpercent</th>\n",
       "    </tr>\n",
       "    <tr>\n",
       "      <th>id</th>\n",
       "      <th></th>\n",
       "      <th></th>\n",
       "      <th></th>\n",
       "      <th></th>\n",
       "      <th></th>\n",
       "      <th></th>\n",
       "      <th></th>\n",
       "      <th></th>\n",
       "      <th></th>\n",
       "      <th></th>\n",
       "      <th></th>\n",
       "      <th></th>\n",
       "      <th></th>\n",
       "    </tr>\n",
       "  </thead>\n",
       "  <tbody>\n",
       "    <tr>\n",
       "      <th>0</th>\n",
       "      <td>100 Grand</td>\n",
       "      <td>Yes</td>\n",
       "      <td>No</td>\n",
       "      <td>Yes</td>\n",
       "      <td>No</td>\n",
       "      <td>No</td>\n",
       "      <td>Yes</td>\n",
       "      <td>No</td>\n",
       "      <td>Yes</td>\n",
       "      <td>No</td>\n",
       "      <td>0.732</td>\n",
       "      <td>0.860</td>\n",
       "      <td>66.971725</td>\n",
       "    </tr>\n",
       "    <tr>\n",
       "      <th>1</th>\n",
       "      <td>3 Musketeers</td>\n",
       "      <td>Yes</td>\n",
       "      <td>No</td>\n",
       "      <td>No</td>\n",
       "      <td>No</td>\n",
       "      <td>Yes</td>\n",
       "      <td>No</td>\n",
       "      <td>No</td>\n",
       "      <td>Yes</td>\n",
       "      <td>No</td>\n",
       "      <td>0.604</td>\n",
       "      <td>0.511</td>\n",
       "      <td>67.602936</td>\n",
       "    </tr>\n",
       "    <tr>\n",
       "      <th>2</th>\n",
       "      <td>Air Heads</td>\n",
       "      <td>No</td>\n",
       "      <td>Yes</td>\n",
       "      <td>No</td>\n",
       "      <td>No</td>\n",
       "      <td>No</td>\n",
       "      <td>No</td>\n",
       "      <td>No</td>\n",
       "      <td>No</td>\n",
       "      <td>No</td>\n",
       "      <td>0.906</td>\n",
       "      <td>0.511</td>\n",
       "      <td>52.341465</td>\n",
       "    </tr>\n",
       "    <tr>\n",
       "      <th>3</th>\n",
       "      <td>Almond Joy</td>\n",
       "      <td>Yes</td>\n",
       "      <td>No</td>\n",
       "      <td>No</td>\n",
       "      <td>Yes</td>\n",
       "      <td>No</td>\n",
       "      <td>No</td>\n",
       "      <td>No</td>\n",
       "      <td>Yes</td>\n",
       "      <td>No</td>\n",
       "      <td>0.465</td>\n",
       "      <td>0.767</td>\n",
       "      <td>50.347546</td>\n",
       "    </tr>\n",
       "    <tr>\n",
       "      <th>4</th>\n",
       "      <td>Baby Ruth</td>\n",
       "      <td>Yes</td>\n",
       "      <td>No</td>\n",
       "      <td>Yes</td>\n",
       "      <td>Yes</td>\n",
       "      <td>Yes</td>\n",
       "      <td>No</td>\n",
       "      <td>No</td>\n",
       "      <td>Yes</td>\n",
       "      <td>No</td>\n",
       "      <td>0.604</td>\n",
       "      <td>0.767</td>\n",
       "      <td>56.914547</td>\n",
       "    </tr>\n",
       "  </tbody>\n",
       "</table>\n",
       "</div>"
      ],
      "text/plain": [
       "   competitorname chocolate fruity caramel peanutyalmondy nougat  \\\n",
       "id                                                                 \n",
       "0       100 Grand       Yes     No     Yes             No     No   \n",
       "1    3 Musketeers       Yes     No      No             No    Yes   \n",
       "2       Air Heads        No    Yes      No             No     No   \n",
       "3      Almond Joy       Yes     No      No            Yes     No   \n",
       "4       Baby Ruth       Yes     No     Yes            Yes    Yes   \n",
       "\n",
       "   crispedricewafer hard  bar pluribus  sugarpercent  pricepercent  winpercent  \n",
       "id                                                                              \n",
       "0               Yes   No  Yes       No         0.732         0.860   66.971725  \n",
       "1                No   No  Yes       No         0.604         0.511   67.602936  \n",
       "2                No   No   No       No         0.906         0.511   52.341465  \n",
       "3                No   No  Yes       No         0.465         0.767   50.347546  \n",
       "4                No   No  Yes       No         0.604         0.767   56.914547  "
      ]
     },
     "execution_count": 5,
     "metadata": {},
     "output_type": "execute_result"
    }
   ],
   "source": [
    "# Print the first five rows of the data\n",
    "candy_data.head() # Your code here"
   ]
  },
  {
   "cell_type": "markdown",
   "id": "450928ce",
   "metadata": {
    "papermill": {
     "duration": 0.007286,
     "end_time": "2022-07-03T17:08:49.065973",
     "exception": false,
     "start_time": "2022-07-03T17:08:49.058687",
     "status": "completed"
    },
    "tags": []
   },
   "source": [
    "The dataset contains 83 rows, where each corresponds to a different candy bar.  There are 13 columns:\n",
    "- `'competitorname'` contains the name of the candy bar. \n",
    "- the next **9** columns (from `'chocolate'` to `'pluribus'`) describe the candy.  For instance, rows with chocolate candies have `\"Yes\"` in the `'chocolate'` column (and candies without chocolate have `\"No\"` in the same column).\n",
    "- `'sugarpercent'` provides some indication of the amount of sugar, where higher values signify higher sugar content.\n",
    "- `'pricepercent'` shows the price per unit, relative to the other candies in the dataset.\n",
    "- `'winpercent'` is calculated from the survey results; higher values indicate that the candy was more popular with survey respondents.\n",
    "\n",
    "Use the first five rows of the data to answer the questions below."
   ]
  },
  {
   "cell_type": "code",
   "execution_count": 6,
   "id": "aa183ead",
   "metadata": {
    "execution": {
     "iopub.execute_input": "2022-07-03T17:08:49.082948Z",
     "iopub.status.busy": "2022-07-03T17:08:49.082366Z",
     "iopub.status.idle": "2022-07-03T17:08:49.089067Z",
     "shell.execute_reply": "2022-07-03T17:08:49.088146Z"
    },
    "papermill": {
     "duration": 0.017148,
     "end_time": "2022-07-03T17:08:49.090670",
     "exception": false,
     "start_time": "2022-07-03T17:08:49.073522",
     "status": "completed"
    },
    "tags": []
   },
   "outputs": [
    {
     "data": {
      "application/javascript": [
       "parent.postMessage({\"jupyterEvent\": \"custom.exercise_interaction\", \"data\": {\"outcomeType\": 1, \"valueTowardsCompletion\": 0.3333333333333333, \"interactionType\": 1, \"questionType\": 1, \"questionId\": \"2_ReviewData\", \"learnToolsVersion\": \"0.3.4\", \"failureMessage\": \"\", \"exceptionClass\": \"\", \"trace\": \"\"}}, \"*\")"
      ],
      "text/plain": [
       "<IPython.core.display.Javascript object>"
      ]
     },
     "metadata": {},
     "output_type": "display_data"
    },
    {
     "data": {
      "text/markdown": [
       "<span style=\"color:#33cc33\">Correct</span>"
      ],
      "text/plain": [
       "Correct"
      ]
     },
     "metadata": {},
     "output_type": "display_data"
    }
   ],
   "source": [
    "# Fill in the line below: Which candy was more popular with survey respondents:\n",
    "# '3 Musketeers' or 'Almond Joy'?  (Please enclose your answer in single quotes.)\n",
    "more_popular = '3 Musketeers'\n",
    "\n",
    "# Fill in the line below: Which candy has higher sugar content: 'Air Heads'\n",
    "# or 'Baby Ruth'? (Please enclose your answer in single quotes.)\n",
    "more_sugar = 'Air Heads'\n",
    "\n",
    "# Check your answers\n",
    "step_2.check()"
   ]
  },
  {
   "cell_type": "code",
   "execution_count": 7,
   "id": "21b1e435",
   "metadata": {
    "execution": {
     "iopub.execute_input": "2022-07-03T17:08:49.107811Z",
     "iopub.status.busy": "2022-07-03T17:08:49.107299Z",
     "iopub.status.idle": "2022-07-03T17:08:49.110610Z",
     "shell.execute_reply": "2022-07-03T17:08:49.109987Z"
    },
    "papermill": {
     "duration": 0.013679,
     "end_time": "2022-07-03T17:08:49.112181",
     "exception": false,
     "start_time": "2022-07-03T17:08:49.098502",
     "status": "completed"
    },
    "tags": []
   },
   "outputs": [],
   "source": [
    "# Lines below will give you a hint or solution code\n",
    "#step_2.hint()\n",
    "#step_2.solution()"
   ]
  },
  {
   "cell_type": "markdown",
   "id": "c3620a19",
   "metadata": {
    "papermill": {
     "duration": 0.007615,
     "end_time": "2022-07-03T17:08:49.127697",
     "exception": false,
     "start_time": "2022-07-03T17:08:49.120082",
     "status": "completed"
    },
    "tags": []
   },
   "source": [
    "## Step 3: The role of sugar\n",
    "\n",
    "Do people tend to prefer candies with higher sugar content?  \n",
    "\n",
    "#### Part A\n",
    "\n",
    "Create a scatter plot that shows the relationship between `'sugarpercent'` (on the horizontal x-axis) and `'winpercent'` (on the vertical y-axis).  _Don't add a regression line just yet -- you'll do that in the next step!_"
   ]
  },
  {
   "cell_type": "code",
   "execution_count": 8,
   "id": "20b787af",
   "metadata": {
    "execution": {
     "iopub.execute_input": "2022-07-03T17:08:49.145024Z",
     "iopub.status.busy": "2022-07-03T17:08:49.144501Z",
     "iopub.status.idle": "2022-07-03T17:08:49.348586Z",
     "shell.execute_reply": "2022-07-03T17:08:49.347514Z"
    },
    "papermill": {
     "duration": 0.215083,
     "end_time": "2022-07-03T17:08:49.350666",
     "exception": false,
     "start_time": "2022-07-03T17:08:49.135583",
     "status": "completed"
    },
    "tags": []
   },
   "outputs": [
    {
     "data": {
      "application/javascript": [
       "parent.postMessage({\"jupyterEvent\": \"custom.exercise_interaction\", \"data\": {\"outcomeType\": 1, \"valueTowardsCompletion\": 0.3333333333333333, \"interactionType\": 1, \"questionType\": 2, \"questionId\": \"3.1_PlotBlueScatter\", \"learnToolsVersion\": \"0.3.4\", \"failureMessage\": \"\", \"exceptionClass\": \"\", \"trace\": \"\"}}, \"*\")"
      ],
      "text/plain": [
       "<IPython.core.display.Javascript object>"
      ]
     },
     "metadata": {},
     "output_type": "display_data"
    },
    {
     "data": {
      "text/markdown": [
       "<span style=\"color:#33cc33\">Correct</span>"
      ],
      "text/plain": [
       "Correct"
      ]
     },
     "metadata": {},
     "output_type": "display_data"
    },
    {
     "data": {
      "image/png": "[encoded data removed]",
      "text/plain": [
       "<Figure size 432x288 with 1 Axes>"
      ]
     },
     "metadata": {
      "needs_background": "light"
     },
     "output_type": "display_data"
    }
   ],
   "source": [
    "# Scatter plot showing the relationship between 'sugarpercent' and 'winpercent'\n",
    "# Your code here\n",
    "sns.scatterplot(x=candy_data['sugarpercent'], y=candy_data['winpercent'])\n",
    "\n",
    "# Check your answer\n",
    "step_3.a.check()"
   ]
  },
  {
   "cell_type": "code",
   "execution_count": 9,
   "id": "544e18af",
   "metadata": {
    "execution": {
     "iopub.execute_input": "2022-07-03T17:08:49.369782Z",
     "iopub.status.busy": "2022-07-03T17:08:49.368767Z",
     "iopub.status.idle": "2022-07-03T17:08:49.373110Z",
     "shell.execute_reply": "2022-07-03T17:08:49.372268Z"
    },
    "papermill": {
     "duration": 0.015569,
     "end_time": "2022-07-03T17:08:49.374924",
     "exception": false,
     "start_time": "2022-07-03T17:08:49.359355",
     "status": "completed"
    },
    "tags": []
   },
   "outputs": [],
   "source": [
    "# Lines below will give you a hint or solution code\n",
    "#step_3.a.hint()\n",
    "#step_3.a.solution_plot()"
   ]
  },
  {
   "cell_type": "markdown",
   "id": "c9318dea",
   "metadata": {
    "papermill": {
     "duration": 0.008344,
     "end_time": "2022-07-03T17:08:49.392946",
     "exception": false,
     "start_time": "2022-07-03T17:08:49.384602",
     "status": "completed"
    },
    "tags": []
   },
   "source": [
    "#### Part B\n",
    "\n",
    "Does the scatter plot show a **strong** correlation between the two variables?  If so, are candies with more sugar relatively more or less popular with the survey respondents?"
   ]
  },
  {
   "cell_type": "code",
   "execution_count": 10,
   "id": "692f3444",
   "metadata": {
    "execution": {
     "iopub.execute_input": "2022-07-03T17:08:49.411909Z",
     "iopub.status.busy": "2022-07-03T17:08:49.411277Z",
     "iopub.status.idle": "2022-07-03T17:08:49.415307Z",
     "shell.execute_reply": "2022-07-03T17:08:49.414602Z"
    },
    "papermill": {
     "duration": 0.01555,
     "end_time": "2022-07-03T17:08:49.416971",
     "exception": false,
     "start_time": "2022-07-03T17:08:49.401421",
     "status": "completed"
    },
    "tags": []
   },
   "outputs": [],
   "source": [
    "#step_3.b.hint()"
   ]
  },
  {
   "cell_type": "code",
   "execution_count": 11,
   "id": "5573b2fb",
   "metadata": {
    "execution": {
     "iopub.execute_input": "2022-07-03T17:08:49.436116Z",
     "iopub.status.busy": "2022-07-03T17:08:49.435524Z",
     "iopub.status.idle": "2022-07-03T17:08:49.442472Z",
     "shell.execute_reply": "2022-07-03T17:08:49.441878Z"
    },
    "papermill": {
     "duration": 0.018269,
     "end_time": "2022-07-03T17:08:49.444162",
     "exception": false,
     "start_time": "2022-07-03T17:08:49.425893",
     "status": "completed"
    },
    "tags": []
   },
   "outputs": [
    {
     "data": {
      "application/javascript": [
       "parent.postMessage({\"jupyterEvent\": \"custom.exercise_interaction\", \"data\": {\"interactionType\": 3, \"questionType\": 4, \"questionId\": \"3.2_ThinkBlueScatter\", \"learnToolsVersion\": \"0.3.4\", \"valueTowardsCompletion\": 0.0, \"failureMessage\": \"\", \"exceptionClass\": \"\", \"trace\": \"\", \"outcomeType\": 4}}, \"*\")"
      ],
      "text/plain": [
       "<IPython.core.display.Javascript object>"
      ]
     },
     "metadata": {},
     "output_type": "display_data"
    },
    {
     "data": {
      "text/markdown": [
       "<span style=\"color:#33cc99\">Solution:</span> The scatter plot does not show a strong correlation between the two variables. Since there is no clear relationship between the two variables, this tells us that sugar content does not play a strong role in candy popularity."
      ],
      "text/plain": [
       "Solution: The scatter plot does not show a strong correlation between the two variables. Since there is no clear relationship between the two variables, this tells us that sugar content does not play a strong role in candy popularity."
      ]
     },
     "metadata": {},
     "output_type": "display_data"
    }
   ],
   "source": [
    "# Check your answer (Run this code cell to receive credit!)\n",
    "step_3.b.solution()"
   ]
  },
  {
   "cell_type": "markdown",
   "id": "4ae995ea",
   "metadata": {
    "papermill": {
     "duration": 0.008383,
     "end_time": "2022-07-03T17:08:49.461280",
     "exception": false,
     "start_time": "2022-07-03T17:08:49.452897",
     "status": "completed"
    },
    "tags": []
   },
   "source": [
    "## Step 4: Take a closer look\n",
    "\n",
    "#### Part A\n",
    "\n",
    "Create the same scatter plot you created in **Step 3**, but now with a regression line!"
   ]
  },
  {
   "cell_type": "code",
   "execution_count": 12,
   "id": "3599c823",
   "metadata": {
    "execution": {
     "iopub.execute_input": "2022-07-03T17:08:49.480742Z",
     "iopub.status.busy": "2022-07-03T17:08:49.479679Z",
     "iopub.status.idle": "2022-07-03T17:08:49.707487Z",
     "shell.execute_reply": "2022-07-03T17:08:49.706714Z"
    },
    "papermill": {
     "duration": 0.239355,
     "end_time": "2022-07-03T17:08:49.709201",
     "exception": false,
     "start_time": "2022-07-03T17:08:49.469846",
     "status": "completed"
    },
    "tags": []
   },
   "outputs": [
    {
     "data": {
      "application/javascript": [
       "parent.postMessage({\"jupyterEvent\": \"custom.exercise_interaction\", \"data\": {\"outcomeType\": 1, \"valueTowardsCompletion\": 0.3333333333333333, \"interactionType\": 1, \"questionType\": 2, \"questionId\": \"4.1_PlotBlueReg\", \"learnToolsVersion\": \"0.3.4\", \"failureMessage\": \"\", \"exceptionClass\": \"\", \"trace\": \"\"}}, \"*\")"
      ],
      "text/plain": [
       "<IPython.core.display.Javascript object>"
      ]
     },
     "metadata": {},
     "output_type": "display_data"
    },
    {
     "data": {
      "text/markdown": [
       "<span style=\"color:#33cc33\">Correct</span>"
      ],
      "text/plain": [
       "Correct"
      ]
     },
     "metadata": {},
     "output_type": "display_data"
    },
    {
     "data": {
      "image/png": "[encoded data removed]",
      "text/plain": [
       "<Figure size 432x288 with 1 Axes>"
      ]
     },
     "metadata": {
      "needs_background": "light"
     },
     "output_type": "display_data"
    }
   ],
   "source": [
    "# Scatter plot w/ regression line showing the relationship between 'sugarpercent' and 'winpercent'\n",
    " # Your code here\n",
    "sns.regplot(x=candy_data['sugarpercent'], y=candy_data['winpercent'])\n",
    "# Check your answer\n",
    "step_4.a.check()"
   ]
  },
  {
   "cell_type": "code",
   "execution_count": 13,
   "id": "e05f15e7",
   "metadata": {
    "execution": {
     "iopub.execute_input": "2022-07-03T17:08:49.728940Z",
     "iopub.status.busy": "2022-07-03T17:08:49.727950Z",
     "iopub.status.idle": "2022-07-03T17:08:49.732222Z",
     "shell.execute_reply": "2022-07-03T17:08:49.731401Z"
    },
    "papermill": {
     "duration": 0.015907,
     "end_time": "2022-07-03T17:08:49.734152",
     "exception": false,
     "start_time": "2022-07-03T17:08:49.718245",
     "status": "completed"
    },
    "tags": []
   },
   "outputs": [],
   "source": [
    "# Lines below will give you a hint or solution code\n",
    "#step_4.a.hint()\n",
    "#step_4.a.solution_plot()"
   ]
  },
  {
   "cell_type": "markdown",
   "id": "56f1262f",
   "metadata": {
    "papermill": {
     "duration": 0.013989,
     "end_time": "2022-07-03T17:08:49.762645",
     "exception": false,
     "start_time": "2022-07-03T17:08:49.748656",
     "status": "completed"
    },
    "tags": []
   },
   "source": [
    "#### Part B\n",
    "\n",
    "According to the plot above, is there a **slight** correlation between `'winpercent'` and `'sugarpercent'`?  What does this tell you about the candy that people tend to prefer?"
   ]
  },
  {
   "cell_type": "code",
   "execution_count": 14,
   "id": "26a94dba",
   "metadata": {
    "execution": {
     "iopub.execute_input": "2022-07-03T17:08:49.793508Z",
     "iopub.status.busy": "2022-07-03T17:08:49.792938Z",
     "iopub.status.idle": "2022-07-03T17:08:49.796116Z",
     "shell.execute_reply": "2022-07-03T17:08:49.795533Z"
    },
    "papermill": {
     "duration": 0.021286,
     "end_time": "2022-07-03T17:08:49.798635",
     "exception": false,
     "start_time": "2022-07-03T17:08:49.777349",
     "status": "completed"
    },
    "tags": []
   },
   "outputs": [],
   "source": [
    "#step_4.b.hint()"
   ]
  },
  {
   "cell_type": "code",
   "execution_count": 15,
   "id": "2c9535ca",
   "metadata": {
    "execution": {
     "iopub.execute_input": "2022-07-03T17:08:49.831052Z",
     "iopub.status.busy": "2022-07-03T17:08:49.830451Z",
     "iopub.status.idle": "2022-07-03T17:08:49.837171Z",
     "shell.execute_reply": "2022-07-03T17:08:49.836271Z"
    },
    "papermill": {
     "duration": 0.025339,
     "end_time": "2022-07-03T17:08:49.839374",
     "exception": false,
     "start_time": "2022-07-03T17:08:49.814035",
     "status": "completed"
    },
    "tags": []
   },
   "outputs": [
    {
     "data": {
      "application/javascript": [
       "parent.postMessage({\"jupyterEvent\": \"custom.exercise_interaction\", \"data\": {\"interactionType\": 3, \"questionType\": 4, \"questionId\": \"4.2_ThinkBlueReg\", \"learnToolsVersion\": \"0.3.4\", \"valueTowardsCompletion\": 0.0, \"failureMessage\": \"\", \"exceptionClass\": \"\", \"trace\": \"\", \"outcomeType\": 4}}, \"*\")"
      ],
      "text/plain": [
       "<IPython.core.display.Javascript object>"
      ]
     },
     "metadata": {},
     "output_type": "display_data"
    },
    {
     "data": {
      "text/markdown": [
       "<span style=\"color:#33cc99\">Solution:</span> Since the regression line has a slightly positive slope, this tells us that there is a slightly positive correlation between `'winpercent'` and `'sugarpercent'`. Thus, people have a slight preference for candies containing relatively more sugar."
      ],
      "text/plain": [
       "Solution: Since the regression line has a slightly positive slope, this tells us that there is a slightly positive correlation between `'winpercent'` and `'sugarpercent'`. Thus, people have a slight preference for candies containing relatively more sugar."
      ]
     },
     "metadata": {},
     "output_type": "display_data"
    }
   ],
   "source": [
    "# Check your answer (Run this code cell to receive credit!)\n",
    "step_4.b.solution()"
   ]
  },
  {
   "cell_type": "markdown",
   "id": "d0b68e61",
   "metadata": {
    "papermill": {
     "duration": 0.014828,
     "end_time": "2022-07-03T17:08:49.870231",
     "exception": false,
     "start_time": "2022-07-03T17:08:49.855403",
     "status": "completed"
    },
    "tags": []
   },
   "source": [
    "## Step 5: Chocolate!\n",
    "\n",
    "In the code cell below, create a scatter plot to show the relationship between `'pricepercent'` (on the horizontal x-axis) and `'winpercent'` (on the vertical y-axis). Use the `'chocolate'` column to color-code the points.  _Don't add any regression lines just yet -- you'll do that in the next step!_"
   ]
  },
  {
   "cell_type": "code",
   "execution_count": 16,
   "id": "03c7b16f",
   "metadata": {
    "execution": {
     "iopub.execute_input": "2022-07-03T17:08:49.902392Z",
     "iopub.status.busy": "2022-07-03T17:08:49.902027Z",
     "iopub.status.idle": "2022-07-03T17:08:50.088965Z",
     "shell.execute_reply": "2022-07-03T17:08:50.088031Z"
    },
    "papermill": {
     "duration": 0.205328,
     "end_time": "2022-07-03T17:08:50.090893",
     "exception": false,
     "start_time": "2022-07-03T17:08:49.885565",
     "status": "completed"
    },
    "tags": []
   },
   "outputs": [
    {
     "data": {
      "application/javascript": [
       "parent.postMessage({\"jupyterEvent\": \"custom.exercise_interaction\", \"data\": {\"outcomeType\": 1, \"valueTowardsCompletion\": 0.3333333333333333, \"interactionType\": 1, \"questionType\": 2, \"questionId\": \"5_ColorScatter\", \"learnToolsVersion\": \"0.3.4\", \"failureMessage\": \"\", \"exceptionClass\": \"\", \"trace\": \"\"}}, \"*\")"
      ],
      "text/plain": [
       "<IPython.core.display.Javascript object>"
      ]
     },
     "metadata": {},
     "output_type": "display_data"
    },
    {
     "data": {
      "text/markdown": [
       "<span style=\"color:#33cc33\">Correct</span>"
      ],
      "text/plain": [
       "Correct"
      ]
     },
     "metadata": {},
     "output_type": "display_data"
    },
    {
     "data": {
      "image/png": "[encoded data removed]",
      "text/plain": [
       "<Figure size 432x288 with 1 Axes>"
      ]
     },
     "metadata": {
      "needs_background": "light"
     },
     "output_type": "display_data"
    }
   ],
   "source": [
    "# Scatter plot showing the relationship between 'pricepercent', 'winpercent', and 'chocolate'\n",
    "# Your code here\n",
    "\n",
    "sns.scatterplot(x=candy_data['pricepercent'], y=candy_data['winpercent'], hue=candy_data['chocolate'])\n",
    "\n",
    "# Check your answer\n",
    "step_5.check()"
   ]
  },
  {
   "cell_type": "code",
   "execution_count": 17,
   "id": "62b418d9",
   "metadata": {
    "execution": {
     "iopub.execute_input": "2022-07-03T17:08:50.112342Z",
     "iopub.status.busy": "2022-07-03T17:08:50.111359Z",
     "iopub.status.idle": "2022-07-03T17:08:50.116031Z",
     "shell.execute_reply": "2022-07-03T17:08:50.114683Z"
    },
    "papermill": {
     "duration": 0.017188,
     "end_time": "2022-07-03T17:08:50.118026",
     "exception": false,
     "start_time": "2022-07-03T17:08:50.100838",
     "status": "completed"
    },
    "tags": []
   },
   "outputs": [],
   "source": [
    "# Lines below will give you a hint or solution code\n",
    "#step_5.hint()\n",
    "#step_5.solution_plot()"
   ]
  },
  {
   "cell_type": "markdown",
   "id": "7bc281b9",
   "metadata": {
    "papermill": {
     "duration": 0.009331,
     "end_time": "2022-07-03T17:08:50.136870",
     "exception": false,
     "start_time": "2022-07-03T17:08:50.127539",
     "status": "completed"
    },
    "tags": []
   },
   "source": [
    "Can you see any interesting patterns in the scatter plot?  We'll investigate this plot further  by adding regression lines in the next step!\n",
    "\n",
    "## Step 6: Investigate chocolate\n",
    "\n",
    "#### Part A\n",
    "\n",
    "Create the same scatter plot you created in **Step 5**, but now with two regression lines, corresponding to (1) chocolate candies and (2) candies without chocolate."
   ]
  },
  {
   "cell_type": "code",
   "execution_count": 18,
   "id": "3aa846eb",
   "metadata": {
    "execution": {
     "iopub.execute_input": "2022-07-03T17:08:50.157469Z",
     "iopub.status.busy": "2022-07-03T17:08:50.157118Z",
     "iopub.status.idle": "2022-07-03T17:08:50.631018Z",
     "shell.execute_reply": "2022-07-03T17:08:50.630130Z"
    },
    "papermill": {
     "duration": 0.486383,
     "end_time": "2022-07-03T17:08:50.632713",
     "exception": false,
     "start_time": "2022-07-03T17:08:50.146330",
     "status": "completed"
    },
    "tags": []
   },
   "outputs": [
    {
     "data": {
      "application/javascript": [
       "parent.postMessage({\"jupyterEvent\": \"custom.exercise_interaction\", \"data\": {\"outcomeType\": 1, \"valueTowardsCompletion\": 0.3333333333333333, \"interactionType\": 1, \"questionType\": 2, \"questionId\": \"6.1_PlotColorReg\", \"learnToolsVersion\": \"0.3.4\", \"failureMessage\": \"\", \"exceptionClass\": \"\", \"trace\": \"\"}}, \"*\")"
      ],
      "text/plain": [
       "<IPython.core.display.Javascript object>"
      ]
     },
     "metadata": {},
     "output_type": "display_data"
    },
    {
     "data": {
      "text/markdown": [
       "<span style=\"color:#33cc33\">Correct</span>"
      ],
      "text/plain": [
       "Correct"
      ]
     },
     "metadata": {},
     "output_type": "display_data"
    },
    {
     "data": {
      "image/png": "[encoded data removed]",
      "text/plain": [
       "<Figure size 416.375x360 with 1 Axes>"
      ]
     },
     "metadata": {
      "needs_background": "light"
     },
     "output_type": "display_data"
    }
   ],
   "source": [
    "# Color-coded scatter plot w/ regression lines\n",
    "# Your code here\n",
    "\n",
    "sns.lmplot(x='pricepercent', y='winpercent', hue='chocolate', data=candy_data)\n",
    "# Check your answer\n",
    "step_6.a.check()"
   ]
  },
  {
   "cell_type": "code",
   "execution_count": 19,
   "id": "c2653138",
   "metadata": {
    "execution": {
     "iopub.execute_input": "2022-07-03T17:08:50.654840Z",
     "iopub.status.busy": "2022-07-03T17:08:50.654551Z",
     "iopub.status.idle": "2022-07-03T17:08:50.658134Z",
     "shell.execute_reply": "2022-07-03T17:08:50.657354Z"
    },
    "papermill": {
     "duration": 0.016522,
     "end_time": "2022-07-03T17:08:50.659803",
     "exception": false,
     "start_time": "2022-07-03T17:08:50.643281",
     "status": "completed"
    },
    "tags": []
   },
   "outputs": [],
   "source": [
    "# Lines below will give you a hint or solution code\n",
    "#step_6.a.hint()\n",
    "#step_6.a.solution_plot()"
   ]
  },
  {
   "cell_type": "markdown",
   "id": "544ba15e",
   "metadata": {
    "papermill": {
     "duration": 0.010053,
     "end_time": "2022-07-03T17:08:50.680183",
     "exception": false,
     "start_time": "2022-07-03T17:08:50.670130",
     "status": "completed"
    },
    "tags": []
   },
   "source": [
    "#### Part B\n",
    "\n",
    "Using the regression lines, what conclusions can you draw about the effects of chocolate and price on candy popularity?"
   ]
  },
  {
   "cell_type": "code",
   "execution_count": 20,
   "id": "742d46b7",
   "metadata": {
    "execution": {
     "iopub.execute_input": "2022-07-03T17:08:50.702654Z",
     "iopub.status.busy": "2022-07-03T17:08:50.701813Z",
     "iopub.status.idle": "2022-07-03T17:08:50.706674Z",
     "shell.execute_reply": "2022-07-03T17:08:50.706115Z"
    },
    "papermill": {
     "duration": 0.018266,
     "end_time": "2022-07-03T17:08:50.708713",
     "exception": false,
     "start_time": "2022-07-03T17:08:50.690447",
     "status": "completed"
    },
    "tags": []
   },
   "outputs": [],
   "source": [
    "#step_6.b.hint()"
   ]
  },
  {
   "cell_type": "code",
   "execution_count": 21,
   "id": "6609e017",
   "metadata": {
    "execution": {
     "iopub.execute_input": "2022-07-03T17:08:50.743336Z",
     "iopub.status.busy": "2022-07-03T17:08:50.742634Z",
     "iopub.status.idle": "2022-07-03T17:08:50.749707Z",
     "shell.execute_reply": "2022-07-03T17:08:50.749126Z"
    },
    "papermill": {
     "duration": 0.026463,
     "end_time": "2022-07-03T17:08:50.751667",
     "exception": false,
     "start_time": "2022-07-03T17:08:50.725204",
     "status": "completed"
    },
    "tags": []
   },
   "outputs": [
    {
     "data": {
      "application/javascript": [
       "parent.postMessage({\"jupyterEvent\": \"custom.exercise_interaction\", \"data\": {\"interactionType\": 3, \"questionType\": 4, \"questionId\": \"6.2_ThinkColorReg\", \"learnToolsVersion\": \"0.3.4\", \"valueTowardsCompletion\": 0.0, \"failureMessage\": \"\", \"exceptionClass\": \"\", \"trace\": \"\", \"outcomeType\": 4}}, \"*\")"
      ],
      "text/plain": [
       "<IPython.core.display.Javascript object>"
      ]
     },
     "metadata": {},
     "output_type": "display_data"
    },
    {
     "data": {
      "text/markdown": [
       "<span style=\"color:#33cc99\">Solution:</span> We'll begin with the regression line for chocolate candies. Since this line has a slightly positive slope, we can say that more expensive chocolate candies tend to be more popular (than relatively cheaper chocolate candies).  Likewise, since the regression line for candies without chocolate has a negative slope, we can say that if candies don't contain chocolate, they tend to be more popular when they are cheaper.  One important note, however, is that the dataset is quite small -- so we shouldn't invest too much trust in these patterns!  To inspire more confidence in the results, we should add more candies to the dataset."
      ],
      "text/plain": [
       "Solution: We'll begin with the regression line for chocolate candies. Since this line has a slightly positive slope, we can say that more expensive chocolate candies tend to be more popular (than relatively cheaper chocolate candies).  Likewise, since the regression line for candies without chocolate has a negative slope, we can say that if candies don't contain chocolate, they tend to be more popular when they are cheaper.  One important note, however, is that the dataset is quite small -- so we shouldn't invest too much trust in these patterns!  To inspire more confidence in the results, we should add more candies to the dataset."
      ]
     },
     "metadata": {},
     "output_type": "display_data"
    }
   ],
   "source": [
    "# Check your answer (Run this code cell to receive credit!)\n",
    "step_6.b.solution()"
   ]
  },
  {
   "cell_type": "markdown",
   "id": "f5247f54",
   "metadata": {
    "papermill": {
     "duration": 0.016663,
     "end_time": "2022-07-03T17:08:50.785350",
     "exception": false,
     "start_time": "2022-07-03T17:08:50.768687",
     "status": "completed"
    },
    "tags": []
   },
   "source": [
    "## Step 7: Everybody loves chocolate.\n",
    "\n",
    "#### Part A\n",
    "\n",
    "Create a categorical scatter plot to highlight the relationship between `'chocolate'` and `'winpercent'`.  Put `'chocolate'` on the (horizontal) x-axis, and `'winpercent'` on the (vertical) y-axis."
   ]
  },
  {
   "cell_type": "code",
   "execution_count": 22,
   "id": "ea1399be",
   "metadata": {
    "execution": {
     "iopub.execute_input": "2022-07-03T17:08:50.820413Z",
     "iopub.status.busy": "2022-07-03T17:08:50.819927Z",
     "iopub.status.idle": "2022-07-03T17:08:50.936289Z",
     "shell.execute_reply": "2022-07-03T17:08:50.935298Z"
    },
    "papermill": {
     "duration": 0.136819,
     "end_time": "2022-07-03T17:08:50.938953",
     "exception": false,
     "start_time": "2022-07-03T17:08:50.802134",
     "status": "completed"
    },
    "tags": []
   },
   "outputs": [
    {
     "data": {
      "application/javascript": [
       "parent.postMessage({\"jupyterEvent\": \"custom.exercise_interaction\", \"data\": {\"outcomeType\": 1, \"valueTowardsCompletion\": 0.3333333333333333, \"interactionType\": 1, \"questionType\": 2, \"questionId\": \"7.1_PlotSwarm\", \"learnToolsVersion\": \"0.3.4\", \"failureMessage\": \"\", \"exceptionClass\": \"\", \"trace\": \"\"}}, \"*\")"
      ],
      "text/plain": [
       "<IPython.core.display.Javascript object>"
      ]
     },
     "metadata": {},
     "output_type": "display_data"
    },
    {
     "data": {
      "text/markdown": [
       "<span style=\"color:#33cc33\">Correct</span>"
      ],
      "text/plain": [
       "Correct"
      ]
     },
     "metadata": {},
     "output_type": "display_data"
    },
    {
     "data": {
      "image/png": "[encoded data removed]",
      "text/plain": [
       "<Figure size 432x288 with 1 Axes>"
      ]
     },
     "metadata": {
      "needs_background": "light"
     },
     "output_type": "display_data"
    }
   ],
   "source": [
    "# Scatter plot showing the relationship between 'chocolate' and 'winpercent'\n",
    "# Your code here\n",
    "sns.swarmplot(x=candy_data['chocolate'], y=candy_data['winpercent'])\n",
    "\n",
    "# Check your answer\n",
    "step_7.a.check()"
   ]
  },
  {
   "cell_type": "code",
   "execution_count": 23,
   "id": "0da43e9b",
   "metadata": {
    "execution": {
     "iopub.execute_input": "2022-07-03T17:08:50.982325Z",
     "iopub.status.busy": "2022-07-03T17:08:50.981797Z",
     "iopub.status.idle": "2022-07-03T17:08:50.986593Z",
     "shell.execute_reply": "2022-07-03T17:08:50.985731Z"
    },
    "papermill": {
     "duration": 0.028317,
     "end_time": "2022-07-03T17:08:50.988470",
     "exception": false,
     "start_time": "2022-07-03T17:08:50.960153",
     "status": "completed"
    },
    "tags": []
   },
   "outputs": [],
   "source": [
    "# Lines below will give you a hint or solution code\n",
    "#step_7.a.hint()\n",
    "#step_7.a.solution_plot()"
   ]
  },
  {
   "cell_type": "markdown",
   "id": "05df395b",
   "metadata": {
    "papermill": {
     "duration": 0.010596,
     "end_time": "2022-07-03T17:08:51.010139",
     "exception": false,
     "start_time": "2022-07-03T17:08:50.999543",
     "status": "completed"
    },
    "tags": []
   },
   "source": [
    "#### Part B\n",
    "\n",
    "You decide to dedicate a section of your report to the fact that chocolate candies tend to be more popular than candies without chocolate.  Which plot is more appropriate to tell this story: the plot from **Step 6**, or the plot from **Step 7**?"
   ]
  },
  {
   "cell_type": "code",
   "execution_count": 24,
   "id": "c75d1484",
   "metadata": {
    "execution": {
     "iopub.execute_input": "2022-07-03T17:08:51.033886Z",
     "iopub.status.busy": "2022-07-03T17:08:51.032965Z",
     "iopub.status.idle": "2022-07-03T17:08:51.036963Z",
     "shell.execute_reply": "2022-07-03T17:08:51.036384Z"
    },
    "papermill": {
     "duration": 0.017776,
     "end_time": "2022-07-03T17:08:51.038704",
     "exception": false,
     "start_time": "2022-07-03T17:08:51.020928",
     "status": "completed"
    },
    "tags": []
   },
   "outputs": [],
   "source": [
    "#step_7.b.hint()"
   ]
  },
  {
   "cell_type": "code",
   "execution_count": 25,
   "id": "75d6a743",
   "metadata": {
    "execution": {
     "iopub.execute_input": "2022-07-03T17:08:51.062618Z",
     "iopub.status.busy": "2022-07-03T17:08:51.062018Z",
     "iopub.status.idle": "2022-07-03T17:08:51.069116Z",
     "shell.execute_reply": "2022-07-03T17:08:51.068310Z"
    },
    "papermill": {
     "duration": 0.02121,
     "end_time": "2022-07-03T17:08:51.071066",
     "exception": false,
     "start_time": "2022-07-03T17:08:51.049856",
     "status": "completed"
    },
    "tags": []
   },
   "outputs": [
    {
     "data": {
      "application/javascript": [
       "parent.postMessage({\"jupyterEvent\": \"custom.exercise_interaction\", \"data\": {\"interactionType\": 3, \"questionType\": 4, \"questionId\": \"7.2_ThinkSwarm\", \"learnToolsVersion\": \"0.3.4\", \"valueTowardsCompletion\": 0.0, \"failureMessage\": \"\", \"exceptionClass\": \"\", \"trace\": \"\", \"outcomeType\": 4}}, \"*\")"
      ],
      "text/plain": [
       "<IPython.core.display.Javascript object>"
      ]
     },
     "metadata": {},
     "output_type": "display_data"
    },
    {
     "data": {
      "text/markdown": [
       "<span style=\"color:#33cc99\">Solution:</span> In this case, the categorical scatter plot from **Step 7** is the more appropriate plot. While both plots tell the desired story, the plot from **Step 6** conveys far more information that could distract from the main point."
      ],
      "text/plain": [
       "Solution: In this case, the categorical scatter plot from **Step 7** is the more appropriate plot. While both plots tell the desired story, the plot from **Step 6** conveys far more information that could distract from the main point."
      ]
     },
     "metadata": {},
     "output_type": "display_data"
    }
   ],
   "source": [
    "# Check your answer (Run this code cell to receive credit!)\n",
    "step_7.b.solution()"
   ]
  },
  {
   "cell_type": "markdown",
   "id": "373e5ae1",
   "metadata": {
    "papermill": {
     "duration": 0.011133,
     "end_time": "2022-07-03T17:08:51.093689",
     "exception": false,
     "start_time": "2022-07-03T17:08:51.082556",
     "status": "completed"
    },
    "tags": []
   },
   "source": [
    "## Keep going\n",
    "\n",
    "Explore **[histograms and density plots](https://www.kaggle.com/alexisbcook/distributions)**."
   ]
  },
  {
   "cell_type": "markdown",
   "id": "9a1ee3c5",
   "metadata": {
    "papermill": {
     "duration": 0.011156,
     "end_time": "2022-07-03T17:08:51.116209",
     "exception": false,
     "start_time": "2022-07-03T17:08:51.105053",
     "status": "completed"
    },
    "tags": []
   },
   "source": [
    "---\n",
    "\n",
    "\n",
    "\n",
    "\n",
    "*Have questions or comments? Visit the [course discussion forum](https://www.kaggle.com/learn/data-visualization/discussion) to chat with other learners.*"
   ]
  }
 ],
 "metadata": {
  "kernelspec": {
   "display_name": "Python 3",
   "language": "python",
   "name": "python3"
  },
  "language_info": {
   "codemirror_mode": {
    "name": "ipython",
    "version": 3
   },
   "file_extension": ".py",
   "mimetype": "text/x-python",
   "name": "python",
   "nbconvert_exporter": "python",
   "pygments_lexer": "ipython3",
   "version": "3.7.12"
  },
  "papermill": {
   "default_parameters": {},
   "duration": 11.098428,
   "end_time": "2022-07-03T17:08:51.747813",
   "environment_variables": {},
   "exception": null,
   "input_path": "__notebook__.ipynb",
   "output_path": "__notebook__.ipynb",
   "parameters": {},
   "start_time": "2022-07-03T17:08:40.649385",
   "version": "2.3.4"
  }
 },
 "nbformat": 4,
 "nbformat_minor": 5
}
