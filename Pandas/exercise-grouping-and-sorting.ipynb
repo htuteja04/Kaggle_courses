{
 "cells": [
  {
   "cell_type": "markdown",
   "id": "3fbb8843",
   "metadata": {
    "papermill": {
     "duration": 0.008721,
     "end_time": "2022-06-27T11:22:57.876907",
     "exception": false,
     "start_time": "2022-06-27T11:22:57.868186",
     "status": "completed"
    },
    "tags": []
   },
   "source": [
    "**This notebook is an exercise in the [Pandas](https://www.kaggle.com/learn/pandas) course.  You can reference the tutorial at [this link](https://www.kaggle.com/residentmario/grouping-and-sorting).**\n",
    "\n",
    "---\n"
   ]
  },
  {
   "cell_type": "markdown",
   "id": "5dec3f6a",
   "metadata": {
    "papermill": {
     "duration": 0.007149,
     "end_time": "2022-06-27T11:22:57.891492",
     "exception": false,
     "start_time": "2022-06-27T11:22:57.884343",
     "status": "completed"
    },
    "tags": []
   },
   "source": [
    "# Introduction\n",
    "\n",
    "In these exercises we'll apply groupwise analysis to our dataset.\n",
    "\n",
    "Run the code cell below to load the data before running the exercises."
   ]
  },
  {
   "cell_type": "code",
   "execution_count": 1,
   "id": "39935d83",
   "metadata": {
    "execution": {
     "iopub.execute_input": "2022-06-27T11:22:57.908129Z",
     "iopub.status.busy": "2022-06-27T11:22:57.907675Z",
     "iopub.status.idle": "2022-06-27T11:23:00.840716Z",
     "shell.execute_reply": "2022-06-27T11:23:00.839676Z"
    },
    "papermill": {
     "duration": 2.945079,
     "end_time": "2022-06-27T11:23:00.843888",
     "exception": false,
     "start_time": "2022-06-27T11:22:57.898809",
     "status": "completed"
    },
    "tags": []
   },
   "outputs": [
    {
     "name": "stdout",
     "output_type": "stream",
     "text": [
      "Setup complete.\n"
     ]
    }
   ],
   "source": [
    "import pandas as pd\n",
    "\n",
    "reviews = pd.read_csv(\"../input/wine-reviews/winemag-data-130k-v2.csv\", index_col=0)\n",
    "#pd.set_option(\"display.max_rows\", 5)\n",
    "\n",
    "from learntools.core import binder; binder.bind(globals())\n",
    "from learntools.pandas.grouping_and_sorting import *\n",
    "print(\"Setup complete.\")"
   ]
  },
  {
   "cell_type": "markdown",
   "id": "4dcbc699",
   "metadata": {
    "papermill": {
     "duration": 0.007727,
     "end_time": "2022-06-27T11:23:00.859978",
     "exception": false,
     "start_time": "2022-06-27T11:23:00.852251",
     "status": "completed"
    },
    "tags": []
   },
   "source": [
    "# Exercises"
   ]
  },
  {
   "cell_type": "markdown",
   "id": "d1c29c6f",
   "metadata": {
    "papermill": {
     "duration": 0.007236,
     "end_time": "2022-06-27T11:23:00.874975",
     "exception": false,
     "start_time": "2022-06-27T11:23:00.867739",
     "status": "completed"
    },
    "tags": []
   },
   "source": [
    "## 1.\n",
    "Who are the most common wine reviewers in the dataset? Create a `Series` whose index is the `taster_twitter_handle` category from the dataset, and whose values count how many reviews each person wrote."
   ]
  },
  {
   "cell_type": "code",
   "execution_count": 2,
   "id": "1d8795c7",
   "metadata": {
    "execution": {
     "iopub.execute_input": "2022-06-27T11:23:00.892142Z",
     "iopub.status.busy": "2022-06-27T11:23:00.891326Z",
     "iopub.status.idle": "2022-06-27T11:23:00.901153Z",
     "shell.execute_reply": "2022-06-27T11:23:00.900070Z"
    },
    "papermill": {
     "duration": 0.020735,
     "end_time": "2022-06-27T11:23:00.903189",
     "exception": false,
     "start_time": "2022-06-27T11:23:00.882454",
     "status": "completed"
    },
    "tags": []
   },
   "outputs": [
    {
     "data": {
      "text/plain": [
       "Index(['country', 'description', 'designation', 'points', 'price', 'province',\n",
       "       'region_1', 'region_2', 'taster_name', 'taster_twitter_handle', 'title',\n",
       "       'variety', 'winery'],\n",
       "      dtype='object')"
      ]
     },
     "execution_count": 2,
     "metadata": {},
     "output_type": "execute_result"
    }
   ],
   "source": [
    "reviews.columns"
   ]
  },
  {
   "cell_type": "code",
   "execution_count": 3,
   "id": "cedbd1e7",
   "metadata": {
    "execution": {
     "iopub.execute_input": "2022-06-27T11:23:00.920644Z",
     "iopub.status.busy": "2022-06-27T11:23:00.919923Z",
     "iopub.status.idle": "2022-06-27T11:23:00.947461Z",
     "shell.execute_reply": "2022-06-27T11:23:00.946438Z"
    },
    "papermill": {
     "duration": 0.03915,
     "end_time": "2022-06-27T11:23:00.949862",
     "exception": false,
     "start_time": "2022-06-27T11:23:00.910712",
     "status": "completed"
    },
    "tags": []
   },
   "outputs": [
    {
     "data": {
      "application/javascript": [
       "parent.postMessage({\"jupyterEvent\": \"custom.exercise_interaction\", \"data\": {\"outcomeType\": 1, \"valueTowardsCompletion\": 0.16666666666666666, \"interactionType\": 1, \"questionType\": 1, \"questionId\": \"1_ReviewsWritten\", \"learnToolsVersion\": \"0.3.4\", \"failureMessage\": \"\", \"exceptionClass\": \"\", \"trace\": \"\"}}, \"*\")"
      ],
      "text/plain": [
       "<IPython.core.display.Javascript object>"
      ]
     },
     "metadata": {},
     "output_type": "display_data"
    },
    {
     "data": {
      "text/markdown": [
       "<span style=\"color:#33cc33\">Correct:</span> \n",
       "\n",
       "\n",
       "```python\n",
       "reviews_written = reviews.groupby('taster_twitter_handle').size()\n",
       "```\n",
       "or\n",
       "```python\n",
       "reviews_written = reviews.groupby('taster_twitter_handle').taster_twitter_handle.count()\n",
       "```\n"
      ],
      "text/plain": [
       "Correct: \n",
       "\n",
       "\n",
       "```python\n",
       "reviews_written = reviews.groupby('taster_twitter_handle').size()\n",
       "```\n",
       "or\n",
       "```python\n",
       "reviews_written = reviews.groupby('taster_twitter_handle').taster_twitter_handle.count()\n",
       "```"
      ]
     },
     "metadata": {},
     "output_type": "display_data"
    }
   ],
   "source": [
    "# Your code here\n",
    "reviews_written = reviews.groupby('taster_twitter_handle').size()\n",
    "\n",
    "# Check your answer\n",
    "q1.check()"
   ]
  },
  {
   "cell_type": "code",
   "execution_count": 4,
   "id": "5ed318f1",
   "metadata": {
    "execution": {
     "iopub.execute_input": "2022-06-27T11:23:00.967986Z",
     "iopub.status.busy": "2022-06-27T11:23:00.967607Z",
     "iopub.status.idle": "2022-06-27T11:23:00.975070Z",
     "shell.execute_reply": "2022-06-27T11:23:00.974038Z"
    },
    "papermill": {
     "duration": 0.018824,
     "end_time": "2022-06-27T11:23:00.977125",
     "exception": false,
     "start_time": "2022-06-27T11:23:00.958301",
     "status": "completed"
    },
    "tags": []
   },
   "outputs": [
    {
     "data": {
      "text/plain": [
       "taster_twitter_handle\n",
       "@AnneInVino          3685\n",
       "@JoeCz               5147\n",
       "@bkfiona               27\n",
       "@gordone_cellars     4177\n",
       "@kerinokeefe        10776\n",
       "@laurbuzz            1835\n",
       "@mattkettmann        6332\n",
       "@paulgwine           9532\n",
       "@suskostrzewa        1085\n",
       "@vboone              9537\n",
       "@vossroger          25514\n",
       "@wawinereport        4966\n",
       "@wineschach         15134\n",
       "@winewchristina         6\n",
       "@worldwineguys       1005\n",
       "dtype: int64"
      ]
     },
     "execution_count": 4,
     "metadata": {},
     "output_type": "execute_result"
    }
   ],
   "source": [
    "reviews_written"
   ]
  },
  {
   "cell_type": "code",
   "execution_count": 5,
   "id": "da8dd2c6",
   "metadata": {
    "execution": {
     "iopub.execute_input": "2022-06-27T11:23:00.993770Z",
     "iopub.status.busy": "2022-06-27T11:23:00.993422Z",
     "iopub.status.idle": "2022-06-27T11:23:01.001024Z",
     "shell.execute_reply": "2022-06-27T11:23:00.999995Z"
    },
    "papermill": {
     "duration": 0.018222,
     "end_time": "2022-06-27T11:23:01.002928",
     "exception": false,
     "start_time": "2022-06-27T11:23:00.984706",
     "status": "completed"
    },
    "tags": []
   },
   "outputs": [
    {
     "data": {
      "application/javascript": [
       "parent.postMessage({\"jupyterEvent\": \"custom.exercise_interaction\", \"data\": {\"interactionType\": 2, \"questionType\": 1, \"questionId\": \"1_ReviewsWritten\", \"learnToolsVersion\": \"0.3.4\", \"valueTowardsCompletion\": 0.0, \"failureMessage\": \"\", \"exceptionClass\": \"\", \"trace\": \"\", \"outcomeType\": 4}}, \"*\")"
      ],
      "text/plain": [
       "<IPython.core.display.Javascript object>"
      ]
     },
     "metadata": {},
     "output_type": "display_data"
    },
    {
     "data": {
      "text/markdown": [
       "<span style=\"color:#3366cc\">Hint:</span> Use the `groupby` operation and `size()` (or `count()`)."
      ],
      "text/plain": [
       "Hint: Use the `groupby` operation and `size()` (or `count()`)."
      ]
     },
     "metadata": {},
     "output_type": "display_data"
    }
   ],
   "source": [
    "q1.hint()\n",
    "#q1.solution()"
   ]
  },
  {
   "cell_type": "markdown",
   "id": "1b69232e",
   "metadata": {
    "papermill": {
     "duration": 0.008003,
     "end_time": "2022-06-27T11:23:01.019032",
     "exception": false,
     "start_time": "2022-06-27T11:23:01.011029",
     "status": "completed"
    },
    "tags": []
   },
   "source": [
    "## 2.\n",
    "What is the best wine I can buy for a given amount of money? Create a `Series` whose index is wine prices and whose values is the maximum number of points a wine costing that much was given in a review. Sort the values by price, ascending (so that `4.0` dollars is at the top and `3300.0` dollars is at the bottom)."
   ]
  },
  {
   "cell_type": "code",
   "execution_count": 6,
   "id": "b958c76b",
   "metadata": {
    "execution": {
     "iopub.execute_input": "2022-06-27T11:23:01.037958Z",
     "iopub.status.busy": "2022-06-27T11:23:01.037588Z",
     "iopub.status.idle": "2022-06-27T11:23:01.048976Z",
     "shell.execute_reply": "2022-06-27T11:23:01.048217Z"
    },
    "papermill": {
     "duration": 0.023517,
     "end_time": "2022-06-27T11:23:01.050808",
     "exception": false,
     "start_time": "2022-06-27T11:23:01.027291",
     "status": "completed"
    },
    "tags": []
   },
   "outputs": [
    {
     "data": {
      "application/javascript": [
       "parent.postMessage({\"jupyterEvent\": \"custom.exercise_interaction\", \"data\": {\"outcomeType\": 1, \"valueTowardsCompletion\": 0.16666666666666666, \"interactionType\": 1, \"questionType\": 1, \"questionId\": \"2_BestRatingPerPrice\", \"learnToolsVersion\": \"0.3.4\", \"failureMessage\": \"\", \"exceptionClass\": \"\", \"trace\": \"\"}}, \"*\")"
      ],
      "text/plain": [
       "<IPython.core.display.Javascript object>"
      ]
     },
     "metadata": {},
     "output_type": "display_data"
    },
    {
     "data": {
      "text/markdown": [
       "<span style=\"color:#33cc33\">Correct</span>"
      ],
      "text/plain": [
       "Correct"
      ]
     },
     "metadata": {},
     "output_type": "display_data"
    }
   ],
   "source": [
    "best_rating_per_price = reviews.groupby('price').points.max().sort_index()\n",
    "\n",
    "# Check your answer\n",
    "q2.check()"
   ]
  },
  {
   "cell_type": "code",
   "execution_count": 7,
   "id": "cdcbae12",
   "metadata": {
    "execution": {
     "iopub.execute_input": "2022-06-27T11:23:01.069948Z",
     "iopub.status.busy": "2022-06-27T11:23:01.069580Z",
     "iopub.status.idle": "2022-06-27T11:23:01.076380Z",
     "shell.execute_reply": "2022-06-27T11:23:01.075655Z"
    },
    "papermill": {
     "duration": 0.018804,
     "end_time": "2022-06-27T11:23:01.078254",
     "exception": false,
     "start_time": "2022-06-27T11:23:01.059450",
     "status": "completed"
    },
    "tags": []
   },
   "outputs": [
    {
     "data": {
      "application/javascript": [
       "parent.postMessage({\"jupyterEvent\": \"custom.exercise_interaction\", \"data\": {\"interactionType\": 2, \"questionType\": 1, \"questionId\": \"2_BestRatingPerPrice\", \"learnToolsVersion\": \"0.3.4\", \"valueTowardsCompletion\": 0.0, \"failureMessage\": \"\", \"exceptionClass\": \"\", \"trace\": \"\", \"outcomeType\": 4}}, \"*\")"
      ],
      "text/plain": [
       "<IPython.core.display.Javascript object>"
      ]
     },
     "metadata": {},
     "output_type": "display_data"
    },
    {
     "data": {
      "text/markdown": [
       "<span style=\"color:#3366cc\">Hint:</span> Use `max()` and `sort_index()`.  The relevant columns in the DataFrame are `price` and `points`."
      ],
      "text/plain": [
       "Hint: Use `max()` and `sort_index()`.  The relevant columns in the DataFrame are `price` and `points`."
      ]
     },
     "metadata": {},
     "output_type": "display_data"
    }
   ],
   "source": [
    "q2.hint()\n",
    "#q2.solution()"
   ]
  },
  {
   "cell_type": "markdown",
   "id": "99ab67fc",
   "metadata": {
    "papermill": {
     "duration": 0.008843,
     "end_time": "2022-06-27T11:23:01.096141",
     "exception": false,
     "start_time": "2022-06-27T11:23:01.087298",
     "status": "completed"
    },
    "tags": []
   },
   "source": [
    "## 3.\n",
    "What are the minimum and maximum prices for each `variety` of wine? Create a `DataFrame` whose index is the `variety` category from the dataset and whose values are the `min` and `max` values thereof."
   ]
  },
  {
   "cell_type": "code",
   "execution_count": 8,
   "id": "cab89fd1",
   "metadata": {
    "execution": {
     "iopub.execute_input": "2022-06-27T11:23:01.115823Z",
     "iopub.status.busy": "2022-06-27T11:23:01.115164Z",
     "iopub.status.idle": "2022-06-27T11:23:01.143713Z",
     "shell.execute_reply": "2022-06-27T11:23:01.142661Z"
    },
    "papermill": {
     "duration": 0.040684,
     "end_time": "2022-06-27T11:23:01.145764",
     "exception": false,
     "start_time": "2022-06-27T11:23:01.105080",
     "status": "completed"
    },
    "tags": []
   },
   "outputs": [
    {
     "data": {
      "application/javascript": [
       "parent.postMessage({\"jupyterEvent\": \"custom.exercise_interaction\", \"data\": {\"outcomeType\": 1, \"valueTowardsCompletion\": 0.16666666666666666, \"interactionType\": 1, \"questionType\": 1, \"questionId\": \"3_PriceExtremes\", \"learnToolsVersion\": \"0.3.4\", \"failureMessage\": \"\", \"exceptionClass\": \"\", \"trace\": \"\"}}, \"*\")"
      ],
      "text/plain": [
       "<IPython.core.display.Javascript object>"
      ]
     },
     "metadata": {},
     "output_type": "display_data"
    },
    {
     "data": {
      "text/markdown": [
       "<span style=\"color:#33cc33\">Correct</span>"
      ],
      "text/plain": [
       "Correct"
      ]
     },
     "metadata": {},
     "output_type": "display_data"
    }
   ],
   "source": [
    "price_extremes = reviews.groupby('variety').price.agg([min, max])\n",
    "\n",
    "# Check your answer\n",
    "q3.check()"
   ]
  },
  {
   "cell_type": "code",
   "execution_count": 9,
   "id": "42c13bf8",
   "metadata": {
    "execution": {
     "iopub.execute_input": "2022-06-27T11:23:01.165611Z",
     "iopub.status.busy": "2022-06-27T11:23:01.165233Z",
     "iopub.status.idle": "2022-06-27T11:23:01.182753Z",
     "shell.execute_reply": "2022-06-27T11:23:01.181680Z"
    },
    "papermill": {
     "duration": 0.030235,
     "end_time": "2022-06-27T11:23:01.185105",
     "exception": false,
     "start_time": "2022-06-27T11:23:01.154870",
     "status": "completed"
    },
    "tags": []
   },
   "outputs": [
    {
     "data": {
      "text/html": [
       "<div>\n",
       "<style scoped>\n",
       "    .dataframe tbody tr th:only-of-type {\n",
       "        vertical-align: middle;\n",
       "    }\n",
       "\n",
       "    .dataframe tbody tr th {\n",
       "        vertical-align: top;\n",
       "    }\n",
       "\n",
       "    .dataframe thead th {\n",
       "        text-align: right;\n",
       "    }\n",
       "</style>\n",
       "<table border=\"1\" class=\"dataframe\">\n",
       "  <thead>\n",
       "    <tr style=\"text-align: right;\">\n",
       "      <th></th>\n",
       "      <th>min</th>\n",
       "      <th>max</th>\n",
       "    </tr>\n",
       "    <tr>\n",
       "      <th>variety</th>\n",
       "      <th></th>\n",
       "      <th></th>\n",
       "    </tr>\n",
       "  </thead>\n",
       "  <tbody>\n",
       "    <tr>\n",
       "      <th>Abouriou</th>\n",
       "      <td>15.0</td>\n",
       "      <td>75.0</td>\n",
       "    </tr>\n",
       "    <tr>\n",
       "      <th>Agiorgitiko</th>\n",
       "      <td>10.0</td>\n",
       "      <td>66.0</td>\n",
       "    </tr>\n",
       "    <tr>\n",
       "      <th>Aglianico</th>\n",
       "      <td>6.0</td>\n",
       "      <td>180.0</td>\n",
       "    </tr>\n",
       "    <tr>\n",
       "      <th>Aidani</th>\n",
       "      <td>27.0</td>\n",
       "      <td>27.0</td>\n",
       "    </tr>\n",
       "    <tr>\n",
       "      <th>Airen</th>\n",
       "      <td>8.0</td>\n",
       "      <td>10.0</td>\n",
       "    </tr>\n",
       "    <tr>\n",
       "      <th>...</th>\n",
       "      <td>...</td>\n",
       "      <td>...</td>\n",
       "    </tr>\n",
       "    <tr>\n",
       "      <th>Zinfandel</th>\n",
       "      <td>5.0</td>\n",
       "      <td>100.0</td>\n",
       "    </tr>\n",
       "    <tr>\n",
       "      <th>Zlahtina</th>\n",
       "      <td>13.0</td>\n",
       "      <td>16.0</td>\n",
       "    </tr>\n",
       "    <tr>\n",
       "      <th>Zweigelt</th>\n",
       "      <td>9.0</td>\n",
       "      <td>70.0</td>\n",
       "    </tr>\n",
       "    <tr>\n",
       "      <th>Çalkarası</th>\n",
       "      <td>19.0</td>\n",
       "      <td>19.0</td>\n",
       "    </tr>\n",
       "    <tr>\n",
       "      <th>Žilavka</th>\n",
       "      <td>15.0</td>\n",
       "      <td>15.0</td>\n",
       "    </tr>\n",
       "  </tbody>\n",
       "</table>\n",
       "<p>707 rows × 2 columns</p>\n",
       "</div>"
      ],
      "text/plain": [
       "              min    max\n",
       "variety                 \n",
       "Abouriou     15.0   75.0\n",
       "Agiorgitiko  10.0   66.0\n",
       "Aglianico     6.0  180.0\n",
       "Aidani       27.0   27.0\n",
       "Airen         8.0   10.0\n",
       "...           ...    ...\n",
       "Zinfandel     5.0  100.0\n",
       "Zlahtina     13.0   16.0\n",
       "Zweigelt      9.0   70.0\n",
       "Çalkarası    19.0   19.0\n",
       "Žilavka      15.0   15.0\n",
       "\n",
       "[707 rows x 2 columns]"
      ]
     },
     "execution_count": 9,
     "metadata": {},
     "output_type": "execute_result"
    }
   ],
   "source": [
    "price_extremes"
   ]
  },
  {
   "cell_type": "code",
   "execution_count": 10,
   "id": "5c7fbbb9",
   "metadata": {
    "execution": {
     "iopub.execute_input": "2022-06-27T11:23:01.206461Z",
     "iopub.status.busy": "2022-06-27T11:23:01.205641Z",
     "iopub.status.idle": "2022-06-27T11:23:01.209821Z",
     "shell.execute_reply": "2022-06-27T11:23:01.208700Z"
    },
    "papermill": {
     "duration": 0.016837,
     "end_time": "2022-06-27T11:23:01.211858",
     "exception": false,
     "start_time": "2022-06-27T11:23:01.195021",
     "status": "completed"
    },
    "tags": []
   },
   "outputs": [],
   "source": [
    "#q3.hint()\n",
    "#q3.solution()"
   ]
  },
  {
   "cell_type": "markdown",
   "id": "e01e684c",
   "metadata": {
    "papermill": {
     "duration": 0.009147,
     "end_time": "2022-06-27T11:23:01.230299",
     "exception": false,
     "start_time": "2022-06-27T11:23:01.221152",
     "status": "completed"
    },
    "tags": []
   },
   "source": [
    "## 4.\n",
    "What are the most expensive wine varieties? Create a variable `sorted_varieties` containing a copy of the dataframe from the previous question where varieties are sorted in descending order based on minimum price, then on maximum price (to break ties)."
   ]
  },
  {
   "cell_type": "code",
   "execution_count": 11,
   "id": "360da092",
   "metadata": {
    "execution": {
     "iopub.execute_input": "2022-06-27T11:23:01.251028Z",
     "iopub.status.busy": "2022-06-27T11:23:01.250483Z",
     "iopub.status.idle": "2022-06-27T11:23:01.259395Z",
     "shell.execute_reply": "2022-06-27T11:23:01.258732Z"
    },
    "papermill": {
     "duration": 0.021343,
     "end_time": "2022-06-27T11:23:01.261230",
     "exception": false,
     "start_time": "2022-06-27T11:23:01.239887",
     "status": "completed"
    },
    "tags": []
   },
   "outputs": [
    {
     "data": {
      "application/javascript": [
       "parent.postMessage({\"jupyterEvent\": \"custom.exercise_interaction\", \"data\": {\"outcomeType\": 1, \"valueTowardsCompletion\": 0.16666666666666666, \"interactionType\": 1, \"questionType\": 1, \"questionId\": \"4_SortedVarieties\", \"learnToolsVersion\": \"0.3.4\", \"failureMessage\": \"\", \"exceptionClass\": \"\", \"trace\": \"\"}}, \"*\")"
      ],
      "text/plain": [
       "<IPython.core.display.Javascript object>"
      ]
     },
     "metadata": {},
     "output_type": "display_data"
    },
    {
     "data": {
      "text/markdown": [
       "<span style=\"color:#33cc33\">Correct</span>"
      ],
      "text/plain": [
       "Correct"
      ]
     },
     "metadata": {},
     "output_type": "display_data"
    }
   ],
   "source": [
    "sorted_varieties = price_extremes.sort_values(by=['min', 'max'], ascending=False)\n",
    "# Check your answer\n",
    "q4.check()"
   ]
  },
  {
   "cell_type": "code",
   "execution_count": 12,
   "id": "e5136d7a",
   "metadata": {
    "execution": {
     "iopub.execute_input": "2022-06-27T11:23:01.281793Z",
     "iopub.status.busy": "2022-06-27T11:23:01.281298Z",
     "iopub.status.idle": "2022-06-27T11:23:01.295173Z",
     "shell.execute_reply": "2022-06-27T11:23:01.294440Z"
    },
    "papermill": {
     "duration": 0.026456,
     "end_time": "2022-06-27T11:23:01.297105",
     "exception": false,
     "start_time": "2022-06-27T11:23:01.270649",
     "status": "completed"
    },
    "tags": []
   },
   "outputs": [
    {
     "data": {
      "text/html": [
       "<div>\n",
       "<style scoped>\n",
       "    .dataframe tbody tr th:only-of-type {\n",
       "        vertical-align: middle;\n",
       "    }\n",
       "\n",
       "    .dataframe tbody tr th {\n",
       "        vertical-align: top;\n",
       "    }\n",
       "\n",
       "    .dataframe thead th {\n",
       "        text-align: right;\n",
       "    }\n",
       "</style>\n",
       "<table border=\"1\" class=\"dataframe\">\n",
       "  <thead>\n",
       "    <tr style=\"text-align: right;\">\n",
       "      <th></th>\n",
       "      <th>min</th>\n",
       "      <th>max</th>\n",
       "    </tr>\n",
       "    <tr>\n",
       "      <th>variety</th>\n",
       "      <th></th>\n",
       "      <th></th>\n",
       "    </tr>\n",
       "  </thead>\n",
       "  <tbody>\n",
       "    <tr>\n",
       "      <th>Vermentino Nero</th>\n",
       "      <td>45.0</td>\n",
       "      <td>45.0</td>\n",
       "    </tr>\n",
       "    <tr>\n",
       "      <th>Malbec-Carménère</th>\n",
       "      <td>43.0</td>\n",
       "      <td>43.0</td>\n",
       "    </tr>\n",
       "    <tr>\n",
       "      <th>Madeira Blend</th>\n",
       "      <td>42.0</td>\n",
       "      <td>49.0</td>\n",
       "    </tr>\n",
       "    <tr>\n",
       "      <th>Albarossa</th>\n",
       "      <td>40.0</td>\n",
       "      <td>40.0</td>\n",
       "    </tr>\n",
       "    <tr>\n",
       "      <th>Colorino</th>\n",
       "      <td>40.0</td>\n",
       "      <td>40.0</td>\n",
       "    </tr>\n",
       "    <tr>\n",
       "      <th>Favorita</th>\n",
       "      <td>40.0</td>\n",
       "      <td>40.0</td>\n",
       "    </tr>\n",
       "    <tr>\n",
       "      <th>Früburgunder</th>\n",
       "      <td>40.0</td>\n",
       "      <td>40.0</td>\n",
       "    </tr>\n",
       "    <tr>\n",
       "      <th>Moscato di Noto</th>\n",
       "      <td>40.0</td>\n",
       "      <td>40.0</td>\n",
       "    </tr>\n",
       "    <tr>\n",
       "      <th>Riesling-Chardonnay</th>\n",
       "      <td>40.0</td>\n",
       "      <td>40.0</td>\n",
       "    </tr>\n",
       "    <tr>\n",
       "      <th>Ryzlink Rýnský</th>\n",
       "      <td>40.0</td>\n",
       "      <td>40.0</td>\n",
       "    </tr>\n",
       "    <tr>\n",
       "      <th>Torontel</th>\n",
       "      <td>40.0</td>\n",
       "      <td>40.0</td>\n",
       "    </tr>\n",
       "    <tr>\n",
       "      <th>Vespaiolo</th>\n",
       "      <td>40.0</td>\n",
       "      <td>40.0</td>\n",
       "    </tr>\n",
       "    <tr>\n",
       "      <th>White Port</th>\n",
       "      <td>40.0</td>\n",
       "      <td>40.0</td>\n",
       "    </tr>\n",
       "    <tr>\n",
       "      <th>Cabernet Franc-Malbec</th>\n",
       "      <td>38.0</td>\n",
       "      <td>120.0</td>\n",
       "    </tr>\n",
       "    <tr>\n",
       "      <th>Malbec Blend</th>\n",
       "      <td>38.0</td>\n",
       "      <td>95.0</td>\n",
       "    </tr>\n",
       "    <tr>\n",
       "      <th>Verduzzo Friulano</th>\n",
       "      <td>36.0</td>\n",
       "      <td>69.0</td>\n",
       "    </tr>\n",
       "    <tr>\n",
       "      <th>Argaman</th>\n",
       "      <td>36.0</td>\n",
       "      <td>48.0</td>\n",
       "    </tr>\n",
       "    <tr>\n",
       "      <th>Centesimino</th>\n",
       "      <td>36.0</td>\n",
       "      <td>36.0</td>\n",
       "    </tr>\n",
       "    <tr>\n",
       "      <th>Debit</th>\n",
       "      <td>35.0</td>\n",
       "      <td>130.0</td>\n",
       "    </tr>\n",
       "    <tr>\n",
       "      <th>Syrah-Petit Verdot</th>\n",
       "      <td>35.0</td>\n",
       "      <td>49.0</td>\n",
       "    </tr>\n",
       "    <tr>\n",
       "      <th>Rieslaner</th>\n",
       "      <td>35.0</td>\n",
       "      <td>47.0</td>\n",
       "    </tr>\n",
       "    <tr>\n",
       "      <th>Gelber Traminer</th>\n",
       "      <td>35.0</td>\n",
       "      <td>35.0</td>\n",
       "    </tr>\n",
       "    <tr>\n",
       "      <th>Marawi</th>\n",
       "      <td>35.0</td>\n",
       "      <td>35.0</td>\n",
       "    </tr>\n",
       "    <tr>\n",
       "      <th>Meseguera</th>\n",
       "      <td>35.0</td>\n",
       "      <td>35.0</td>\n",
       "    </tr>\n",
       "    <tr>\n",
       "      <th>Pinot Grigio-Sauvignon Blanc</th>\n",
       "      <td>35.0</td>\n",
       "      <td>35.0</td>\n",
       "    </tr>\n",
       "  </tbody>\n",
       "</table>\n",
       "</div>"
      ],
      "text/plain": [
       "                               min    max\n",
       "variety                                  \n",
       "Vermentino Nero               45.0   45.0\n",
       "Malbec-Carménère              43.0   43.0\n",
       "Madeira Blend                 42.0   49.0\n",
       "Albarossa                     40.0   40.0\n",
       "Colorino                      40.0   40.0\n",
       "Favorita                      40.0   40.0\n",
       "Früburgunder                  40.0   40.0\n",
       "Moscato di Noto               40.0   40.0\n",
       "Riesling-Chardonnay           40.0   40.0\n",
       "Ryzlink Rýnský                40.0   40.0\n",
       "Torontel                      40.0   40.0\n",
       "Vespaiolo                     40.0   40.0\n",
       "White Port                    40.0   40.0\n",
       "Cabernet Franc-Malbec         38.0  120.0\n",
       "Malbec Blend                  38.0   95.0\n",
       "Verduzzo Friulano             36.0   69.0\n",
       "Argaman                       36.0   48.0\n",
       "Centesimino                   36.0   36.0\n",
       "Debit                         35.0  130.0\n",
       "Syrah-Petit Verdot            35.0   49.0\n",
       "Rieslaner                     35.0   47.0\n",
       "Gelber Traminer               35.0   35.0\n",
       "Marawi                        35.0   35.0\n",
       "Meseguera                     35.0   35.0\n",
       "Pinot Grigio-Sauvignon Blanc  35.0   35.0"
      ]
     },
     "execution_count": 12,
     "metadata": {},
     "output_type": "execute_result"
    }
   ],
   "source": [
    "sorted_varieties[20:45]"
   ]
  },
  {
   "cell_type": "code",
   "execution_count": 13,
   "id": "960518c3",
   "metadata": {
    "execution": {
     "iopub.execute_input": "2022-06-27T11:23:01.319548Z",
     "iopub.status.busy": "2022-06-27T11:23:01.319001Z",
     "iopub.status.idle": "2022-06-27T11:23:01.322175Z",
     "shell.execute_reply": "2022-06-27T11:23:01.321548Z"
    },
    "papermill": {
     "duration": 0.016758,
     "end_time": "2022-06-27T11:23:01.323985",
     "exception": false,
     "start_time": "2022-06-27T11:23:01.307227",
     "status": "completed"
    },
    "tags": []
   },
   "outputs": [],
   "source": [
    "#q4.hint()\n",
    "#q4.solution()"
   ]
  },
  {
   "cell_type": "markdown",
   "id": "709d69fc",
   "metadata": {
    "papermill": {
     "duration": 0.009986,
     "end_time": "2022-06-27T11:23:01.345155",
     "exception": false,
     "start_time": "2022-06-27T11:23:01.335169",
     "status": "completed"
    },
    "tags": []
   },
   "source": [
    "## 5.\n",
    "Create a `Series` whose index is reviewers and whose values is the average review score given out by that reviewer. Hint: you will need the `taster_name` and `points` columns."
   ]
  },
  {
   "cell_type": "code",
   "execution_count": 14,
   "id": "71bf4e7b",
   "metadata": {
    "execution": {
     "iopub.execute_input": "2022-06-27T11:23:01.366924Z",
     "iopub.status.busy": "2022-06-27T11:23:01.366360Z",
     "iopub.status.idle": "2022-06-27T11:23:01.391257Z",
     "shell.execute_reply": "2022-06-27T11:23:01.390565Z"
    },
    "papermill": {
     "duration": 0.038383,
     "end_time": "2022-06-27T11:23:01.393432",
     "exception": false,
     "start_time": "2022-06-27T11:23:01.355049",
     "status": "completed"
    },
    "tags": []
   },
   "outputs": [
    {
     "data": {
      "application/javascript": [
       "parent.postMessage({\"jupyterEvent\": \"custom.exercise_interaction\", \"data\": {\"outcomeType\": 1, \"valueTowardsCompletion\": 0.16666666666666666, \"interactionType\": 1, \"questionType\": 1, \"questionId\": \"5_ReviewerMeanRatings\", \"learnToolsVersion\": \"0.3.4\", \"failureMessage\": \"\", \"exceptionClass\": \"\", \"trace\": \"\"}}, \"*\")"
      ],
      "text/plain": [
       "<IPython.core.display.Javascript object>"
      ]
     },
     "metadata": {},
     "output_type": "display_data"
    },
    {
     "data": {
      "text/markdown": [
       "<span style=\"color:#33cc33\">Correct</span>"
      ],
      "text/plain": [
       "Correct"
      ]
     },
     "metadata": {},
     "output_type": "display_data"
    }
   ],
   "source": [
    "reviewer_mean_ratings = reviews.groupby('taster_name').points.mean()\n",
    "\n",
    "# Check your answer\n",
    "q5.check()"
   ]
  },
  {
   "cell_type": "code",
   "execution_count": 15,
   "id": "a1ae82bf",
   "metadata": {
    "execution": {
     "iopub.execute_input": "2022-06-27T11:23:01.415916Z",
     "iopub.status.busy": "2022-06-27T11:23:01.415535Z",
     "iopub.status.idle": "2022-06-27T11:23:01.423047Z",
     "shell.execute_reply": "2022-06-27T11:23:01.422069Z"
    },
    "papermill": {
     "duration": 0.021539,
     "end_time": "2022-06-27T11:23:01.425391",
     "exception": false,
     "start_time": "2022-06-27T11:23:01.403852",
     "status": "completed"
    },
    "tags": []
   },
   "outputs": [
    {
     "data": {
      "text/plain": [
       "taster_name\n",
       "Alexander Peartree    85.855422\n",
       "Anna Lee C. Iijima    88.415629\n",
       "Anne Krebiehl MW      90.562551\n",
       "Carrie Dykes          86.395683\n",
       "Christina Pickard     87.833333\n",
       "Fiona Adams           86.888889\n",
       "Jeff Jenssen          88.319756\n",
       "Jim Gordon            88.626287\n",
       "Joe Czerwinski        88.536235\n",
       "Kerin O’Keefe         88.867947\n",
       "Lauren Buzzeo         87.739510\n",
       "Matt Kettmann         90.008686\n",
       "Michael Schachner     86.907493\n",
       "Mike DeSimone         89.101167\n",
       "Paul Gregutt          89.082564\n",
       "Roger Voss            88.708003\n",
       "Sean P. Sullivan      88.755739\n",
       "Susan Kostrzewa       86.609217\n",
       "Virginie Boone        89.213379\n",
       "Name: points, dtype: float64"
      ]
     },
     "execution_count": 15,
     "metadata": {},
     "output_type": "execute_result"
    }
   ],
   "source": [
    "reviewer_mean_ratings"
   ]
  },
  {
   "cell_type": "code",
   "execution_count": 16,
   "id": "98c7583c",
   "metadata": {
    "execution": {
     "iopub.execute_input": "2022-06-27T11:23:01.448401Z",
     "iopub.status.busy": "2022-06-27T11:23:01.448031Z",
     "iopub.status.idle": "2022-06-27T11:23:01.451955Z",
     "shell.execute_reply": "2022-06-27T11:23:01.450936Z"
    },
    "papermill": {
     "duration": 0.018014,
     "end_time": "2022-06-27T11:23:01.454148",
     "exception": false,
     "start_time": "2022-06-27T11:23:01.436134",
     "status": "completed"
    },
    "tags": []
   },
   "outputs": [],
   "source": [
    "#q5.hint()\n",
    "#q5.solution()"
   ]
  },
  {
   "cell_type": "markdown",
   "id": "dad3cfd8",
   "metadata": {
    "papermill": {
     "duration": 0.010169,
     "end_time": "2022-06-27T11:23:01.474981",
     "exception": false,
     "start_time": "2022-06-27T11:23:01.464812",
     "status": "completed"
    },
    "tags": []
   },
   "source": [
    "Are there significant differences in the average scores assigned by the various reviewers? Run the cell below to use the `describe()` method to see a summary of the range of values."
   ]
  },
  {
   "cell_type": "code",
   "execution_count": 17,
   "id": "4333ca98",
   "metadata": {
    "execution": {
     "iopub.execute_input": "2022-06-27T11:23:01.497617Z",
     "iopub.status.busy": "2022-06-27T11:23:01.497242Z",
     "iopub.status.idle": "2022-06-27T11:23:01.508949Z",
     "shell.execute_reply": "2022-06-27T11:23:01.508023Z"
    },
    "papermill": {
     "duration": 0.025663,
     "end_time": "2022-06-27T11:23:01.511141",
     "exception": false,
     "start_time": "2022-06-27T11:23:01.485478",
     "status": "completed"
    },
    "tags": []
   },
   "outputs": [
    {
     "data": {
      "text/plain": [
       "count    19.000000\n",
       "mean     88.233026\n",
       "std       1.243610\n",
       "min      85.855422\n",
       "25%      87.323501\n",
       "50%      88.536235\n",
       "75%      88.975256\n",
       "max      90.562551\n",
       "Name: points, dtype: float64"
      ]
     },
     "execution_count": 17,
     "metadata": {},
     "output_type": "execute_result"
    }
   ],
   "source": [
    "reviewer_mean_ratings.describe()"
   ]
  },
  {
   "cell_type": "markdown",
   "id": "4dfeae4d",
   "metadata": {
    "papermill": {
     "duration": 0.010136,
     "end_time": "2022-06-27T11:23:01.531914",
     "exception": false,
     "start_time": "2022-06-27T11:23:01.521778",
     "status": "completed"
    },
    "tags": []
   },
   "source": [
    "## 6.\n",
    "What combination of countries and varieties are most common? Create a `Series` whose index is a `MultiIndex`of `{country, variety}` pairs. For example, a pinot noir produced in the US should map to `{\"US\", \"Pinot Noir\"}`. Sort the values in the `Series` in descending order based on wine count."
   ]
  },
  {
   "cell_type": "code",
   "execution_count": 18,
   "id": "01ea8d94",
   "metadata": {
    "execution": {
     "iopub.execute_input": "2022-06-27T11:23:01.554782Z",
     "iopub.status.busy": "2022-06-27T11:23:01.553928Z",
     "iopub.status.idle": "2022-06-27T11:23:01.602578Z",
     "shell.execute_reply": "2022-06-27T11:23:01.601508Z"
    },
    "papermill": {
     "duration": 0.062439,
     "end_time": "2022-06-27T11:23:01.604881",
     "exception": false,
     "start_time": "2022-06-27T11:23:01.542442",
     "status": "completed"
    },
    "tags": []
   },
   "outputs": [
    {
     "data": {
      "application/javascript": [
       "parent.postMessage({\"jupyterEvent\": \"custom.exercise_interaction\", \"data\": {\"outcomeType\": 1, \"valueTowardsCompletion\": 0.16666666666666666, \"interactionType\": 1, \"questionType\": 1, \"questionId\": \"6_GroupbyCountryVariety\", \"learnToolsVersion\": \"0.3.4\", \"failureMessage\": \"\", \"exceptionClass\": \"\", \"trace\": \"\"}}, \"*\")"
      ],
      "text/plain": [
       "<IPython.core.display.Javascript object>"
      ]
     },
     "metadata": {},
     "output_type": "display_data"
    },
    {
     "data": {
      "text/markdown": [
       "<span style=\"color:#33cc33\">Correct</span>"
      ],
      "text/plain": [
       "Correct"
      ]
     },
     "metadata": {},
     "output_type": "display_data"
    }
   ],
   "source": [
    "country_variety_counts = reviews.groupby(['country', 'variety']).size().sort_values(ascending=False)\n",
    "\n",
    "# Check your answer\n",
    "q6.check()"
   ]
  },
  {
   "cell_type": "code",
   "execution_count": 19,
   "id": "3f2724a0",
   "metadata": {
    "execution": {
     "iopub.execute_input": "2022-06-27T11:23:01.628060Z",
     "iopub.status.busy": "2022-06-27T11:23:01.627428Z",
     "iopub.status.idle": "2022-06-27T11:23:01.637893Z",
     "shell.execute_reply": "2022-06-27T11:23:01.636833Z"
    },
    "papermill": {
     "duration": 0.024638,
     "end_time": "2022-06-27T11:23:01.640177",
     "exception": false,
     "start_time": "2022-06-27T11:23:01.615539",
     "status": "completed"
    },
    "tags": []
   },
   "outputs": [
    {
     "data": {
      "text/plain": [
       "country  variety                 \n",
       "US       Pinot Noir                  9885\n",
       "         Cabernet Sauvignon          7315\n",
       "         Chardonnay                  6801\n",
       "France   Bordeaux-style Red Blend    4725\n",
       "Italy    Red Blend                   3624\n",
       "                                     ... \n",
       "Mexico   Cinsault                       1\n",
       "         Grenache                       1\n",
       "         Merlot                         1\n",
       "         Rosado                         1\n",
       "Uruguay  White Blend                    1\n",
       "Length: 1612, dtype: int64"
      ]
     },
     "execution_count": 19,
     "metadata": {},
     "output_type": "execute_result"
    }
   ],
   "source": [
    "country_variety_counts"
   ]
  },
  {
   "cell_type": "code",
   "execution_count": 20,
   "id": "2f86fc71",
   "metadata": {
    "execution": {
     "iopub.execute_input": "2022-06-27T11:23:01.663867Z",
     "iopub.status.busy": "2022-06-27T11:23:01.663480Z",
     "iopub.status.idle": "2022-06-27T11:23:01.667416Z",
     "shell.execute_reply": "2022-06-27T11:23:01.666333Z"
    },
    "papermill": {
     "duration": 0.018363,
     "end_time": "2022-06-27T11:23:01.669528",
     "exception": false,
     "start_time": "2022-06-27T11:23:01.651165",
     "status": "completed"
    },
    "tags": []
   },
   "outputs": [],
   "source": [
    "#q6.hint()\n",
    "#q6.solution()"
   ]
  },
  {
   "cell_type": "markdown",
   "id": "552ec68d",
   "metadata": {
    "papermill": {
     "duration": 0.010533,
     "end_time": "2022-06-27T11:23:01.691015",
     "exception": false,
     "start_time": "2022-06-27T11:23:01.680482",
     "status": "completed"
    },
    "tags": []
   },
   "source": [
    "# Keep going\n",
    "\n",
    "Move on to the [**data types and missing data**](https://www.kaggle.com/residentmario/data-types-and-missing-values)."
   ]
  },
  {
   "cell_type": "markdown",
   "id": "f09eaec2",
   "metadata": {
    "papermill": {
     "duration": 0.010392,
     "end_time": "2022-06-27T11:23:01.712106",
     "exception": false,
     "start_time": "2022-06-27T11:23:01.701714",
     "status": "completed"
    },
    "tags": []
   },
   "source": [
    "---\n",
    "\n",
    "\n",
    "\n",
    "\n",
    "*Have questions or comments? Visit the [course discussion forum](https://www.kaggle.com/learn/pandas/discussion) to chat with other learners.*"
   ]
  }
 ],
 "metadata": {
  "kernelspec": {
   "display_name": "Python 3",
   "language": "python",
   "name": "python3"
  },
  "language_info": {
   "codemirror_mode": {
    "name": "ipython",
    "version": 3
   },
   "file_extension": ".py",
   "mimetype": "text/x-python",
   "name": "python",
   "nbconvert_exporter": "python",
   "pygments_lexer": "ipython3",
   "version": "3.7.12"
  },
  "papermill": {
   "default_parameters": {},
   "duration": 14.035642,
   "end_time": "2022-06-27T11:23:02.342647",
   "environment_variables": {},
   "exception": null,
   "input_path": "__notebook__.ipynb",
   "output_path": "__notebook__.ipynb",
   "parameters": {},
   "start_time": "2022-06-27T11:22:48.307005",
   "version": "2.3.4"
  }
 },
 "nbformat": 4,
 "nbformat_minor": 5
}
