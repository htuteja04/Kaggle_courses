{
 "cells": [
  {
   "cell_type": "markdown",
   "id": "ca1ca99c",
   "metadata": {
    "papermill": {
     "duration": 0.009111,
     "end_time": "2022-06-20T12:50:31.778089",
     "exception": false,
     "start_time": "2022-06-20T12:50:31.768978",
     "status": "completed"
    },
    "tags": []
   },
   "source": [
    "**This notebook is an exercise in the [Python](https://www.kaggle.com/learn/python) course.  You can reference the tutorial at [this link](https://www.kaggle.com/colinmorris/loops-and-list-comprehensions).**\n",
    "\n",
    "---\n"
   ]
  },
  {
   "cell_type": "markdown",
   "id": "9ab20b13",
   "metadata": {
    "papermill": {
     "duration": 0.005873,
     "end_time": "2022-06-20T12:50:31.789988",
     "exception": false,
     "start_time": "2022-06-20T12:50:31.784115",
     "status": "completed"
    },
    "tags": []
   },
   "source": [
    "With all you've learned, you can start writing much more interesting programs. See if you can solve the problems below.\n",
    "\n",
    "As always, run the setup code below before working on the questions."
   ]
  },
  {
   "cell_type": "code",
   "execution_count": 1,
   "id": "b3910fcc",
   "metadata": {
    "execution": {
     "iopub.execute_input": "2022-06-20T12:50:31.804444Z",
     "iopub.status.busy": "2022-06-20T12:50:31.803602Z",
     "iopub.status.idle": "2022-06-20T12:50:31.852735Z",
     "shell.execute_reply": "2022-06-20T12:50:31.851896Z"
    },
    "papermill": {
     "duration": 0.059178,
     "end_time": "2022-06-20T12:50:31.855028",
     "exception": false,
     "start_time": "2022-06-20T12:50:31.795850",
     "status": "completed"
    },
    "tags": []
   },
   "outputs": [
    {
     "name": "stdout",
     "output_type": "stream",
     "text": [
      "Setup complete.\n"
     ]
    }
   ],
   "source": [
    "from learntools.core import binder; binder.bind(globals())\n",
    "from learntools.python.ex5 import *\n",
    "print('Setup complete.')"
   ]
  },
  {
   "cell_type": "markdown",
   "id": "3a6cebf0",
   "metadata": {
    "papermill": {
     "duration": 0.00589,
     "end_time": "2022-06-20T12:50:31.867474",
     "exception": false,
     "start_time": "2022-06-20T12:50:31.861584",
     "status": "completed"
    },
    "tags": []
   },
   "source": [
    "# 1.\n",
    "\n",
    "Have you ever felt debugging involved a bit of luck? The following program has a bug. Try to identify the bug and fix it."
   ]
  },
  {
   "cell_type": "code",
   "execution_count": 2,
   "id": "4eabb2c2",
   "metadata": {
    "execution": {
     "iopub.execute_input": "2022-06-20T12:50:31.881216Z",
     "iopub.status.busy": "2022-06-20T12:50:31.880696Z",
     "iopub.status.idle": "2022-06-20T12:50:31.885842Z",
     "shell.execute_reply": "2022-06-20T12:50:31.885085Z"
    },
    "papermill": {
     "duration": 0.014437,
     "end_time": "2022-06-20T12:50:31.887884",
     "exception": false,
     "start_time": "2022-06-20T12:50:31.873447",
     "status": "completed"
    },
    "tags": []
   },
   "outputs": [],
   "source": [
    "def has_lucky_number(nums):\n",
    "    \"\"\"Return whether the given list of numbers is lucky. A lucky list contains\n",
    "    at least one number divisible by 7.\n",
    "    \"\"\"\n",
    "    for num in nums:\n",
    "        if num % 7 == 0:\n",
    "            return True\n",
    "        else:\n",
    "            return False"
   ]
  },
  {
   "cell_type": "markdown",
   "id": "f6cb3dbe",
   "metadata": {
    "papermill": {
     "duration": 0.005934,
     "end_time": "2022-06-20T12:50:31.900097",
     "exception": false,
     "start_time": "2022-06-20T12:50:31.894163",
     "status": "completed"
    },
    "tags": []
   },
   "source": [
    "Try to identify the bug and fix it in the cell below:"
   ]
  },
  {
   "cell_type": "code",
   "execution_count": 3,
   "id": "c78d72b2",
   "metadata": {
    "execution": {
     "iopub.execute_input": "2022-06-20T12:50:31.914771Z",
     "iopub.status.busy": "2022-06-20T12:50:31.914247Z",
     "iopub.status.idle": "2022-06-20T12:50:31.924202Z",
     "shell.execute_reply": "2022-06-20T12:50:31.923355Z"
    },
    "papermill": {
     "duration": 0.019853,
     "end_time": "2022-06-20T12:50:31.926194",
     "exception": false,
     "start_time": "2022-06-20T12:50:31.906341",
     "status": "completed"
    },
    "tags": []
   },
   "outputs": [
    {
     "data": {
      "application/javascript": [
       "parent.postMessage({\"jupyterEvent\": \"custom.exercise_interaction\", \"data\": {\"outcomeType\": 1, \"valueTowardsCompletion\": 0.25, \"interactionType\": 1, \"questionType\": 2, \"questionId\": \"1_EarlyExitDebugging\", \"learnToolsVersion\": \"0.3.4\", \"failureMessage\": \"\", \"exceptionClass\": \"\", \"trace\": \"\"}}, \"*\")"
      ],
      "text/plain": [
       "<IPython.core.display.Javascript object>"
      ]
     },
     "metadata": {},
     "output_type": "display_data"
    },
    {
     "data": {
      "text/markdown": [
       "<span style=\"color:#33cc33\">Correct:</span> \n",
       "\n",
       "Remember that `return` causes a function to exit immediately. So our original implementation always ran for just one iteration. We can only return `False` if we've looked at every element of the list (and confirmed that none of them are lucky). Though we can return early if the answer is `True`:\n",
       "\n",
       "```python\n",
       "def has_lucky_number(nums):\n",
       "    for num in nums:\n",
       "        if num % 7 == 0:\n",
       "            return True\n",
       "    # We've exhausted the list without finding a lucky number\n",
       "    return False\n",
       "```\n",
       "\n",
       "Here's a one-line version using a list comprehension with Python's `any` function (you can read about what it does by calling `help(any)`):\n",
       "\n",
       "```python\n",
       "def has_lucky_number(nums):\n",
       "    return any([num % 7 == 0 for num in nums])\n",
       "```\n"
      ],
      "text/plain": [
       "Correct: \n",
       "\n",
       "Remember that `return` causes a function to exit immediately. So our original implementation always ran for just one iteration. We can only return `False` if we've looked at every element of the list (and confirmed that none of them are lucky). Though we can return early if the answer is `True`:\n",
       "\n",
       "```python\n",
       "def has_lucky_number(nums):\n",
       "    for num in nums:\n",
       "        if num % 7 == 0:\n",
       "            return True\n",
       "    # We've exhausted the list without finding a lucky number\n",
       "    return False\n",
       "```\n",
       "\n",
       "Here's a one-line version using a list comprehension with Python's `any` function (you can read about what it does by calling `help(any)`):\n",
       "\n",
       "```python\n",
       "def has_lucky_number(nums):\n",
       "    return any([num % 7 == 0 for num in nums])\n",
       "```"
      ]
     },
     "metadata": {},
     "output_type": "display_data"
    }
   ],
   "source": [
    "def has_lucky_number(nums):\n",
    "    \n",
    "    \"\"\"Return whether the given list of numbers is lucky. A lucky list contains\n",
    "    at least one number divisible by 7.\n",
    "    \"\"\"\n",
    "    for num in nums:\n",
    "        if num % 7 == 0:\n",
    "            return True\n",
    "    return False\n",
    "q1.check()"
   ]
  },
  {
   "cell_type": "code",
   "execution_count": 4,
   "id": "27de658a",
   "metadata": {
    "execution": {
     "iopub.execute_input": "2022-06-20T12:50:31.940728Z",
     "iopub.status.busy": "2022-06-20T12:50:31.940224Z",
     "iopub.status.idle": "2022-06-20T12:50:31.943521Z",
     "shell.execute_reply": "2022-06-20T12:50:31.942842Z"
    },
    "papermill": {
     "duration": 0.012785,
     "end_time": "2022-06-20T12:50:31.945491",
     "exception": false,
     "start_time": "2022-06-20T12:50:31.932706",
     "status": "completed"
    },
    "tags": []
   },
   "outputs": [],
   "source": [
    "#q1.hint()\n",
    "#q1.solution()"
   ]
  },
  {
   "cell_type": "markdown",
   "id": "6b362c23",
   "metadata": {
    "papermill": {
     "duration": 0.006095,
     "end_time": "2022-06-20T12:50:31.958112",
     "exception": false,
     "start_time": "2022-06-20T12:50:31.952017",
     "status": "completed"
    },
    "tags": []
   },
   "source": [
    "# 2.\n",
    "Look at the Python expression below. What do you think we'll get when we run it? When you've made your prediction, uncomment the code and run the cell to see if you were right."
   ]
  },
  {
   "cell_type": "code",
   "execution_count": 5,
   "id": "349e47ba",
   "metadata": {
    "execution": {
     "iopub.execute_input": "2022-06-20T12:50:31.972990Z",
     "iopub.status.busy": "2022-06-20T12:50:31.972423Z",
     "iopub.status.idle": "2022-06-20T12:50:32.044910Z",
     "shell.execute_reply": "2022-06-20T12:50:32.043492Z"
    },
    "papermill": {
     "duration": 0.082325,
     "end_time": "2022-06-20T12:50:32.046807",
     "exception": true,
     "start_time": "2022-06-20T12:50:31.964482",
     "status": "failed"
    },
    "tags": []
   },
   "outputs": [
    {
     "ename": "TypeError",
     "evalue": "'>' not supported between instances of 'list' and 'int'",
     "output_type": "error",
     "traceback": [
      "\u001b[0;31m---------------------------------------------------------------------------\u001b[0m",
      "\u001b[0;31mTypeError\u001b[0m                                 Traceback (most recent call last)",
      "\u001b[0;32m/tmp/ipykernel_19/3401052631.py\u001b[0m in \u001b[0;36m<module>\u001b[0;34m\u001b[0m\n\u001b[0;32m----> 1\u001b[0;31m \u001b[0;34m[\u001b[0m\u001b[0;36m1\u001b[0m\u001b[0;34m,\u001b[0m \u001b[0;36m2\u001b[0m\u001b[0;34m,\u001b[0m \u001b[0;36m3\u001b[0m\u001b[0;34m,\u001b[0m \u001b[0;36m4\u001b[0m\u001b[0;34m]\u001b[0m \u001b[0;34m>\u001b[0m \u001b[0;36m2\u001b[0m\u001b[0;34m\u001b[0m\u001b[0;34m\u001b[0m\u001b[0m\n\u001b[0m",
      "\u001b[0;31mTypeError\u001b[0m: '>' not supported between instances of 'list' and 'int'"
     ]
    }
   ],
   "source": [
    "[1, 2, 3, 4] > 2"
   ]
  },
  {
   "cell_type": "markdown",
   "id": "90f97172",
   "metadata": {
    "papermill": {
     "duration": null,
     "end_time": null,
     "exception": null,
     "start_time": null,
     "status": "pending"
    },
    "tags": []
   },
   "source": [
    "R and Python have some libraries (like numpy and pandas) compare each element of the list to 2 (i.e. do an 'element-wise' comparison) and give us a list of booleans like `[False, False, True, True]`. \n",
    "\n",
    "Implement a function that reproduces this behaviour, returning a list of booleans corresponding to whether the corresponding element is greater than n."
   ]
  },
  {
   "cell_type": "code",
   "execution_count": null,
   "id": "0e773849",
   "metadata": {
    "execution": {
     "iopub.execute_input": "2022-06-20T12:40:57.123148Z",
     "iopub.status.busy": "2022-06-20T12:40:57.122588Z",
     "iopub.status.idle": "2022-06-20T12:40:57.135453Z",
     "shell.execute_reply": "2022-06-20T12:40:57.134177Z",
     "shell.execute_reply.started": "2022-06-20T12:40:57.123105Z"
    },
    "papermill": {
     "duration": null,
     "end_time": null,
     "exception": null,
     "start_time": null,
     "status": "pending"
    },
    "tags": []
   },
   "outputs": [],
   "source": [
    "def elementwise_greater_than(L, thresh):\n",
    "    \"\"\"Return a list with the same length as L, where the value at index i is \n",
    "    True if L[i] is greater than thresh, and False otherwise.\n",
    "    \n",
    "    >>> elementwise_greater_than([1, 2, 3, 4], 2)\n",
    "    [False, False, True, True]\n",
    "    \"\"\"\n",
    "    return [i > thresh for i in L]\n",
    "\n",
    "# Check your answer\n",
    "q2.check()"
   ]
  },
  {
   "cell_type": "code",
   "execution_count": null,
   "id": "1bb277f2",
   "metadata": {
    "execution": {
     "iopub.execute_input": "2022-06-20T12:41:13.524327Z",
     "iopub.status.busy": "2022-06-20T12:41:13.523916Z",
     "iopub.status.idle": "2022-06-20T12:41:13.529315Z",
     "shell.execute_reply": "2022-06-20T12:41:13.528266Z",
     "shell.execute_reply.started": "2022-06-20T12:41:13.524295Z"
    },
    "papermill": {
     "duration": null,
     "end_time": null,
     "exception": null,
     "start_time": null,
     "status": "pending"
    },
    "tags": []
   },
   "outputs": [],
   "source": [
    "#q2.solution()"
   ]
  },
  {
   "cell_type": "markdown",
   "id": "28f23c9f",
   "metadata": {
    "papermill": {
     "duration": null,
     "end_time": null,
     "exception": null,
     "start_time": null,
     "status": "pending"
    },
    "tags": []
   },
   "source": [
    "# 3.\n",
    "\n",
    "Complete the body of the function below according to its docstring."
   ]
  },
  {
   "cell_type": "code",
   "execution_count": null,
   "id": "1a13fa7c",
   "metadata": {
    "execution": {
     "iopub.execute_input": "2022-06-20T12:43:45.878186Z",
     "iopub.status.busy": "2022-06-20T12:43:45.877799Z",
     "iopub.status.idle": "2022-06-20T12:43:45.887776Z",
     "shell.execute_reply": "2022-06-20T12:43:45.886927Z",
     "shell.execute_reply.started": "2022-06-20T12:43:45.878155Z"
    },
    "papermill": {
     "duration": null,
     "end_time": null,
     "exception": null,
     "start_time": null,
     "status": "pending"
    },
    "tags": []
   },
   "outputs": [],
   "source": [
    "def menu_is_boring(meals):\n",
    "    \"\"\"Given a list of meals served over some period of time, return True if the\n",
    "    same meal has ever been served two days in a row, and False otherwise.\n",
    "    \"\"\"\n",
    "    for i in range(len(meals)-1):\n",
    "        if meals[i] == meals[i+1]:\n",
    "            return True\n",
    "    return False\n",
    "    pass\n",
    "\n",
    "# Check your answer\n",
    "q3.check()"
   ]
  },
  {
   "cell_type": "code",
   "execution_count": null,
   "id": "e25c3b66",
   "metadata": {
    "execution": {
     "iopub.execute_input": "2022-06-20T12:44:04.358353Z",
     "iopub.status.busy": "2022-06-20T12:44:04.357952Z",
     "iopub.status.idle": "2022-06-20T12:44:04.362762Z",
     "shell.execute_reply": "2022-06-20T12:44:04.362034Z",
     "shell.execute_reply.started": "2022-06-20T12:44:04.358323Z"
    },
    "papermill": {
     "duration": null,
     "end_time": null,
     "exception": null,
     "start_time": null,
     "status": "pending"
    },
    "tags": []
   },
   "outputs": [],
   "source": [
    "#q3.hint()\n",
    "#q3.solution()"
   ]
  },
  {
   "cell_type": "markdown",
   "id": "1265d485",
   "metadata": {
    "papermill": {
     "duration": null,
     "end_time": null,
     "exception": null,
     "start_time": null,
     "status": "pending"
    },
    "tags": []
   },
   "source": [
    "# 4. <span title=\"A bit spicy\" style=\"color: darkgreen \">🌶️</span>\n",
    "\n",
    "Next to the Blackjack table, the Python Challenge Casino has a slot machine. You can get a result from the slot machine by calling `play_slot_machine()`. The number it returns is your winnings in dollars. Usually it returns 0.  But sometimes you'll get lucky and get a big payday. Try running it below:"
   ]
  },
  {
   "cell_type": "code",
   "execution_count": null,
   "id": "e1946a06",
   "metadata": {
    "execution": {
     "iopub.execute_input": "2022-06-20T12:44:19.313184Z",
     "iopub.status.busy": "2022-06-20T12:44:19.312810Z",
     "iopub.status.idle": "2022-06-20T12:44:19.319611Z",
     "shell.execute_reply": "2022-06-20T12:44:19.318745Z",
     "shell.execute_reply.started": "2022-06-20T12:44:19.313155Z"
    },
    "papermill": {
     "duration": null,
     "end_time": null,
     "exception": null,
     "start_time": null,
     "status": "pending"
    },
    "tags": []
   },
   "outputs": [],
   "source": [
    "play_slot_machine()"
   ]
  },
  {
   "cell_type": "markdown",
   "id": "e3c42276",
   "metadata": {
    "papermill": {
     "duration": null,
     "end_time": null,
     "exception": null,
     "start_time": null,
     "status": "pending"
    },
    "tags": []
   },
   "source": [
    "By the way, did we mention that each play costs $1? Don't worry, we'll send you the bill later.\n",
    "\n",
    "On average, how much money can you expect to gain (or lose) every time you play the machine?  The casino keeps it a secret, but you can estimate the average value of each pull using a technique called the **Monte Carlo method**. To estimate the average outcome, we simulate the scenario many times, and return the average result.\n",
    "\n",
    "Complete the following function to calculate the average value per play of the slot machine."
   ]
  },
  {
   "cell_type": "code",
   "execution_count": null,
   "id": "b353db55",
   "metadata": {
    "execution": {
     "iopub.execute_input": "2022-06-20T12:49:50.361655Z",
     "iopub.status.busy": "2022-06-20T12:49:50.361250Z",
     "iopub.status.idle": "2022-06-20T12:49:50.398174Z",
     "shell.execute_reply": "2022-06-20T12:49:50.396795Z",
     "shell.execute_reply.started": "2022-06-20T12:49:50.361624Z"
    },
    "papermill": {
     "duration": null,
     "end_time": null,
     "exception": null,
     "start_time": null,
     "status": "pending"
    },
    "tags": []
   },
   "outputs": [],
   "source": [
    "def estimate_average_slot_payout(n_runs):\n",
    "    \"\"\"Run the slot machine n_runs times and return the average net profit per run.\n",
    "    Example calls (note that return value is nondeterministic!):\n",
    "    >>> estimate_average_slot_payout(1)\n",
    "    -1\n",
    "    >>> estimate_average_slot_payout(1)\n",
    "    0.5\n",
    "    \"\"\"\n",
    "    res = []\n",
    "    for n in range(n_runs):\n",
    "        res.append(pay_slot_machine())\n",
    "    return Average(res)\n",
    "\n",
    "estimate_average_slot_payout(5)\n",
    "    "
   ]
  },
  {
   "cell_type": "markdown",
   "id": "f0cb8fe7",
   "metadata": {
    "papermill": {
     "duration": null,
     "end_time": null,
     "exception": null,
     "start_time": null,
     "status": "pending"
    },
    "tags": []
   },
   "source": [
    "When you think you know the expected value per spin, run the code cell below to view the solution and get credit for answering the question."
   ]
  },
  {
   "cell_type": "code",
   "execution_count": null,
   "id": "b7286cb6",
   "metadata": {
    "execution": {
     "iopub.execute_input": "2022-06-20T12:48:46.071083Z",
     "iopub.status.busy": "2022-06-20T12:48:46.070676Z",
     "iopub.status.idle": "2022-06-20T12:48:46.078482Z",
     "shell.execute_reply": "2022-06-20T12:48:46.077710Z",
     "shell.execute_reply.started": "2022-06-20T12:48:46.071053Z"
    },
    "papermill": {
     "duration": null,
     "end_time": null,
     "exception": null,
     "start_time": null,
     "status": "pending"
    },
    "tags": []
   },
   "outputs": [],
   "source": [
    "# Check your answer (Run this code cell to receive credit!)\n",
    "q4.solution()"
   ]
  },
  {
   "cell_type": "markdown",
   "id": "e43244f8",
   "metadata": {
    "papermill": {
     "duration": null,
     "end_time": null,
     "exception": null,
     "start_time": null,
     "status": "pending"
    },
    "tags": []
   },
   "source": [
    "# Keep Going\n",
    "\n",
    "Many programmers report that dictionaries are their favorite data structure. You'll get to **[learn about them](https://www.kaggle.com/colinmorris/strings-and-dictionaries)** (as well as strings) in the next lesson."
   ]
  },
  {
   "cell_type": "markdown",
   "id": "a2692d21",
   "metadata": {
    "papermill": {
     "duration": null,
     "end_time": null,
     "exception": null,
     "start_time": null,
     "status": "pending"
    },
    "tags": []
   },
   "source": [
    "---\n",
    "\n",
    "\n",
    "\n",
    "\n",
    "*Have questions or comments? Visit the [course discussion forum](https://www.kaggle.com/learn/python/discussion) to chat with other learners.*"
   ]
  }
 ],
 "metadata": {
  "kernelspec": {
   "display_name": "Python 3",
   "language": "python",
   "name": "python3"
  },
  "language_info": {
   "codemirror_mode": {
    "name": "ipython",
    "version": 3
   },
   "file_extension": ".py",
   "mimetype": "text/x-python",
   "name": "python",
   "nbconvert_exporter": "python",
   "pygments_lexer": "ipython3",
   "version": "3.7.12"
  },
  "papermill": {
   "default_parameters": {},
   "duration": 10.621187,
   "end_time": "2022-06-20T12:50:32.674192",
   "environment_variables": {},
   "exception": true,
   "input_path": "__notebook__.ipynb",
   "output_path": "__notebook__.ipynb",
   "parameters": {},
   "start_time": "2022-06-20T12:50:22.053005",
   "version": "2.3.4"
  }
 },
 "nbformat": 4,
 "nbformat_minor": 5
}
