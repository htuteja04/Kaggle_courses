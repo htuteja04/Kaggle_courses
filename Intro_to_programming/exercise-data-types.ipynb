{
 "cells": [
  {
   "cell_type": "markdown",
   "id": "7645584e",
   "metadata": {
    "papermill": {
     "duration": 0.008596,
     "end_time": "2022-06-18T23:19:57.643068",
     "exception": false,
     "start_time": "2022-06-18T23:19:57.634472",
     "status": "completed"
    },
    "tags": []
   },
   "source": [
    "**This notebook is an exercise in the [Intro to Programming](https://www.kaggle.com/learn/intro-to-programming) course.  You can reference the tutorial at [this link](https://www.kaggle.com/alexisbcook/data-types).**\n",
    "\n",
    "---\n"
   ]
  },
  {
   "cell_type": "markdown",
   "id": "84b856d8",
   "metadata": {
    "papermill": {
     "duration": 0.007152,
     "end_time": "2022-06-18T23:19:57.657605",
     "exception": false,
     "start_time": "2022-06-18T23:19:57.650453",
     "status": "completed"
    },
    "tags": []
   },
   "source": [
    "In the tutorial, you learned about four different data types: floats, integers, strings, and booleans.  In this exercise, you'll experiment with them.\n",
    "\n",
    "# Set up the notebook\n",
    "\n",
    "Run the next code cell without changes to set up the notebook."
   ]
  },
  {
   "cell_type": "code",
   "execution_count": 1,
   "id": "e21e9bd9",
   "metadata": {
    "execution": {
     "iopub.execute_input": "2022-06-18T23:19:57.673870Z",
     "iopub.status.busy": "2022-06-18T23:19:57.673388Z",
     "iopub.status.idle": "2022-06-18T23:19:57.718843Z",
     "shell.execute_reply": "2022-06-18T23:19:57.717705Z"
    },
    "papermill": {
     "duration": 0.057192,
     "end_time": "2022-06-18T23:19:57.721984",
     "exception": false,
     "start_time": "2022-06-18T23:19:57.664792",
     "status": "completed"
    },
    "tags": []
   },
   "outputs": [
    {
     "name": "stdout",
     "output_type": "stream",
     "text": [
      "Setup complete.\n"
     ]
    }
   ],
   "source": [
    "# Set up the exercise\n",
    "from learntools.core import binder\n",
    "binder.bind(globals())\n",
    "from learntools.intro_to_programming.ex3 import *\n",
    "print('Setup complete.')"
   ]
  },
  {
   "cell_type": "markdown",
   "id": "0189964f",
   "metadata": {
    "papermill": {
     "duration": 0.007017,
     "end_time": "2022-06-18T23:19:57.736958",
     "exception": false,
     "start_time": "2022-06-18T23:19:57.729941",
     "status": "completed"
    },
    "tags": []
   },
   "source": [
    "# Question 1\n",
    "\n",
    "You have seen how to convert a float to an integer with the `int` function.  Try this out yourself by running the code cell below."
   ]
  },
  {
   "cell_type": "code",
   "execution_count": 2,
   "id": "4d67c512",
   "metadata": {
    "execution": {
     "iopub.execute_input": "2022-06-18T23:19:57.753296Z",
     "iopub.status.busy": "2022-06-18T23:19:57.752748Z",
     "iopub.status.idle": "2022-06-18T23:19:57.758669Z",
     "shell.execute_reply": "2022-06-18T23:19:57.757376Z"
    },
    "papermill": {
     "duration": 0.017663,
     "end_time": "2022-06-18T23:19:57.761889",
     "exception": false,
     "start_time": "2022-06-18T23:19:57.744226",
     "status": "completed"
    },
    "tags": []
   },
   "outputs": [
    {
     "name": "stdout",
     "output_type": "stream",
     "text": [
      "1.0\n",
      "<class 'float'>\n",
      "1\n",
      "<class 'int'>\n"
     ]
    }
   ],
   "source": [
    "# Define a float\n",
    "y = 1.\n",
    "print(y)\n",
    "print(type(y))\n",
    "\n",
    "# Convert float to integer with the int function\n",
    "z = int(y)\n",
    "print(z)\n",
    "print(type(z))"
   ]
  },
  {
   "cell_type": "markdown",
   "id": "dd4b20f0",
   "metadata": {
    "papermill": {
     "duration": 0.007255,
     "end_time": "2022-06-18T23:19:57.777350",
     "exception": false,
     "start_time": "2022-06-18T23:19:57.770095",
     "status": "completed"
    },
    "tags": []
   },
   "source": [
    "In this case, the float you are using has no numbers after the decimal.  \n",
    "- But what happens when you try to convert a float with a fractional part to an integer?  \n",
    "- How does the outcome of the `int` function change for positive and negative numbers?\n",
    "\n",
    "Use the next code cell to investigate and answer these questions.  Feel free to add or remove any lines of code -- it is your workspace!"
   ]
  },
  {
   "cell_type": "code",
   "execution_count": 3,
   "id": "4d86258c",
   "metadata": {
    "execution": {
     "iopub.execute_input": "2022-06-18T23:19:57.794313Z",
     "iopub.status.busy": "2022-06-18T23:19:57.793596Z",
     "iopub.status.idle": "2022-06-18T23:19:57.800462Z",
     "shell.execute_reply": "2022-06-18T23:19:57.798979Z"
    },
    "papermill": {
     "duration": 0.017987,
     "end_time": "2022-06-18T23:19:57.802811",
     "exception": false,
     "start_time": "2022-06-18T23:19:57.784824",
     "status": "completed"
    },
    "tags": []
   },
   "outputs": [
    {
     "name": "stdout",
     "output_type": "stream",
     "text": [
      "1\n",
      "1\n",
      "-3\n",
      "-2\n"
     ]
    }
   ],
   "source": [
    "#Uncomment and run this code to get started!\n",
    "print(int(1.2321))\n",
    "print(int(1.747))\n",
    "print(int(-3.94535))\n",
    "print(int(-2.19774))"
   ]
  },
  {
   "cell_type": "markdown",
   "id": "18d983e6",
   "metadata": {
    "papermill": {
     "duration": 0.007488,
     "end_time": "2022-06-18T23:19:57.818289",
     "exception": false,
     "start_time": "2022-06-18T23:19:57.810801",
     "status": "completed"
    },
    "tags": []
   },
   "source": [
    "Once you have an answer, run the code cell below to see the solution.  Viewing the solution will give you credit for answering the problem."
   ]
  },
  {
   "cell_type": "code",
   "execution_count": 4,
   "id": "cd7ec9da",
   "metadata": {
    "execution": {
     "iopub.execute_input": "2022-06-18T23:19:57.835507Z",
     "iopub.status.busy": "2022-06-18T23:19:57.834789Z",
     "iopub.status.idle": "2022-06-18T23:19:57.845205Z",
     "shell.execute_reply": "2022-06-18T23:19:57.844380Z"
    },
    "papermill": {
     "duration": 0.021282,
     "end_time": "2022-06-18T23:19:57.847118",
     "exception": false,
     "start_time": "2022-06-18T23:19:57.825836",
     "status": "completed"
    },
    "tags": []
   },
   "outputs": [
    {
     "data": {
      "application/javascript": [
       "parent.postMessage({\"jupyterEvent\": \"custom.exercise_interaction\", \"data\": {\"outcomeType\": 1, \"valueTowardsCompletion\": 0.2, \"interactionType\": 1, \"questionType\": 4, \"questionId\": \"1_FloatToInt\", \"learnToolsVersion\": \"0.3.4\", \"failureMessage\": \"\", \"exceptionClass\": \"\", \"trace\": \"\"}}, \"*\")"
      ],
      "text/plain": [
       "<IPython.core.display.Javascript object>"
      ]
     },
     "metadata": {},
     "output_type": "display_data"
    },
    {
     "data": {
      "text/markdown": [
       "<span style=\"color:#33cc33\">Correct:</span> \n",
       "\n",
       "Negative floats are always rounded UP to the closest integer (for instance, both -1.1 and -1.9 are rounded up to -1). Positive floats are always rounded DOWN to the closest integer (for instance, 2.1 and 2.9 are rounded down to 2)."
      ],
      "text/plain": [
       "Correct: \n",
       "\n",
       "Negative floats are always rounded UP to the closest integer (for instance, both -1.1 and -1.9 are rounded up to -1). Positive floats are always rounded DOWN to the closest integer (for instance, 2.1 and 2.9 are rounded down to 2)."
      ]
     },
     "metadata": {},
     "output_type": "display_data"
    }
   ],
   "source": [
    "# Check your answer (Run this code cell to receive credit!)\n",
    "q1.check()"
   ]
  },
  {
   "cell_type": "markdown",
   "id": "9226f63f",
   "metadata": {
    "papermill": {
     "duration": 0.007296,
     "end_time": "2022-06-18T23:19:57.861989",
     "exception": false,
     "start_time": "2022-06-18T23:19:57.854693",
     "status": "completed"
    },
    "tags": []
   },
   "source": [
    "# Question 2\n",
    "\n",
    "In the tutorial, you learned about booleans (which can take a value of `True` or `False`), in addition to integers, floats, and strings.  For this question, your goal is to determine what happens when you multiply a boolean by any of these data types.  Specifically, \n",
    "- What happens when you multiply an integer or float by `True`?  What happens when you multiply them by `False`?  How does the answer change if the numbers are positive or negative?\n",
    "- What happens when you multiply a string by `True`?  By `False`?\n",
    "\n",
    "Use the next code cell for your investigation. "
   ]
  },
  {
   "cell_type": "code",
   "execution_count": 5,
   "id": "d8957c79",
   "metadata": {
    "execution": {
     "iopub.execute_input": "2022-06-18T23:19:57.879389Z",
     "iopub.status.busy": "2022-06-18T23:19:57.878938Z",
     "iopub.status.idle": "2022-06-18T23:19:57.884605Z",
     "shell.execute_reply": "2022-06-18T23:19:57.883580Z"
    },
    "papermill": {
     "duration": 0.018825,
     "end_time": "2022-06-18T23:19:57.888369",
     "exception": false,
     "start_time": "2022-06-18T23:19:57.869544",
     "status": "completed"
    },
    "tags": []
   },
   "outputs": [
    {
     "name": "stdout",
     "output_type": "stream",
     "text": [
      "3\n",
      "-3.1\n",
      "<class 'str'>\n",
      "0\n"
     ]
    }
   ],
   "source": [
    "# Uncomment and run this code to get started!\n",
    "print(3 * True)\n",
    "print(-3.1 * True)\n",
    "print(type(\"abc\" * False))\n",
    "print(len(\"abc\" * False))"
   ]
  },
  {
   "cell_type": "markdown",
   "id": "e023f2ee",
   "metadata": {
    "papermill": {
     "duration": 0.007543,
     "end_time": "2022-06-18T23:19:57.904995",
     "exception": false,
     "start_time": "2022-06-18T23:19:57.897452",
     "status": "completed"
    },
    "tags": []
   },
   "source": [
    "Once you have an answer, run the code cell below to see the solution.  Viewing the solution will give you credit for answering the problem."
   ]
  },
  {
   "cell_type": "code",
   "execution_count": 6,
   "id": "cf245a80",
   "metadata": {
    "execution": {
     "iopub.execute_input": "2022-06-18T23:19:57.922971Z",
     "iopub.status.busy": "2022-06-18T23:19:57.922180Z",
     "iopub.status.idle": "2022-06-18T23:19:57.930890Z",
     "shell.execute_reply": "2022-06-18T23:19:57.929958Z"
    },
    "papermill": {
     "duration": 0.019998,
     "end_time": "2022-06-18T23:19:57.932870",
     "exception": false,
     "start_time": "2022-06-18T23:19:57.912872",
     "status": "completed"
    },
    "tags": []
   },
   "outputs": [
    {
     "data": {
      "application/javascript": [
       "parent.postMessage({\"jupyterEvent\": \"custom.exercise_interaction\", \"data\": {\"outcomeType\": 1, \"valueTowardsCompletion\": 0.2, \"interactionType\": 1, \"questionType\": 4, \"questionId\": \"2_MultiplyBooleans\", \"learnToolsVersion\": \"0.3.4\", \"failureMessage\": \"\", \"exceptionClass\": \"\", \"trace\": \"\"}}, \"*\")"
      ],
      "text/plain": [
       "<IPython.core.display.Javascript object>"
      ]
     },
     "metadata": {},
     "output_type": "display_data"
    },
    {
     "data": {
      "text/markdown": [
       "<span style=\"color:#33cc33\">Correct:</span> \n",
       "\n",
       "When you multiple an integer or float by a boolean with value `True`, it just returns that same integer or float (and is equivalent to multiplying by 1).  If you multiply an integer or float by a boolean with value `False`, it always returns 0.  This is true for both positive and negative numbers.  If you multiply a string by a boolean with value `True`, it just returns that same string.  And if you multiply a string by a boolean with value `False`, it returns an empty string (or a string with length zero)."
      ],
      "text/plain": [
       "Correct: \n",
       "\n",
       "When you multiple an integer or float by a boolean with value `True`, it just returns that same integer or float (and is equivalent to multiplying by 1).  If you multiply an integer or float by a boolean with value `False`, it always returns 0.  This is true for both positive and negative numbers.  If you multiply a string by a boolean with value `True`, it just returns that same string.  And if you multiply a string by a boolean with value `False`, it returns an empty string (or a string with length zero)."
      ]
     },
     "metadata": {},
     "output_type": "display_data"
    }
   ],
   "source": [
    "# Check your answer (Run this code cell to receive credit!)\n",
    "q2.check()"
   ]
  },
  {
   "cell_type": "markdown",
   "id": "c6530e7b",
   "metadata": {
    "papermill": {
     "duration": 0.007608,
     "end_time": "2022-06-18T23:19:57.948950",
     "exception": false,
     "start_time": "2022-06-18T23:19:57.941342",
     "status": "completed"
    },
    "tags": []
   },
   "source": [
    "# Question 3\n",
    "\n",
    "In this question, you will build off your work from the previous exercise to write a function that estimates the value of a house.\n",
    "\n",
    "Use the next code cell to create a function `get_expected_cost` that takes as input three variables:\n",
    "- `beds` - number of bedrooms (data type float)\n",
    "- `baths` - number of bathrooms (data type float)\n",
    "- `has_basement` - whether or not the house has a basement (data type boolean)\n",
    "\n",
    "It should return the expected cost of a house with those characteristics. Assume that:\n",
    "- the expected cost for a house with 0 bedrooms and 0 bathrooms, and no basement is 80000, \n",
    "- each bedroom adds 30000 to the expected cost,\n",
    "- each bathroom adds 10000 to the expected cost, and\n",
    "- a basement adds 40000 to the expected cost.\n",
    "\n",
    "For instance,\n",
    "- a house with 1 bedroom, 1 bathroom, and no basement has an expected cost of 80000 + 30000 + 10000 = 120000.  This value will be calculated with `get_expected_cost(1, 1, False)`.\n",
    "- a house with 2 bedrooms, 1 bathroom, and a basement has an expected cost of 80000 + 2*30000 + 10000 + 40000 = 190000.  This value will be calculated with `get_expected_cost(2, 1, True)`.\n",
    "\n",
    "Remember you can always get a hint by uncommenting `q3.hint()` in the code cell following the next!"
   ]
  },
  {
   "cell_type": "code",
   "execution_count": 7,
   "id": "1f406808",
   "metadata": {
    "execution": {
     "iopub.execute_input": "2022-06-18T23:19:57.967191Z",
     "iopub.status.busy": "2022-06-18T23:19:57.966487Z",
     "iopub.status.idle": "2022-06-18T23:19:57.975471Z",
     "shell.execute_reply": "2022-06-18T23:19:57.974729Z"
    },
    "papermill": {
     "duration": 0.020396,
     "end_time": "2022-06-18T23:19:57.977360",
     "exception": false,
     "start_time": "2022-06-18T23:19:57.956964",
     "status": "completed"
    },
    "tags": []
   },
   "outputs": [
    {
     "data": {
      "application/javascript": [
       "parent.postMessage({\"jupyterEvent\": \"custom.exercise_interaction\", \"data\": {\"outcomeType\": 1, \"valueTowardsCompletion\": 0.2, \"interactionType\": 1, \"questionType\": 2, \"questionId\": \"3_EstimateHouseValueBool\", \"learnToolsVersion\": \"0.3.4\", \"failureMessage\": \"\", \"exceptionClass\": \"\", \"trace\": \"\"}}, \"*\")"
      ],
      "text/plain": [
       "<IPython.core.display.Javascript object>"
      ]
     },
     "metadata": {},
     "output_type": "display_data"
    },
    {
     "data": {
      "text/markdown": [
       "<span style=\"color:#33cc33\">Correct</span>"
      ],
      "text/plain": [
       "Correct"
      ]
     },
     "metadata": {},
     "output_type": "display_data"
    }
   ],
   "source": [
    "# TODO: Complete the function\n",
    "def get_expected_cost(beds, baths, has_basement):\n",
    "    value = 80000 + beds * 30000 + baths * 10000 + 40000 * has_basement\n",
    "    return value\n",
    "\n",
    "# Check your answer \n",
    "q3.check()"
   ]
  },
  {
   "cell_type": "code",
   "execution_count": 8,
   "id": "e389a4ed",
   "metadata": {
    "execution": {
     "iopub.execute_input": "2022-06-18T23:19:57.995732Z",
     "iopub.status.busy": "2022-06-18T23:19:57.994983Z",
     "iopub.status.idle": "2022-06-18T23:19:57.999302Z",
     "shell.execute_reply": "2022-06-18T23:19:57.998622Z"
    },
    "papermill": {
     "duration": 0.015662,
     "end_time": "2022-06-18T23:19:58.001204",
     "exception": false,
     "start_time": "2022-06-18T23:19:57.985542",
     "status": "completed"
    },
    "tags": []
   },
   "outputs": [],
   "source": [
    "# Uncomment to see a hint\n",
    "#q3.hint()\n",
    "\n",
    "# Uncomment to view the solution\n",
    "#q3.solution()"
   ]
  },
  {
   "cell_type": "markdown",
   "id": "35e448fc",
   "metadata": {
    "papermill": {
     "duration": 0.00808,
     "end_time": "2022-06-18T23:19:58.017614",
     "exception": false,
     "start_time": "2022-06-18T23:19:58.009534",
     "status": "completed"
    },
    "tags": []
   },
   "source": [
    "# Question 4\n",
    "\n",
    "We'll continue our study of boolean arithmetic.  For this question, your task is to provide a description of what happpens when you add booleans. \n",
    "\n",
    "Use the next code cell for your investigation.  Feel free to add or remove any lines of code - use it as your workspace!"
   ]
  },
  {
   "cell_type": "code",
   "execution_count": 9,
   "id": "d64e1217",
   "metadata": {
    "execution": {
     "iopub.execute_input": "2022-06-18T23:19:58.036380Z",
     "iopub.status.busy": "2022-06-18T23:19:58.035585Z",
     "iopub.status.idle": "2022-06-18T23:19:58.042206Z",
     "shell.execute_reply": "2022-06-18T23:19:58.041033Z"
    },
    "papermill": {
     "duration": 0.018365,
     "end_time": "2022-06-18T23:19:58.044298",
     "exception": false,
     "start_time": "2022-06-18T23:19:58.025933",
     "status": "completed"
    },
    "tags": []
   },
   "outputs": [
    {
     "name": "stdout",
     "output_type": "stream",
     "text": [
      "0\n",
      "1\n",
      "1\n",
      "2\n",
      "3\n"
     ]
    }
   ],
   "source": [
    "print(False + False)\n",
    "print(True + False)\n",
    "print(False + True)\n",
    "print(True + True)\n",
    "print(False + True + True + True)"
   ]
  },
  {
   "cell_type": "markdown",
   "id": "087269d7",
   "metadata": {
    "papermill": {
     "duration": 0.007887,
     "end_time": "2022-06-18T23:19:58.060397",
     "exception": false,
     "start_time": "2022-06-18T23:19:58.052510",
     "status": "completed"
    },
    "tags": []
   },
   "source": [
    "Once you have an answer, run the code cell below to see the solution.  Viewing the solution will give you credit for answering the problem."
   ]
  },
  {
   "cell_type": "code",
   "execution_count": 10,
   "id": "bea61cac",
   "metadata": {
    "execution": {
     "iopub.execute_input": "2022-06-18T23:19:58.079369Z",
     "iopub.status.busy": "2022-06-18T23:19:58.078928Z",
     "iopub.status.idle": "2022-06-18T23:19:58.086617Z",
     "shell.execute_reply": "2022-06-18T23:19:58.085573Z"
    },
    "papermill": {
     "duration": 0.019221,
     "end_time": "2022-06-18T23:19:58.088549",
     "exception": false,
     "start_time": "2022-06-18T23:19:58.069328",
     "status": "completed"
    },
    "tags": []
   },
   "outputs": [
    {
     "data": {
      "application/javascript": [
       "parent.postMessage({\"jupyterEvent\": \"custom.exercise_interaction\", \"data\": {\"outcomeType\": 1, \"valueTowardsCompletion\": 0.2, \"interactionType\": 1, \"questionType\": 4, \"questionId\": \"4_AddingBooleans\", \"learnToolsVersion\": \"0.3.4\", \"failureMessage\": \"\", \"exceptionClass\": \"\", \"trace\": \"\"}}, \"*\")"
      ],
      "text/plain": [
       "<IPython.core.display.Javascript object>"
      ]
     },
     "metadata": {},
     "output_type": "display_data"
    },
    {
     "data": {
      "text/markdown": [
       "<span style=\"color:#33cc33\">Correct:</span> \n",
       "\n",
       "When you add booleans, adding `False` is equivalent to adding 0, and adding `True` is equivalent to adding 1."
      ],
      "text/plain": [
       "Correct: \n",
       "\n",
       "When you add booleans, adding `False` is equivalent to adding 0, and adding `True` is equivalent to adding 1."
      ]
     },
     "metadata": {},
     "output_type": "display_data"
    }
   ],
   "source": [
    "# Check your answer (Run this code cell to receive credit!)\n",
    "q4.check()"
   ]
  },
  {
   "cell_type": "markdown",
   "id": "573dbea6",
   "metadata": {
    "papermill": {
     "duration": 0.008268,
     "end_time": "2022-06-18T23:19:58.105290",
     "exception": false,
     "start_time": "2022-06-18T23:19:58.097022",
     "status": "completed"
    },
    "tags": []
   },
   "source": [
    "# 🌶️ Question 5\n",
    "\n",
    "You own an online shop where you sell rings with custom engravings.  You offer both gold plated and solid gold rings.\n",
    "- Gold plated rings have a base cost of \\\\$50, and you charge \\\\$7 per engraved unit.  \n",
    "- Solid gold rings have a base cost of \\\\$100, and you charge \\\\$10 per engraved unit.\n",
    "- Spaces and punctuation are counted as engraved units.\n",
    "\n",
    "Write a function `cost_of_project()` that takes two arguments:\n",
    "- `engraving` - a Python string with the text of the engraving\n",
    "- `solid_gold` - a Boolean that indicates whether the ring is solid gold\n",
    "\n",
    "It should return the cost of the project.  This question should be fairly challenging, and you may need a hint."
   ]
  },
  {
   "cell_type": "code",
   "execution_count": 11,
   "id": "9a2c1543",
   "metadata": {
    "execution": {
     "iopub.execute_input": "2022-06-18T23:19:58.124356Z",
     "iopub.status.busy": "2022-06-18T23:19:58.123924Z",
     "iopub.status.idle": "2022-06-18T23:19:58.132842Z",
     "shell.execute_reply": "2022-06-18T23:19:58.131798Z"
    },
    "papermill": {
     "duration": 0.020728,
     "end_time": "2022-06-18T23:19:58.134798",
     "exception": false,
     "start_time": "2022-06-18T23:19:58.114070",
     "status": "completed"
    },
    "tags": []
   },
   "outputs": [
    {
     "data": {
      "application/javascript": [
       "parent.postMessage({\"jupyterEvent\": \"custom.exercise_interaction\", \"data\": {\"outcomeType\": 1, \"valueTowardsCompletion\": 0.2, \"interactionType\": 1, \"questionType\": 2, \"questionId\": \"5_CustomEngravings\", \"learnToolsVersion\": \"0.3.4\", \"failureMessage\": \"\", \"exceptionClass\": \"\", \"trace\": \"\"}}, \"*\")"
      ],
      "text/plain": [
       "<IPython.core.display.Javascript object>"
      ]
     },
     "metadata": {},
     "output_type": "display_data"
    },
    {
     "data": {
      "text/markdown": [
       "<span style=\"color:#33cc33\">Correct</span>"
      ],
      "text/plain": [
       "Correct"
      ]
     },
     "metadata": {},
     "output_type": "display_data"
    }
   ],
   "source": [
    "def cost_of_project(engraving, solid_gold):\n",
    "    b = solid_gold\n",
    "    length = len(engraving)\n",
    "    cost = (not b) * (50 + 7 * length) + b * (100 + 10 * length)\n",
    "    return cost\n",
    "\n",
    "# Check your answer\n",
    "q5.check()"
   ]
  },
  {
   "cell_type": "code",
   "execution_count": 12,
   "id": "8ad13a77",
   "metadata": {
    "execution": {
     "iopub.execute_input": "2022-06-18T23:19:58.154310Z",
     "iopub.status.busy": "2022-06-18T23:19:58.153883Z",
     "iopub.status.idle": "2022-06-18T23:19:58.161179Z",
     "shell.execute_reply": "2022-06-18T23:19:58.160551Z"
    },
    "papermill": {
     "duration": 0.019558,
     "end_time": "2022-06-18T23:19:58.163302",
     "exception": false,
     "start_time": "2022-06-18T23:19:58.143744",
     "status": "completed"
    },
    "tags": []
   },
   "outputs": [
    {
     "data": {
      "application/javascript": [
       "parent.postMessage({\"jupyterEvent\": \"custom.exercise_interaction\", \"data\": {\"interactionType\": 2, \"questionType\": 2, \"questionId\": \"5_CustomEngravings\", \"learnToolsVersion\": \"0.3.4\", \"valueTowardsCompletion\": 0.0, \"failureMessage\": \"\", \"exceptionClass\": \"\", \"trace\": \"\", \"outcomeType\": 4}}, \"*\")"
      ],
      "text/plain": [
       "<IPython.core.display.Javascript object>"
      ]
     },
     "metadata": {},
     "output_type": "display_data"
    },
    {
     "data": {
      "text/markdown": [
       "<span style=\"color:#3366cc\">Hint:</span> There are two options - either the project uses solid gold or does not.  With this in mind, you can structure your solution like this: `cost = solid_gold * ____ + (not_solid_gold) * ____`.  You need to figure out how to fill in the blanks. Also, remember that:\n",
       "- If `solid_gold = True`, then `(not solid_gold) = False`, and if `solid_gold = False`, then `(not solid_gold) = True`.\n",
       "- Multiplying an integer by `True` is equivalent to multiplying it by 1, and multiplying an integer by `False` is equivalent to multiplying it by 0."
      ],
      "text/plain": [
       "Hint: There are two options - either the project uses solid gold or does not.  With this in mind, you can structure your solution like this: `cost = solid_gold * ____ + (not_solid_gold) * ____`.  You need to figure out how to fill in the blanks. Also, remember that:\n",
       "- If `solid_gold = True`, then `(not solid_gold) = False`, and if `solid_gold = False`, then `(not solid_gold) = True`.\n",
       "- Multiplying an integer by `True` is equivalent to multiplying it by 1, and multiplying an integer by `False` is equivalent to multiplying it by 0."
      ]
     },
     "metadata": {},
     "output_type": "display_data"
    }
   ],
   "source": [
    "# Uncomment to see a hint\n",
    "q5.hint()\n",
    "\n",
    "# Uncomment to view the solution\n",
    "#q5.solution()"
   ]
  },
  {
   "cell_type": "markdown",
   "id": "6e537497",
   "metadata": {
    "papermill": {
     "duration": 0.009335,
     "end_time": "2022-06-18T23:19:58.181860",
     "exception": false,
     "start_time": "2022-06-18T23:19:58.172525",
     "status": "completed"
    },
    "tags": []
   },
   "source": [
    "Run the next code cell to calculate the cost of engraving `Charlie+Denver` on a solid gold ring."
   ]
  },
  {
   "cell_type": "code",
   "execution_count": 13,
   "id": "56fe75ff",
   "metadata": {
    "execution": {
     "iopub.execute_input": "2022-06-18T23:19:58.202184Z",
     "iopub.status.busy": "2022-06-18T23:19:58.201295Z",
     "iopub.status.idle": "2022-06-18T23:19:58.206198Z",
     "shell.execute_reply": "2022-06-18T23:19:58.205290Z"
    },
    "papermill": {
     "duration": 0.017264,
     "end_time": "2022-06-18T23:19:58.208266",
     "exception": false,
     "start_time": "2022-06-18T23:19:58.191002",
     "status": "completed"
    },
    "tags": []
   },
   "outputs": [
    {
     "name": "stdout",
     "output_type": "stream",
     "text": [
      "240\n"
     ]
    }
   ],
   "source": [
    "project_one = cost_of_project(\"Charlie+Denver\", True)\n",
    "print(project_one)"
   ]
  },
  {
   "cell_type": "markdown",
   "id": "ec7a63af",
   "metadata": {
    "papermill": {
     "duration": 0.008825,
     "end_time": "2022-06-18T23:19:58.226443",
     "exception": false,
     "start_time": "2022-06-18T23:19:58.217618",
     "status": "completed"
    },
    "tags": []
   },
   "source": [
    "Use the next code cell to calculate the cost of engraving `08/10/2000` on a gold plated ring."
   ]
  },
  {
   "cell_type": "code",
   "execution_count": 14,
   "id": "5ffe2ac1",
   "metadata": {
    "execution": {
     "iopub.execute_input": "2022-06-18T23:19:58.246764Z",
     "iopub.status.busy": "2022-06-18T23:19:58.246115Z",
     "iopub.status.idle": "2022-06-18T23:19:58.251160Z",
     "shell.execute_reply": "2022-06-18T23:19:58.249887Z"
    },
    "papermill": {
     "duration": 0.017628,
     "end_time": "2022-06-18T23:19:58.253189",
     "exception": false,
     "start_time": "2022-06-18T23:19:58.235561",
     "status": "completed"
    },
    "tags": []
   },
   "outputs": [
    {
     "name": "stdout",
     "output_type": "stream",
     "text": [
      "120\n"
     ]
    }
   ],
   "source": [
    "project_two = cost_of_project(\"08/10/2000\", False)\n",
    "print(project_two)"
   ]
  },
  {
   "cell_type": "markdown",
   "id": "ad63764c",
   "metadata": {
    "papermill": {
     "duration": 0.008889,
     "end_time": "2022-06-18T23:19:58.271461",
     "exception": false,
     "start_time": "2022-06-18T23:19:58.262572",
     "status": "completed"
    },
    "tags": []
   },
   "source": [
    "# Keep going\n",
    "\n",
    "Continue to the next lesson to **[learn about conditions and conditional statements](https://www.kaggle.com/alexisbcook/conditions-and-conditional-statements)**."
   ]
  },
  {
   "cell_type": "markdown",
   "id": "4e0c8ac3",
   "metadata": {
    "papermill": {
     "duration": 0.008828,
     "end_time": "2022-06-18T23:19:58.289519",
     "exception": false,
     "start_time": "2022-06-18T23:19:58.280691",
     "status": "completed"
    },
    "tags": []
   },
   "source": [
    "---\n",
    "\n",
    "\n",
    "\n",
    "\n",
    "*Have questions or comments? Visit the [course discussion forum](https://www.kaggle.com/learn/intro-to-programming/discussion) to chat with other learners.*"
   ]
  }
 ],
 "metadata": {
  "kernelspec": {
   "display_name": "Python 3",
   "language": "python",
   "name": "python3"
  },
  "language_info": {
   "codemirror_mode": {
    "name": "ipython",
    "version": 3
   },
   "file_extension": ".py",
   "mimetype": "text/x-python",
   "name": "python",
   "nbconvert_exporter": "python",
   "pygments_lexer": "ipython3",
   "version": "3.7.12"
  },
  "papermill": {
   "default_parameters": {},
   "duration": 11.172419,
   "end_time": "2022-06-18T23:19:59.019378",
   "environment_variables": {},
   "exception": null,
   "input_path": "__notebook__.ipynb",
   "output_path": "__notebook__.ipynb",
   "parameters": {},
   "start_time": "2022-06-18T23:19:47.846959",
   "version": "2.3.4"
  }
 },
 "nbformat": 4,
 "nbformat_minor": 5
}
