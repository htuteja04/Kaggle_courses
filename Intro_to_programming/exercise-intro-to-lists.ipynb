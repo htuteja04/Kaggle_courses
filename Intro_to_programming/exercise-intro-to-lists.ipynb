{
 "cells": [
  {
   "cell_type": "markdown",
   "id": "750b5d8f",
   "metadata": {
    "papermill": {
     "duration": 0.011749,
     "end_time": "2022-06-20T08:34:47.288304",
     "exception": false,
     "start_time": "2022-06-20T08:34:47.276555",
     "status": "completed"
    },
    "tags": []
   },
   "source": [
    "**This notebook is an exercise in the [Intro to Programming](https://www.kaggle.com/learn/intro-to-programming) course.  You can reference the tutorial at [this link](https://www.kaggle.com/alexisbcook/intro-to-lists).**\n",
    "\n",
    "---\n"
   ]
  },
  {
   "cell_type": "markdown",
   "id": "c1513d39",
   "metadata": {
    "papermill": {
     "duration": 0.007747,
     "end_time": "2022-06-20T08:34:47.304869",
     "exception": false,
     "start_time": "2022-06-20T08:34:47.297122",
     "status": "completed"
    },
    "tags": []
   },
   "source": [
    "In the tutorial, you learned how to define and modify Python lists.  In this exercise, you will use your new knowledge to solve several problems.\n",
    "\n",
    "# Set up the notebook\n",
    "\n",
    "Run the next code cell without changes to set up the notebook."
   ]
  },
  {
   "cell_type": "code",
   "execution_count": 1,
   "id": "38a4b476",
   "metadata": {
    "execution": {
     "iopub.execute_input": "2022-06-20T08:34:47.323376Z",
     "iopub.status.busy": "2022-06-20T08:34:47.322853Z",
     "iopub.status.idle": "2022-06-20T08:34:47.372675Z",
     "shell.execute_reply": "2022-06-20T08:34:47.371237Z"
    },
    "papermill": {
     "duration": 0.062396,
     "end_time": "2022-06-20T08:34:47.375266",
     "exception": false,
     "start_time": "2022-06-20T08:34:47.312870",
     "status": "completed"
    },
    "tags": []
   },
   "outputs": [
    {
     "name": "stdout",
     "output_type": "stream",
     "text": [
      "Setup complete.\n"
     ]
    }
   ],
   "source": [
    "from learntools.core import binder\n",
    "binder.bind(globals())\n",
    "from learntools.intro_to_programming.ex5 import *\n",
    "print('Setup complete.')"
   ]
  },
  {
   "cell_type": "markdown",
   "id": "1e1328bb",
   "metadata": {
    "papermill": {
     "duration": 0.007898,
     "end_time": "2022-06-20T08:34:47.391325",
     "exception": false,
     "start_time": "2022-06-20T08:34:47.383427",
     "status": "completed"
    },
    "tags": []
   },
   "source": [
    "# Question 1\n",
    "\n",
    "You own a restaurant with five food dishes, organized in the Python list `menu` below.  One day, you decide to:\n",
    "- remove bean soup (`'bean soup'`) from the menu, and\n",
    "- add roasted beet salad (`'roasted beet salad'`) to the menu.\n",
    "\n",
    "Implement this change to the list below.  While completing this task, \n",
    "- do not change the line that creates the `menu` list.  \n",
    "- your answer should use `.remove()` and `.append()`.  "
   ]
  },
  {
   "cell_type": "code",
   "execution_count": 2,
   "id": "50f2ed74",
   "metadata": {
    "execution": {
     "iopub.execute_input": "2022-06-20T08:34:47.410562Z",
     "iopub.status.busy": "2022-06-20T08:34:47.409336Z",
     "iopub.status.idle": "2022-06-20T08:34:47.421910Z",
     "shell.execute_reply": "2022-06-20T08:34:47.420885Z"
    },
    "papermill": {
     "duration": 0.024459,
     "end_time": "2022-06-20T08:34:47.423906",
     "exception": false,
     "start_time": "2022-06-20T08:34:47.399447",
     "status": "completed"
    },
    "tags": []
   },
   "outputs": [
    {
     "data": {
      "application/javascript": [
       "parent.postMessage({\"jupyterEvent\": \"custom.exercise_interaction\", \"data\": {\"outcomeType\": 1, \"valueTowardsCompletion\": 0.2, \"interactionType\": 1, \"questionType\": 2, \"questionId\": \"1_FoodMenu\", \"learnToolsVersion\": \"0.3.4\", \"failureMessage\": \"\", \"exceptionClass\": \"\", \"trace\": \"\"}}, \"*\")"
      ],
      "text/plain": [
       "<IPython.core.display.Javascript object>"
      ]
     },
     "metadata": {},
     "output_type": "display_data"
    },
    {
     "data": {
      "text/markdown": [
       "<span style=\"color:#33cc33\">Correct</span>"
      ],
      "text/plain": [
       "Correct"
      ]
     },
     "metadata": {},
     "output_type": "display_data"
    }
   ],
   "source": [
    "# Do not change: Initial menu for your restaurant\n",
    "menu = ['stewed meat with onions', 'bean soup', 'risotto with trout and shrimp',\n",
    "       'fish soup with cream and onion', 'gyro']\n",
    "\n",
    "# TODO: remove 'bean soup', and add 'roasted beet salad' to the end of the menu\n",
    "menu.remove(\"bean soup\")\n",
    "menu.append(\"roasted beet salad\")\n",
    "\n",
    "# Do not change: Check your answer\n",
    "q1.check()"
   ]
  },
  {
   "cell_type": "code",
   "execution_count": 3,
   "id": "2202c05a",
   "metadata": {
    "execution": {
     "iopub.execute_input": "2022-06-20T08:34:47.443125Z",
     "iopub.status.busy": "2022-06-20T08:34:47.442281Z",
     "iopub.status.idle": "2022-06-20T08:34:47.446436Z",
     "shell.execute_reply": "2022-06-20T08:34:47.445713Z"
    },
    "papermill": {
     "duration": 0.01591,
     "end_time": "2022-06-20T08:34:47.448305",
     "exception": false,
     "start_time": "2022-06-20T08:34:47.432395",
     "status": "completed"
    },
    "tags": []
   },
   "outputs": [],
   "source": [
    "# Uncomment to see a hint\n",
    "#q1.hint()\n",
    "\n",
    "# Uncomment to see the solution\n",
    "#q1.solution()"
   ]
  },
  {
   "cell_type": "markdown",
   "id": "993f86ed",
   "metadata": {
    "papermill": {
     "duration": 0.008412,
     "end_time": "2022-06-20T08:34:47.465147",
     "exception": false,
     "start_time": "2022-06-20T08:34:47.456735",
     "status": "completed"
    },
    "tags": []
   },
   "source": [
    "# Question 2\n",
    "\n",
    "The list `num_customers` contains the number of customers who came into your restaurant every day over the last month (which lasted thirty days).  Fill in values for each of the following:\n",
    "- `avg_first_seven` - average number of customers who visited in the first seven days\n",
    "- `avg_last_seven` - average number of customers who visited in the last seven days\n",
    "- `max_month` - number of customers on the day that got the most customers in the last month\n",
    "- `min_month` - number of customers on the day that got the least customers in the last month\n",
    "\n",
    "Answer this question by writing code.  For instance, if you have to find the minimum value in a list, use `min()` instead of scanning for the smallest value and directly filling in a number."
   ]
  },
  {
   "cell_type": "code",
   "execution_count": 4,
   "id": "eccf9cde",
   "metadata": {
    "execution": {
     "iopub.execute_input": "2022-06-20T08:34:47.484260Z",
     "iopub.status.busy": "2022-06-20T08:34:47.483635Z",
     "iopub.status.idle": "2022-06-20T08:34:47.493782Z",
     "shell.execute_reply": "2022-06-20T08:34:47.492402Z"
    },
    "papermill": {
     "duration": 0.022062,
     "end_time": "2022-06-20T08:34:47.495647",
     "exception": false,
     "start_time": "2022-06-20T08:34:47.473585",
     "status": "completed"
    },
    "tags": []
   },
   "outputs": [
    {
     "data": {
      "application/javascript": [
       "parent.postMessage({\"jupyterEvent\": \"custom.exercise_interaction\", \"data\": {\"outcomeType\": 1, \"valueTowardsCompletion\": 0.2, \"interactionType\": 1, \"questionType\": 1, \"questionId\": \"2_NumCustomers\", \"learnToolsVersion\": \"0.3.4\", \"failureMessage\": \"\", \"exceptionClass\": \"\", \"trace\": \"\"}}, \"*\")"
      ],
      "text/plain": [
       "<IPython.core.display.Javascript object>"
      ]
     },
     "metadata": {},
     "output_type": "display_data"
    },
    {
     "data": {
      "text/markdown": [
       "<span style=\"color:#33cc33\">Correct</span>"
      ],
      "text/plain": [
       "Correct"
      ]
     },
     "metadata": {},
     "output_type": "display_data"
    }
   ],
   "source": [
    "# Do not change: Number of customers each day for the last month\n",
    "num_customers = [137, 147, 135, 128, 170, 174, 165, 146, 126, 159,\n",
    "                 141, 148, 132, 147, 168, 153, 170, 161, 148, 152,\n",
    "                 141, 151, 131, 149, 164, 163, 143, 143, 166, 171]\n",
    "\n",
    "# TODO: Fill in values for the variables below\n",
    "avg_first_seven = sum(num_customers[:7])/7\n",
    "avg_last_seven = sum(num_customers[-7:])/7\n",
    "max_month = max(num_customers)\n",
    "min_month = min(num_customers)\n",
    "\n",
    "# Do not change: Check your answer\n",
    "q2.check()"
   ]
  },
  {
   "cell_type": "code",
   "execution_count": 5,
   "id": "399cc1b4",
   "metadata": {
    "execution": {
     "iopub.execute_input": "2022-06-20T08:34:47.515471Z",
     "iopub.status.busy": "2022-06-20T08:34:47.514757Z",
     "iopub.status.idle": "2022-06-20T08:34:47.518435Z",
     "shell.execute_reply": "2022-06-20T08:34:47.517675Z"
    },
    "papermill": {
     "duration": 0.016113,
     "end_time": "2022-06-20T08:34:47.520344",
     "exception": false,
     "start_time": "2022-06-20T08:34:47.504231",
     "status": "completed"
    },
    "tags": []
   },
   "outputs": [],
   "source": [
    "# Uncomment to see a hint\n",
    "#q2.hint()\n",
    "\n",
    "# Uncomment to see the solution\n",
    "#q2.solution()"
   ]
  },
  {
   "cell_type": "markdown",
   "id": "02a3718f",
   "metadata": {
    "papermill": {
     "duration": 0.00855,
     "end_time": "2022-06-20T08:34:47.537951",
     "exception": false,
     "start_time": "2022-06-20T08:34:47.529401",
     "status": "completed"
    },
    "tags": []
   },
   "source": [
    "# Question 3\n",
    "\n",
    "In the tutorial, we gave an example of a Python string with information that was better as a list."
   ]
  },
  {
   "cell_type": "code",
   "execution_count": 6,
   "id": "95674806",
   "metadata": {
    "execution": {
     "iopub.execute_input": "2022-06-20T08:34:47.557952Z",
     "iopub.status.busy": "2022-06-20T08:34:47.557450Z",
     "iopub.status.idle": "2022-06-20T08:34:47.561792Z",
     "shell.execute_reply": "2022-06-20T08:34:47.560942Z"
    },
    "papermill": {
     "duration": 0.016909,
     "end_time": "2022-06-20T08:34:47.563730",
     "exception": false,
     "start_time": "2022-06-20T08:34:47.546821",
     "status": "completed"
    },
    "tags": []
   },
   "outputs": [],
   "source": [
    "flowers = \"pink primrose,hard-leaved pocket orchid,canterbury bells,sweet pea,english marigold,tiger lily,moon orchid,bird of paradise,monkshood,globe thistle\""
   ]
  },
  {
   "cell_type": "markdown",
   "id": "8a31ee6a",
   "metadata": {
    "papermill": {
     "duration": 0.008433,
     "end_time": "2022-06-20T08:34:47.581155",
     "exception": false,
     "start_time": "2022-06-20T08:34:47.572722",
     "status": "completed"
    },
    "tags": []
   },
   "source": [
    "You can actually use Python to quickly turn this string into a list with `.split()`.  In the parentheses, we need to provide the character should be used to mark the end of one list item and the beginning of another, and enclose it in quotation marks.  In this case, that character is a comma."
   ]
  },
  {
   "cell_type": "code",
   "execution_count": 7,
   "id": "6d802a1b",
   "metadata": {
    "execution": {
     "iopub.execute_input": "2022-06-20T08:34:47.601070Z",
     "iopub.status.busy": "2022-06-20T08:34:47.600459Z",
     "iopub.status.idle": "2022-06-20T08:34:47.606126Z",
     "shell.execute_reply": "2022-06-20T08:34:47.604945Z"
    },
    "papermill": {
     "duration": 0.018076,
     "end_time": "2022-06-20T08:34:47.608111",
     "exception": false,
     "start_time": "2022-06-20T08:34:47.590035",
     "status": "completed"
    },
    "tags": []
   },
   "outputs": [
    {
     "name": "stdout",
     "output_type": "stream",
     "text": [
      "['pink primrose', 'hard-leaved pocket orchid', 'canterbury bells', 'sweet pea', 'english marigold', 'tiger lily', 'moon orchid', 'bird of paradise', 'monkshood', 'globe thistle']\n"
     ]
    }
   ],
   "source": [
    " print(flowers.split(\",\"))"
   ]
  },
  {
   "cell_type": "markdown",
   "id": "22a8d7e2",
   "metadata": {
    "papermill": {
     "duration": 0.008572,
     "end_time": "2022-06-20T08:34:47.625945",
     "exception": false,
     "start_time": "2022-06-20T08:34:47.617373",
     "status": "completed"
    },
    "tags": []
   },
   "source": [
    "Now it is your turn to try this out!  Create two Python lists:\n",
    "- `letters` should be a Python list where each entry is an uppercase letter of the English alphabet.  For instance, the first two entries should be `\"A\"` and `\"B\"`, and the final two entries should be `\"Y\"` and `\"Z\"`.  Use the string `alphabet` to create this list.\n",
    "- `address` should be a Python list where each row in `address` is a different item in the list.  Currently, each row in `address` is separated by a comma. "
   ]
  },
  {
   "cell_type": "code",
   "execution_count": 8,
   "id": "ce9f6a5a",
   "metadata": {
    "execution": {
     "iopub.execute_input": "2022-06-20T08:34:47.645552Z",
     "iopub.status.busy": "2022-06-20T08:34:47.645058Z",
     "iopub.status.idle": "2022-06-20T08:34:47.654631Z",
     "shell.execute_reply": "2022-06-20T08:34:47.653821Z"
    },
    "papermill": {
     "duration": 0.02176,
     "end_time": "2022-06-20T08:34:47.656450",
     "exception": false,
     "start_time": "2022-06-20T08:34:47.634690",
     "status": "completed"
    },
    "tags": []
   },
   "outputs": [
    {
     "data": {
      "application/javascript": [
       "parent.postMessage({\"jupyterEvent\": \"custom.exercise_interaction\", \"data\": {\"outcomeType\": 1, \"valueTowardsCompletion\": 0.2, \"interactionType\": 1, \"questionType\": 1, \"questionId\": \"3_SplitString\", \"learnToolsVersion\": \"0.3.4\", \"failureMessage\": \"\", \"exceptionClass\": \"\", \"trace\": \"\"}}, \"*\")"
      ],
      "text/plain": [
       "<IPython.core.display.Javascript object>"
      ]
     },
     "metadata": {},
     "output_type": "display_data"
    },
    {
     "data": {
      "text/markdown": [
       "<span style=\"color:#33cc33\">Correct</span>"
      ],
      "text/plain": [
       "Correct"
      ]
     },
     "metadata": {},
     "output_type": "display_data"
    }
   ],
   "source": [
    "# DO not change: Define two Python strings\n",
    "alphabet = \"A.B.C.D.E.F.G.H.I.J.K.L.M.N.O.P.Q.R.S.T.U.V.W.X.Y.Z\"\n",
    "address = \"Mr. H. Potter,The cupboard under the Stairs,4 Privet Drive,Little Whinging,Surrey\"\n",
    "\n",
    "# TODO: Convert strings into Python lists\n",
    "letters = alphabet.split(\".\")\n",
    "formatted_address = address.split(\",\")\n",
    "\n",
    "# Do not change: Check your answer\n",
    "q3.check()"
   ]
  },
  {
   "cell_type": "code",
   "execution_count": 9,
   "id": "3b8ec063",
   "metadata": {
    "execution": {
     "iopub.execute_input": "2022-06-20T08:34:47.677089Z",
     "iopub.status.busy": "2022-06-20T08:34:47.675973Z",
     "iopub.status.idle": "2022-06-20T08:34:47.680990Z",
     "shell.execute_reply": "2022-06-20T08:34:47.679848Z"
    },
    "papermill": {
     "duration": 0.017626,
     "end_time": "2022-06-20T08:34:47.683293",
     "exception": false,
     "start_time": "2022-06-20T08:34:47.665667",
     "status": "completed"
    },
    "tags": []
   },
   "outputs": [],
   "source": [
    "# Uncomment to see a hint\n",
    "#q3.hint()\n",
    "\n",
    "# Uncomment to see the solution\n",
    "#q3.solution()"
   ]
  },
  {
   "cell_type": "markdown",
   "id": "5e129226",
   "metadata": {
    "papermill": {
     "duration": 0.009296,
     "end_time": "2022-06-20T08:34:47.702235",
     "exception": false,
     "start_time": "2022-06-20T08:34:47.692939",
     "status": "completed"
    },
    "tags": []
   },
   "source": [
    "# Question 4\n",
    "\n",
    "In the Python course, you'll learn all about **list comprehensions**, which allow you to create a list based on the values in another list.  In this question, you'll get a brief preview of how they work.\n",
    "\n",
    "Say we're working with the list below."
   ]
  },
  {
   "cell_type": "code",
   "execution_count": 10,
   "id": "e8937ca1",
   "metadata": {
    "execution": {
     "iopub.execute_input": "2022-06-20T08:34:47.722888Z",
     "iopub.status.busy": "2022-06-20T08:34:47.722441Z",
     "iopub.status.idle": "2022-06-20T08:34:47.727476Z",
     "shell.execute_reply": "2022-06-20T08:34:47.726393Z"
    },
    "papermill": {
     "duration": 0.017692,
     "end_time": "2022-06-20T08:34:47.729517",
     "exception": false,
     "start_time": "2022-06-20T08:34:47.711825",
     "status": "completed"
    },
    "tags": []
   },
   "outputs": [],
   "source": [
    "test_ratings = [1, 2, 3, 4, 5]"
   ]
  },
  {
   "cell_type": "markdown",
   "id": "2e4e6354",
   "metadata": {
    "papermill": {
     "duration": 0.008721,
     "end_time": "2022-06-20T08:34:47.747384",
     "exception": false,
     "start_time": "2022-06-20T08:34:47.738663",
     "status": "completed"
    },
    "tags": []
   },
   "source": [
    "Then we can use this list (`test_ratings`) to create a new list (`test_liked`) where each item has been turned into a boolean, depending on whether or not the item is greater than or equal to four."
   ]
  },
  {
   "cell_type": "code",
   "execution_count": 11,
   "id": "49dd7bc5",
   "metadata": {
    "execution": {
     "iopub.execute_input": "2022-06-20T08:34:47.767447Z",
     "iopub.status.busy": "2022-06-20T08:34:47.766996Z",
     "iopub.status.idle": "2022-06-20T08:34:47.773062Z",
     "shell.execute_reply": "2022-06-20T08:34:47.771808Z"
    },
    "papermill": {
     "duration": 0.018756,
     "end_time": "2022-06-20T08:34:47.775146",
     "exception": false,
     "start_time": "2022-06-20T08:34:47.756390",
     "status": "completed"
    },
    "tags": []
   },
   "outputs": [
    {
     "name": "stdout",
     "output_type": "stream",
     "text": [
      "[False, False, False, True, True]\n"
     ]
    }
   ],
   "source": [
    "test_liked = [i>=4 for i in test_ratings]\n",
    "print(test_liked)"
   ]
  },
  {
   "cell_type": "markdown",
   "id": "daf333fd",
   "metadata": {
    "papermill": {
     "duration": 0.008842,
     "end_time": "2022-06-20T08:34:47.793018",
     "exception": false,
     "start_time": "2022-06-20T08:34:47.784176",
     "status": "completed"
    },
    "tags": []
   },
   "source": [
    "In this question, you'll use this list comprehension to define a function `percentage_liked()` that takes one argument as input:\n",
    "- `ratings`: list of ratings that people gave to a movie, where each rating is a number between 1-5, inclusive\n",
    "\n",
    "We say someone liked the movie, if they gave a rating of either 4 or 5.  Your function should return the percentage of people who liked the movie.\n",
    "\n",
    "For instance, if we supply a value of `[1, 2, 3, 4, 5, 4, 5, 1]`, then 50% (4/8) of the people liked the movie, and the function should return `0.5`.\n",
    "\n",
    "Part of the function has already been completed for you.  You need only use `list_liked` to calculate `percentage_liked`."
   ]
  },
  {
   "cell_type": "code",
   "execution_count": 12,
   "id": "6f3b2f2d",
   "metadata": {
    "execution": {
     "iopub.execute_input": "2022-06-20T08:34:47.813508Z",
     "iopub.status.busy": "2022-06-20T08:34:47.813096Z",
     "iopub.status.idle": "2022-06-20T08:34:47.823414Z",
     "shell.execute_reply": "2022-06-20T08:34:47.822449Z"
    },
    "papermill": {
     "duration": 0.022677,
     "end_time": "2022-06-20T08:34:47.825386",
     "exception": false,
     "start_time": "2022-06-20T08:34:47.802709",
     "status": "completed"
    },
    "tags": []
   },
   "outputs": [
    {
     "data": {
      "application/javascript": [
       "parent.postMessage({\"jupyterEvent\": \"custom.exercise_interaction\", \"data\": {\"outcomeType\": 1, \"valueTowardsCompletion\": 0.2, \"interactionType\": 1, \"questionType\": 2, \"questionId\": \"4_PercentageLiked\", \"learnToolsVersion\": \"0.3.4\", \"failureMessage\": \"\", \"exceptionClass\": \"\", \"trace\": \"\"}}, \"*\")"
      ],
      "text/plain": [
       "<IPython.core.display.Javascript object>"
      ]
     },
     "metadata": {},
     "output_type": "display_data"
    },
    {
     "data": {
      "text/markdown": [
       "<span style=\"color:#33cc33\">Correct</span>"
      ],
      "text/plain": [
       "Correct"
      ]
     },
     "metadata": {},
     "output_type": "display_data"
    }
   ],
   "source": [
    "\n",
    "def percentage_liked(ratings):\n",
    "    list_liked = [i>=4 for i in ratings]\n",
    "    percentage_liked = list_liked.count(True)/len(ratings)\n",
    "    return percentage_liked\n",
    "\n",
    "# Do not change: should return 0.5\n",
    "percentage_liked([1, 2, 3, 4, 5, 4, 5, 1])\n",
    "\n",
    "# Do not change: Check your answer\n",
    "q4.check()"
   ]
  },
  {
   "cell_type": "code",
   "execution_count": 13,
   "id": "5e2dbf22",
   "metadata": {
    "execution": {
     "iopub.execute_input": "2022-06-20T08:34:47.847078Z",
     "iopub.status.busy": "2022-06-20T08:34:47.846161Z",
     "iopub.status.idle": "2022-06-20T08:34:47.853896Z",
     "shell.execute_reply": "2022-06-20T08:34:47.852855Z"
    },
    "papermill": {
     "duration": 0.020938,
     "end_time": "2022-06-20T08:34:47.856018",
     "exception": false,
     "start_time": "2022-06-20T08:34:47.835080",
     "status": "completed"
    },
    "tags": []
   },
   "outputs": [
    {
     "data": {
      "text/plain": [
       "4"
      ]
     },
     "execution_count": 13,
     "metadata": {},
     "output_type": "execute_result"
    }
   ],
   "source": [
    "ratings = [1,2,3,4,5,4,5,1]\n",
    "list_liked = [i>=4 for i in ratings]\n",
    "list_liked.count(True)\n"
   ]
  },
  {
   "cell_type": "markdown",
   "id": "d9f70535",
   "metadata": {
    "papermill": {
     "duration": 0.009924,
     "end_time": "2022-06-20T08:34:47.875638",
     "exception": false,
     "start_time": "2022-06-20T08:34:47.865714",
     "status": "completed"
    },
    "tags": []
   },
   "source": [
    "alternative solution "
   ]
  },
  {
   "cell_type": "code",
   "execution_count": 14,
   "id": "cb2150db",
   "metadata": {
    "execution": {
     "iopub.execute_input": "2022-06-20T08:34:47.897120Z",
     "iopub.status.busy": "2022-06-20T08:34:47.896474Z",
     "iopub.status.idle": "2022-06-20T08:34:47.903262Z",
     "shell.execute_reply": "2022-06-20T08:34:47.902505Z"
    },
    "papermill": {
     "duration": 0.019788,
     "end_time": "2022-06-20T08:34:47.905049",
     "exception": false,
     "start_time": "2022-06-20T08:34:47.885261",
     "status": "completed"
    },
    "tags": []
   },
   "outputs": [
    {
     "data": {
      "application/javascript": [
       "parent.postMessage({\"jupyterEvent\": \"custom.exercise_interaction\", \"data\": {\"interactionType\": 3, \"questionType\": 2, \"questionId\": \"4_PercentageLiked\", \"learnToolsVersion\": \"0.3.4\", \"valueTowardsCompletion\": 0.0, \"failureMessage\": \"\", \"exceptionClass\": \"\", \"trace\": \"\", \"outcomeType\": 4}}, \"*\")"
      ],
      "text/plain": [
       "<IPython.core.display.Javascript object>"
      ]
     },
     "metadata": {},
     "output_type": "display_data"
    },
    {
     "data": {
      "text/markdown": [
       "<span style=\"color:#33cc99\">Solution:</span> \n",
       "```python\n",
       "\n",
       "# Complete the function\n",
       "def percentage_liked(ratings):\n",
       "    list_liked = [i >= 4 for i in ratings]\n",
       "    percentage_liked = sum(list_liked)/len(list_liked)\n",
       "    return percentage_liked\n",
       "\n",
       "```"
      ],
      "text/plain": [
       "Solution: \n",
       "```python\n",
       "\n",
       "# Complete the function\n",
       "def percentage_liked(ratings):\n",
       "    list_liked = [i >= 4 for i in ratings]\n",
       "    percentage_liked = sum(list_liked)/len(list_liked)\n",
       "    return percentage_liked\n",
       "\n",
       "```"
      ]
     },
     "metadata": {},
     "output_type": "display_data"
    }
   ],
   "source": [
    "# Uncomment to see a hint\n",
    "#q4.hint()\n",
    "# Uncomment to see the solution\n",
    "q4.solution()"
   ]
  },
  {
   "cell_type": "markdown",
   "id": "f8825cda",
   "metadata": {
    "papermill": {
     "duration": 0.009451,
     "end_time": "2022-06-20T08:34:47.924663",
     "exception": false,
     "start_time": "2022-06-20T08:34:47.915212",
     "status": "completed"
    },
    "tags": []
   },
   "source": [
    "# 🌶️ Question 5\n",
    " \n",
    "Say you're doing analytics for a website.  You need to write a function that returns the percentage growth in the total number of users relative to a specified number of years ago.\n",
    "\n",
    "Your function `percentage_growth()` should take two arguments as input:\n",
    "- `num_users` = Python list with the total number of users each year.  So `num_users[0]` is the total number of users in the first year, `num_users[1]` is the total number of users in the second year, and so on.  The final entry in the list gives the total number of users in the most recently completed year.\n",
    "- `yrs_ago` = number of years to go back in time when calculating the growth percentage\n",
    "\n",
    "For instance, say `num_users = [920344, 1043553, 1204334, 1458996, 1503323, 1593432, 1623463, 1843064, 1930992, 2001078]`.\n",
    "- if `yrs_ago = 1`, we want the function to return a value of about `0.036`. This corresponds to a percentage growth of approximately 3.6%, calculated as (2001078 - 1930992)/1930992.\n",
    "- if `years_ago = 7`, we would want to return approximately `0.66`.  This corresponds to a percentage growth of approximately 66%, calculated as (2001078 - 1204334)/1204334.\n",
    "\n",
    "Your coworker sent you a draft of a function, but it doesn't seem to be doing the correct calculation.  Can you figure out what has gone wrong and make the needed changes?"
   ]
  },
  {
   "cell_type": "code",
   "execution_count": 15,
   "id": "5e4ee2c5",
   "metadata": {
    "execution": {
     "iopub.execute_input": "2022-06-20T08:34:47.946398Z",
     "iopub.status.busy": "2022-06-20T08:34:47.945692Z",
     "iopub.status.idle": "2022-06-20T08:34:47.951017Z",
     "shell.execute_reply": "2022-06-20T08:34:47.950053Z"
    },
    "papermill": {
     "duration": 0.018087,
     "end_time": "2022-06-20T08:34:47.952366",
     "exception": true,
     "start_time": "2022-06-20T08:34:47.934279",
     "status": "failed"
    },
    "tags": []
   },
   "outputs": [
    {
     "ename": "SyntaxError",
     "evalue": "invalid syntax (1589059584.py, line 1)",
     "output_type": "error",
     "traceback": [
      "\u001b[0;36m  File \u001b[0;32m\"/tmp/ipykernel_19/1589059584.py\"\u001b[0;36m, line \u001b[0;32m1\u001b[0m\n\u001b[0;31m    testing approach\u001b[0m\n\u001b[0m                   ^\u001b[0m\n\u001b[0;31mSyntaxError\u001b[0m\u001b[0;31m:\u001b[0m invalid syntax\n"
     ]
    }
   ],
   "source": [
    "testing approach"
   ]
  },
  {
   "cell_type": "code",
   "execution_count": null,
   "id": "2234cef7",
   "metadata": {
    "execution": {
     "iopub.execute_input": "2022-06-20T08:27:32.944598Z",
     "iopub.status.busy": "2022-06-20T08:27:32.944217Z",
     "iopub.status.idle": "2022-06-20T08:27:32.951622Z",
     "shell.execute_reply": "2022-06-20T08:27:32.950843Z",
     "shell.execute_reply.started": "2022-06-20T08:27:32.944568Z"
    },
    "papermill": {
     "duration": null,
     "end_time": null,
     "exception": null,
     "start_time": null,
     "status": "pending"
    },
    "tags": []
   },
   "outputs": [],
   "source": [
    "yrs_ago = 4\n",
    "num_users1 = [920344, 1043553, 1204334, 1458996, 1503323, 1593432, 1623463, 1843064, 1930992, 2001078]\n",
    "num_users1[len(num_users1)-1] #present year\n",
    "num_users1[-(yrs_ago+1)] #item at x years ago"
   ]
  },
  {
   "cell_type": "code",
   "execution_count": null,
   "id": "8b5939e0",
   "metadata": {
    "execution": {
     "iopub.execute_input": "2022-06-20T08:34:13.170295Z",
     "iopub.status.busy": "2022-06-20T08:34:13.169915Z",
     "iopub.status.idle": "2022-06-20T08:34:13.182026Z",
     "shell.execute_reply": "2022-06-20T08:34:13.180896Z",
     "shell.execute_reply.started": "2022-06-20T08:34:13.170266Z"
    },
    "papermill": {
     "duration": null,
     "end_time": null,
     "exception": null,
     "start_time": null,
     "status": "pending"
    },
    "tags": []
   },
   "outputs": [],
   "source": [
    "# TODO: Edit the function\n",
    "def percentage_growth(num_users, yrs_ago):\n",
    "    \n",
    "    growth =(num_users[len(num_users)-1] - num_users[len(num_users)-yrs_ago-1])/num_users[len(num_users)-yrs_ago-1]\n",
    "    return growth\n",
    "\n",
    "# Do not change: Variable for calculating some test examples\n",
    "num_users_test = [920344, 1043553, 1204334, 1458996, 1503323, 1593432, 1623463, 1843064, 1930992, 2001078]\n",
    "\n",
    "# Do not change: Should return .036\n",
    "print(percentage_growth(num_users_test, 1))\n",
    "\n",
    "# Do not change: Should return 0.66\n",
    "print(percentage_growth(num_users_test, 7))\n",
    "\n",
    "# Do not change: Check your answer\n",
    "q5.check()"
   ]
  },
  {
   "cell_type": "code",
   "execution_count": null,
   "id": "b47fa06c",
   "metadata": {
    "execution": {
     "iopub.execute_input": "2022-06-20T08:32:51.709398Z",
     "iopub.status.busy": "2022-06-20T08:32:51.708917Z",
     "iopub.status.idle": "2022-06-20T08:32:51.715734Z",
     "shell.execute_reply": "2022-06-20T08:32:51.714766Z",
     "shell.execute_reply.started": "2022-06-20T08:32:51.709354Z"
    },
    "papermill": {
     "duration": null,
     "end_time": null,
     "exception": null,
     "start_time": null,
     "status": "pending"
    },
    "tags": []
   },
   "outputs": [],
   "source": [
    "yrs_ago = 4\n",
    "num_users_test = [920344, 1043553, 1204334, 1458996, 1503323, 1593432, 1623463, 1843064, 1930992, 2001078]\n",
    "p = num_users_test[-1]\n",
    "c = num_users_test[-(yrs_ago+1)]\n",
    "g = (p-c)/p\n",
    "print(p,c,g)\n"
   ]
  },
  {
   "cell_type": "code",
   "execution_count": null,
   "id": "1a043442",
   "metadata": {
    "execution": {
     "iopub.execute_input": "2022-06-20T08:31:24.982019Z",
     "iopub.status.busy": "2022-06-20T08:31:24.981643Z",
     "iopub.status.idle": "2022-06-20T08:31:24.992014Z",
     "shell.execute_reply": "2022-06-20T08:31:24.991112Z",
     "shell.execute_reply.started": "2022-06-20T08:31:24.981989Z"
    },
    "papermill": {
     "duration": null,
     "end_time": null,
     "exception": null,
     "start_time": null,
     "status": "pending"
    },
    "tags": []
   },
   "outputs": [],
   "source": [
    "# Uncomment to see a hint\n",
    "q5.hint()\n",
    "\n",
    "# Uncomment to see the solution\n",
    "q5.solution()"
   ]
  },
  {
   "cell_type": "markdown",
   "id": "8f26ee9b",
   "metadata": {
    "papermill": {
     "duration": null,
     "end_time": null,
     "exception": null,
     "start_time": null,
     "status": "pending"
    },
    "tags": []
   },
   "source": [
    "# Congratulations!\n",
    "\n",
    "Congratulations for finishing the Intro to Programming course!  You should be proud of your very first steps with learning programming.  As next steps, we recommend taking:\n",
    "- the **[Python course](http://www.kaggle.com/learn/python)**, and \n",
    "- the **[Intro to Machine Learning course](https://www.kaggle.com/learn/intro-to-machine-learning)**."
   ]
  },
  {
   "cell_type": "markdown",
   "id": "eec691e0",
   "metadata": {
    "papermill": {
     "duration": null,
     "end_time": null,
     "exception": null,
     "start_time": null,
     "status": "pending"
    },
    "tags": []
   },
   "source": [
    "---\n",
    "\n",
    "\n",
    "\n",
    "\n",
    "*Have questions or comments? Visit the [course discussion forum](https://www.kaggle.com/learn/intro-to-programming/discussion) to chat with other learners.*"
   ]
  }
 ],
 "metadata": {
  "kernelspec": {
   "display_name": "Python 3",
   "language": "python",
   "name": "python3"
  },
  "language_info": {
   "codemirror_mode": {
    "name": "ipython",
    "version": 3
   },
   "file_extension": ".py",
   "mimetype": "text/x-python",
   "name": "python",
   "nbconvert_exporter": "python",
   "pygments_lexer": "ipython3",
   "version": "3.7.12"
  },
  "papermill": {
   "default_parameters": {},
   "duration": 12.054555,
   "end_time": "2022-06-20T08:34:48.683796",
   "environment_variables": {},
   "exception": true,
   "input_path": "__notebook__.ipynb",
   "output_path": "__notebook__.ipynb",
   "parameters": {},
   "start_time": "2022-06-20T08:34:36.629241",
   "version": "2.3.4"
  }
 },
 "nbformat": 4,
 "nbformat_minor": 5
}
