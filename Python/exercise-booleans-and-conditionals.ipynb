{
 "cells": [
  {
   "cell_type": "markdown",
   "id": "a7632eec",
   "metadata": {
    "papermill": {
     "duration": 0.008255,
     "end_time": "2022-06-20T09:34:20.521128",
     "exception": false,
     "start_time": "2022-06-20T09:34:20.512873",
     "status": "completed"
    },
    "tags": []
   },
   "source": [
    "**This notebook is an exercise in the [Python](https://www.kaggle.com/learn/python) course.  You can reference the tutorial at [this link](https://www.kaggle.com/colinmorris/booleans-and-conditionals).**\n",
    "\n",
    "---\n"
   ]
  },
  {
   "cell_type": "markdown",
   "id": "1be806ba",
   "metadata": {
    "papermill": {
     "duration": 0.00704,
     "end_time": "2022-06-20T09:34:20.535591",
     "exception": false,
     "start_time": "2022-06-20T09:34:20.528551",
     "status": "completed"
    },
    "tags": []
   },
   "source": [
    "In this exercise, you'll put to work what you have learned about booleans and conditionals.\n",
    "\n",
    "To get started, **run the setup code below** before writing your own code (and if you leave this notebook and come back later, don't forget to run the setup code again)."
   ]
  },
  {
   "cell_type": "code",
   "execution_count": 1,
   "id": "f74b85ed",
   "metadata": {
    "execution": {
     "iopub.execute_input": "2022-06-20T09:34:20.551616Z",
     "iopub.status.busy": "2022-06-20T09:34:20.551157Z",
     "iopub.status.idle": "2022-06-20T09:34:20.600704Z",
     "shell.execute_reply": "2022-06-20T09:34:20.599781Z"
    },
    "papermill": {
     "duration": 0.060209,
     "end_time": "2022-06-20T09:34:20.602992",
     "exception": false,
     "start_time": "2022-06-20T09:34:20.542783",
     "status": "completed"
    },
    "tags": []
   },
   "outputs": [
    {
     "name": "stdout",
     "output_type": "stream",
     "text": [
      "Setup complete.\n"
     ]
    }
   ],
   "source": [
    "from learntools.core import binder; binder.bind(globals())\n",
    "from learntools.python.ex3 import *\n",
    "print('Setup complete.')"
   ]
  },
  {
   "cell_type": "markdown",
   "id": "ae0c38e5",
   "metadata": {
    "papermill": {
     "duration": 0.00699,
     "end_time": "2022-06-20T09:34:20.617494",
     "exception": false,
     "start_time": "2022-06-20T09:34:20.610504",
     "status": "completed"
    },
    "tags": []
   },
   "source": [
    "# 1.\n",
    "\n",
    "Many programming languages have [`sign`](https://en.wikipedia.org/wiki/Sign_function) available as a built-in function. Python doesn't, but we can define our own!\n",
    "\n",
    "In the cell below, define a function called `sign` which takes a numerical argument and returns -1 if it's negative, 1 if it's positive, and 0 if it's 0."
   ]
  },
  {
   "cell_type": "code",
   "execution_count": 2,
   "id": "814c46f7",
   "metadata": {
    "execution": {
     "iopub.execute_input": "2022-06-20T09:34:20.634029Z",
     "iopub.status.busy": "2022-06-20T09:34:20.633122Z",
     "iopub.status.idle": "2022-06-20T09:34:20.641596Z",
     "shell.execute_reply": "2022-06-20T09:34:20.641009Z"
    },
    "papermill": {
     "duration": 0.018268,
     "end_time": "2022-06-20T09:34:20.643129",
     "exception": false,
     "start_time": "2022-06-20T09:34:20.624861",
     "status": "completed"
    },
    "tags": []
   },
   "outputs": [
    {
     "data": {
      "application/javascript": [
       "parent.postMessage({\"jupyterEvent\": \"custom.exercise_interaction\", \"data\": {\"outcomeType\": 1, \"valueTowardsCompletion\": 0.2, \"interactionType\": 1, \"questionType\": 2, \"questionId\": \"1_SignFunctionProblem\", \"learnToolsVersion\": \"0.3.4\", \"failureMessage\": \"\", \"exceptionClass\": \"\", \"trace\": \"\"}}, \"*\")"
      ],
      "text/plain": [
       "<IPython.core.display.Javascript object>"
      ]
     },
     "metadata": {},
     "output_type": "display_data"
    },
    {
     "data": {
      "text/markdown": [
       "<span style=\"color:#33cc33\">Correct</span>"
      ],
      "text/plain": [
       "Correct"
      ]
     },
     "metadata": {},
     "output_type": "display_data"
    }
   ],
   "source": [
    "# Your code goes here. Define a function called 'sign'\n",
    "\n",
    "def sign (num):\n",
    "    if num < 0:\n",
    "        return -1\n",
    "    elif num > 0:\n",
    "        return 1\n",
    "    else: \n",
    "        return 0\n",
    "q1.check()"
   ]
  },
  {
   "cell_type": "code",
   "execution_count": 3,
   "id": "3f061b12",
   "metadata": {
    "execution": {
     "iopub.execute_input": "2022-06-20T09:34:20.659555Z",
     "iopub.status.busy": "2022-06-20T09:34:20.658918Z",
     "iopub.status.idle": "2022-06-20T09:34:20.663071Z",
     "shell.execute_reply": "2022-06-20T09:34:20.662200Z"
    },
    "papermill": {
     "duration": 0.014312,
     "end_time": "2022-06-20T09:34:20.664805",
     "exception": false,
     "start_time": "2022-06-20T09:34:20.650493",
     "status": "completed"
    },
    "tags": []
   },
   "outputs": [],
   "source": [
    "#q1.solution()"
   ]
  },
  {
   "cell_type": "markdown",
   "id": "a37c27da",
   "metadata": {
    "papermill": {
     "duration": 0.006922,
     "end_time": "2022-06-20T09:34:20.679161",
     "exception": false,
     "start_time": "2022-06-20T09:34:20.672239",
     "status": "completed"
    },
    "tags": []
   },
   "source": [
    "# 2.\n",
    "\n",
    "We've decided to add \"logging\" to our `to_smash` function from the previous exercise."
   ]
  },
  {
   "cell_type": "code",
   "execution_count": 4,
   "id": "3add8004",
   "metadata": {
    "execution": {
     "iopub.execute_input": "2022-06-20T09:34:20.695186Z",
     "iopub.status.busy": "2022-06-20T09:34:20.694812Z",
     "iopub.status.idle": "2022-06-20T09:34:20.700980Z",
     "shell.execute_reply": "2022-06-20T09:34:20.700373Z"
    },
    "papermill": {
     "duration": 0.018823,
     "end_time": "2022-06-20T09:34:20.705378",
     "exception": false,
     "start_time": "2022-06-20T09:34:20.686555",
     "status": "completed"
    },
    "tags": []
   },
   "outputs": [
    {
     "name": "stdout",
     "output_type": "stream",
     "text": [
      "Splitting 91 candies\n"
     ]
    },
    {
     "data": {
      "text/plain": [
       "1"
      ]
     },
     "execution_count": 4,
     "metadata": {},
     "output_type": "execute_result"
    }
   ],
   "source": [
    "def to_smash(total_candies):\n",
    "    \"\"\"Return the number of leftover candies that must be smashed after distributing\n",
    "    the given number of candies evenly between 3 friends.\n",
    "    \n",
    "    >>> to_smash(91)\n",
    "    1\n",
    "    \"\"\"\n",
    "    print(\"Splitting\", total_candies, \"candies\")\n",
    "    return total_candies % 3\n",
    "\n",
    "to_smash(91)"
   ]
  },
  {
   "cell_type": "markdown",
   "id": "d2eb1ae9",
   "metadata": {
    "papermill": {
     "duration": 0.007233,
     "end_time": "2022-06-20T09:34:20.720698",
     "exception": false,
     "start_time": "2022-06-20T09:34:20.713465",
     "status": "completed"
    },
    "tags": []
   },
   "source": [
    "What happens if we call it with `total_candies = 1`?"
   ]
  },
  {
   "cell_type": "code",
   "execution_count": 5,
   "id": "b213be70",
   "metadata": {
    "execution": {
     "iopub.execute_input": "2022-06-20T09:34:20.737125Z",
     "iopub.status.busy": "2022-06-20T09:34:20.736482Z",
     "iopub.status.idle": "2022-06-20T09:34:20.741951Z",
     "shell.execute_reply": "2022-06-20T09:34:20.741338Z"
    },
    "papermill": {
     "duration": 0.015456,
     "end_time": "2022-06-20T09:34:20.743506",
     "exception": false,
     "start_time": "2022-06-20T09:34:20.728050",
     "status": "completed"
    },
    "tags": []
   },
   "outputs": [
    {
     "name": "stdout",
     "output_type": "stream",
     "text": [
      "Splitting 1 candies\n"
     ]
    },
    {
     "data": {
      "text/plain": [
       "1"
      ]
     },
     "execution_count": 5,
     "metadata": {},
     "output_type": "execute_result"
    }
   ],
   "source": [
    "to_smash(1)"
   ]
  },
  {
   "cell_type": "markdown",
   "id": "b4f7a11e",
   "metadata": {
    "papermill": {
     "duration": 0.007633,
     "end_time": "2022-06-20T09:34:20.758797",
     "exception": false,
     "start_time": "2022-06-20T09:34:20.751164",
     "status": "completed"
    },
    "tags": []
   },
   "source": [
    "That isn't great grammar!\n",
    "\n",
    "Modify the definition in the cell below to correct the grammar of our print statement. (If there's only one candy, we should use the singular \"candy\" instead of the plural \"candies\")"
   ]
  },
  {
   "cell_type": "code",
   "execution_count": 6,
   "id": "0a19ddcb",
   "metadata": {
    "execution": {
     "iopub.execute_input": "2022-06-20T09:34:20.776839Z",
     "iopub.status.busy": "2022-06-20T09:34:20.776245Z",
     "iopub.status.idle": "2022-06-20T09:34:20.783132Z",
     "shell.execute_reply": "2022-06-20T09:34:20.782093Z"
    },
    "papermill": {
     "duration": 0.018202,
     "end_time": "2022-06-20T09:34:20.784999",
     "exception": false,
     "start_time": "2022-06-20T09:34:20.766797",
     "status": "completed"
    },
    "tags": []
   },
   "outputs": [
    {
     "name": "stdout",
     "output_type": "stream",
     "text": [
      "Splitting 91 candies\n",
      "Splitting 1 candy\n"
     ]
    },
    {
     "data": {
      "text/plain": [
       "1"
      ]
     },
     "execution_count": 6,
     "metadata": {},
     "output_type": "execute_result"
    }
   ],
   "source": [
    "def to_smash(total_candies):\n",
    "    \"\"\"Return the number of leftover candies that must be smashed after distributing\n",
    "    the given number of candies evenly between 3 friends.\n",
    "    \n",
    "    >>> to_smash(91)\n",
    "    1\n",
    "    \"\"\"\n",
    "    if total_candies == 1:\n",
    "        print(\"Splitting\", total_candies, \"candy\")\n",
    "        return total_candies % 3\n",
    "    else:\n",
    "        print(\"Splitting\", total_candies, \"candies\")\n",
    "        return total_candies % 3\n",
    "\n",
    "to_smash(91)\n",
    "to_smash(1)"
   ]
  },
  {
   "cell_type": "markdown",
   "id": "f5992efd",
   "metadata": {
    "papermill": {
     "duration": 0.007957,
     "end_time": "2022-06-20T09:34:20.800757",
     "exception": false,
     "start_time": "2022-06-20T09:34:20.792800",
     "status": "completed"
    },
    "tags": []
   },
   "source": [
    "To get credit for completing this problem, and to see the official answer, run the code cell below."
   ]
  },
  {
   "cell_type": "code",
   "execution_count": 7,
   "id": "6de11167",
   "metadata": {
    "execution": {
     "iopub.execute_input": "2022-06-20T09:34:20.818722Z",
     "iopub.status.busy": "2022-06-20T09:34:20.818090Z",
     "iopub.status.idle": "2022-06-20T09:34:20.824218Z",
     "shell.execute_reply": "2022-06-20T09:34:20.823631Z"
    },
    "papermill": {
     "duration": 0.016965,
     "end_time": "2022-06-20T09:34:20.826037",
     "exception": false,
     "start_time": "2022-06-20T09:34:20.809072",
     "status": "completed"
    },
    "tags": []
   },
   "outputs": [
    {
     "data": {
      "application/javascript": [
       "parent.postMessage({\"jupyterEvent\": \"custom.exercise_interaction\", \"data\": {\"interactionType\": 3, \"questionType\": 4, \"questionId\": \"2_PluralizationProblem\", \"learnToolsVersion\": \"0.3.4\", \"valueTowardsCompletion\": 0.0, \"failureMessage\": \"\", \"exceptionClass\": \"\", \"trace\": \"\", \"outcomeType\": 4}}, \"*\")"
      ],
      "text/plain": [
       "<IPython.core.display.Javascript object>"
      ]
     },
     "metadata": {},
     "output_type": "display_data"
    },
    {
     "data": {
      "text/markdown": [
       "<span style=\"color:#33cc99\">Solution:</span> A straightforward (and totally fine) solution is to replace the original `print` call with:\n",
       "\n",
       "```python\n",
       "if total_candies == 1:\n",
       "    print(\"Splitting 1 candy\")\n",
       "else:\n",
       "    print(\"Splitting\", total_candies, \"candies\")\n",
       "```\n",
       "\n",
       "Here's a slightly more succinct solution using a conditional expression:\n",
       "\n",
       "```python\n",
       "print(\"Splitting\", total_candies, \"candy\" if total_candies == 1 else \"candies\")\n",
       "```"
      ],
      "text/plain": [
       "Solution: A straightforward (and totally fine) solution is to replace the original `print` call with:\n",
       "\n",
       "```python\n",
       "if total_candies == 1:\n",
       "    print(\"Splitting 1 candy\")\n",
       "else:\n",
       "    print(\"Splitting\", total_candies, \"candies\")\n",
       "```\n",
       "\n",
       "Here's a slightly more succinct solution using a conditional expression:\n",
       "\n",
       "```python\n",
       "print(\"Splitting\", total_candies, \"candy\" if total_candies == 1 else \"candies\")\n",
       "```"
      ]
     },
     "metadata": {},
     "output_type": "display_data"
    }
   ],
   "source": [
    "# Check your answer (Run this code cell to receive credit!)\n",
    "q2.solution()"
   ]
  },
  {
   "cell_type": "markdown",
   "id": "ec8e0434",
   "metadata": {
    "papermill": {
     "duration": 0.007724,
     "end_time": "2022-06-20T09:34:20.841790",
     "exception": false,
     "start_time": "2022-06-20T09:34:20.834066",
     "status": "completed"
    },
    "tags": []
   },
   "source": [
    "# 3. <span title=\"A bit spicy\" style=\"color: darkgreen \">🌶️</span>\n",
    "\n",
    "In the tutorial, we talked about deciding whether we're prepared for the weather. I said that I'm safe from today's weather if...\n",
    "- I have an umbrella...\n",
    "- or if the rain isn't too heavy and I have a hood...\n",
    "- otherwise, I'm still fine unless it's raining *and* it's a workday\n",
    "\n",
    "The function below uses our first attempt at turning this logic into a Python expression. I claimed that there was a bug in that code. Can you find it?\n",
    "\n",
    "To prove that `prepared_for_weather` is buggy, come up with a set of inputs where either:\n",
    "- the function returns `False` (but should have returned `True`), or\n",
    "- the function returned `True` (but should have returned `False`).\n",
    "\n",
    "To get credit for completing this question, your code should return a <font color='#33cc33'>Correct</font> result."
   ]
  },
  {
   "cell_type": "code",
   "execution_count": 8,
   "id": "c76e4cdb",
   "metadata": {
    "execution": {
     "iopub.execute_input": "2022-06-20T09:34:20.859540Z",
     "iopub.status.busy": "2022-06-20T09:34:20.859034Z",
     "iopub.status.idle": "2022-06-20T09:34:20.874107Z",
     "shell.execute_reply": "2022-06-20T09:34:20.873349Z"
    },
    "papermill": {
     "duration": 0.026006,
     "end_time": "2022-06-20T09:34:20.875792",
     "exception": false,
     "start_time": "2022-06-20T09:34:20.849786",
     "status": "completed"
    },
    "tags": []
   },
   "outputs": [
    {
     "name": "stdout",
     "output_type": "stream",
     "text": [
      "False\n"
     ]
    },
    {
     "data": {
      "application/javascript": [
       "parent.postMessage({\"jupyterEvent\": \"custom.exercise_interaction\", \"data\": {\"outcomeType\": 1, \"valueTowardsCompletion\": 0.2, \"interactionType\": 1, \"questionType\": 1, \"questionId\": \"3_WeatherDebug\", \"learnToolsVersion\": \"0.3.4\", \"failureMessage\": \"\", \"exceptionClass\": \"\", \"trace\": \"\"}}, \"*\")"
      ],
      "text/plain": [
       "<IPython.core.display.Javascript object>"
      ]
     },
     "metadata": {},
     "output_type": "display_data"
    },
    {
     "data": {
      "text/markdown": [
       "<span style=\"color:#33cc33\">Correct:</span> \n",
       "\n",
       "One example of a failing test case is:\n",
       "\n",
       "```python\n",
       "have_umbrella = False\n",
       "rain_level = 0.0\n",
       "have_hood = False\n",
       "is_workday = False\n",
       "```\n",
       "\n",
       "Clearly we're prepared for the weather in this case. It's not raining. Not only that, it's not a workday, so we don't even need to leave the house! But our function will return False on these inputs.\n",
       "\n",
       "The key problem is that Python implictly parenthesizes the last part as:\n",
       "\n",
       "```python\n",
       "(not (rain_level > 0)) and is_workday\n",
       "```\n",
       "\n",
       "Whereas what we were trying to express would look more like:\n",
       "\n",
       "```python\n",
       "not (rain_level > 0 and is_workday)\n",
       "```\n"
      ],
      "text/plain": [
       "Correct: \n",
       "\n",
       "One example of a failing test case is:\n",
       "\n",
       "```python\n",
       "have_umbrella = False\n",
       "rain_level = 0.0\n",
       "have_hood = False\n",
       "is_workday = False\n",
       "```\n",
       "\n",
       "Clearly we're prepared for the weather in this case. It's not raining. Not only that, it's not a workday, so we don't even need to leave the house! But our function will return False on these inputs.\n",
       "\n",
       "The key problem is that Python implictly parenthesizes the last part as:\n",
       "\n",
       "```python\n",
       "(not (rain_level > 0)) and is_workday\n",
       "```\n",
       "\n",
       "Whereas what we were trying to express would look more like:\n",
       "\n",
       "```python\n",
       "not (rain_level > 0 and is_workday)\n",
       "```"
      ]
     },
     "metadata": {},
     "output_type": "display_data"
    }
   ],
   "source": [
    "def prepared_for_weather(have_umbrella, rain_level, have_hood, is_workday):\n",
    "    # Don't change this code. Our goal is just to find the bug, not fix it!\n",
    "    return have_umbrella or rain_level < 5 and have_hood or not rain_level > 0 and is_workday\n",
    "\n",
    "# Change the values of these inputs so they represent a case where prepared_for_weather\n",
    "# returns the wrong answer.\n",
    "have_umbrella = False\n",
    "rain_level = 0.0\n",
    "have_hood = False\n",
    "is_workday = False\n",
    "\n",
    "# Check what the function returns given the current values of the variables above\n",
    "actual = prepared_for_weather(have_umbrella, rain_level, have_hood, is_workday)\n",
    "print(actual)\n",
    "\n",
    "# Check your answer\n",
    "q3.check()"
   ]
  },
  {
   "cell_type": "code",
   "execution_count": 9,
   "id": "194fbc17",
   "metadata": {
    "execution": {
     "iopub.execute_input": "2022-06-20T09:34:20.894594Z",
     "iopub.status.busy": "2022-06-20T09:34:20.893820Z",
     "iopub.status.idle": "2022-06-20T09:34:20.897329Z",
     "shell.execute_reply": "2022-06-20T09:34:20.896710Z"
    },
    "papermill": {
     "duration": 0.014784,
     "end_time": "2022-06-20T09:34:20.899003",
     "exception": false,
     "start_time": "2022-06-20T09:34:20.884219",
     "status": "completed"
    },
    "tags": []
   },
   "outputs": [],
   "source": [
    "#q3.hint()\n",
    "#q3.solution()"
   ]
  },
  {
   "cell_type": "markdown",
   "id": "e5a29dec",
   "metadata": {
    "papermill": {
     "duration": 0.007904,
     "end_time": "2022-06-20T09:34:20.915265",
     "exception": false,
     "start_time": "2022-06-20T09:34:20.907361",
     "status": "completed"
    },
    "tags": []
   },
   "source": [
    "# 4.\n",
    "\n",
    "The function `is_negative` below is implemented correctly - it returns True if the given number is negative and False otherwise.\n",
    "\n",
    "However, it's more verbose than it needs to be. We can actually reduce the number of lines of code in this function by *75%* while keeping the same behaviour. \n",
    "\n",
    "See if you can come up with an equivalent body that uses just **one line** of code, and put it in the function `concise_is_negative`. (HINT: you don't even need Python's ternary syntax)"
   ]
  },
  {
   "cell_type": "code",
   "execution_count": 10,
   "id": "ed185854",
   "metadata": {
    "execution": {
     "iopub.execute_input": "2022-06-20T09:34:20.934306Z",
     "iopub.status.busy": "2022-06-20T09:34:20.933745Z",
     "iopub.status.idle": "2022-06-20T09:34:20.940367Z",
     "shell.execute_reply": "2022-06-20T09:34:20.939718Z"
    },
    "papermill": {
     "duration": 0.018006,
     "end_time": "2022-06-20T09:34:20.942039",
     "exception": false,
     "start_time": "2022-06-20T09:34:20.924033",
     "status": "completed"
    },
    "tags": []
   },
   "outputs": [
    {
     "data": {
      "application/javascript": [
       "parent.postMessage({\"jupyterEvent\": \"custom.exercise_interaction\", \"data\": {\"outcomeType\": 1, \"valueTowardsCompletion\": 0.2, \"interactionType\": 1, \"questionType\": 2, \"questionId\": \"4_ConciseIsNegative\", \"learnToolsVersion\": \"0.3.4\", \"failureMessage\": \"\", \"exceptionClass\": \"\", \"trace\": \"\"}}, \"*\")"
      ],
      "text/plain": [
       "<IPython.core.display.Javascript object>"
      ]
     },
     "metadata": {},
     "output_type": "display_data"
    },
    {
     "data": {
      "text/markdown": [
       "<span style=\"color:#33cc33\">Correct</span>"
      ],
      "text/plain": [
       "Correct"
      ]
     },
     "metadata": {},
     "output_type": "display_data"
    }
   ],
   "source": [
    "def is_negative(number):\n",
    "    if number < 0:\n",
    "        return True\n",
    "    else:\n",
    "        return False\n",
    "\n",
    "def concise_is_negative(number):\n",
    "    return number < 0 \n",
    "\n",
    "# Check your answer\n",
    "q4.check()"
   ]
  },
  {
   "cell_type": "code",
   "execution_count": 11,
   "id": "2f45201b",
   "metadata": {
    "execution": {
     "iopub.execute_input": "2022-06-20T09:34:20.961661Z",
     "iopub.status.busy": "2022-06-20T09:34:20.961045Z",
     "iopub.status.idle": "2022-06-20T09:34:20.964386Z",
     "shell.execute_reply": "2022-06-20T09:34:20.963738Z"
    },
    "papermill": {
     "duration": 0.01522,
     "end_time": "2022-06-20T09:34:20.966096",
     "exception": false,
     "start_time": "2022-06-20T09:34:20.950876",
     "status": "completed"
    },
    "tags": []
   },
   "outputs": [],
   "source": [
    "#q4.hint()\n",
    "#q4.solution()"
   ]
  },
  {
   "cell_type": "markdown",
   "id": "007363a5",
   "metadata": {
    "papermill": {
     "duration": 0.008277,
     "end_time": "2022-06-20T09:34:20.982995",
     "exception": false,
     "start_time": "2022-06-20T09:34:20.974718",
     "status": "completed"
    },
    "tags": []
   },
   "source": [
    "# 5a.\n",
    "\n",
    "The boolean variables `ketchup`, `mustard` and `onion` represent whether a customer wants a particular topping on their hot dog. We want to implement a number of boolean functions that correspond to some yes-or-no questions about the customer's order. For example:"
   ]
  },
  {
   "cell_type": "code",
   "execution_count": 12,
   "id": "e2594c08",
   "metadata": {
    "execution": {
     "iopub.execute_input": "2022-06-20T09:34:21.003064Z",
     "iopub.status.busy": "2022-06-20T09:34:21.002437Z",
     "iopub.status.idle": "2022-06-20T09:34:21.006994Z",
     "shell.execute_reply": "2022-06-20T09:34:21.005980Z"
    },
    "papermill": {
     "duration": 0.016912,
     "end_time": "2022-06-20T09:34:21.009084",
     "exception": false,
     "start_time": "2022-06-20T09:34:20.992172",
     "status": "completed"
    },
    "tags": []
   },
   "outputs": [],
   "source": [
    "def onionless(ketchup, mustard, onion):\n",
    "    \"\"\"Return whether the customer doesn't want onions.\n",
    "    \"\"\"\n",
    "    return not onion"
   ]
  },
  {
   "cell_type": "code",
   "execution_count": 13,
   "id": "712a0d46",
   "metadata": {
    "execution": {
     "iopub.execute_input": "2022-06-20T09:34:21.028380Z",
     "iopub.status.busy": "2022-06-20T09:34:21.027984Z",
     "iopub.status.idle": "2022-06-20T09:34:21.034764Z",
     "shell.execute_reply": "2022-06-20T09:34:21.034081Z"
    },
    "papermill": {
     "duration": 0.018588,
     "end_time": "2022-06-20T09:34:21.036426",
     "exception": false,
     "start_time": "2022-06-20T09:34:21.017838",
     "status": "completed"
    },
    "tags": []
   },
   "outputs": [
    {
     "data": {
      "application/javascript": [
       "parent.postMessage({\"jupyterEvent\": \"custom.exercise_interaction\", \"data\": {\"outcomeType\": 1, \"valueTowardsCompletion\": 0.2, \"interactionType\": 1, \"questionType\": 2, \"questionId\": \"5.1_AllToppings\", \"learnToolsVersion\": \"0.3.4\", \"failureMessage\": \"\", \"exceptionClass\": \"\", \"trace\": \"\"}}, \"*\")"
      ],
      "text/plain": [
       "<IPython.core.display.Javascript object>"
      ]
     },
     "metadata": {},
     "output_type": "display_data"
    },
    {
     "data": {
      "text/markdown": [
       "<span style=\"color:#33cc33\">Correct</span>"
      ],
      "text/plain": [
       "Correct"
      ]
     },
     "metadata": {},
     "output_type": "display_data"
    }
   ],
   "source": [
    "def wants_all_toppings(ketchup, mustard, onion):\n",
    "    \"\"\"Return whether the customer wants \"the works\" (all 3 toppings)\n",
    "    \"\"\"\n",
    "    return ketchup and onion and mustard\n",
    "\n",
    "# Check your answer\n",
    "q5.a.check()"
   ]
  },
  {
   "cell_type": "code",
   "execution_count": 14,
   "id": "f01cc3c7",
   "metadata": {
    "execution": {
     "iopub.execute_input": "2022-06-20T09:34:21.056094Z",
     "iopub.status.busy": "2022-06-20T09:34:21.055345Z",
     "iopub.status.idle": "2022-06-20T09:34:21.059878Z",
     "shell.execute_reply": "2022-06-20T09:34:21.058932Z"
    },
    "papermill": {
     "duration": 0.016688,
     "end_time": "2022-06-20T09:34:21.062055",
     "exception": false,
     "start_time": "2022-06-20T09:34:21.045367",
     "status": "completed"
    },
    "tags": []
   },
   "outputs": [],
   "source": [
    "#q5.a.hint()\n",
    "#q5.a.solution()"
   ]
  },
  {
   "cell_type": "markdown",
   "id": "b12bf2de",
   "metadata": {
    "papermill": {
     "duration": 0.008935,
     "end_time": "2022-06-20T09:34:21.079968",
     "exception": false,
     "start_time": "2022-06-20T09:34:21.071033",
     "status": "completed"
    },
    "tags": []
   },
   "source": [
    "# 5b.\n",
    "\n",
    "For the next function, fill in the body to match the English description in the docstring. "
   ]
  },
  {
   "cell_type": "code",
   "execution_count": 15,
   "id": "84baaff6",
   "metadata": {
    "execution": {
     "iopub.execute_input": "2022-06-20T09:34:21.099607Z",
     "iopub.status.busy": "2022-06-20T09:34:21.098604Z",
     "iopub.status.idle": "2022-06-20T09:34:21.108571Z",
     "shell.execute_reply": "2022-06-20T09:34:21.107840Z"
    },
    "papermill": {
     "duration": 0.021484,
     "end_time": "2022-06-20T09:34:21.110385",
     "exception": false,
     "start_time": "2022-06-20T09:34:21.088901",
     "status": "completed"
    },
    "tags": []
   },
   "outputs": [
    {
     "data": {
      "application/javascript": [
       "parent.postMessage({\"jupyterEvent\": \"custom.exercise_interaction\", \"data\": {\"outcomeType\": 1, \"valueTowardsCompletion\": 0.2, \"interactionType\": 1, \"questionType\": 2, \"questionId\": \"5.2_PlainDog\", \"learnToolsVersion\": \"0.3.4\", \"failureMessage\": \"\", \"exceptionClass\": \"\", \"trace\": \"\"}}, \"*\")"
      ],
      "text/plain": [
       "<IPython.core.display.Javascript object>"
      ]
     },
     "metadata": {},
     "output_type": "display_data"
    },
    {
     "data": {
      "text/markdown": [
       "<span style=\"color:#33cc33\">Correct:</span> \n",
       "\n",
       "One solution looks like:\n",
       "```python\n",
       "return not ketchup and not mustard and not onion\n",
       "```\n",
       "\n",
       "We can also [\"factor out\" the nots](https://en.wikipedia.org/wiki/De_Morgan%27s_laws) to get:\n",
       "\n",
       "```python\n",
       "return not (ketchup or mustard or onion)\n",
       "```"
      ],
      "text/plain": [
       "Correct: \n",
       "\n",
       "One solution looks like:\n",
       "```python\n",
       "return not ketchup and not mustard and not onion\n",
       "```\n",
       "\n",
       "We can also [\"factor out\" the nots](https://en.wikipedia.org/wiki/De_Morgan%27s_laws) to get:\n",
       "\n",
       "```python\n",
       "return not (ketchup or mustard or onion)\n",
       "```"
      ]
     },
     "metadata": {},
     "output_type": "display_data"
    }
   ],
   "source": [
    "def wants_plain_hotdog(ketchup, mustard, onion):\n",
    "    \"\"\"Return whether the customer wants a plain hot dog with no toppings.\n",
    "    \"\"\"\n",
    "    return not (ketchup or mustard or onion)\n",
    "\n",
    "# Check your answer\n",
    "q5.b.check()"
   ]
  },
  {
   "cell_type": "code",
   "execution_count": 16,
   "id": "854aaa86",
   "metadata": {
    "execution": {
     "iopub.execute_input": "2022-06-20T09:34:21.130994Z",
     "iopub.status.busy": "2022-06-20T09:34:21.130325Z",
     "iopub.status.idle": "2022-06-20T09:34:21.134248Z",
     "shell.execute_reply": "2022-06-20T09:34:21.133624Z"
    },
    "papermill": {
     "duration": 0.016287,
     "end_time": "2022-06-20T09:34:21.136091",
     "exception": false,
     "start_time": "2022-06-20T09:34:21.119804",
     "status": "completed"
    },
    "tags": []
   },
   "outputs": [],
   "source": [
    "#q5.b.hint()\n",
    "#q5.b.solution()"
   ]
  },
  {
   "cell_type": "markdown",
   "id": "7a6466d8",
   "metadata": {
    "papermill": {
     "duration": 0.008803,
     "end_time": "2022-06-20T09:34:21.153947",
     "exception": false,
     "start_time": "2022-06-20T09:34:21.145144",
     "status": "completed"
    },
    "tags": []
   },
   "source": [
    "# 5c.\n",
    "\n",
    "You know what to do: for the next function, fill in the body to match the English description in the docstring."
   ]
  },
  {
   "cell_type": "code",
   "execution_count": 17,
   "id": "242591dd",
   "metadata": {
    "execution": {
     "iopub.execute_input": "2022-06-20T09:34:21.174253Z",
     "iopub.status.busy": "2022-06-20T09:34:21.173563Z",
     "iopub.status.idle": "2022-06-20T09:34:21.182013Z",
     "shell.execute_reply": "2022-06-20T09:34:21.181375Z"
    },
    "papermill": {
     "duration": 0.020649,
     "end_time": "2022-06-20T09:34:21.183775",
     "exception": false,
     "start_time": "2022-06-20T09:34:21.163126",
     "status": "completed"
    },
    "tags": []
   },
   "outputs": [
    {
     "data": {
      "application/javascript": [
       "parent.postMessage({\"jupyterEvent\": \"custom.exercise_interaction\", \"data\": {\"outcomeType\": 1, \"valueTowardsCompletion\": 0.2, \"interactionType\": 1, \"questionType\": 2, \"questionId\": \"5.3_OneSauce\", \"learnToolsVersion\": \"0.3.4\", \"failureMessage\": \"\", \"exceptionClass\": \"\", \"trace\": \"\"}}, \"*\")"
      ],
      "text/plain": [
       "<IPython.core.display.Javascript object>"
      ]
     },
     "metadata": {},
     "output_type": "display_data"
    },
    {
     "data": {
      "text/markdown": [
       "<span style=\"color:#33cc33\">Correct</span>"
      ],
      "text/plain": [
       "Correct"
      ]
     },
     "metadata": {},
     "output_type": "display_data"
    }
   ],
   "source": [
    "def exactly_one_sauce(ketchup, mustard, onion):\n",
    "    \"\"\"Return whether the customer wants either ketchup or mustard, but not both.\n",
    "    (You may be familiar with this operation under the name \"exclusive or\")\n",
    "    \"\"\"\n",
    "    return (ketchup and not mustard) or (mustard and not ketchup)\n",
    "\n",
    "# Check your answer\n",
    "q5.c.check()"
   ]
  },
  {
   "cell_type": "code",
   "execution_count": 18,
   "id": "0b3ccd1b",
   "metadata": {
    "execution": {
     "iopub.execute_input": "2022-06-20T09:34:21.204392Z",
     "iopub.status.busy": "2022-06-20T09:34:21.203737Z",
     "iopub.status.idle": "2022-06-20T09:34:21.207479Z",
     "shell.execute_reply": "2022-06-20T09:34:21.206871Z"
    },
    "papermill": {
     "duration": 0.016251,
     "end_time": "2022-06-20T09:34:21.209339",
     "exception": false,
     "start_time": "2022-06-20T09:34:21.193088",
     "status": "completed"
    },
    "tags": []
   },
   "outputs": [],
   "source": [
    "#q5.c.hint()\n",
    "#q5.c.solution()"
   ]
  },
  {
   "cell_type": "markdown",
   "id": "f000195d",
   "metadata": {
    "papermill": {
     "duration": 0.009167,
     "end_time": "2022-06-20T09:34:21.227634",
     "exception": false,
     "start_time": "2022-06-20T09:34:21.218467",
     "status": "completed"
    },
    "tags": []
   },
   "source": [
    "# 6. <span title=\"A bit spicy\" style=\"color: darkgreen \">🌶️</span>\n",
    "\n",
    "We’ve seen that calling `bool()` on an integer returns `False` if it’s equal to 0 and `True` otherwise. What happens if we call `int()` on a bool? Try it out in the notebook cell below.\n",
    "\n",
    "Can you take advantage of this to write a succinct function that corresponds to the English sentence \"does the customer want exactly one topping?\"?"
   ]
  },
  {
   "cell_type": "code",
   "execution_count": 19,
   "id": "ba0f9fbe",
   "metadata": {
    "execution": {
     "iopub.execute_input": "2022-06-20T09:34:21.248317Z",
     "iopub.status.busy": "2022-06-20T09:34:21.247623Z",
     "iopub.status.idle": "2022-06-20T09:34:21.255962Z",
     "shell.execute_reply": "2022-06-20T09:34:21.255313Z"
    },
    "papermill": {
     "duration": 0.02061,
     "end_time": "2022-06-20T09:34:21.257753",
     "exception": false,
     "start_time": "2022-06-20T09:34:21.237143",
     "status": "completed"
    },
    "tags": []
   },
   "outputs": [
    {
     "data": {
      "application/javascript": [
       "parent.postMessage({\"jupyterEvent\": \"custom.exercise_interaction\", \"data\": {\"outcomeType\": 1, \"valueTowardsCompletion\": 0.2, \"interactionType\": 1, \"questionType\": 2, \"questionId\": \"6_OneTopping\", \"learnToolsVersion\": \"0.3.4\", \"failureMessage\": \"\", \"exceptionClass\": \"\", \"trace\": \"\"}}, \"*\")"
      ],
      "text/plain": [
       "<IPython.core.display.Javascript object>"
      ]
     },
     "metadata": {},
     "output_type": "display_data"
    },
    {
     "data": {
      "text/markdown": [
       "<span style=\"color:#33cc33\">Correct:</span> \n",
       "\n",
       "This condition would be pretty complicated to express using just `and`, `or` and `not`, but using boolean-to-integer conversion gives us this short solution:\n",
       "```python\n",
       "return (int(ketchup) + int(mustard) + int(onion)) == 1\n",
       "```\n",
       "\n",
       "Fun fact: we don't technically need to call `int` on the arguments. Just by doing addition with booleans, Python implicitly does the integer conversion. So we could also write...\n",
       "\n",
       "```python\n",
       "return (ketchup + mustard + onion) == 1\n",
       "```"
      ],
      "text/plain": [
       "Correct: \n",
       "\n",
       "This condition would be pretty complicated to express using just `and`, `or` and `not`, but using boolean-to-integer conversion gives us this short solution:\n",
       "```python\n",
       "return (int(ketchup) + int(mustard) + int(onion)) == 1\n",
       "```\n",
       "\n",
       "Fun fact: we don't technically need to call `int` on the arguments. Just by doing addition with booleans, Python implicitly does the integer conversion. So we could also write...\n",
       "\n",
       "```python\n",
       "return (ketchup + mustard + onion) == 1\n",
       "```"
      ]
     },
     "metadata": {},
     "output_type": "display_data"
    }
   ],
   "source": [
    "def exactly_one_topping(ketchup, mustard, onion):\n",
    "    \"\"\"Return whether the customer wants exactly one of the three available toppings\n",
    "    on their hot dog.\n",
    "    \"\"\"\n",
    "    return (ketchup + mustard + onion) == 1\n",
    "# Check your answer\n",
    "q6.check()"
   ]
  },
  {
   "cell_type": "code",
   "execution_count": 20,
   "id": "27c71e50",
   "metadata": {
    "execution": {
     "iopub.execute_input": "2022-06-20T09:34:21.278383Z",
     "iopub.status.busy": "2022-06-20T09:34:21.277732Z",
     "iopub.status.idle": "2022-06-20T09:34:21.281387Z",
     "shell.execute_reply": "2022-06-20T09:34:21.280805Z"
    },
    "papermill": {
     "duration": 0.015992,
     "end_time": "2022-06-20T09:34:21.283144",
     "exception": false,
     "start_time": "2022-06-20T09:34:21.267152",
     "status": "completed"
    },
    "tags": []
   },
   "outputs": [],
   "source": [
    "#q6.hint()\n",
    "#q6.solution()"
   ]
  },
  {
   "cell_type": "markdown",
   "id": "77182375",
   "metadata": {
    "papermill": {
     "duration": 0.009111,
     "end_time": "2022-06-20T09:34:21.301612",
     "exception": false,
     "start_time": "2022-06-20T09:34:21.292501",
     "status": "completed"
    },
    "tags": []
   },
   "source": [
    "# 7. <span title=\"A bit spicy\" style=\"color: darkgreen \">🌶️</span> (Optional)\n",
    "\n",
    "In this problem we'll be working with a simplified version of [blackjack](https://en.wikipedia.org/wiki/Blackjack) (aka twenty-one). In this version there is one player (who you'll control) and a dealer. Play proceeds as follows:\n",
    "\n",
    "- The player is dealt two face-up cards. The dealer is dealt one face-up card.\n",
    "- The player may ask to be dealt another card ('hit') as many times as they wish. If the sum of their cards exceeds 21, they lose the round immediately.\n",
    "- The dealer then deals additional cards to himself until either:\n",
    "    - the sum of the dealer's cards exceeds 21, in which case the player wins the round\n",
    "    - the sum of the dealer's cards is greater than or equal to 17. If the player's total is greater than the dealer's, the player wins. Otherwise, the dealer wins (even in case of a tie).\n",
    "    \n",
    "When calculating the sum of cards, Jack, Queen, and King count for 10. Aces can count as 1 or 11 (when referring to a player's \"total\" above, we mean the largest total that can be made without exceeding 21. So e.g. A+8 = 19, A+8+8 = 17)\n",
    "\n",
    "For this problem, you'll write a function representing the player's decision-making strategy in this game. We've provided a very unintelligent implementation below:"
   ]
  },
  {
   "cell_type": "code",
   "execution_count": 21,
   "id": "70969160",
   "metadata": {
    "execution": {
     "iopub.execute_input": "2022-06-20T09:34:21.322514Z",
     "iopub.status.busy": "2022-06-20T09:34:21.321819Z",
     "iopub.status.idle": "2022-06-20T09:34:21.326480Z",
     "shell.execute_reply": "2022-06-20T09:34:21.325871Z"
    },
    "papermill": {
     "duration": 0.017059,
     "end_time": "2022-06-20T09:34:21.328240",
     "exception": false,
     "start_time": "2022-06-20T09:34:21.311181",
     "status": "completed"
    },
    "tags": []
   },
   "outputs": [],
   "source": [
    "def should_hit(dealer_total, player_total, player_low_aces, player_high_aces):\n",
    "    \"\"\"Return True if the player should hit (request another card) given the current game\n",
    "    state, or False if the player should stay.\n",
    "    When calculating a hand's total value, we count aces as \"high\" (with value 11) if doing so\n",
    "    doesn't bring the total above 21, otherwise we count them as low (with value 1). \n",
    "    For example, if the player's hand is {A, A, A, 7}, we will count it as 11 + 1 + 1 + 7,\n",
    "    and therefore set player_total=20, player_low_aces=2, player_high_aces=1.\n",
    "    \"\"\"\n",
    "    return False"
   ]
  },
  {
   "cell_type": "markdown",
   "id": "12f293a3",
   "metadata": {
    "papermill": {
     "duration": 0.009192,
     "end_time": "2022-06-20T09:34:21.347466",
     "exception": false,
     "start_time": "2022-06-20T09:34:21.338274",
     "status": "completed"
    },
    "tags": []
   },
   "source": [
    "This very conservative agent *always* sticks with the hand of two cards that they're dealt.\n",
    "\n",
    "We'll be simulating games between your player agent and our own dealer agent by calling your function.\n",
    "\n",
    "Try running the function below to see an example of a simulated game:"
   ]
  },
  {
   "cell_type": "code",
   "execution_count": 22,
   "id": "dab08b72",
   "metadata": {
    "execution": {
     "iopub.execute_input": "2022-06-20T09:34:21.368783Z",
     "iopub.status.busy": "2022-06-20T09:34:21.368057Z",
     "iopub.status.idle": "2022-06-20T09:34:21.373562Z",
     "shell.execute_reply": "2022-06-20T09:34:21.372395Z"
    },
    "papermill": {
     "duration": 0.019257,
     "end_time": "2022-06-20T09:34:21.376316",
     "exception": false,
     "start_time": "2022-06-20T09:34:21.357059",
     "status": "completed"
    },
    "tags": []
   },
   "outputs": [
    {
     "name": "stdout",
     "output_type": "stream",
     "text": [
      "Player starts with J and Q (total = 20)\n",
      "Dealer starts with 6\n",
      "\n",
      "__Player's turn__\n",
      "Player stays\n",
      "\n",
      "__Dealer's turn__\n",
      "Dealer hits and receives K. (total = 16)\n",
      "Dealer hits and receives 8. (total = 24)\n",
      "Dealer busts! Player wins.\n"
     ]
    }
   ],
   "source": [
    "q7.simulate_one_game()"
   ]
  },
  {
   "cell_type": "markdown",
   "id": "0575f121",
   "metadata": {
    "papermill": {
     "duration": 0.009535,
     "end_time": "2022-06-20T09:34:21.396411",
     "exception": false,
     "start_time": "2022-06-20T09:34:21.386876",
     "status": "completed"
    },
    "tags": []
   },
   "source": [
    "The real test of your agent's mettle is their average win rate over many games. Try calling the function below to simulate 50000 games of blackjack (it may take a couple seconds):"
   ]
  },
  {
   "cell_type": "code",
   "execution_count": 23,
   "id": "8103f26e",
   "metadata": {
    "execution": {
     "iopub.execute_input": "2022-06-20T09:34:21.417227Z",
     "iopub.status.busy": "2022-06-20T09:34:21.416515Z",
     "iopub.status.idle": "2022-06-20T09:34:22.679666Z",
     "shell.execute_reply": "2022-06-20T09:34:22.678391Z"
    },
    "papermill": {
     "duration": 1.276866,
     "end_time": "2022-06-20T09:34:22.682773",
     "exception": false,
     "start_time": "2022-06-20T09:34:21.405907",
     "status": "completed"
    },
    "tags": []
   },
   "outputs": [
    {
     "name": "stdout",
     "output_type": "stream",
     "text": [
      "Player won 18858 out of 50000 games (win rate = 37.7%)\n"
     ]
    }
   ],
   "source": [
    "q7.simulate(n_games=50000)"
   ]
  },
  {
   "cell_type": "markdown",
   "id": "e0c13789",
   "metadata": {
    "papermill": {
     "duration": 0.009149,
     "end_time": "2022-06-20T09:34:22.702078",
     "exception": false,
     "start_time": "2022-06-20T09:34:22.692929",
     "status": "completed"
    },
    "tags": []
   },
   "source": [
    "Our dumb agent that completely ignores the game state still manages to win shockingly often!\n",
    "\n",
    "Try adding some more smarts to the `should_hit` function and see how it affects the results."
   ]
  },
  {
   "cell_type": "code",
   "execution_count": 24,
   "id": "e74c88e1",
   "metadata": {
    "execution": {
     "iopub.execute_input": "2022-06-20T09:34:22.722346Z",
     "iopub.status.busy": "2022-06-20T09:34:22.721962Z",
     "iopub.status.idle": "2022-06-20T09:34:23.954956Z",
     "shell.execute_reply": "2022-06-20T09:34:23.953713Z"
    },
    "papermill": {
     "duration": 1.245786,
     "end_time": "2022-06-20T09:34:23.957188",
     "exception": false,
     "start_time": "2022-06-20T09:34:22.711402",
     "status": "completed"
    },
    "tags": []
   },
   "outputs": [
    {
     "name": "stdout",
     "output_type": "stream",
     "text": [
      "Player won 19089 out of 50000 games (win rate = 38.2%)\n"
     ]
    }
   ],
   "source": [
    "def should_hit(dealer_total, player_total, player_low_aces, player_high_aces):\n",
    "    \"\"\"Return True if the player should hit (request another card) given the current game\n",
    "    state, or False if the player should stay.\n",
    "    When calculating a hand's total value, we count aces as \"high\" (with value 11) if doing so\n",
    "    doesn't bring the total above 21, otherwise we count them as low (with value 1). \n",
    "    For example, if the player's hand is {A, A, A, 7}, we will count it as 11 + 1 + 1 + 7,\n",
    "    and therefore set player_total=20, player_low_aces=2, player_high_aces=1.\n",
    "    \"\"\"\n",
    "    return False\n",
    "\n",
    "q7.simulate(n_games=50000)"
   ]
  },
  {
   "cell_type": "markdown",
   "id": "0a37f992",
   "metadata": {
    "papermill": {
     "duration": 0.009444,
     "end_time": "2022-06-20T09:34:23.977219",
     "exception": false,
     "start_time": "2022-06-20T09:34:23.967775",
     "status": "completed"
    },
    "tags": []
   },
   "source": [
    "# Keep Going\n",
    "\n",
    "Learn about **[lists and tuples](https://www.kaggle.com/colinmorris/lists)** to handle multiple items of data in a systematic way."
   ]
  },
  {
   "cell_type": "markdown",
   "id": "837ece52",
   "metadata": {
    "papermill": {
     "duration": 0.0095,
     "end_time": "2022-06-20T09:34:23.997428",
     "exception": false,
     "start_time": "2022-06-20T09:34:23.987928",
     "status": "completed"
    },
    "tags": []
   },
   "source": [
    "---\n",
    "\n",
    "\n",
    "\n",
    "\n",
    "*Have questions or comments? Visit the [course discussion forum](https://www.kaggle.com/learn/python/discussion) to chat with other learners.*"
   ]
  }
 ],
 "metadata": {
  "kernelspec": {
   "display_name": "Python 3",
   "language": "python",
   "name": "python3"
  },
  "language_info": {
   "codemirror_mode": {
    "name": "ipython",
    "version": 3
   },
   "file_extension": ".py",
   "mimetype": "text/x-python",
   "name": "python",
   "nbconvert_exporter": "python",
   "pygments_lexer": "ipython3",
   "version": "3.7.12"
  },
  "papermill": {
   "default_parameters": {},
   "duration": 12.789162,
   "end_time": "2022-06-20T09:34:24.628372",
   "environment_variables": {},
   "exception": null,
   "input_path": "__notebook__.ipynb",
   "output_path": "__notebook__.ipynb",
   "parameters": {},
   "start_time": "2022-06-20T09:34:11.839210",
   "version": "2.3.4"
  }
 },
 "nbformat": 4,
 "nbformat_minor": 5
}
