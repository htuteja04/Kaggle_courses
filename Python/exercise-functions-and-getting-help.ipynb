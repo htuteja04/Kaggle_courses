{
 "cells": [
  {
   "cell_type": "markdown",
   "id": "229bce46",
   "metadata": {
    "papermill": {
     "duration": 0.008309,
     "end_time": "2022-06-20T09:14:09.927541",
     "exception": false,
     "start_time": "2022-06-20T09:14:09.919232",
     "status": "completed"
    },
    "tags": []
   },
   "source": [
    "**This notebook is an exercise in the [Python](https://www.kaggle.com/learn/python) course.  You can reference the tutorial at [this link](https://www.kaggle.com/colinmorris/functions-and-getting-help).**\n",
    "\n",
    "---\n"
   ]
  },
  {
   "cell_type": "markdown",
   "id": "5b25ee91",
   "metadata": {
    "papermill": {
     "duration": 0.004954,
     "end_time": "2022-06-20T09:14:09.937766",
     "exception": false,
     "start_time": "2022-06-20T09:14:09.932812",
     "status": "completed"
    },
    "tags": []
   },
   "source": [
    "Functions are powerful. Try writing some yourself.\n",
    "\n",
    "As before, don't forget to run the setup code below before jumping into question 1."
   ]
  },
  {
   "cell_type": "code",
   "execution_count": 1,
   "id": "8872ef70",
   "metadata": {
    "_kg_hide-input": true,
    "_kg_hide-output": true,
    "execution": {
     "iopub.execute_input": "2022-06-20T09:14:09.951410Z",
     "iopub.status.busy": "2022-06-20T09:14:09.949810Z",
     "iopub.status.idle": "2022-06-20T09:14:09.999400Z",
     "shell.execute_reply": "2022-06-20T09:14:09.998451Z"
    },
    "papermill": {
     "duration": 0.05899,
     "end_time": "2022-06-20T09:14:10.002161",
     "exception": false,
     "start_time": "2022-06-20T09:14:09.943171",
     "status": "completed"
    },
    "tags": []
   },
   "outputs": [
    {
     "name": "stdout",
     "output_type": "stream",
     "text": [
      "Setup complete.\n"
     ]
    }
   ],
   "source": [
    "# SETUP. You don't need to worry for now about what this code does or how it works.\n",
    "from learntools.core import binder; binder.bind(globals())\n",
    "from learntools.python.ex2 import *\n",
    "print('Setup complete.')"
   ]
  },
  {
   "cell_type": "markdown",
   "id": "2e0e0f3d",
   "metadata": {
    "papermill": {
     "duration": 0.004955,
     "end_time": "2022-06-20T09:14:10.012342",
     "exception": false,
     "start_time": "2022-06-20T09:14:10.007387",
     "status": "completed"
    },
    "tags": []
   },
   "source": [
    "# 1.\n",
    "\n",
    "Complete the body of the following function according to its docstring.\n",
    "\n",
    "HINT: Python has a built-in function `round`."
   ]
  },
  {
   "cell_type": "code",
   "execution_count": 2,
   "id": "3240fe14",
   "metadata": {
    "execution": {
     "iopub.execute_input": "2022-06-20T09:14:10.025149Z",
     "iopub.status.busy": "2022-06-20T09:14:10.024547Z",
     "iopub.status.idle": "2022-06-20T09:14:10.035644Z",
     "shell.execute_reply": "2022-06-20T09:14:10.034728Z"
    },
    "papermill": {
     "duration": 0.019571,
     "end_time": "2022-06-20T09:14:10.037465",
     "exception": false,
     "start_time": "2022-06-20T09:14:10.017894",
     "status": "completed"
    },
    "tags": []
   },
   "outputs": [
    {
     "data": {
      "application/javascript": [
       "parent.postMessage({\"jupyterEvent\": \"custom.exercise_interaction\", \"data\": {\"outcomeType\": 1, \"valueTowardsCompletion\": 0.16666666666666666, \"interactionType\": 1, \"questionType\": 2, \"questionId\": \"1_RoundFunctionProblem\", \"learnToolsVersion\": \"0.3.4\", \"failureMessage\": \"\", \"exceptionClass\": \"\", \"trace\": \"\"}}, \"*\")"
      ],
      "text/plain": [
       "<IPython.core.display.Javascript object>"
      ]
     },
     "metadata": {},
     "output_type": "display_data"
    },
    {
     "data": {
      "text/markdown": [
       "<span style=\"color:#33cc33\">Correct</span>"
      ],
      "text/plain": [
       "Correct"
      ]
     },
     "metadata": {},
     "output_type": "display_data"
    }
   ],
   "source": [
    "def round_to_two_places(num):\n",
    "    \"\"\"Return the given number rounded to two decimal places. \n",
    "    \n",
    "    >>> round_to_two_places(3.14159)\n",
    "    3.14\n",
    "    \"\"\"\n",
    "    return round(num,2)\n",
    "    # Replace this body with your own code.\n",
    "    # (\"pass\" is a keyword that does literally nothing. We used it as a placeholder\n",
    "    # because after we begin a code block, Python requires at least one line of code)\n",
    "    pass\n",
    "\n",
    "# Check your answer\n",
    "q1.check()"
   ]
  },
  {
   "cell_type": "code",
   "execution_count": 3,
   "id": "205152f1",
   "metadata": {
    "execution": {
     "iopub.execute_input": "2022-06-20T09:14:10.050365Z",
     "iopub.status.busy": "2022-06-20T09:14:10.049682Z",
     "iopub.status.idle": "2022-06-20T09:14:10.053682Z",
     "shell.execute_reply": "2022-06-20T09:14:10.052966Z"
    },
    "papermill": {
     "duration": 0.01281,
     "end_time": "2022-06-20T09:14:10.055708",
     "exception": false,
     "start_time": "2022-06-20T09:14:10.042898",
     "status": "completed"
    },
    "tags": []
   },
   "outputs": [],
   "source": [
    "# Uncomment the following for a hint\n",
    "#q1.hint()\n",
    "# Or uncomment the following to peek at the solution\n",
    "#q1.solution()"
   ]
  },
  {
   "cell_type": "markdown",
   "id": "7bb75b28",
   "metadata": {
    "papermill": {
     "duration": 0.005419,
     "end_time": "2022-06-20T09:14:10.066921",
     "exception": false,
     "start_time": "2022-06-20T09:14:10.061502",
     "status": "completed"
    },
    "tags": []
   },
   "source": [
    "# 2.\n",
    "The help for `round` says that `ndigits` (the second argument) may be negative.\n",
    "What do you think will happen when it is? Try some examples in the following cell."
   ]
  },
  {
   "cell_type": "code",
   "execution_count": 4,
   "id": "b4dcc2e4",
   "metadata": {
    "execution": {
     "iopub.execute_input": "2022-06-20T09:14:10.080172Z",
     "iopub.status.busy": "2022-06-20T09:14:10.079731Z",
     "iopub.status.idle": "2022-06-20T09:14:10.085487Z",
     "shell.execute_reply": "2022-06-20T09:14:10.084816Z"
    },
    "papermill": {
     "duration": 0.014689,
     "end_time": "2022-06-20T09:14:10.087255",
     "exception": false,
     "start_time": "2022-06-20T09:14:10.072566",
     "status": "completed"
    },
    "tags": []
   },
   "outputs": [
    {
     "data": {
      "text/plain": [
       "0.0"
      ]
     },
     "execution_count": 4,
     "metadata": {},
     "output_type": "execute_result"
    }
   ],
   "source": [
    "round(3.23234, -3)"
   ]
  },
  {
   "cell_type": "markdown",
   "id": "cf0168c5",
   "metadata": {
    "papermill": {
     "duration": 0.0054,
     "end_time": "2022-06-20T09:14:10.098407",
     "exception": false,
     "start_time": "2022-06-20T09:14:10.093007",
     "status": "completed"
    },
    "tags": []
   },
   "source": [
    "Can you think of a case where this would be useful?  Once you're ready, run the code cell below to see the answer and to receive credit for completing the problem."
   ]
  },
  {
   "cell_type": "code",
   "execution_count": 5,
   "id": "9e64720e",
   "metadata": {
    "execution": {
     "iopub.execute_input": "2022-06-20T09:14:10.111583Z",
     "iopub.status.busy": "2022-06-20T09:14:10.110976Z",
     "iopub.status.idle": "2022-06-20T09:14:10.117751Z",
     "shell.execute_reply": "2022-06-20T09:14:10.116950Z"
    },
    "papermill": {
     "duration": 0.01552,
     "end_time": "2022-06-20T09:14:10.119605",
     "exception": false,
     "start_time": "2022-06-20T09:14:10.104085",
     "status": "completed"
    },
    "tags": []
   },
   "outputs": [
    {
     "data": {
      "application/javascript": [
       "parent.postMessage({\"jupyterEvent\": \"custom.exercise_interaction\", \"data\": {\"interactionType\": 3, \"questionType\": 4, \"questionId\": \"2_RoundNdigitsProblem\", \"learnToolsVersion\": \"0.3.4\", \"valueTowardsCompletion\": 0.0, \"failureMessage\": \"\", \"exceptionClass\": \"\", \"trace\": \"\", \"outcomeType\": 4}}, \"*\")"
      ],
      "text/plain": [
       "<IPython.core.display.Javascript object>"
      ]
     },
     "metadata": {},
     "output_type": "display_data"
    },
    {
     "data": {
      "text/markdown": [
       "<span style=\"color:#33cc99\">Solution:</span> As you've seen, `ndigits=-1` rounds to the nearest 10, `ndigits=-2` rounds to the nearest 100 and so on. Where might this be useful? Suppose we're dealing with large numbers:\n",
       "\n",
       "> The area of Finland is 338,424 km²  \n",
       "> The area of Greenland is 2,166,086 km²\n",
       "\n",
       "We probably don't care whether it's really 338,424, or 338,425, or 338,177. All those digits of accuracy are just distracting. We can chop them off by calling `round()` with `ndigits=-3`:\n",
       "\n",
       "> The area of Finland is 338,000 km²  \n",
       "> The area of Greenland is 2,166,000 km²\n",
       "\n",
       "(We'll talk about how we would get the commas later when we talk about string formatting :))\n"
      ],
      "text/plain": [
       "Solution: As you've seen, `ndigits=-1` rounds to the nearest 10, `ndigits=-2` rounds to the nearest 100 and so on. Where might this be useful? Suppose we're dealing with large numbers:\n",
       "\n",
       "> The area of Finland is 338,424 km²  \n",
       "> The area of Greenland is 2,166,086 km²\n",
       "\n",
       "We probably don't care whether it's really 338,424, or 338,425, or 338,177. All those digits of accuracy are just distracting. We can chop them off by calling `round()` with `ndigits=-3`:\n",
       "\n",
       "> The area of Finland is 338,000 km²  \n",
       "> The area of Greenland is 2,166,000 km²\n",
       "\n",
       "(We'll talk about how we would get the commas later when we talk about string formatting :))"
      ]
     },
     "metadata": {},
     "output_type": "display_data"
    }
   ],
   "source": [
    "# Check your answer (Run this code cell to receive credit!)\n",
    "q2.solution()"
   ]
  },
  {
   "cell_type": "markdown",
   "id": "7f576921",
   "metadata": {
    "papermill": {
     "duration": 0.005796,
     "end_time": "2022-06-20T09:14:10.131610",
     "exception": false,
     "start_time": "2022-06-20T09:14:10.125814",
     "status": "completed"
    },
    "tags": []
   },
   "source": [
    "# 3.\n",
    "\n",
    "In the previous exercise, the candy-sharing friends Alice, Bob and Carol tried to split candies evenly. For the sake of their friendship, any candies left over would be smashed. For example, if they collectively bring home 91 candies, they'll take 30 each and smash 1.\n",
    "\n",
    "Below is a simple function that will calculate the number of candies to smash for *any* number of total candies.\n",
    "\n",
    "Modify it so that it optionally takes a second argument representing the number of friends the candies are being split between. If no second argument is provided, it should assume 3 friends, as before.\n",
    "\n",
    "Update the docstring to reflect this new behaviour."
   ]
  },
  {
   "cell_type": "code",
   "execution_count": 6,
   "id": "5679e0e0",
   "metadata": {
    "execution": {
     "iopub.execute_input": "2022-06-20T09:14:10.145850Z",
     "iopub.status.busy": "2022-06-20T09:14:10.145234Z",
     "iopub.status.idle": "2022-06-20T09:14:10.152456Z",
     "shell.execute_reply": "2022-06-20T09:14:10.151739Z"
    },
    "papermill": {
     "duration": 0.016507,
     "end_time": "2022-06-20T09:14:10.154201",
     "exception": false,
     "start_time": "2022-06-20T09:14:10.137694",
     "status": "completed"
    },
    "tags": []
   },
   "outputs": [
    {
     "data": {
      "application/javascript": [
       "parent.postMessage({\"jupyterEvent\": \"custom.exercise_interaction\", \"data\": {\"outcomeType\": 1, \"valueTowardsCompletion\": 0.16666666666666666, \"interactionType\": 1, \"questionType\": 2, \"questionId\": \"3_CandySmashingFunctionProblem\", \"learnToolsVersion\": \"0.3.4\", \"failureMessage\": \"\", \"exceptionClass\": \"\", \"trace\": \"\"}}, \"*\")"
      ],
      "text/plain": [
       "<IPython.core.display.Javascript object>"
      ]
     },
     "metadata": {},
     "output_type": "display_data"
    },
    {
     "data": {
      "text/markdown": [
       "<span style=\"color:#33cc33\">Correct</span>"
      ],
      "text/plain": [
       "Correct"
      ]
     },
     "metadata": {},
     "output_type": "display_data"
    }
   ],
   "source": [
    "def to_smash(total_candies,n=3):\n",
    "    \"\"\"Return the number of leftover candies that must be smashed after distributing\n",
    "    the given number of candies evenly between 3 friends.\n",
    "    \n",
    "    >>> to_smash(91)\n",
    "    1\n",
    "    \"\"\"\n",
    "    return total_candies % n\n",
    "\n",
    "# Check your answer\n",
    "q3.check()"
   ]
  },
  {
   "cell_type": "code",
   "execution_count": 7,
   "id": "1b3cd364",
   "metadata": {
    "execution": {
     "iopub.execute_input": "2022-06-20T09:14:10.168639Z",
     "iopub.status.busy": "2022-06-20T09:14:10.168017Z",
     "iopub.status.idle": "2022-06-20T09:14:10.171736Z",
     "shell.execute_reply": "2022-06-20T09:14:10.171085Z"
    },
    "papermill": {
     "duration": 0.013024,
     "end_time": "2022-06-20T09:14:10.173576",
     "exception": false,
     "start_time": "2022-06-20T09:14:10.160552",
     "status": "completed"
    },
    "tags": []
   },
   "outputs": [],
   "source": [
    "#q3.hint()"
   ]
  },
  {
   "cell_type": "code",
   "execution_count": 8,
   "id": "fcb2e281",
   "metadata": {
    "execution": {
     "iopub.execute_input": "2022-06-20T09:14:10.188211Z",
     "iopub.status.busy": "2022-06-20T09:14:10.187766Z",
     "iopub.status.idle": "2022-06-20T09:14:10.191570Z",
     "shell.execute_reply": "2022-06-20T09:14:10.190699Z"
    },
    "papermill": {
     "duration": 0.013373,
     "end_time": "2022-06-20T09:14:10.193318",
     "exception": false,
     "start_time": "2022-06-20T09:14:10.179945",
     "status": "completed"
    },
    "tags": []
   },
   "outputs": [],
   "source": [
    "#q3.solution()"
   ]
  },
  {
   "cell_type": "markdown",
   "id": "4639d4be",
   "metadata": {
    "papermill": {
     "duration": 0.006203,
     "end_time": "2022-06-20T09:14:10.205814",
     "exception": false,
     "start_time": "2022-06-20T09:14:10.199611",
     "status": "completed"
    },
    "tags": []
   },
   "source": [
    "# 4. (Optional)\n",
    "\n",
    "It may not be fun, but reading and understanding error messages will be an important part of your Python career.\n",
    "\n",
    "Each code cell below contains some commented buggy code. For each cell...\n",
    "\n",
    "1. Read the code and predict what you think will happen when it's run.\n",
    "2. Then uncomment the code and run it to see what happens. (**Tip**: In the kernel editor, you can highlight several lines and press `ctrl`+`/` to toggle commenting.)\n",
    "3. Fix the code (so that it accomplishes its intended purpose without throwing an exception)\n",
    "\n",
    "<!-- TODO: should this be autochecked? Delta is probably pretty small. -->"
   ]
  },
  {
   "cell_type": "code",
   "execution_count": 9,
   "id": "924fbadb",
   "metadata": {
    "execution": {
     "iopub.execute_input": "2022-06-20T09:14:10.220215Z",
     "iopub.status.busy": "2022-06-20T09:14:10.219635Z",
     "iopub.status.idle": "2022-06-20T09:14:10.223239Z",
     "shell.execute_reply": "2022-06-20T09:14:10.222463Z"
    },
    "papermill": {
     "duration": 0.012897,
     "end_time": "2022-06-20T09:14:10.225078",
     "exception": false,
     "start_time": "2022-06-20T09:14:10.212181",
     "status": "completed"
    },
    "tags": []
   },
   "outputs": [],
   "source": [
    "# ruound_to_two_places(9.9999)"
   ]
  },
  {
   "cell_type": "code",
   "execution_count": 10,
   "id": "7ff4157d",
   "metadata": {
    "execution": {
     "iopub.execute_input": "2022-06-20T09:14:10.239422Z",
     "iopub.status.busy": "2022-06-20T09:14:10.238866Z",
     "iopub.status.idle": "2022-06-20T09:14:10.242765Z",
     "shell.execute_reply": "2022-06-20T09:14:10.241888Z"
    },
    "papermill": {
     "duration": 0.013185,
     "end_time": "2022-06-20T09:14:10.244608",
     "exception": false,
     "start_time": "2022-06-20T09:14:10.231423",
     "status": "completed"
    },
    "tags": []
   },
   "outputs": [],
   "source": [
    "# x = -10\n",
    "# y = 5\n",
    "# # Which of the two variables above has the smallest absolute value?\n",
    "# smallest_abs = min(abs(x, y))"
   ]
  },
  {
   "cell_type": "code",
   "execution_count": 11,
   "id": "ea14194c",
   "metadata": {
    "execution": {
     "iopub.execute_input": "2022-06-20T09:14:10.259408Z",
     "iopub.status.busy": "2022-06-20T09:14:10.258465Z",
     "iopub.status.idle": "2022-06-20T09:14:10.262616Z",
     "shell.execute_reply": "2022-06-20T09:14:10.261886Z"
    },
    "papermill": {
     "duration": 0.013582,
     "end_time": "2022-06-20T09:14:10.264553",
     "exception": false,
     "start_time": "2022-06-20T09:14:10.250971",
     "status": "completed"
    },
    "tags": []
   },
   "outputs": [],
   "source": [
    "# def f(x):\n",
    "#     y = abs(x)\n",
    "# return y\n",
    "\n",
    "# print(f(5))"
   ]
  },
  {
   "cell_type": "markdown",
   "id": "efad26aa",
   "metadata": {
    "papermill": {
     "duration": 0.006142,
     "end_time": "2022-06-20T09:14:10.277228",
     "exception": false,
     "start_time": "2022-06-20T09:14:10.271086",
     "status": "completed"
    },
    "tags": []
   },
   "source": [
    "# Keep Going\n",
    "\n",
    "Nice job with the code. Next up, you'll learn about *conditionals*, which you'll need to **[write interesting programs](https://www.kaggle.com/colinmorris/booleans-and-conditionals)**. "
   ]
  },
  {
   "cell_type": "markdown",
   "id": "660ddd53",
   "metadata": {
    "papermill": {
     "duration": 0.006168,
     "end_time": "2022-06-20T09:14:10.289776",
     "exception": false,
     "start_time": "2022-06-20T09:14:10.283608",
     "status": "completed"
    },
    "tags": []
   },
   "source": [
    "---\n",
    "\n",
    "\n",
    "\n",
    "\n",
    "*Have questions or comments? Visit the [course discussion forum](https://www.kaggle.com/learn/python/discussion) to chat with other learners.*"
   ]
  }
 ],
 "metadata": {
  "kernelspec": {
   "display_name": "Python 3",
   "language": "python",
   "name": "python3"
  },
  "language_info": {
   "codemirror_mode": {
    "name": "ipython",
    "version": 3
   },
   "file_extension": ".py",
   "mimetype": "text/x-python",
   "name": "python",
   "nbconvert_exporter": "python",
   "pygments_lexer": "ipython3",
   "version": "3.7.12"
  },
  "papermill": {
   "default_parameters": {},
   "duration": 10.856864,
   "end_time": "2022-06-20T09:14:10.917261",
   "environment_variables": {},
   "exception": null,
   "input_path": "__notebook__.ipynb",
   "output_path": "__notebook__.ipynb",
   "parameters": {},
   "start_time": "2022-06-20T09:14:00.060397",
   "version": "2.3.4"
  }
 },
 "nbformat": 4,
 "nbformat_minor": 5
}
