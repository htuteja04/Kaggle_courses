{
 "cells": [
  {
   "cell_type": "markdown",
   "id": "8b635136",
   "metadata": {
    "papermill": {
     "duration": 0.006282,
     "end_time": "2022-07-15T15:21:25.568905",
     "exception": false,
     "start_time": "2022-07-15T15:21:25.562623",
     "status": "completed"
    },
    "tags": []
   },
   "source": [
    "**This notebook is an exercise in the [Data Cleaning](https://www.kaggle.com/learn/data-cleaning) course.  You can reference the tutorial at [this link](https://www.kaggle.com/alexisbcook/scaling-and-normalization).**\n",
    "\n",
    "---\n"
   ]
  },
  {
   "cell_type": "markdown",
   "id": "0526efde",
   "metadata": {
    "papermill": {
     "duration": 0.004905,
     "end_time": "2022-07-15T15:21:25.579066",
     "exception": false,
     "start_time": "2022-07-15T15:21:25.574161",
     "status": "completed"
    },
    "tags": []
   },
   "source": [
    "In this exercise, you'll apply what you learned in the **Scaling and normalization** tutorial.\n",
    "\n",
    "# Setup\n",
    "\n",
    "The questions below will give you feedback on your work. Run the following cell to set up the feedback system."
   ]
  },
  {
   "cell_type": "code",
   "execution_count": 1,
   "id": "14fc86ba",
   "metadata": {
    "execution": {
     "iopub.execute_input": "2022-07-15T15:21:25.591120Z",
     "iopub.status.busy": "2022-07-15T15:21:25.590660Z",
     "iopub.status.idle": "2022-07-15T15:21:28.896744Z",
     "shell.execute_reply": "2022-07-15T15:21:28.895519Z"
    },
    "papermill": {
     "duration": 3.316012,
     "end_time": "2022-07-15T15:21:28.900104",
     "exception": false,
     "start_time": "2022-07-15T15:21:25.584092",
     "status": "completed"
    },
    "tags": []
   },
   "outputs": [
    {
     "name": "stdout",
     "output_type": "stream",
     "text": [
      "Setup Complete\n"
     ]
    }
   ],
   "source": [
    "from learntools.core import binder\n",
    "binder.bind(globals())\n",
    "from learntools.data_cleaning.ex2 import *\n",
    "print(\"Setup Complete\")"
   ]
  },
  {
   "cell_type": "markdown",
   "id": "be5b0e3b",
   "metadata": {
    "papermill": {
     "duration": 0.004926,
     "end_time": "2022-07-15T15:21:28.911229",
     "exception": false,
     "start_time": "2022-07-15T15:21:28.906303",
     "status": "completed"
    },
    "tags": []
   },
   "source": [
    "# Get our environment set up\n",
    "\n",
    "To practice scaling and normalization, we're going to use a [dataset of Kickstarter campaigns](https://www.kaggle.com/kemical/kickstarter-projects). (Kickstarter is a website where people can ask people to invest in various projects and concept products.)\n",
    "\n",
    "The next code cell loads in the libraries and dataset we'll be using. "
   ]
  },
  {
   "cell_type": "code",
   "execution_count": 2,
   "id": "79e31a86",
   "metadata": {
    "execution": {
     "iopub.execute_input": "2022-07-15T15:21:28.923570Z",
     "iopub.status.busy": "2022-07-15T15:21:28.922900Z",
     "iopub.status.idle": "2022-07-15T15:21:30.236280Z",
     "shell.execute_reply": "2022-07-15T15:21:30.235431Z"
    },
    "papermill": {
     "duration": 1.322593,
     "end_time": "2022-07-15T15:21:30.238882",
     "exception": false,
     "start_time": "2022-07-15T15:21:28.916289",
     "status": "completed"
    },
    "tags": []
   },
   "outputs": [],
   "source": [
    "# modules we'll use\n",
    "import pandas as pd\n",
    "import numpy as np\n",
    "\n",
    "# for Box-Cox Transformation\n",
    "from scipy import stats\n",
    "\n",
    "# for min_max scaling\n",
    "from mlxtend.preprocessing import minmax_scaling\n",
    "\n",
    "# plotting modules\n",
    "import seaborn as sns\n",
    "import matplotlib.pyplot as plt\n",
    "\n",
    "# read in all our data\n",
    "kickstarters_2017 = pd.read_csv(\"../input/kickstarter-projects/ks-projects-201801.csv\")\n",
    "\n",
    "# set seed for reproducibility\n",
    "np.random.seed(0)"
   ]
  },
  {
   "cell_type": "markdown",
   "id": "a3a46a64",
   "metadata": {
    "papermill": {
     "duration": 0.004849,
     "end_time": "2022-07-15T15:21:30.249058",
     "exception": false,
     "start_time": "2022-07-15T15:21:30.244209",
     "status": "completed"
    },
    "tags": []
   },
   "source": [
    "Let's start by scaling the goals of each campaign, which is how much money they were asking for.  After scaling, all values lie between 0 and 1."
   ]
  },
  {
   "cell_type": "code",
   "execution_count": 3,
   "id": "c6cb44d3",
   "metadata": {
    "execution": {
     "iopub.execute_input": "2022-07-15T15:21:30.261700Z",
     "iopub.status.busy": "2022-07-15T15:21:30.260635Z",
     "iopub.status.idle": "2022-07-15T15:21:30.301372Z",
     "shell.execute_reply": "2022-07-15T15:21:30.299756Z"
    },
    "papermill": {
     "duration": 0.049488,
     "end_time": "2022-07-15T15:21:30.303746",
     "exception": false,
     "start_time": "2022-07-15T15:21:30.254258",
     "status": "completed"
    },
    "tags": []
   },
   "outputs": [
    {
     "name": "stdout",
     "output_type": "stream",
     "text": [
      "Original data\n",
      "Preview:\n",
      "    usd_goal_real\n",
      "0        1533.95\n",
      "1       30000.00\n",
      "2       45000.00\n",
      "3        5000.00\n",
      "4       19500.00\n",
      "Minimum value: 0.01 \n",
      "Maximum value: 166361390.71\n",
      "______________________________\n",
      "\n",
      "Scaled data\n",
      "Preview:\n",
      "    usd_goal_real\n",
      "0       0.000009\n",
      "1       0.000180\n",
      "2       0.000270\n",
      "3       0.000030\n",
      "4       0.000117\n",
      "Minimum value: 0.0 \n",
      "Maximum value: 1.0\n"
     ]
    }
   ],
   "source": [
    "# select the usd_goal_real column\n",
    "original_data = pd.DataFrame(kickstarters_2017.usd_goal_real)\n",
    "\n",
    "# scale the goals from 0 to 1\n",
    "scaled_data = minmax_scaling(original_data, columns=['usd_goal_real'])\n",
    "\n",
    "print('Original data\\nPreview:\\n', original_data.head())\n",
    "print('Minimum value:', float(original_data.min()),\n",
    "      '\\nMaximum value:', float(original_data.max()))\n",
    "print('_'*30)\n",
    "\n",
    "print('\\nScaled data\\nPreview:\\n', scaled_data.head())\n",
    "print('Minimum value:', float(scaled_data.min()),\n",
    "      '\\nMaximum value:', float(scaled_data.max()))"
   ]
  },
  {
   "cell_type": "markdown",
   "id": "d7fbe643",
   "metadata": {
    "papermill": {
     "duration": 0.004968,
     "end_time": "2022-07-15T15:21:30.313939",
     "exception": false,
     "start_time": "2022-07-15T15:21:30.308971",
     "status": "completed"
    },
    "tags": []
   },
   "source": [
    "# 1) Practice scaling\n",
    "\n",
    "We just scaled the \"usd_goal_real\" column. What about the \"goal\" column?\n",
    "\n",
    "Begin by running the code cell below to create a DataFrame `original_goal_data` containing the \"goal\" column."
   ]
  },
  {
   "cell_type": "code",
   "execution_count": 4,
   "id": "cbdd2c19",
   "metadata": {
    "execution": {
     "iopub.execute_input": "2022-07-15T15:21:30.326464Z",
     "iopub.status.busy": "2022-07-15T15:21:30.325471Z",
     "iopub.status.idle": "2022-07-15T15:21:30.331832Z",
     "shell.execute_reply": "2022-07-15T15:21:30.330702Z"
    },
    "papermill": {
     "duration": 0.014937,
     "end_time": "2022-07-15T15:21:30.334062",
     "exception": false,
     "start_time": "2022-07-15T15:21:30.319125",
     "status": "completed"
    },
    "tags": []
   },
   "outputs": [],
   "source": [
    "# select the usd_goal_real column\n",
    "original_goal_data = pd.DataFrame(kickstarters_2017.goal)"
   ]
  },
  {
   "cell_type": "code",
   "execution_count": 5,
   "id": "13b2d239",
   "metadata": {
    "execution": {
     "iopub.execute_input": "2022-07-15T15:21:30.346780Z",
     "iopub.status.busy": "2022-07-15T15:21:30.345838Z",
     "iopub.status.idle": "2022-07-15T15:21:30.360949Z",
     "shell.execute_reply": "2022-07-15T15:21:30.360089Z"
    },
    "papermill": {
     "duration": 0.023804,
     "end_time": "2022-07-15T15:21:30.363169",
     "exception": false,
     "start_time": "2022-07-15T15:21:30.339365",
     "status": "completed"
    },
    "tags": []
   },
   "outputs": [
    {
     "data": {
      "text/html": [
       "<div>\n",
       "<style scoped>\n",
       "    .dataframe tbody tr th:only-of-type {\n",
       "        vertical-align: middle;\n",
       "    }\n",
       "\n",
       "    .dataframe tbody tr th {\n",
       "        vertical-align: top;\n",
       "    }\n",
       "\n",
       "    .dataframe thead th {\n",
       "        text-align: right;\n",
       "    }\n",
       "</style>\n",
       "<table border=\"1\" class=\"dataframe\">\n",
       "  <thead>\n",
       "    <tr style=\"text-align: right;\">\n",
       "      <th></th>\n",
       "      <th>goal</th>\n",
       "    </tr>\n",
       "  </thead>\n",
       "  <tbody>\n",
       "    <tr>\n",
       "      <th>0</th>\n",
       "      <td>1000.0</td>\n",
       "    </tr>\n",
       "    <tr>\n",
       "      <th>1</th>\n",
       "      <td>30000.0</td>\n",
       "    </tr>\n",
       "    <tr>\n",
       "      <th>2</th>\n",
       "      <td>45000.0</td>\n",
       "    </tr>\n",
       "    <tr>\n",
       "      <th>3</th>\n",
       "      <td>5000.0</td>\n",
       "    </tr>\n",
       "    <tr>\n",
       "      <th>4</th>\n",
       "      <td>19500.0</td>\n",
       "    </tr>\n",
       "    <tr>\n",
       "      <th>...</th>\n",
       "      <td>...</td>\n",
       "    </tr>\n",
       "    <tr>\n",
       "      <th>378656</th>\n",
       "      <td>50000.0</td>\n",
       "    </tr>\n",
       "    <tr>\n",
       "      <th>378657</th>\n",
       "      <td>1500.0</td>\n",
       "    </tr>\n",
       "    <tr>\n",
       "      <th>378658</th>\n",
       "      <td>15000.0</td>\n",
       "    </tr>\n",
       "    <tr>\n",
       "      <th>378659</th>\n",
       "      <td>15000.0</td>\n",
       "    </tr>\n",
       "    <tr>\n",
       "      <th>378660</th>\n",
       "      <td>2000.0</td>\n",
       "    </tr>\n",
       "  </tbody>\n",
       "</table>\n",
       "<p>378661 rows × 1 columns</p>\n",
       "</div>"
      ],
      "text/plain": [
       "           goal\n",
       "0        1000.0\n",
       "1       30000.0\n",
       "2       45000.0\n",
       "3        5000.0\n",
       "4       19500.0\n",
       "...         ...\n",
       "378656  50000.0\n",
       "378657   1500.0\n",
       "378658  15000.0\n",
       "378659  15000.0\n",
       "378660   2000.0\n",
       "\n",
       "[378661 rows x 1 columns]"
      ]
     },
     "execution_count": 5,
     "metadata": {},
     "output_type": "execute_result"
    }
   ],
   "source": [
    "original_goal_data"
   ]
  },
  {
   "cell_type": "markdown",
   "id": "a97efa91",
   "metadata": {
    "papermill": {
     "duration": 0.005241,
     "end_time": "2022-07-15T15:21:30.373939",
     "exception": false,
     "start_time": "2022-07-15T15:21:30.368698",
     "status": "completed"
    },
    "tags": []
   },
   "source": [
    "Use `original_goal_data` to create a new DataFrame `scaled_goal_data` with values scaled between 0 and 1. You must use the `minmax_scaling()` function."
   ]
  },
  {
   "cell_type": "code",
   "execution_count": 6,
   "id": "f1594526",
   "metadata": {
    "execution": {
     "iopub.execute_input": "2022-07-15T15:21:30.387782Z",
     "iopub.status.busy": "2022-07-15T15:21:30.387052Z",
     "iopub.status.idle": "2022-07-15T15:21:30.413013Z",
     "shell.execute_reply": "2022-07-15T15:21:30.411913Z"
    },
    "papermill": {
     "duration": 0.035174,
     "end_time": "2022-07-15T15:21:30.415147",
     "exception": false,
     "start_time": "2022-07-15T15:21:30.379973",
     "status": "completed"
    },
    "tags": []
   },
   "outputs": [
    {
     "data": {
      "application/javascript": [
       "parent.postMessage({\"jupyterEvent\": \"custom.exercise_interaction\", \"data\": {\"outcomeType\": 1, \"valueTowardsCompletion\": 0.3333333333333333, \"interactionType\": 1, \"questionType\": 1, \"questionId\": \"1_TryScaling\", \"learnToolsVersion\": \"0.3.4\", \"failureMessage\": \"\", \"exceptionClass\": \"\", \"trace\": \"\"}}, \"*\")"
      ],
      "text/plain": [
       "<IPython.core.display.Javascript object>"
      ]
     },
     "metadata": {},
     "output_type": "display_data"
    },
    {
     "data": {
      "text/markdown": [
       "<span style=\"color:#33cc33\">Correct</span>"
      ],
      "text/plain": [
       "Correct"
      ]
     },
     "metadata": {},
     "output_type": "display_data"
    }
   ],
   "source": [
    "# TODO: Your code here\n",
    "scaled_goal_data = minmax_scaling(original_goal_data, columns=['goal'])\n",
    "\n",
    "# Check your answer\n",
    "q1.check()"
   ]
  },
  {
   "cell_type": "code",
   "execution_count": 7,
   "id": "1f52cf54",
   "metadata": {
    "execution": {
     "iopub.execute_input": "2022-07-15T15:21:30.428548Z",
     "iopub.status.busy": "2022-07-15T15:21:30.428140Z",
     "iopub.status.idle": "2022-07-15T15:21:30.432794Z",
     "shell.execute_reply": "2022-07-15T15:21:30.431610Z"
    },
    "papermill": {
     "duration": 0.014104,
     "end_time": "2022-07-15T15:21:30.435082",
     "exception": false,
     "start_time": "2022-07-15T15:21:30.420978",
     "status": "completed"
    },
    "tags": []
   },
   "outputs": [],
   "source": [
    "# Lines below will give you a hint or solution code\n",
    "#q1.hint()\n",
    "#q1.solution()"
   ]
  },
  {
   "cell_type": "markdown",
   "id": "423981e2",
   "metadata": {
    "papermill": {
     "duration": 0.005412,
     "end_time": "2022-07-15T15:21:30.446338",
     "exception": false,
     "start_time": "2022-07-15T15:21:30.440926",
     "status": "completed"
    },
    "tags": []
   },
   "source": [
    "# 2) Practice normalization\n",
    "\n",
    "Now you'll practice normalization. We begin by normalizing the amount of money pledged to each campaign."
   ]
  },
  {
   "cell_type": "code",
   "execution_count": 8,
   "id": "4803f897",
   "metadata": {
    "execution": {
     "iopub.execute_input": "2022-07-15T15:21:30.460119Z",
     "iopub.status.busy": "2022-07-15T15:21:30.459238Z",
     "iopub.status.idle": "2022-07-15T15:21:30.693824Z",
     "shell.execute_reply": "2022-07-15T15:21:30.692296Z"
    },
    "papermill": {
     "duration": 0.244592,
     "end_time": "2022-07-15T15:21:30.696637",
     "exception": false,
     "start_time": "2022-07-15T15:21:30.452045",
     "status": "completed"
    },
    "tags": []
   },
   "outputs": [
    {
     "name": "stdout",
     "output_type": "stream",
     "text": [
      "Original data\n",
      "Preview:\n",
      " 1     2421.0\n",
      "2      220.0\n",
      "3        1.0\n",
      "4     1283.0\n",
      "5    52375.0\n",
      "Name: usd_pledged_real, dtype: float64\n",
      "Minimum value: 0.45 \n",
      "Maximum value: 20338986.27\n",
      "______________________________\n",
      "\n",
      "Normalized data\n",
      "Preview:\n",
      " 1    10.165142\n",
      "2     6.468598\n",
      "3     0.000000\n",
      "4     9.129277\n",
      "5    15.836853\n",
      "Name: usd_pledged_real, dtype: float64\n",
      "Minimum value: -0.7779954122762203 \n",
      "Maximum value: 30.69054020451361\n"
     ]
    }
   ],
   "source": [
    "# get the index of all positive pledges (Box-Cox only takes positive values)\n",
    "index_of_positive_pledges = kickstarters_2017.usd_pledged_real > 0\n",
    "\n",
    "# get only positive pledges (using their indexes)\n",
    "positive_pledges = kickstarters_2017.usd_pledged_real.loc[index_of_positive_pledges]\n",
    "\n",
    "# normalize the pledges (w/ Box-Cox)\n",
    "normalized_pledges = pd.Series(stats.boxcox(positive_pledges)[0], \n",
    "                               name='usd_pledged_real', index=positive_pledges.index)\n",
    "\n",
    "print('Original data\\nPreview:\\n', positive_pledges.head())\n",
    "print('Minimum value:', float(positive_pledges.min()),\n",
    "      '\\nMaximum value:', float(positive_pledges.max()))\n",
    "print('_'*30)\n",
    "\n",
    "print('\\nNormalized data\\nPreview:\\n', normalized_pledges.head())\n",
    "print('Minimum value:', float(normalized_pledges.min()),\n",
    "      '\\nMaximum value:', float(normalized_pledges.max()))"
   ]
  },
  {
   "cell_type": "markdown",
   "id": "9657fc59",
   "metadata": {
    "papermill": {
     "duration": 0.00676,
     "end_time": "2022-07-15T15:21:30.710049",
     "exception": false,
     "start_time": "2022-07-15T15:21:30.703289",
     "status": "completed"
    },
    "tags": []
   },
   "source": [
    "The values have changed significantly with normalization!\n",
    "\n",
    "In the next code cell, you'll take a look at the distribution of the normalized data, where it should now resemble a normal distribution."
   ]
  },
  {
   "cell_type": "code",
   "execution_count": 9,
   "id": "dda8b024",
   "metadata": {
    "execution": {
     "iopub.execute_input": "2022-07-15T15:21:30.723576Z",
     "iopub.status.busy": "2022-07-15T15:21:30.723186Z",
     "iopub.status.idle": "2022-07-15T15:21:32.697773Z",
     "shell.execute_reply": "2022-07-15T15:21:32.696698Z"
    },
    "papermill": {
     "duration": 1.984314,
     "end_time": "2022-07-15T15:21:32.700211",
     "exception": false,
     "start_time": "2022-07-15T15:21:30.715897",
     "status": "completed"
    },
    "tags": []
   },
   "outputs": [
    {
     "data": {
      "image/png": "[encoded data removed]",
      "text/plain": [
       "<Figure size 432x288 with 1 Axes>"
      ]
     },
     "metadata": {
      "needs_background": "light"
     },
     "output_type": "display_data"
    }
   ],
   "source": [
    "# plot normalized data\n",
    "ax = sns.histplot(normalized_pledges, kde=True)\n",
    "ax.set_title(\"Normalized data\")\n",
    "plt.show()"
   ]
  },
  {
   "cell_type": "markdown",
   "id": "31faff88",
   "metadata": {
    "papermill": {
     "duration": 0.005998,
     "end_time": "2022-07-15T15:21:32.712421",
     "exception": false,
     "start_time": "2022-07-15T15:21:32.706423",
     "status": "completed"
    },
    "tags": []
   },
   "source": [
    "We used the \"usd_pledged_real\" column. Follow the same process to normalize the \"pledged\" column. "
   ]
  },
  {
   "cell_type": "code",
   "execution_count": 10,
   "id": "db99c0ce",
   "metadata": {
    "execution": {
     "iopub.execute_input": "2022-07-15T15:21:32.726795Z",
     "iopub.status.busy": "2022-07-15T15:21:32.726059Z",
     "iopub.status.idle": "2022-07-15T15:21:32.736735Z",
     "shell.execute_reply": "2022-07-15T15:21:32.735674Z"
    },
    "papermill": {
     "duration": 0.020458,
     "end_time": "2022-07-15T15:21:32.739141",
     "exception": false,
     "start_time": "2022-07-15T15:21:32.718683",
     "status": "completed"
    },
    "tags": []
   },
   "outputs": [],
   "source": [
    "# TODO: Your code here!\n",
    "idxs = kickstarters_2017.pledged > 0\n",
    "positive_pledged = kickstarters_2017.pledged.loc[idxs]"
   ]
  },
  {
   "cell_type": "code",
   "execution_count": 11,
   "id": "f18a54db",
   "metadata": {
    "execution": {
     "iopub.execute_input": "2022-07-15T15:21:32.753115Z",
     "iopub.status.busy": "2022-07-15T15:21:32.752766Z",
     "iopub.status.idle": "2022-07-15T15:21:32.760806Z",
     "shell.execute_reply": "2022-07-15T15:21:32.759639Z"
    },
    "papermill": {
     "duration": 0.017581,
     "end_time": "2022-07-15T15:21:32.762880",
     "exception": false,
     "start_time": "2022-07-15T15:21:32.745299",
     "status": "completed"
    },
    "tags": []
   },
   "outputs": [
    {
     "data": {
      "text/plain": [
       "1          2421.0\n",
       "2           220.0\n",
       "3             1.0\n",
       "4          1283.0\n",
       "5         52375.0\n",
       "           ...   \n",
       "378656       25.0\n",
       "378657      155.0\n",
       "378658       20.0\n",
       "378659      200.0\n",
       "378660      524.0\n",
       "Name: pledged, Length: 326134, dtype: float64"
      ]
     },
     "execution_count": 11,
     "metadata": {},
     "output_type": "execute_result"
    }
   ],
   "source": [
    "positive_pledged"
   ]
  },
  {
   "cell_type": "code",
   "execution_count": 12,
   "id": "26ac7e21",
   "metadata": {
    "execution": {
     "iopub.execute_input": "2022-07-15T15:21:32.776984Z",
     "iopub.status.busy": "2022-07-15T15:21:32.776578Z",
     "iopub.status.idle": "2022-07-15T15:21:33.101831Z",
     "shell.execute_reply": "2022-07-15T15:21:33.100615Z"
    },
    "papermill": {
     "duration": 0.335425,
     "end_time": "2022-07-15T15:21:33.104400",
     "exception": false,
     "start_time": "2022-07-15T15:21:32.768975",
     "status": "completed"
    },
    "tags": []
   },
   "outputs": [],
   "source": [
    "normalized_pledged = pd.Series(stats.boxcox(positive_pledged)[0],index=positive_pledged.index, name='normalized pledged' )"
   ]
  },
  {
   "cell_type": "code",
   "execution_count": 13,
   "id": "afc8521d",
   "metadata": {
    "execution": {
     "iopub.execute_input": "2022-07-15T15:21:33.118838Z",
     "iopub.status.busy": "2022-07-15T15:21:33.118457Z",
     "iopub.status.idle": "2022-07-15T15:21:33.125850Z",
     "shell.execute_reply": "2022-07-15T15:21:33.124931Z"
    },
    "papermill": {
     "duration": 0.017054,
     "end_time": "2022-07-15T15:21:33.127809",
     "exception": false,
     "start_time": "2022-07-15T15:21:33.110755",
     "status": "completed"
    },
    "tags": []
   },
   "outputs": [
    {
     "data": {
      "text/plain": [
       "1         10.013887\n",
       "2          6.403367\n",
       "3          0.000000\n",
       "4          9.005193\n",
       "5         15.499596\n",
       "            ...    \n",
       "378656     3.562025\n",
       "378657     5.919593\n",
       "378658     3.291544\n",
       "378659     6.270664\n",
       "378660     7.648440\n",
       "Name: normalized pledged, Length: 326134, dtype: float64"
      ]
     },
     "execution_count": 13,
     "metadata": {},
     "output_type": "execute_result"
    }
   ],
   "source": [
    "normalized_pledged"
   ]
  },
  {
   "cell_type": "code",
   "execution_count": 14,
   "id": "00f873d0",
   "metadata": {
    "execution": {
     "iopub.execute_input": "2022-07-15T15:21:33.142760Z",
     "iopub.status.busy": "2022-07-15T15:21:33.142360Z",
     "iopub.status.idle": "2022-07-15T15:21:34.988785Z",
     "shell.execute_reply": "2022-07-15T15:21:34.987491Z"
    },
    "papermill": {
     "duration": 1.856894,
     "end_time": "2022-07-15T15:21:34.991282",
     "exception": false,
     "start_time": "2022-07-15T15:21:33.134388",
     "status": "completed"
    },
    "tags": []
   },
   "outputs": [
    {
     "data": {
      "image/png": "[encoded data removed]",
      "text/plain": [
       "<Figure size 432x288 with 1 Axes>"
      ]
     },
     "metadata": {
      "needs_background": "light"
     },
     "output_type": "display_data"
    }
   ],
   "source": [
    "ax = sns.histplot(normalized_pledged, kde=True)"
   ]
  },
  {
   "cell_type": "markdown",
   "id": "759e8e28",
   "metadata": {
    "papermill": {
     "duration": 0.006353,
     "end_time": "2022-07-15T15:21:35.004404",
     "exception": false,
     "start_time": "2022-07-15T15:21:34.998051",
     "status": "completed"
    },
    "tags": []
   },
   "source": [
    "How does the normalized \"usd_pledged_real\" column look different from when we normalized the \"pledged\" column?  Or, do they look mostly the same?\n",
    "\n",
    "Once you have an answer, run the code cell below."
   ]
  },
  {
   "cell_type": "code",
   "execution_count": 15,
   "id": "bc2bf0d4",
   "metadata": {
    "execution": {
     "iopub.execute_input": "2022-07-15T15:21:35.019539Z",
     "iopub.status.busy": "2022-07-15T15:21:35.019152Z",
     "iopub.status.idle": "2022-07-15T15:21:35.028010Z",
     "shell.execute_reply": "2022-07-15T15:21:35.026988Z"
    },
    "papermill": {
     "duration": 0.019494,
     "end_time": "2022-07-15T15:21:35.030467",
     "exception": false,
     "start_time": "2022-07-15T15:21:35.010973",
     "status": "completed"
    },
    "tags": []
   },
   "outputs": [
    {
     "data": {
      "application/javascript": [
       "parent.postMessage({\"jupyterEvent\": \"custom.exercise_interaction\", \"data\": {\"outcomeType\": 1, \"valueTowardsCompletion\": 0.3333333333333333, \"interactionType\": 1, \"questionType\": 4, \"questionId\": \"2_TryNormalization\", \"learnToolsVersion\": \"0.3.4\", \"failureMessage\": \"\", \"exceptionClass\": \"\", \"trace\": \"\"}}, \"*\")"
      ],
      "text/plain": [
       "<IPython.core.display.Javascript object>"
      ]
     },
     "metadata": {},
     "output_type": "display_data"
    },
    {
     "data": {
      "text/markdown": [
       "<span style=\"color:#33cc33\">Correct:</span> \n",
       "\n",
       "The distributions in the normalized data look mostly the same."
      ],
      "text/plain": [
       "Correct: \n",
       "\n",
       "The distributions in the normalized data look mostly the same."
      ]
     },
     "metadata": {},
     "output_type": "display_data"
    }
   ],
   "source": [
    "# Check your answer (Run this code cell to receive credit!)\n",
    "q2.check()"
   ]
  },
  {
   "cell_type": "code",
   "execution_count": 16,
   "id": "93aab8f8",
   "metadata": {
    "execution": {
     "iopub.execute_input": "2022-07-15T15:21:35.045974Z",
     "iopub.status.busy": "2022-07-15T15:21:35.045237Z",
     "iopub.status.idle": "2022-07-15T15:21:35.052810Z",
     "shell.execute_reply": "2022-07-15T15:21:35.051957Z"
    },
    "papermill": {
     "duration": 0.017431,
     "end_time": "2022-07-15T15:21:35.054693",
     "exception": false,
     "start_time": "2022-07-15T15:21:35.037262",
     "status": "completed"
    },
    "tags": []
   },
   "outputs": [
    {
     "data": {
      "application/javascript": [
       "parent.postMessage({\"jupyterEvent\": \"custom.exercise_interaction\", \"data\": {\"interactionType\": 2, \"questionType\": 4, \"questionId\": \"2_TryNormalization\", \"learnToolsVersion\": \"0.3.4\", \"valueTowardsCompletion\": 0.0, \"failureMessage\": \"\", \"exceptionClass\": \"\", \"trace\": \"\", \"outcomeType\": 4}}, \"*\")"
      ],
      "text/plain": [
       "<IPython.core.display.Javascript object>"
      ]
     },
     "metadata": {},
     "output_type": "display_data"
    },
    {
     "data": {
      "text/markdown": [
       "<span style=\"color:#3366cc\">Hint:</span> \n",
       "Try running this code:\n",
       "\n",
       "```python\n",
       "# get the index of all positive pledges (Box-Cox only takes positive values)\n",
       "index_positive_pledges = kickstarters_2017.pledged > 0\n",
       "\n",
       "# get only positive pledges (using their indexes)\n",
       "positive_pledges_only = kickstarters_2017.pledged.loc[index_positive_pledges]\n",
       "\n",
       "# normalize the pledges (w/ Box-Cox)\n",
       "normalized_values = pd.Series(stats.boxcox(positive_pledges_only)[0], \n",
       "                              name='pledged', index=positive_pledges_only.index)\n",
       "\n",
       "# plot normalized data\n",
       "ax = sns.histplot(normalized_values, kde=True)\n",
       "ax.set_title(\"Normalized data\")\n",
       "```\n",
       "\n"
      ],
      "text/plain": [
       "Hint: \n",
       "Try running this code:\n",
       "\n",
       "```python\n",
       "# get the index of all positive pledges (Box-Cox only takes positive values)\n",
       "index_positive_pledges = kickstarters_2017.pledged > 0\n",
       "\n",
       "# get only positive pledges (using their indexes)\n",
       "positive_pledges_only = kickstarters_2017.pledged.loc[index_positive_pledges]\n",
       "\n",
       "# normalize the pledges (w/ Box-Cox)\n",
       "normalized_values = pd.Series(stats.boxcox(positive_pledges_only)[0], \n",
       "                              name='pledged', index=positive_pledges_only.index)\n",
       "\n",
       "# plot normalized data\n",
       "ax = sns.histplot(normalized_values, kde=True)\n",
       "ax.set_title(\"Normalized data\")\n",
       "```\n"
      ]
     },
     "metadata": {},
     "output_type": "display_data"
    }
   ],
   "source": [
    "# Line below will give you a hint\n",
    "q2.hint()"
   ]
  },
  {
   "cell_type": "markdown",
   "id": "cd1aa582",
   "metadata": {
    "papermill": {
     "duration": 0.006877,
     "end_time": "2022-07-15T15:21:35.068941",
     "exception": false,
     "start_time": "2022-07-15T15:21:35.062064",
     "status": "completed"
    },
    "tags": []
   },
   "source": [
    "# (Optional) More practice\n",
    "\n",
    "Try finding a new dataset and pretend you're preparing to perform a [regression analysis](https://www.kaggle.com/rtatman/the-5-day-regression-challenge). \n",
    "\n",
    "[These datasets are a good start!](https://www.kaggle.com/rtatman/datasets-for-regression-analysis)\n",
    "\n",
    "Pick three or four variables and decide if you need to normalize or scale any of them and, if you think you should, practice applying the correct technique.\n",
    "\n",
    "# Keep going\n",
    "\n",
    "In the next lesson, learn how to [**parse dates**](https://www.kaggle.com/alexisbcook/parsing-dates) in a dataset."
   ]
  },
  {
   "cell_type": "markdown",
   "id": "7c88b0ce",
   "metadata": {
    "papermill": {
     "duration": 0.006646,
     "end_time": "2022-07-15T15:21:35.082472",
     "exception": false,
     "start_time": "2022-07-15T15:21:35.075826",
     "status": "completed"
    },
    "tags": []
   },
   "source": [
    "---\n",
    "\n",
    "\n",
    "\n",
    "\n",
    "*Have questions or comments? Visit the [course discussion forum](https://www.kaggle.com/learn/data-cleaning/discussion) to chat with other learners.*"
   ]
  }
 ],
 "metadata": {
  "kernelspec": {
   "display_name": "Python 3 (ipykernel)",
   "language": "python",
   "name": "python3"
  },
  "language_info": {
   "codemirror_mode": {
    "name": "ipython",
    "version": 3
   },
   "file_extension": ".py",
   "mimetype": "text/x-python",
   "name": "python",
   "nbconvert_exporter": "python",
   "pygments_lexer": "ipython3",
   "version": "3.10.5"
  },
  "papermill": {
   "default_parameters": {},
   "duration": 19.36547,
   "end_time": "2022-07-15T15:21:35.911089",
   "environment_variables": {},
   "exception": null,
   "input_path": "__notebook__.ipynb",
   "output_path": "__notebook__.ipynb",
   "parameters": {},
   "start_time": "2022-07-15T15:21:16.545619",
   "version": "2.3.4"
  }
 },
 "nbformat": 4,
 "nbformat_minor": 5
}
