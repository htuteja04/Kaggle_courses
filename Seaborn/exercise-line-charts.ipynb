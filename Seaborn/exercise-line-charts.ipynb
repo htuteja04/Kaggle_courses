{
 "cells": [
  {
   "cell_type": "markdown",
   "id": "8abc2f7c",
   "metadata": {
    "papermill": {
     "duration": 0.007247,
     "end_time": "2022-06-29T18:27:14.541807",
     "exception": false,
     "start_time": "2022-06-29T18:27:14.534560",
     "status": "completed"
    },
    "tags": []
   },
   "source": [
    "**This notebook is an exercise in the [Data Visualization](https://www.kaggle.com/learn/data-visualization) course.  You can reference the tutorial at [this link](https://www.kaggle.com/alexisbcook/line-charts).**\n",
    "\n",
    "---\n"
   ]
  },
  {
   "cell_type": "markdown",
   "id": "32145416",
   "metadata": {
    "papermill": {
     "duration": 0.005566,
     "end_time": "2022-06-29T18:27:14.553583",
     "exception": false,
     "start_time": "2022-06-29T18:27:14.548017",
     "status": "completed"
    },
    "tags": []
   },
   "source": [
    "In this exercise, you will use your new knowledge to propose a solution to a real-world scenario. To succeed, you will need to import data into Python, answer questions using the data, and generate **line charts** to understand patterns in the data.\n",
    "\n",
    "## Scenario\n",
    "\n",
    "You have recently been hired to manage the museums in the City of Los Angeles. Your first project focuses on the four museums pictured in the images below.\n",
    "\n",
    "![ex1_museums](https://i.imgur.com/pFYL8J1.png)\n",
    "\n",
    "You will leverage data from the Los Angeles [Data Portal](https://data.lacity.org/) that tracks monthly visitors to each museum.  \n",
    "\n",
    "![ex1_xlsx](https://i.imgur.com/mGWYlym.png)\n",
    "\n",
    "## Setup\n",
    "\n",
    "Run the next cell to import and configure the Python libraries that you need to complete the exercise."
   ]
  },
  {
   "cell_type": "code",
   "execution_count": 1,
   "id": "34a351e8",
   "metadata": {
    "execution": {
     "iopub.execute_input": "2022-06-29T18:27:14.567968Z",
     "iopub.status.busy": "2022-06-29T18:27:14.567555Z",
     "iopub.status.idle": "2022-06-29T18:27:15.827695Z",
     "shell.execute_reply": "2022-06-29T18:27:15.826334Z"
    },
    "papermill": {
     "duration": 1.270818,
     "end_time": "2022-06-29T18:27:15.830607",
     "exception": false,
     "start_time": "2022-06-29T18:27:14.559789",
     "status": "completed"
    },
    "tags": []
   },
   "outputs": [
    {
     "name": "stdout",
     "output_type": "stream",
     "text": [
      "Setup Complete\n"
     ]
    }
   ],
   "source": [
    "import pandas as pd\n",
    "pd.plotting.register_matplotlib_converters()\n",
    "import matplotlib.pyplot as plt\n",
    "%matplotlib inline\n",
    "import seaborn as sns\n",
    "print(\"Setup Complete\")"
   ]
  },
  {
   "cell_type": "markdown",
   "id": "f4e8915b",
   "metadata": {
    "papermill": {
     "duration": 0.006003,
     "end_time": "2022-06-29T18:27:15.842729",
     "exception": false,
     "start_time": "2022-06-29T18:27:15.836726",
     "status": "completed"
    },
    "tags": []
   },
   "source": [
    "The questions below will give you feedback on your work. Run the following cell to set up the feedback system."
   ]
  },
  {
   "cell_type": "code",
   "execution_count": 2,
   "id": "d9871281",
   "metadata": {
    "execution": {
     "iopub.execute_input": "2022-06-29T18:27:15.856520Z",
     "iopub.status.busy": "2022-06-29T18:27:15.856104Z",
     "iopub.status.idle": "2022-06-29T18:27:15.927733Z",
     "shell.execute_reply": "2022-06-29T18:27:15.926400Z"
    },
    "papermill": {
     "duration": 0.081524,
     "end_time": "2022-06-29T18:27:15.930268",
     "exception": false,
     "start_time": "2022-06-29T18:27:15.848744",
     "status": "completed"
    },
    "tags": []
   },
   "outputs": [
    {
     "name": "stdout",
     "output_type": "stream",
     "text": [
      "Setup Complete\n"
     ]
    }
   ],
   "source": [
    "# Set up code checking\n",
    "import os\n",
    "if not os.path.exists(\"../input/museum_visitors.csv\"):\n",
    "    os.symlink(\"../input/data-for-datavis/museum_visitors.csv\", \"../input/museum_visitors.csv\") \n",
    "from learntools.core import binder\n",
    "binder.bind(globals())\n",
    "from learntools.data_viz_to_coder.ex2 import *\n",
    "print(\"Setup Complete\")"
   ]
  },
  {
   "cell_type": "markdown",
   "id": "a2f61092",
   "metadata": {
    "papermill": {
     "duration": 0.00775,
     "end_time": "2022-06-29T18:27:15.944812",
     "exception": false,
     "start_time": "2022-06-29T18:27:15.937062",
     "status": "completed"
    },
    "tags": []
   },
   "source": [
    "## Step 1: Load the data\n",
    "\n",
    "Your first assignment is to read the LA Museum Visitors data file into `museum_data`.  Note that:\n",
    "- The filepath to the dataset is stored as `museum_filepath`.  Please **do not** change the provided value of the filepath.\n",
    "- The name of the column to use as row labels is `\"Date\"`.  (This can be seen in cell A1 when the file is opened in Excel.)\n",
    "\n",
    "To help with this, you may find it useful to revisit some relevant code from the tutorial, which we have pasted below:\n",
    "\n",
    "```python\n",
    "# Path of the file to read\n",
    "spotify_filepath = \"../input/spotify.csv\"\n",
    "\n",
    "# Read the file into a variable spotify_data\n",
    "spotify_data = pd.read_csv(spotify_filepath, index_col=\"Date\", parse_dates=True)\n",
    "```\n",
    "\n",
    "The code you need to write now looks very similar!"
   ]
  },
  {
   "cell_type": "code",
   "execution_count": 3,
   "id": "d3992234",
   "metadata": {
    "execution": {
     "iopub.execute_input": "2022-06-29T18:27:15.959992Z",
     "iopub.status.busy": "2022-06-29T18:27:15.959270Z",
     "iopub.status.idle": "2022-06-29T18:27:15.975559Z",
     "shell.execute_reply": "2022-06-29T18:27:15.974484Z"
    },
    "papermill": {
     "duration": 0.026363,
     "end_time": "2022-06-29T18:27:15.977748",
     "exception": false,
     "start_time": "2022-06-29T18:27:15.951385",
     "status": "completed"
    },
    "tags": []
   },
   "outputs": [
    {
     "data": {
      "application/javascript": [
       "parent.postMessage({\"jupyterEvent\": \"custom.exercise_interaction\", \"data\": {\"outcomeType\": 1, \"valueTowardsCompletion\": 0.3333333333333333, \"interactionType\": 1, \"questionType\": 1, \"questionId\": \"1_LoadMuseumData\", \"learnToolsVersion\": \"0.3.4\", \"failureMessage\": \"\", \"exceptionClass\": \"\", \"trace\": \"\"}}, \"*\")"
      ],
      "text/plain": [
       "<IPython.core.display.Javascript object>"
      ]
     },
     "metadata": {},
     "output_type": "display_data"
    },
    {
     "data": {
      "text/markdown": [
       "<span style=\"color:#33cc33\">Correct</span>"
      ],
      "text/plain": [
       "Correct"
      ]
     },
     "metadata": {},
     "output_type": "display_data"
    }
   ],
   "source": [
    "# Path of the file to read\n",
    "museum_filepath = \"../input/museum_visitors.csv\"\n",
    "\n",
    "# Fill in the line below to read the file into a variable museum_data\n",
    "museum_data = pd.read_csv(museum_filepath, index_col='Date',parse_dates=True)\n",
    "\n",
    "# Run the line below with no changes to check that you've loaded the data correctly\n",
    "step_1.check()"
   ]
  },
  {
   "cell_type": "code",
   "execution_count": 4,
   "id": "10f46487",
   "metadata": {
    "execution": {
     "iopub.execute_input": "2022-06-29T18:27:15.992492Z",
     "iopub.status.busy": "2022-06-29T18:27:15.991738Z",
     "iopub.status.idle": "2022-06-29T18:27:15.995865Z",
     "shell.execute_reply": "2022-06-29T18:27:15.995087Z"
    },
    "papermill": {
     "duration": 0.01425,
     "end_time": "2022-06-29T18:27:15.998298",
     "exception": false,
     "start_time": "2022-06-29T18:27:15.984048",
     "status": "completed"
    },
    "tags": []
   },
   "outputs": [],
   "source": [
    "# Uncomment the line below to receive a hint\n",
    "#step_1.hint()\n",
    "# Uncomment the line below to see the solution\n",
    "#step_1.solution()"
   ]
  },
  {
   "cell_type": "markdown",
   "id": "6d71816b",
   "metadata": {
    "papermill": {
     "duration": 0.006265,
     "end_time": "2022-06-29T18:27:16.011392",
     "exception": false,
     "start_time": "2022-06-29T18:27:16.005127",
     "status": "completed"
    },
    "tags": []
   },
   "source": [
    "## Step 2: Review the data\n",
    "\n",
    "Use a Python command to print the last 5 rows of the data."
   ]
  },
  {
   "cell_type": "code",
   "execution_count": 5,
   "id": "3de6987d",
   "metadata": {
    "execution": {
     "iopub.execute_input": "2022-06-29T18:27:16.026487Z",
     "iopub.status.busy": "2022-06-29T18:27:16.025750Z",
     "iopub.status.idle": "2022-06-29T18:27:16.040858Z",
     "shell.execute_reply": "2022-06-29T18:27:16.040028Z"
    },
    "papermill": {
     "duration": 0.025221,
     "end_time": "2022-06-29T18:27:16.043026",
     "exception": false,
     "start_time": "2022-06-29T18:27:16.017805",
     "status": "completed"
    },
    "tags": []
   },
   "outputs": [
    {
     "data": {
      "text/html": [
       "<div>\n",
       "<style scoped>\n",
       "    .dataframe tbody tr th:only-of-type {\n",
       "        vertical-align: middle;\n",
       "    }\n",
       "\n",
       "    .dataframe tbody tr th {\n",
       "        vertical-align: top;\n",
       "    }\n",
       "\n",
       "    .dataframe thead th {\n",
       "        text-align: right;\n",
       "    }\n",
       "</style>\n",
       "<table border=\"1\" class=\"dataframe\">\n",
       "  <thead>\n",
       "    <tr style=\"text-align: right;\">\n",
       "      <th></th>\n",
       "      <th>Avila Adobe</th>\n",
       "      <th>Firehouse Museum</th>\n",
       "      <th>Chinese American Museum</th>\n",
       "      <th>America Tropical Interpretive Center</th>\n",
       "    </tr>\n",
       "    <tr>\n",
       "      <th>Date</th>\n",
       "      <th></th>\n",
       "      <th></th>\n",
       "      <th></th>\n",
       "      <th></th>\n",
       "    </tr>\n",
       "  </thead>\n",
       "  <tbody>\n",
       "    <tr>\n",
       "      <th>2018-07-01</th>\n",
       "      <td>23136</td>\n",
       "      <td>4191</td>\n",
       "      <td>2620</td>\n",
       "      <td>4718</td>\n",
       "    </tr>\n",
       "    <tr>\n",
       "      <th>2018-08-01</th>\n",
       "      <td>20815</td>\n",
       "      <td>4866</td>\n",
       "      <td>2409</td>\n",
       "      <td>3891</td>\n",
       "    </tr>\n",
       "    <tr>\n",
       "      <th>2018-09-01</th>\n",
       "      <td>21020</td>\n",
       "      <td>4956</td>\n",
       "      <td>2146</td>\n",
       "      <td>3180</td>\n",
       "    </tr>\n",
       "    <tr>\n",
       "      <th>2018-10-01</th>\n",
       "      <td>19280</td>\n",
       "      <td>4622</td>\n",
       "      <td>2364</td>\n",
       "      <td>3775</td>\n",
       "    </tr>\n",
       "    <tr>\n",
       "      <th>2018-11-01</th>\n",
       "      <td>17163</td>\n",
       "      <td>4082</td>\n",
       "      <td>2385</td>\n",
       "      <td>4562</td>\n",
       "    </tr>\n",
       "  </tbody>\n",
       "</table>\n",
       "</div>"
      ],
      "text/plain": [
       "            Avila Adobe  Firehouse Museum  Chinese American Museum  \\\n",
       "Date                                                                 \n",
       "2018-07-01        23136              4191                     2620   \n",
       "2018-08-01        20815              4866                     2409   \n",
       "2018-09-01        21020              4956                     2146   \n",
       "2018-10-01        19280              4622                     2364   \n",
       "2018-11-01        17163              4082                     2385   \n",
       "\n",
       "            America Tropical Interpretive Center  \n",
       "Date                                              \n",
       "2018-07-01                                  4718  \n",
       "2018-08-01                                  3891  \n",
       "2018-09-01                                  3180  \n",
       "2018-10-01                                  3775  \n",
       "2018-11-01                                  4562  "
      ]
     },
     "execution_count": 5,
     "metadata": {},
     "output_type": "execute_result"
    }
   ],
   "source": [
    "# Print the last five rows of the data\n",
    "museum_data.tail()\n",
    "# Your code here"
   ]
  },
  {
   "cell_type": "markdown",
   "id": "c081cdb9",
   "metadata": {
    "papermill": {
     "duration": 0.006351,
     "end_time": "2022-06-29T18:27:16.055998",
     "exception": false,
     "start_time": "2022-06-29T18:27:16.049647",
     "status": "completed"
    },
    "tags": []
   },
   "source": [
    "The last row (for `2018-11-01`) tracks the number of visitors to each museum in November 2018, the next-to-last row (for `2018-10-01`) tracks the number of visitors to each museum in October 2018, _and so on_.\n",
    "\n",
    "Use the last 5 rows of the data to answer the questions below."
   ]
  },
  {
   "cell_type": "code",
   "execution_count": 6,
   "id": "2f7380ea",
   "metadata": {
    "execution": {
     "iopub.execute_input": "2022-06-29T18:27:16.071792Z",
     "iopub.status.busy": "2022-06-29T18:27:16.071112Z",
     "iopub.status.idle": "2022-06-29T18:27:16.079439Z",
     "shell.execute_reply": "2022-06-29T18:27:16.078407Z"
    },
    "papermill": {
     "duration": 0.018899,
     "end_time": "2022-06-29T18:27:16.081504",
     "exception": false,
     "start_time": "2022-06-29T18:27:16.062605",
     "status": "completed"
    },
    "tags": []
   },
   "outputs": [
    {
     "data": {
      "application/javascript": [
       "parent.postMessage({\"jupyterEvent\": \"custom.exercise_interaction\", \"data\": {\"outcomeType\": 1, \"valueTowardsCompletion\": 0.3333333333333333, \"interactionType\": 1, \"questionType\": 1, \"questionId\": \"2_ReviewData\", \"learnToolsVersion\": \"0.3.4\", \"failureMessage\": \"\", \"exceptionClass\": \"\", \"trace\": \"\"}}, \"*\")"
      ],
      "text/plain": [
       "<IPython.core.display.Javascript object>"
      ]
     },
     "metadata": {},
     "output_type": "display_data"
    },
    {
     "data": {
      "text/markdown": [
       "<span style=\"color:#33cc33\">Correct</span>"
      ],
      "text/plain": [
       "Correct"
      ]
     },
     "metadata": {},
     "output_type": "display_data"
    }
   ],
   "source": [
    "# Fill in the line below: How many visitors did the Chinese American Museum \n",
    "# receive in July 2018?\n",
    "ca_museum_jul18 = 2620\n",
    "\n",
    "# Fill in the line below: In October 2018, how many more visitors did Avila \n",
    "# Adobe receive than the Firehouse Museum?\n",
    "avila_oct18 = 19280-4622\n",
    "\n",
    "# Check your answers\n",
    "step_2.check()"
   ]
  },
  {
   "cell_type": "code",
   "execution_count": 7,
   "id": "1ad8466f",
   "metadata": {
    "execution": {
     "iopub.execute_input": "2022-06-29T18:27:16.097422Z",
     "iopub.status.busy": "2022-06-29T18:27:16.096741Z",
     "iopub.status.idle": "2022-06-29T18:27:16.100691Z",
     "shell.execute_reply": "2022-06-29T18:27:16.099660Z"
    },
    "papermill": {
     "duration": 0.014553,
     "end_time": "2022-06-29T18:27:16.103007",
     "exception": false,
     "start_time": "2022-06-29T18:27:16.088454",
     "status": "completed"
    },
    "tags": []
   },
   "outputs": [],
   "source": [
    "# Lines below will give you a hint or solution code\n",
    "#step_2.hint()\n",
    "#step_2.solution()"
   ]
  },
  {
   "cell_type": "markdown",
   "id": "97280e64",
   "metadata": {
    "papermill": {
     "duration": 0.006962,
     "end_time": "2022-06-29T18:27:16.117376",
     "exception": false,
     "start_time": "2022-06-29T18:27:16.110414",
     "status": "completed"
    },
    "tags": []
   },
   "source": [
    "## Step 3: Convince the museum board \n",
    "\n",
    "The Firehouse Museum claims they ran an event in 2014 that brought an incredible number of visitors, and that they should get extra budget to run a similar event again.  The other museums think these types of events aren't that important, and budgets should be split purely based on recent visitors on an average day.  \n",
    "\n",
    "To show the museum board how the event compared to regular traffic at each museum, create a line chart that shows how the number of visitors to each museum evolved over time.  Your figure should have four lines (one for each museum).\n",
    "\n",
    "> **(Optional) Note**: If you have some prior experience with plotting figures in Python, you might be familiar with the `plt.show()` command.  If you decide to use this command, please place it **after** the line of code that checks your answer (in this case, place it after `step_3.check()` below) -- otherwise, the checking code will return an error!"
   ]
  },
  {
   "cell_type": "code",
   "execution_count": 8,
   "id": "04438570",
   "metadata": {
    "execution": {
     "iopub.execute_input": "2022-06-29T18:27:16.134149Z",
     "iopub.status.busy": "2022-06-29T18:27:16.133452Z",
     "iopub.status.idle": "2022-06-29T18:27:16.527466Z",
     "shell.execute_reply": "2022-06-29T18:27:16.526134Z"
    },
    "papermill": {
     "duration": 0.405498,
     "end_time": "2022-06-29T18:27:16.530343",
     "exception": false,
     "start_time": "2022-06-29T18:27:16.124845",
     "status": "completed"
    },
    "tags": []
   },
   "outputs": [
    {
     "data": {
      "application/javascript": [
       "parent.postMessage({\"jupyterEvent\": \"custom.exercise_interaction\", \"data\": {\"outcomeType\": 1, \"valueTowardsCompletion\": 0.3333333333333333, \"interactionType\": 1, \"questionType\": 2, \"questionId\": \"3_PlotAll\", \"learnToolsVersion\": \"0.3.4\", \"failureMessage\": \"\", \"exceptionClass\": \"\", \"trace\": \"\"}}, \"*\")"
      ],
      "text/plain": [
       "<IPython.core.display.Javascript object>"
      ]
     },
     "metadata": {},
     "output_type": "display_data"
    },
    {
     "data": {
      "text/markdown": [
       "<span style=\"color:#33cc33\">Correct</span>"
      ],
      "text/plain": [
       "Correct"
      ]
     },
     "metadata": {},
     "output_type": "display_data"
    },
    {
     "data": {
      "image/png": "[encoded data removed]",
      "text/plain": [
       "<Figure size 432x432 with 1 Axes>"
      ]
     },
     "metadata": {
      "needs_background": "light"
     },
     "output_type": "display_data"
    }
   ],
   "source": [
    "# Line chart showing the number of visitors to each museum over time\n",
    "\n",
    "plt.figure(figsize=(6,6))\n",
    "sns.lineplot(data=museum_data)\n",
    "# Check your answer\n",
    "step_3.check()"
   ]
  },
  {
   "cell_type": "code",
   "execution_count": 9,
   "id": "1a59e6f0",
   "metadata": {
    "execution": {
     "iopub.execute_input": "2022-06-29T18:27:16.549625Z",
     "iopub.status.busy": "2022-06-29T18:27:16.549253Z",
     "iopub.status.idle": "2022-06-29T18:27:16.553583Z",
     "shell.execute_reply": "2022-06-29T18:27:16.552516Z"
    },
    "papermill": {
     "duration": 0.017227,
     "end_time": "2022-06-29T18:27:16.556249",
     "exception": false,
     "start_time": "2022-06-29T18:27:16.539022",
     "status": "completed"
    },
    "tags": []
   },
   "outputs": [],
   "source": [
    "# Lines below will give you a hint or solution code\n",
    "#step_3.hint()\n",
    "#step_3.solution_plot()"
   ]
  },
  {
   "cell_type": "markdown",
   "id": "6fd8b01c",
   "metadata": {
    "papermill": {
     "duration": 0.008106,
     "end_time": "2022-06-29T18:27:16.572803",
     "exception": false,
     "start_time": "2022-06-29T18:27:16.564697",
     "status": "completed"
    },
    "tags": []
   },
   "source": [
    "## Step 4: Assess seasonality\n",
    "\n",
    "When meeting with the employees at Avila Adobe, you hear that one major pain point is that the number of museum visitors varies greatly with the seasons, with low seasons (when the employees are perfectly staffed and happy) and also high seasons (when the employees are understaffed and stressed).  You realize that if you can predict these high and low seasons, you can plan ahead to hire some additional seasonal employees to help out with the extra work.\n",
    "\n",
    "#### Part A\n",
    "Create a line chart that shows how the number of visitors to Avila Adobe has evolved over time.  (_If your code returns an error, the first thing that you should check is that you've spelled the name of the column correctly!  You must write the name of the column exactly as it appears in the dataset._)"
   ]
  },
  {
   "cell_type": "code",
   "execution_count": 10,
   "id": "f03d1c11",
   "metadata": {
    "execution": {
     "iopub.execute_input": "2022-06-29T18:27:16.591448Z",
     "iopub.status.busy": "2022-06-29T18:27:16.591023Z",
     "iopub.status.idle": "2022-06-29T18:27:16.845470Z",
     "shell.execute_reply": "2022-06-29T18:27:16.844228Z"
    },
    "papermill": {
     "duration": 0.266725,
     "end_time": "2022-06-29T18:27:16.848201",
     "exception": false,
     "start_time": "2022-06-29T18:27:16.581476",
     "status": "completed"
    },
    "tags": []
   },
   "outputs": [
    {
     "name": "stdout",
     "output_type": "stream",
     "text": [
      "Thank you for creating a line chart!  To see how your code compares to the official solution, please use the code cell below.\n"
     ]
    },
    {
     "data": {
      "application/javascript": [
       "parent.postMessage({\"jupyterEvent\": \"custom.exercise_interaction\", \"data\": {\"outcomeType\": 1, \"valueTowardsCompletion\": 0.3333333333333333, \"interactionType\": 1, \"questionType\": 2, \"questionId\": \"4.1_PlotAvila\", \"learnToolsVersion\": \"0.3.4\", \"failureMessage\": \"\", \"exceptionClass\": \"\", \"trace\": \"\"}}, \"*\")"
      ],
      "text/plain": [
       "<IPython.core.display.Javascript object>"
      ]
     },
     "metadata": {},
     "output_type": "display_data"
    },
    {
     "data": {
      "text/markdown": [
       "<span style=\"color:#33cc33\">Correct</span>"
      ],
      "text/plain": [
       "Correct"
      ]
     },
     "metadata": {},
     "output_type": "display_data"
    },
    {
     "data": {
      "image/png": "[encoded data removed]",
      "text/plain": [
       "<Figure size 432x432 with 1 Axes>"
      ]
     },
     "metadata": {
      "needs_background": "light"
     },
     "output_type": "display_data"
    }
   ],
   "source": [
    "# Line plot showing the number of visitors to Avila Adobe over time\n",
    "# Your code here\n",
    "plt.figure(figsize=(6,6))\n",
    "sns.lineplot(data=museum_data['Avila Adobe'])\n",
    "# Check your answer\n",
    "step_4.a.check()"
   ]
  },
  {
   "cell_type": "code",
   "execution_count": 11,
   "id": "fe66cca3",
   "metadata": {
    "execution": {
     "iopub.execute_input": "2022-06-29T18:27:16.868634Z",
     "iopub.status.busy": "2022-06-29T18:27:16.868266Z",
     "iopub.status.idle": "2022-06-29T18:27:16.873290Z",
     "shell.execute_reply": "2022-06-29T18:27:16.872208Z"
    },
    "papermill": {
     "duration": 0.017914,
     "end_time": "2022-06-29T18:27:16.875606",
     "exception": false,
     "start_time": "2022-06-29T18:27:16.857692",
     "status": "completed"
    },
    "tags": []
   },
   "outputs": [],
   "source": [
    "# Lines below will give you a hint or solution code\n",
    "#step_4.a.hint()\n",
    "#step_4.a.solution_plot()"
   ]
  },
  {
   "cell_type": "markdown",
   "id": "f54eec73",
   "metadata": {
    "papermill": {
     "duration": 0.008977,
     "end_time": "2022-06-29T18:27:16.893690",
     "exception": false,
     "start_time": "2022-06-29T18:27:16.884713",
     "status": "completed"
    },
    "tags": []
   },
   "source": [
    "#### Part B\n",
    "\n",
    "Does Avila Adobe get more visitors:\n",
    "- in September-February (in LA, the fall and winter months), or \n",
    "- in March-August (in LA, the spring and summer)?  \n",
    "\n",
    "Using this information, when should the museum staff additional seasonal employees?"
   ]
  },
  {
   "cell_type": "code",
   "execution_count": 12,
   "id": "9eb85259",
   "metadata": {
    "execution": {
     "iopub.execute_input": "2022-06-29T18:27:16.914334Z",
     "iopub.status.busy": "2022-06-29T18:27:16.913919Z",
     "iopub.status.idle": "2022-06-29T18:27:16.918473Z",
     "shell.execute_reply": "2022-06-29T18:27:16.917573Z"
    },
    "papermill": {
     "duration": 0.017291,
     "end_time": "2022-06-29T18:27:16.920703",
     "exception": false,
     "start_time": "2022-06-29T18:27:16.903412",
     "status": "completed"
    },
    "tags": []
   },
   "outputs": [],
   "source": [
    "#step_4.b.hint()"
   ]
  },
  {
   "cell_type": "code",
   "execution_count": 13,
   "id": "fd8434b9",
   "metadata": {
    "execution": {
     "iopub.execute_input": "2022-06-29T18:27:16.941258Z",
     "iopub.status.busy": "2022-06-29T18:27:16.940846Z",
     "iopub.status.idle": "2022-06-29T18:27:16.949566Z",
     "shell.execute_reply": "2022-06-29T18:27:16.948467Z"
    },
    "papermill": {
     "duration": 0.021634,
     "end_time": "2022-06-29T18:27:16.951685",
     "exception": false,
     "start_time": "2022-06-29T18:27:16.930051",
     "status": "completed"
    },
    "tags": []
   },
   "outputs": [
    {
     "data": {
      "application/javascript": [
       "parent.postMessage({\"jupyterEvent\": \"custom.exercise_interaction\", \"data\": {\"interactionType\": 3, \"questionType\": 4, \"questionId\": \"4.2_ThinkAvila\", \"learnToolsVersion\": \"0.3.4\", \"valueTowardsCompletion\": 0.0, \"failureMessage\": \"\", \"exceptionClass\": \"\", \"trace\": \"\", \"outcomeType\": 4}}, \"*\")"
      ],
      "text/plain": [
       "<IPython.core.display.Javascript object>"
      ]
     },
     "metadata": {},
     "output_type": "display_data"
    },
    {
     "data": {
      "text/markdown": [
       "<span style=\"color:#33cc99\">Solution:</span> The line chart generally dips to relatively low values around the early part of each year (in December and January), and reaches its highest values in the middle of the year (especially around May and June).  Thus, Avila Adobe usually gets more visitors in March-August (or the spring and summer months).  With this in mind, Avila Adobe could definitely benefit from hiring more seasonal employees to help with the extra work in March-August (the spring and summer)!"
      ],
      "text/plain": [
       "Solution: The line chart generally dips to relatively low values around the early part of each year (in December and January), and reaches its highest values in the middle of the year (especially around May and June).  Thus, Avila Adobe usually gets more visitors in March-August (or the spring and summer months).  With this in mind, Avila Adobe could definitely benefit from hiring more seasonal employees to help with the extra work in March-August (the spring and summer)!"
      ]
     },
     "metadata": {},
     "output_type": "display_data"
    }
   ],
   "source": [
    "# Check your answer (Run this code cell to receive credit!)\n",
    "step_4.b.solution()"
   ]
  },
  {
   "cell_type": "markdown",
   "id": "d1985aeb",
   "metadata": {
    "papermill": {
     "duration": 0.009124,
     "end_time": "2022-06-29T18:27:16.970338",
     "exception": false,
     "start_time": "2022-06-29T18:27:16.961214",
     "status": "completed"
    },
    "tags": []
   },
   "source": [
    "# Keep going\n",
    "\n",
    "Move on to learn about **[bar charts and heatmaps](https://www.kaggle.com/alexisbcook/bar-charts-and-heatmaps)** with a new dataset!"
   ]
  },
  {
   "cell_type": "markdown",
   "id": "4fe6c187",
   "metadata": {
    "papermill": {
     "duration": 0.009087,
     "end_time": "2022-06-29T18:27:16.988721",
     "exception": false,
     "start_time": "2022-06-29T18:27:16.979634",
     "status": "completed"
    },
    "tags": []
   },
   "source": [
    "---\n",
    "\n",
    "\n",
    "\n",
    "\n",
    "*Have questions or comments? Visit the [course discussion forum](https://www.kaggle.com/learn/data-visualization/discussion) to chat with other learners.*"
   ]
  }
 ],
 "metadata": {
  "kernelspec": {
   "display_name": "Python 3",
   "language": "python",
   "name": "python3"
  },
  "language_info": {
   "codemirror_mode": {
    "name": "ipython",
    "version": 3
   },
   "file_extension": ".py",
   "mimetype": "text/x-python",
   "name": "python",
   "nbconvert_exporter": "python",
   "pygments_lexer": "ipython3",
   "version": "3.7.12"
  },
  "papermill": {
   "default_parameters": {},
   "duration": 14.0576,
   "end_time": "2022-06-29T18:27:17.720539",
   "environment_variables": {},
   "exception": null,
   "input_path": "__notebook__.ipynb",
   "output_path": "__notebook__.ipynb",
   "parameters": {},
   "start_time": "2022-06-29T18:27:03.662939",
   "version": "2.3.4"
  }
 },
 "nbformat": 4,
 "nbformat_minor": 5
}
